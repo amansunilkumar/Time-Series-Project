{
 "cells": [
  {
   "cell_type": "code",
   "execution_count": null,
   "id": "c8f5000a",
   "metadata": {
    "id": "c8f5000a",
    "scrolled": true
   },
   "outputs": [],
   "source": [
    "!pip install ts2vg\n",
    "!pip install igraph\n",
    "!pip install pycairo\n",
    "!pip install cairocffi\n",
    "!pip install seaborn"
   ]
  },
  {
   "cell_type": "code",
   "execution_count": null,
   "id": "9658c507",
   "metadata": {
    "colab": {
     "base_uri": "https://localhost:8080/",
     "height": 177,
     "resources": {
      "http://localhost:8080/nbextensions/google.colab/files.js": {
       "data": "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",
       "headers": [
        [
         "content-type",
         "application/javascript"
        ]
       ],
       "ok": true,
       "status": 200,
       "status_text": ""
      }
     }
    },
    "id": "9658c507",
    "outputId": "19bd709d-a11f-4183-874c-42456cbc08af",
    "scrolled": false
   },
   "outputs": [],
   "source": [
    "from google.colab import files\n",
    "uploaded = files.upload()"
   ]
  },
  {
   "cell_type": "code",
   "execution_count": null,
   "id": "bfa0e974",
   "metadata": {
    "id": "bfa0e974"
   },
   "outputs": [],
   "source": [
    "#import files according to your file name\n",
    "# file format followed eg: 'acc_walking_chest_1.csv', _1 stands for subject 1 \n",
    "import pandas as pd\n",
    "walking = pd.read_csv('acc_walking_chest_1.csv')\n",
    "running = pd.read_csv('acc_running_chest_1.csv')\n",
    "climbingdown = pd.read_csv('acc_climbingdown_chest_1.csv')\n",
    "climbingup = pd.read_csv('acc_climbingup_chest_1.csv')"
   ]
  },
  {
   "cell_type": "code",
   "execution_count": null,
   "id": "d51156e4",
   "metadata": {
    "colab": {
     "base_uri": "https://localhost:8080/",
     "height": 424
    },
    "id": "d51156e4",
    "outputId": "4dd12771-e7f5-41cb-c801-57b7a35e0201",
    "scrolled": false
   },
   "outputs": [],
   "source": [
    "climbingup"
   ]
  },
  {
   "cell_type": "code",
   "execution_count": null,
   "id": "3c927a8f",
   "metadata": {
    "colab": {
     "base_uri": "https://localhost:8080/",
     "height": 282
    },
    "id": "3c927a8f",
    "outputId": "e14083c0-1ecf-4bcf-ed44-1f1be0c6860a"
   },
   "outputs": [],
   "source": [
    "import seaborn as sns\n",
    "sns.lineplot(x=range(1, len(walking['attr_x'][1000:2048])+1), y=walking['attr_x'][1000:2048])\n",
    "sns.lineplot(x=range(1, len(walking['attr_x'][1000:2048])+1), y=running['attr_x'][1000:2048])\n",
    "sns.lineplot(x=range(1, len(walking['attr_x'][1000:2048])+1), y=climbingdown['attr_x'][1000:2048])\n",
    "sns.lineplot(x=range(1, len(walking['attr_x'][1000:2048])+1), y=climbingup['attr_x'][1000:2048])"
   ]
  },
  {
   "cell_type": "code",
   "execution_count": null,
   "id": "c7a6XNlXtETP",
   "metadata": {
    "colab": {
     "base_uri": "https://localhost:8080/"
    },
    "id": "c7a6XNlXtETP",
    "outputId": "6c916c18-247e-49d6-fd28-26e28d2d83fd"
   },
   "outputs": [],
   "source": [
    "pip install ts2vg"
   ]
  },
  {
   "cell_type": "markdown",
   "id": "GBfxz1j36ahl",
   "metadata": {
    "id": "GBfxz1j36ahl"
   },
   "source": [
    "#Subject 1"
   ]
  },
  {
   "cell_type": "markdown",
   "id": "FEZk3xIN6Tvp",
   "metadata": {
    "id": "FEZk3xIN6Tvp"
   },
   "source": [
    "Walking"
   ]
  },
  {
   "cell_type": "code",
   "execution_count": null,
   "id": "b2fec325",
   "metadata": {
    "id": "b2fec325"
   },
   "outputs": [],
   "source": [
    "from ts2vg import HorizontalVG\n",
    "import numpy as np\n",
    "g = HorizontalVG()\n",
    "g.build(walking['attr_x'][1000:2024])\n",
    "ig_g_h = g.as_igraph()"
   ]
  },
  {
   "cell_type": "code",
   "execution_count": null,
   "id": "69a83aeb",
   "metadata": {
    "colab": {
     "base_uri": "https://localhost:8080/"
    },
    "id": "69a83aeb",
    "outputId": "dbaee20f-f50b-4630-8a71-991fcf857a5e"
   },
   "outputs": [],
   "source": [
    "print('Number of Nodes:',ig_g_h.vcount())\n",
    "print('Number of Links:',ig_g_h.ecount())\n",
    "print('Average Degree:',np.mean(ig_g_h.degree()))\n",
    "print('Network Diameter:',ig_g_h.diameter())\n",
    "print('Average Path Length:',ig_g_h.average_path_length())"
   ]
  },
  {
   "cell_type": "code",
   "execution_count": null,
   "id": "0e674259",
   "metadata": {
    "id": "0e674259"
   },
   "outputs": [],
   "source": [
    "from ts2vg import NaturalVG\n",
    "g = NaturalVG()\n",
    "g.build(walking['attr_x'][1000:2024])\n",
    "ig_g_n = g.as_igraph()"
   ]
  },
  {
   "cell_type": "code",
   "execution_count": null,
   "id": "20e13d63",
   "metadata": {
    "colab": {
     "base_uri": "https://localhost:8080/"
    },
    "id": "20e13d63",
    "outputId": "869f54c2-1c94-41ec-f4f1-9e32587d6068"
   },
   "outputs": [],
   "source": [
    "print('Number of Nodes:',ig_g_n.vcount())\n",
    "print('Number of Links:',ig_g_n.ecount())\n",
    "print('Average Degree:',np.mean(ig_g_n.degree()))\n",
    "print('Network Diameter:',ig_g_n.diameter())\n",
    "print('Average Path Length:',ig_g_n.average_path_length())"
   ]
  },
  {
   "cell_type": "code",
   "execution_count": null,
   "id": "375c4c30",
   "metadata": {
    "id": "375c4c30"
   },
   "outputs": [],
   "source": [
    "ad_walk_hz_1=np.mean(ig_g_h.degree())\n",
    "nd_walk_hz_1=ig_g_h.diameter()\n",
    "ad_walk_nat_1=np.mean(ig_g_n.degree())\n",
    "nd_walk_nat_1=ig_g_n.diameter()\n",
    "\n",
    "x_walk_hz_list=[]\n",
    "x_walk_nat_list=[]\n",
    "y_walk_hz_list=[]\n",
    "y_walk_nat_list=[]\n",
    "x_walk_hz_list.append(ad_walk_hz_1)\n",
    "x_walk_nat_list.append(ad_walk_nat_1)\n",
    "y_walk_hz_list.append(nd_walk_hz_1)\n",
    "y_walk_nat_list.append(nd_walk_nat_1)"
   ]
  },
  {
   "cell_type": "markdown",
   "id": "c6457a07",
   "metadata": {
    "id": "FEZk3xIN6Tvp"
   },
   "source": [
    "Running"
   ]
  },
  {
   "cell_type": "code",
   "execution_count": null,
   "id": "-2WCWZ9J6vvX",
   "metadata": {
    "id": "-2WCWZ9J6vvX"
   },
   "outputs": [],
   "source": [
    "from ts2vg import HorizontalVG\n",
    "import numpy as np\n",
    "g = HorizontalVG()\n",
    "g.build(running['attr_x'][1000:2024])\n",
    "ig_g_h = g.as_igraph()"
   ]
  },
  {
   "cell_type": "code",
   "execution_count": null,
   "id": "QhMbXf2mHQw2",
   "metadata": {
    "colab": {
     "base_uri": "https://localhost:8080/"
    },
    "id": "QhMbXf2mHQw2",
    "outputId": "7cac6479-7c86-44dd-d1da-3699b9d3bbc5"
   },
   "outputs": [],
   "source": [
    "print('Number of Nodes:',ig_g_h.vcount())\n",
    "print('Number of Links:',ig_g_h.ecount())\n",
    "print('Average Degree:',np.mean(ig_g_h.degree()))\n",
    "print('Network Diameter:',ig_g_h.diameter())\n",
    "print('Average Path Length:',ig_g_h.average_path_length())"
   ]
  },
  {
   "cell_type": "code",
   "execution_count": null,
   "id": "hFG3lFgXHUdU",
   "metadata": {
    "id": "hFG3lFgXHUdU"
   },
   "outputs": [],
   "source": [
    "from ts2vg import NaturalVG\n",
    "g = NaturalVG()\n",
    "g.build(running['attr_x'][1000:2024])\n",
    "ig_g_n = g.as_igraph()"
   ]
  },
  {
   "cell_type": "code",
   "execution_count": null,
   "id": "RJko6x7lHY84",
   "metadata": {
    "colab": {
     "base_uri": "https://localhost:8080/"
    },
    "id": "RJko6x7lHY84",
    "outputId": "72d85e95-3b53-43d3-f250-d9d7bea8e9de"
   },
   "outputs": [],
   "source": [
    "print('Number of Nodes:',ig_g_n.vcount())\n",
    "print('Number of Links:',ig_g_n.ecount())\n",
    "print('Average Degree:',np.mean(ig_g_n.degree()))\n",
    "print('Network Diameter:',ig_g_n.diameter())\n",
    "print('Average Path Length:',ig_g_n.average_path_length())"
   ]
  },
  {
   "cell_type": "code",
   "execution_count": null,
   "id": "0UQMnivsHbfM",
   "metadata": {
    "id": "0UQMnivsHbfM"
   },
   "outputs": [],
   "source": [
    "ad_run_hz_1=np.mean(ig_g_h.degree())\n",
    "nd_run_hz_1=ig_g_h.diameter()\n",
    "ad_run_nat_1=np.mean(ig_g_n.degree())\n",
    "nd_run_nat_1=ig_g_n.diameter()\n",
    "\n",
    "x_run_hz_list=[]\n",
    "x_run_nat_list=[]\n",
    "y_run_hz_list=[]\n",
    "y_run_nat_list=[]\n",
    "x_run_hz_list.append(ad_run_hz_1)\n",
    "x_run_nat_list.append(ad_run_nat_1)\n",
    "y_run_hz_list.append(nd_run_hz_1)\n",
    "y_run_nat_list.append(nd_run_nat_1)"
   ]
  },
  {
   "cell_type": "markdown",
   "id": "DKGBVCr4H27m",
   "metadata": {
    "id": "DKGBVCr4H27m"
   },
   "source": [
    "ClimbingDown"
   ]
  },
  {
   "cell_type": "code",
   "execution_count": null,
   "id": "-w-HkVLZH4f2",
   "metadata": {
    "id": "-w-HkVLZH4f2"
   },
   "outputs": [],
   "source": [
    "from ts2vg import HorizontalVG\n",
    "import numpy as np\n",
    "g = HorizontalVG()\n",
    "g.build(climbingdown['attr_x'][1000:2024])\n",
    "ig_g_h = g.as_igraph()"
   ]
  },
  {
   "cell_type": "code",
   "execution_count": null,
   "id": "6weH2AchID8Q",
   "metadata": {
    "colab": {
     "base_uri": "https://localhost:8080/"
    },
    "id": "6weH2AchID8Q",
    "outputId": "eb54d798-77dd-4598-d00e-508b77d838fc"
   },
   "outputs": [],
   "source": [
    "print('Number of Nodes:',ig_g_h.vcount())\n",
    "print('Number of Links:',ig_g_h.ecount())\n",
    "print('Average Degree:',np.mean(ig_g_h.degree()))\n",
    "print('Network Diameter:',ig_g_h.diameter())\n",
    "print('Average Path Length:',ig_g_h.average_path_length())"
   ]
  },
  {
   "cell_type": "code",
   "execution_count": null,
   "id": "l80YeiTaIECe",
   "metadata": {
    "id": "l80YeiTaIECe"
   },
   "outputs": [],
   "source": [
    "from ts2vg import NaturalVG\n",
    "g = NaturalVG()\n",
    "g.build(climbingdown['attr_x'][1000:2024])\n",
    "ig_g_n = g.as_igraph()"
   ]
  },
  {
   "cell_type": "code",
   "execution_count": null,
   "id": "up-7gmllIEJa",
   "metadata": {
    "colab": {
     "base_uri": "https://localhost:8080/"
    },
    "id": "up-7gmllIEJa",
    "outputId": "4a9e5bc1-5e95-453e-eacd-f91e5f2007de"
   },
   "outputs": [],
   "source": [
    "print('Number of Nodes:',ig_g_n.vcount())\n",
    "print('Number of Links:',ig_g_n.ecount())\n",
    "print('Average Degree:',np.mean(ig_g_n.degree()))\n",
    "print('Network Diameter:',ig_g_n.diameter())\n",
    "print('Average Path Length:',ig_g_n.average_path_length())"
   ]
  },
  {
   "cell_type": "code",
   "execution_count": null,
   "id": "5Dq-0Zv_IEQT",
   "metadata": {
    "id": "5Dq-0Zv_IEQT"
   },
   "outputs": [],
   "source": [
    "ad_climbdown_hz_1=np.mean(ig_g_h.degree())\n",
    "nd_climbdown_hz_1=ig_g_h.diameter()\n",
    "ad_climbdown_nat_1=np.mean(ig_g_n.degree())\n",
    "nd_climbdown_nat_1=ig_g_n.diameter()\n",
    "\n",
    "x_climbdown_hz_list=[]\n",
    "x_climbdown_nat_list=[]\n",
    "y_climbdown_hz_list=[]\n",
    "y_climbdown_nat_list=[]\n",
    "x_climbdown_hz_list.append(ad_climbdown_hz_1)\n",
    "x_climbdown_nat_list.append(ad_climbdown_nat_1)\n",
    "y_climbdown_hz_list.append(nd_climbdown_hz_1)\n",
    "y_climbdown_nat_list.append(nd_climbdown_nat_1)"
   ]
  },
  {
   "cell_type": "markdown",
   "id": "eA73572tJOES",
   "metadata": {
    "id": "eA73572tJOES"
   },
   "source": [
    "Climbing Up"
   ]
  },
  {
   "cell_type": "code",
   "execution_count": null,
   "id": "OFeKve9_JQMM",
   "metadata": {
    "id": "OFeKve9_JQMM"
   },
   "outputs": [],
   "source": [
    "from ts2vg import HorizontalVG\n",
    "import numpy as np\n",
    "g = HorizontalVG()\n",
    "g.build(climbingup['attr_x'][1000:2024])\n",
    "ig_g_h = g.as_igraph()"
   ]
  },
  {
   "cell_type": "code",
   "execution_count": null,
   "id": "dRxy_cdAJQRo",
   "metadata": {
    "colab": {
     "base_uri": "https://localhost:8080/"
    },
    "id": "dRxy_cdAJQRo",
    "outputId": "545883a1-19f9-4e81-ddc7-4617694977f1"
   },
   "outputs": [],
   "source": [
    "print('Number of Nodes:',ig_g_h.vcount())\n",
    "print('Number of Links:',ig_g_h.ecount())\n",
    "print('Average Degree:',np.mean(ig_g_h.degree()))\n",
    "print('Network Diameter:',ig_g_h.diameter())\n",
    "print('Average Path Length:',ig_g_h.average_path_length())"
   ]
  },
  {
   "cell_type": "code",
   "execution_count": null,
   "id": "RqDBeBXwJQVv",
   "metadata": {
    "id": "RqDBeBXwJQVv"
   },
   "outputs": [],
   "source": [
    "from ts2vg import NaturalVG\n",
    "g = NaturalVG()\n",
    "g.build(climbingup['attr_x'][1000:2024])\n",
    "ig_g_n = g.as_igraph()"
   ]
  },
  {
   "cell_type": "code",
   "execution_count": null,
   "id": "hBxvfC5HJQaL",
   "metadata": {
    "colab": {
     "base_uri": "https://localhost:8080/"
    },
    "id": "hBxvfC5HJQaL",
    "outputId": "d71c3476-449c-4f40-a32d-134bf8929cf3"
   },
   "outputs": [],
   "source": [
    "print('Number of Nodes:',ig_g_n.vcount())\n",
    "print('Number of Links:',ig_g_n.ecount())\n",
    "print('Average Degree:',np.mean(ig_g_n.degree()))\n",
    "print('Network Diameter:',ig_g_n.diameter())\n",
    "print('Average Path Length:',ig_g_n.average_path_length())"
   ]
  },
  {
   "cell_type": "code",
   "execution_count": null,
   "id": "p7kmsqyvJQcc",
   "metadata": {
    "id": "p7kmsqyvJQcc"
   },
   "outputs": [],
   "source": [
    "ad_climbingup_hz_1=np.mean(ig_g_h.degree())\n",
    "nd_climbingup_hz_1=ig_g_h.diameter()\n",
    "ad_climbingup_nat_1=np.mean(ig_g_n.degree())\n",
    "nd_climbingup_nat_1=ig_g_n.diameter()\n",
    "\n",
    "x_climbingup_hz_list=[]\n",
    "x_climbingup_nat_list=[]\n",
    "y_climbingup_hz_list=[]\n",
    "y_climbingup_nat_list=[]\n",
    "x_climbingup_hz_list.append(ad_climbingup_hz_1)\n",
    "x_climbingup_nat_list.append(ad_climbingup_nat_1)\n",
    "y_climbingup_hz_list.append(nd_climbingup_hz_1)\n",
    "y_climbingup_nat_list.append(nd_climbingup_nat_1)"
   ]
  },
  {
   "cell_type": "code",
   "execution_count": null,
   "id": "9a67bc1c",
   "metadata": {},
   "outputs": [],
   "source": [
    "print(\n",
    "x_climbingup_hz_list \n",
    ")"
   ]
  },
  {
   "cell_type": "markdown",
   "id": "4123128b",
   "metadata": {},
   "source": [
    "# SIMPLIFIED"
   ]
  },
  {
   "cell_type": "markdown",
   "id": "527921fd",
   "metadata": {},
   "source": [
    "#### WALKING"
   ]
  },
  {
   "cell_type": "code",
   "execution_count": null,
   "id": "35d2fbb8",
   "metadata": {},
   "outputs": [],
   "source": [
    "file_name='acc_walking_chest_'\n",
    "x_walk_hz_list_x=[]\n",
    "x_walk_nat_list_x=[]\n",
    "y_walk_hz_list_x=[]\n",
    "y_walk_nat_list_x=[]\n",
    "for i in range(1,16):\n",
    "    full_file_name= f\"{file_name}{i}\"\n",
    "    import pandas as pd\n",
    "    walking = pd.read_csv(f\"{full_file_name}.csv\")\n",
    "\n",
    "\n",
    "    from ts2vg import HorizontalVG\n",
    "    import numpy as np\n",
    "    g = HorizontalVG()\n",
    "    g.build(walking['attr_x'][1000:2024])\n",
    "    ig_g_h = g.as_igraph()\n",
    "    from ts2vg import NaturalVG\n",
    "    g = NaturalVG()\n",
    "    g.build(walking['attr_x'][1000:2024])\n",
    "    ig_g_n = g.as_igraph()\n",
    "    \n",
    "    ad_walk_hz_x=np.mean(ig_g_h.degree())\n",
    "    nd_walk_hz_x=ig_g_h.diameter()\n",
    "    ad_walk_nat_x=np.mean(ig_g_n.degree())\n",
    "    nd_walk_nat_x=ig_g_n.diameter()\n",
    "\n",
    "\n",
    "    x_walk_hz_list_x.append(ad_walk_hz_x)\n",
    "    x_walk_nat_list_x.append(ad_walk_nat_x)\n",
    "    y_walk_hz_list_x.append(nd_walk_hz_x)\n",
    "    y_walk_nat_list_x.append(nd_walk_nat_x)\n",
    "    \n",
    "    "
   ]
  },
  {
   "cell_type": "code",
   "execution_count": null,
   "id": "a98fb85b",
   "metadata": {},
   "outputs": [],
   "source": [
    "file_name='acc_walking_chest_'\n",
    "x_walk_hz_list_y=[]\n",
    "x_walk_nat_list_y=[]\n",
    "y_walk_hz_list_y=[]\n",
    "y_walk_nat_list_y=[]\n",
    "for i in range(1,16):\n",
    "    full_file_name= f\"{file_name}{i}\"\n",
    "    import pandas as pd\n",
    "    walking = pd.read_csv(f\"{full_file_name}.csv\")\n",
    "\n",
    "\n",
    "    from ts2vg import HorizontalVG\n",
    "    import numpy as np\n",
    "    g = HorizontalVG()\n",
    "    g.build(walking['attr_y'][1000:2024])\n",
    "    ig_g_h = g.as_igraph()\n",
    "    from ts2vg import NaturalVG\n",
    "    g = NaturalVG()\n",
    "    g.build(walking['attr_y'][1000:2024])\n",
    "    ig_g_n = g.as_igraph()\n",
    "    \n",
    "    ad_walk_hz_y=np.mean(ig_g_h.degree())\n",
    "    nd_walk_hz_y=ig_g_h.diameter()\n",
    "    ad_walk_nat_y=np.mean(ig_g_n.degree())\n",
    "    nd_walk_nat_y=ig_g_n.diameter()\n",
    "\n",
    "\n",
    "    x_walk_hz_list_y.append(ad_walk_hz_y)\n",
    "    x_walk_nat_list_y.append(ad_walk_nat_y)\n",
    "    y_walk_hz_list_y.append(nd_walk_hz_y)\n",
    "    y_walk_nat_list_y.append(nd_walk_nat_y)\n",
    "    \n",
    "    "
   ]
  },
  {
   "cell_type": "code",
   "execution_count": null,
   "id": "a63b8040",
   "metadata": {},
   "outputs": [],
   "source": [
    "file_name='acc_walking_chest_'\n",
    "x_walk_hz_list_z=[]\n",
    "x_walk_nat_list_z=[]\n",
    "y_walk_hz_list_z=[]\n",
    "y_walk_nat_list_z=[]\n",
    "for i in range(1,16):\n",
    "    full_file_name= f\"{file_name}{i}\"\n",
    "    import pandas as pd\n",
    "    walking = pd.read_csv(f\"{full_file_name}.csv\")\n",
    "\n",
    "\n",
    "    from ts2vg import HorizontalVG\n",
    "    import numpy as np\n",
    "    g = HorizontalVG()\n",
    "    g.build(walking['attr_z'][1000:2024])\n",
    "    ig_g_h = g.as_igraph()\n",
    "    from ts2vg import NaturalVG\n",
    "    g = NaturalVG()\n",
    "    g.build(walking['attr_z'][1000:2024])\n",
    "    ig_g_n = g.as_igraph()\n",
    "    \n",
    "    ad_walk_hz_z=np.mean(ig_g_h.degree())\n",
    "    nd_walk_hz_z=ig_g_h.diameter()\n",
    "    ad_walk_nat_z=np.mean(ig_g_n.degree())\n",
    "    nd_walk_nat_z=ig_g_n.diameter()\n",
    "\n",
    "\n",
    "    x_walk_hz_list_z.append(ad_walk_hz_z)\n",
    "    x_walk_nat_list_z.append(ad_walk_nat_z)\n",
    "    y_walk_hz_list_z.append(nd_walk_hz_z)\n",
    "    y_walk_nat_list_z.append(nd_walk_nat_z)"
   ]
  },
  {
   "cell_type": "markdown",
   "id": "0c0428bb",
   "metadata": {},
   "source": [
    "#### Running"
   ]
  },
  {
   "cell_type": "code",
   "execution_count": null,
   "id": "4efcd7e9",
   "metadata": {},
   "outputs": [],
   "source": [
    "file_name='acc_running_chest_'\n",
    "x_run_hz_list_x=[]\n",
    "x_run_nat_list_x=[]\n",
    "y_run_hz_list_x=[]\n",
    "y_run_nat_list_x=[]\n",
    "for i in range(1,16):\n",
    "    full_file_name= f\"{file_name}{i}\"\n",
    "    import pandas as pd\n",
    "    running = pd.read_csv(f\"{full_file_name}.csv\")\n",
    "\n",
    "\n",
    "    from ts2vg import HorizontalVG\n",
    "    import numpy as np\n",
    "    g = HorizontalVG()\n",
    "    g.build(running['attr_x'][1000:2024])\n",
    "    ig_g_h = g.as_igraph()\n",
    "    from ts2vg import NaturalVG\n",
    "    g = NaturalVG()\n",
    "    g.build(running['attr_x'][1000:2024])\n",
    "    ig_g_n = g.as_igraph()\n",
    "    \n",
    "    ad_run_hz_x=np.mean(ig_g_h.degree())\n",
    "    nd_run_hz_x=ig_g_h.diameter()\n",
    "    ad_run_nat_x=np.mean(ig_g_n.degree())\n",
    "    nd_run_nat_x=ig_g_n.diameter()\n",
    "\n",
    "\n",
    "    x_run_hz_list_x.append(ad_run_hz_x)\n",
    "    x_run_nat_list_x.append(ad_run_nat_x)\n",
    "    y_run_hz_list_x.append(nd_run_hz_x)\n",
    "    y_run_nat_list_x.append(nd_run_nat_x)\n",
    "    "
   ]
  },
  {
   "cell_type": "code",
   "execution_count": null,
   "id": "9d59faf3",
   "metadata": {},
   "outputs": [],
   "source": [
    "file_name='acc_running_chest_'\n",
    "x_run_hz_list_y=[]\n",
    "x_run_nat_list_y=[]\n",
    "y_run_hz_list_y=[]\n",
    "y_run_nat_list_y=[]\n",
    "for i in range(1,16):\n",
    "    full_file_name= f\"{file_name}{i}\"\n",
    "    import pandas as pd\n",
    "    running = pd.read_csv(f\"{full_file_name}.csv\")\n",
    "\n",
    "\n",
    "    from ts2vg import HorizontalVG\n",
    "    import numpy as np\n",
    "    g = HorizontalVG()\n",
    "    g.build(running['attr_y'][1000:2024])\n",
    "    ig_g_h = g.as_igraph()\n",
    "    from ts2vg import NaturalVG\n",
    "    g = NaturalVG()\n",
    "    g.build(running['attr_y'][1000:2024])\n",
    "    ig_g_n = g.as_igraph()\n",
    "    \n",
    "    ad_run_hz_y=np.mean(ig_g_h.degree())\n",
    "    nd_run_hz_y=ig_g_h.diameter()\n",
    "    ad_run_nat_y=np.mean(ig_g_n.degree())\n",
    "    nd_run_nat_y=ig_g_n.diameter()\n",
    "\n",
    "\n",
    "    x_run_hz_list_y.append(ad_run_hz_y)\n",
    "    x_run_nat_list_y.append(ad_run_nat_y)\n",
    "    y_run_hz_list_y.append(nd_run_hz_y)\n",
    "    y_run_nat_list_y.append(nd_run_nat_y)"
   ]
  },
  {
   "cell_type": "code",
   "execution_count": null,
   "id": "4ae51a3d",
   "metadata": {},
   "outputs": [],
   "source": [
    "file_name='acc_running_chest_'\n",
    "x_run_hz_list_z=[]\n",
    "x_run_nat_list_z=[]\n",
    "y_run_hz_list_z=[]\n",
    "y_run_nat_list_z=[]\n",
    "for i in range(1,16):\n",
    "    full_file_name= f\"{file_name}{i}\"\n",
    "    import pandas as pd\n",
    "    running = pd.read_csv(f\"{full_file_name}.csv\")\n",
    "\n",
    "\n",
    "    from ts2vg import HorizontalVG\n",
    "    import numpy as np\n",
    "    g = HorizontalVG()\n",
    "    g.build(running['attr_z'][1000:2024])\n",
    "    ig_g_h = g.as_igraph()\n",
    "    from ts2vg import NaturalVG\n",
    "    g = NaturalVG()\n",
    "    g.build(running['attr_z'][1000:2024])\n",
    "    ig_g_n = g.as_igraph()\n",
    "    \n",
    "    ad_run_hz_z=np.mean(ig_g_h.degree())\n",
    "    nd_run_hz_z=ig_g_h.diameter()\n",
    "    ad_run_nat_z=np.mean(ig_g_n.degree())\n",
    "    nd_run_nat_z=ig_g_n.diameter()\n",
    "\n",
    "\n",
    "    x_run_hz_list_z.append(ad_run_hz_z)\n",
    "    x_run_nat_list_z.append(ad_run_nat_z)\n",
    "    y_run_hz_list_z.append(nd_run_hz_z)\n",
    "    y_run_nat_list_z.append(nd_run_nat_z)"
   ]
  },
  {
   "cell_type": "markdown",
   "id": "886865b4",
   "metadata": {},
   "source": [
    "#### CLIMBING UP"
   ]
  },
  {
   "cell_type": "code",
   "execution_count": null,
   "id": "9846179c",
   "metadata": {},
   "outputs": [],
   "source": [
    "file_name='acc_climbingup_chest_'\n",
    "x_climbup_hz_list_x=[]\n",
    "x_climbup_nat_list_x=[]\n",
    "y_climbup_hz_list_x=[]\n",
    "y_climbup_nat_list_x=[]\n",
    "for i in range(1,16):\n",
    "    full_file_name= f\"{file_name}{i}\"\n",
    "    import pandas as pd\n",
    "    climbup = pd.read_csv(f\"{full_file_name}.csv\")\n",
    "\n",
    "\n",
    "    from ts2vg import HorizontalVG\n",
    "    import numpy as np\n",
    "    g = HorizontalVG()\n",
    "    g.build(climbup['attr_x'][1000:2024])\n",
    "    ig_g_h = g.as_igraph()\n",
    "    from ts2vg import NaturalVG\n",
    "    g = NaturalVG()\n",
    "    g.build(climbup['attr_x'][1000:2024])\n",
    "    ig_g_n = g.as_igraph()\n",
    "    \n",
    "    ad_climbup_hz_x=np.mean(ig_g_h.degree())\n",
    "    nd_climbup_hz_x=ig_g_h.diameter()\n",
    "    ad_climbup_nat_x=np.mean(ig_g_n.degree())\n",
    "    nd_climbup_nat_x=ig_g_n.diameter()\n",
    "\n",
    "\n",
    "    x_climbup_hz_list_x.append(ad_climbup_hz_x)\n",
    "    x_climbup_nat_list_x.append(ad_climbup_nat_x)\n",
    "    y_climbup_hz_list_x.append(nd_climbup_hz_x)\n",
    "    y_climbup_nat_list_x.append(nd_climbup_nat_x)"
   ]
  },
  {
   "cell_type": "code",
   "execution_count": null,
   "id": "b620ed2c",
   "metadata": {},
   "outputs": [],
   "source": [
    "file_name='acc_climbingup_chest_'\n",
    "x_climbup_hz_list_y=[]\n",
    "x_climbup_nat_list_y=[]\n",
    "y_climbup_hz_list_y=[]\n",
    "y_climbup_nat_list_y=[]\n",
    "for i in range(1,16):\n",
    "    full_file_name= f\"{file_name}{i}\"\n",
    "    import pandas as pd\n",
    "    climbup = pd.read_csv(f\"{full_file_name}.csv\")\n",
    "\n",
    "\n",
    "    from ts2vg import HorizontalVG\n",
    "    import numpy as np\n",
    "    g = HorizontalVG()\n",
    "    g.build(climbup['attr_y'][1000:2024])\n",
    "    ig_g_h = g.as_igraph()\n",
    "    from ts2vg import NaturalVG\n",
    "    g = NaturalVG()\n",
    "    g.build(climbup['attr_y'][1000:2024])\n",
    "    ig_g_n = g.as_igraph()\n",
    "    \n",
    "    ad_climbup_hz_y=np.mean(ig_g_h.degree())\n",
    "    nd_climbup_hz_y=ig_g_h.diameter()\n",
    "    ad_climbup_nat_y=np.mean(ig_g_n.degree())\n",
    "    nd_climbup_nat_y=ig_g_n.diameter()\n",
    "\n",
    "\n",
    "    x_climbup_hz_list_y.append(ad_climbup_hz_y)\n",
    "    x_climbup_nat_list_y.append(ad_climbup_nat_y)\n",
    "    y_climbup_hz_list_y.append(nd_climbup_hz_y)\n",
    "    y_climbup_nat_list_y.append(nd_climbup_nat_y)"
   ]
  },
  {
   "cell_type": "code",
   "execution_count": null,
   "id": "bafc8a7a",
   "metadata": {},
   "outputs": [],
   "source": [
    "file_name='acc_climbingup_chest_'\n",
    "x_climbup_hz_list_z=[]\n",
    "x_climbup_nat_list_z=[]\n",
    "y_climbup_hz_list_z=[]\n",
    "y_climbup_nat_list_z=[]\n",
    "for i in range(1,16):\n",
    "    full_file_name= f\"{file_name}{i}\"\n",
    "    import pandas as pd\n",
    "    climbup = pd.read_csv(f\"{full_file_name}.csv\")\n",
    "\n",
    "\n",
    "    from ts2vg import HorizontalVG\n",
    "    import numpy as np\n",
    "    g = HorizontalVG()\n",
    "    g.build(climbup['attr_z'][1000:2024])\n",
    "    ig_g_h = g.as_igraph()\n",
    "    from ts2vg import NaturalVG\n",
    "    g = NaturalVG()\n",
    "    g.build(climbup['attr_z'][1000:2024])\n",
    "    ig_g_n = g.as_igraph()\n",
    "    \n",
    "    ad_climbup_hz_z=np.mean(ig_g_h.degree())\n",
    "    nd_climbup_hz_z=ig_g_h.diameter()\n",
    "    ad_climbup_nat_z=np.mean(ig_g_n.degree())\n",
    "    nd_climbup_nat_z=ig_g_n.diameter()\n",
    "\n",
    "\n",
    "    x_climbup_hz_list_z.append(ad_climbup_hz_z)\n",
    "    x_climbup_nat_list_z.append(ad_climbup_nat_z)\n",
    "    y_climbup_hz_list_z.append(nd_climbup_hz_z)\n",
    "    y_climbup_nat_list_z.append(nd_climbup_nat_z)"
   ]
  },
  {
   "cell_type": "markdown",
   "id": "0b460a17",
   "metadata": {},
   "source": [
    "CLIMBING DOWN"
   ]
  },
  {
   "cell_type": "code",
   "execution_count": null,
   "id": "d249aed7",
   "metadata": {},
   "outputs": [],
   "source": [
    "file_name='acc_climbingdown_chest_'\n",
    "x_climbdown_hz_list_x=[]\n",
    "x_climbdown_nat_list_x=[]\n",
    "y_climbdown_hz_list_x=[]\n",
    "y_climbdown_nat_list_x=[]\n",
    "for i in range(1,16):\n",
    "    full_file_name= f\"{file_name}{i}\"\n",
    "    import pandas as pd\n",
    "    climbdown = pd.read_csv(f\"{full_file_name}.csv\")\n",
    "\n",
    "\n",
    "    from ts2vg import HorizontalVG\n",
    "    import numpy as np\n",
    "    g = HorizontalVG()\n",
    "    g.build(climbdown['attr_x'][1000:2024])\n",
    "    ig_g_h = g.as_igraph()\n",
    "    from ts2vg import NaturalVG\n",
    "    g = NaturalVG()\n",
    "    g.build(climbdown['attr_x'][1000:2024])\n",
    "    ig_g_n = g.as_igraph()\n",
    "    \n",
    "    ad_climbdown_hz_x=np.mean(ig_g_h.degree())\n",
    "    nd_climbdown_hz_x=ig_g_h.diameter()\n",
    "    ad_climbdown_nat_x=np.mean(ig_g_n.degree())\n",
    "    nd_climbdown_nat_x=ig_g_n.diameter()\n",
    "\n",
    "\n",
    "    x_climbdown_hz_list_x.append(ad_climbdown_hz_x)\n",
    "    x_climbdown_nat_list_x.append(ad_climbdown_nat_x)\n",
    "    y_climbdown_hz_list_x.append(nd_climbdown_hz_x)\n",
    "    y_climbdown_nat_list_x.append(nd_climbdown_nat_x)"
   ]
  },
  {
   "cell_type": "code",
   "execution_count": null,
   "id": "0947f653",
   "metadata": {},
   "outputs": [],
   "source": [
    "file_name='acc_climbingdown_chest_'\n",
    "x_climbdown_hz_list_y=[]\n",
    "x_climbdown_nat_list_y=[]\n",
    "y_climbdown_hz_list_y=[]\n",
    "y_climbdown_nat_list_y=[]\n",
    "for i in range(1,16):\n",
    "    full_file_name= f\"{file_name}{i}\"\n",
    "    import pandas as pd\n",
    "    climbdown = pd.read_csv(f\"{full_file_name}.csv\")\n",
    "\n",
    "\n",
    "    from ts2vg import HorizontalVG\n",
    "    import numpy as np\n",
    "    g = HorizontalVG()\n",
    "    g.build(climbdown['attr_y'][1000:2024])\n",
    "    ig_g_h = g.as_igraph()\n",
    "    from ts2vg import NaturalVG\n",
    "    g = NaturalVG()\n",
    "    g.build(climbdown['attr_y'][1000:2024])\n",
    "    ig_g_n = g.as_igraph()\n",
    "    \n",
    "    ad_climbdown_hz_y=np.mean(ig_g_h.degree())\n",
    "    nd_climbdown_hz_y=ig_g_h.diameter()\n",
    "    ad_climbdown_nat_y=np.mean(ig_g_n.degree())\n",
    "    nd_climbdown_nat_y=ig_g_n.diameter()\n",
    "\n",
    "\n",
    "    x_climbdown_hz_list_y.append(ad_climbdown_hz_y)\n",
    "    x_climbdown_nat_list_y.append(ad_climbdown_nat_y)\n",
    "    y_climbdown_hz_list_y.append(nd_climbdown_hz_y)\n",
    "    y_climbdown_nat_list_y.append(nd_climbdown_nat_y)"
   ]
  },
  {
   "cell_type": "code",
   "execution_count": null,
   "id": "0e67ba8d",
   "metadata": {},
   "outputs": [],
   "source": [
    "file_name='acc_climbingdown_chest_'\n",
    "x_climbdown_hz_list_z=[]\n",
    "x_climbdown_nat_list_z=[]\n",
    "y_climbdown_hz_list_z=[]\n",
    "y_climbdown_nat_list_z=[]\n",
    "for i in range(1,16):\n",
    "    full_file_name= f\"{file_name}{i}\"\n",
    "    import pandas as pd\n",
    "    climbdown = pd.read_csv(f\"{full_file_name}.csv\")\n",
    "\n",
    "\n",
    "    from ts2vg import HorizontalVG\n",
    "    import numpy as np\n",
    "    g = HorizontalVG()\n",
    "    g.build(climbdown['attr_z'][1000:2024])\n",
    "    ig_g_h = g.as_igraph()\n",
    "    from ts2vg import NaturalVG\n",
    "    g = NaturalVG()\n",
    "    g.build(climbdown['attr_z'][1000:2024])\n",
    "    ig_g_n = g.as_igraph()\n",
    "    \n",
    "    ad_climbdown_hz_z=np.mean(ig_g_h.degree())\n",
    "    nd_climbdown_hz_z=ig_g_h.diameter()\n",
    "    ad_climbdown_nat_z=np.mean(ig_g_n.degree())\n",
    "    nd_climbdown_nat_z=ig_g_n.diameter()\n",
    "\n",
    "\n",
    "    x_climbdown_hz_list_z.append(ad_climbdown_hz_z)\n",
    "    x_climbdown_nat_list_z.append(ad_climbdown_nat_z)\n",
    "    y_climbdown_hz_list_z.append(nd_climbdown_hz_z)\n",
    "    y_climbdown_nat_list_z.append(nd_climbdown_nat_z)"
   ]
  },
  {
   "cell_type": "markdown",
   "id": "7a2cb025",
   "metadata": {},
   "source": [
    "# 1.5(GRAPH)"
   ]
  },
  {
   "cell_type": "markdown",
   "id": "b8a2efca",
   "metadata": {},
   "source": [
    "## ACCORDING TO HVG"
   ]
  },
  {
   "cell_type": "code",
   "execution_count": null,
   "id": "17d4b4ce",
   "metadata": {},
   "outputs": [],
   "source": [
    "import numpy as np\n",
    "import matplotlib.pyplot as plt\n",
    "plt.scatter(x=x_walk_hz_list_x, y=y_walk_hz_list_x,color='red',label='walking')\n",
    "plt.scatter(x=x_run_hz_list_x, y=y_run_hz_list_x,color='blue',label='running')\n",
    "plt.legend()\n",
    "plt.xlabel(\"Average Degree\")\n",
    "plt.ylabel(\"Network Diameter\")"
   ]
  },
  {
   "cell_type": "code",
   "execution_count": null,
   "id": "532bb932",
   "metadata": {},
   "outputs": [],
   "source": [
    "import numpy as np\n",
    "import matplotlib.pyplot as plt\n",
    "plt.scatter(x=x_walk_hz_list_y, y=y_walk_hz_list_y,color='red',label='walking')\n",
    "plt.scatter(x=x_run_hz_list_y, y=y_run_hz_list_y,color='blue',label='running')\n",
    "plt.legend()\n",
    "plt.xlabel(\"Average Degree\")\n",
    "plt.ylabel(\"Network Diameter\")"
   ]
  },
  {
   "cell_type": "code",
   "execution_count": null,
   "id": "08983595",
   "metadata": {},
   "outputs": [],
   "source": [
    "import numpy as np\n",
    "import matplotlib.pyplot as plt\n",
    "plt.scatter(x=x_walk_hz_list_z, y=y_walk_hz_list_z,color='red',label='walking')\n",
    "plt.scatter(x=x_run_hz_list_z, y=y_run_hz_list_z,color='blue',label='running')\n",
    "plt.legend()\n",
    "plt.xlabel(\"Average Degree\")\n",
    "plt.ylabel(\"Network Diameter\")"
   ]
  },
  {
   "cell_type": "markdown",
   "id": "62b1a85d",
   "metadata": {},
   "source": [
    "## ACCORDING TO NVG"
   ]
  },
  {
   "cell_type": "code",
   "execution_count": null,
   "id": "7403b29c",
   "metadata": {},
   "outputs": [],
   "source": [
    "import numpy as np\n",
    "import matplotlib.pyplot as plt\n",
    "plt.scatter(x=x_walk_nat_list_x, y=y_walk_nat_list_x,color='red',label='walking')\n",
    "plt.scatter(x=x_run_nat_list_x, y=y_run_nat_list_x,color='blue',label='running')\n",
    "plt.legend()\n",
    "plt.xlabel(\"Average Degree\")\n",
    "plt.ylabel(\"Network Diameter\")"
   ]
  },
  {
   "cell_type": "code",
   "execution_count": null,
   "id": "7799a1f9",
   "metadata": {},
   "outputs": [],
   "source": [
    "import numpy as np\n",
    "import matplotlib.pyplot as plt\n",
    "plt.scatter(x=x_walk_nat_list_y, y=y_walk_nat_list_y,color='red',label='walking')\n",
    "plt.scatter(x=x_run_nat_list_y, y=y_run_nat_list_y,color='blue',label='running')\n",
    "plt.legend()\n",
    "plt.xlabel(\"Average Degree\")\n",
    "plt.ylabel(\"Network Diameter\")"
   ]
  },
  {
   "cell_type": "code",
   "execution_count": null,
   "id": "087d66bd",
   "metadata": {},
   "outputs": [],
   "source": [
    "import numpy as np\n",
    "import matplotlib.pyplot as plt\n",
    "plt.scatter(x=x_walk_nat_list_z, y=y_walk_nat_list_z,color='red',label='walking')\n",
    "plt.scatter(x=x_run_nat_list_z, y=y_run_nat_list_z,color='blue',label='running')\n",
    "plt.legend()\n",
    "plt.xlabel(\"Average Degree\")\n",
    "plt.ylabel(\"Network Diameter\")"
   ]
  },
  {
   "cell_type": "markdown",
   "id": "47de6ed3",
   "metadata": {},
   "source": [
    "# 1.6(GRAPH)"
   ]
  },
  {
   "cell_type": "markdown",
   "id": "79d945e6",
   "metadata": {},
   "source": [
    "## ACCORDING TO HVG"
   ]
  },
  {
   "cell_type": "code",
   "execution_count": null,
   "id": "bf7fc202",
   "metadata": {},
   "outputs": [],
   "source": [
    "import numpy as np\n",
    "import matplotlib.pyplot as plt\n",
    "plt.scatter(x=x_climbup_hz_list_x, y=y_climbup_hz_list_x,color='red',label='climbing up')\n",
    "plt.scatter(x=x_climbdown_hz_list_x, y=y_climbdown_hz_list_x,color='blue',label='climbing down')\n",
    "plt.legend()\n",
    "plt.xlabel(\"Average Degree\")\n",
    "plt.ylabel(\"Network Diameter\")"
   ]
  },
  {
   "cell_type": "code",
   "execution_count": null,
   "id": "c066c829",
   "metadata": {},
   "outputs": [],
   "source": [
    "import numpy as np\n",
    "import matplotlib.pyplot as plt\n",
    "plt.scatter(x=x_climbup_hz_list_y, y=y_climbup_hz_list_y,color='red',label='climbing up')\n",
    "plt.scatter(x=x_climbdown_hz_list_y, y=y_climbdown_hz_list_y,color='blue',label='climbing down')\n",
    "plt.legend()\n",
    "plt.xlabel(\"Average Degree\")\n",
    "plt.ylabel(\"Network Diameter\")\n"
   ]
  },
  {
   "cell_type": "code",
   "execution_count": null,
   "id": "c0f80634",
   "metadata": {},
   "outputs": [],
   "source": [
    "import numpy as np\n",
    "import matplotlib.pyplot as plt\n",
    "plt.scatter(x=x_climbup_hz_list_z, y=y_climbup_hz_list_z,color='red',label='climbing up')\n",
    "plt.scatter(x=x_climbdown_hz_list_z, y=y_climbdown_hz_list_z,color='blue',label='climbing down')\n",
    "plt.legend()\n",
    "plt.xlabel(\"Average Degree\")\n",
    "plt.ylabel(\"Network Diameter\")"
   ]
  },
  {
   "cell_type": "markdown",
   "id": "de07980a",
   "metadata": {},
   "source": [
    "## ACCORDING TO NVG"
   ]
  },
  {
   "cell_type": "code",
   "execution_count": null,
   "id": "116b011b",
   "metadata": {},
   "outputs": [],
   "source": [
    "import numpy as np\n",
    "import matplotlib.pyplot as plt\n",
    "plt.scatter(x=x_climbup_nat_list_x, y=y_climbup_nat_list_x,color='red',label='climbing up')\n",
    "plt.scatter(x=x_climbdown_nat_list_x, y=y_climbdown_nat_list_x,color='blue',label='climbing down')\n",
    "plt.legend()\n",
    "plt.xlabel(\"Average Degree\")\n",
    "plt.ylabel(\"Network Diameter\")"
   ]
  },
  {
   "cell_type": "code",
   "execution_count": null,
   "id": "ae0938ab",
   "metadata": {},
   "outputs": [],
   "source": [
    "import numpy as np\n",
    "import matplotlib.pyplot as plt\n",
    "plt.scatter(x=x_climbup_nat_list_y, y=y_climbup_nat_list_y,color='red',label='climbing up')\n",
    "plt.scatter(x=x_climbdown_nat_list_y, y=y_climbdown_nat_list_y,color='blue',label='climbing down')\n",
    "plt.legend()\n",
    "plt.xlabel(\"Average Degree\")\n",
    "plt.ylabel(\"Network Diameter\")"
   ]
  },
  {
   "cell_type": "code",
   "execution_count": null,
   "id": "41541b07",
   "metadata": {},
   "outputs": [],
   "source": [
    "import numpy as np\n",
    "import matplotlib.pyplot as plt\n",
    "plt.scatter(x=x_climbup_nat_list_z, y=y_climbup_nat_list_z,color='red',label='climbing up')\n",
    "plt.scatter(x=x_climbdown_nat_list_z, y=y_climbdown_nat_list_z,color='blue',label='climbing down')\n",
    "plt.legend()\n",
    "plt.xlabel(\"Average Degree\")\n",
    "plt.ylabel(\"Network Diameter\")"
   ]
  },
  {
   "cell_type": "markdown",
   "id": "yx9nIHrGLzwx",
   "metadata": {
    "id": "yx9nIHrGLzwx"
   },
   "source": [
    "#Subject 2\n"
   ]
  },
  {
   "cell_type": "markdown",
   "id": "acO2XQ6JMH3G",
   "metadata": {
    "id": "acO2XQ6JMH3G"
   },
   "source": [
    "Walking"
   ]
  },
  {
   "cell_type": "code",
   "execution_count": null,
   "id": "80d6fef0",
   "metadata": {
    "id": "bfa0e974"
   },
   "outputs": [],
   "source": [
    "import pandas as pd\n",
    "walking = pd.read_csv('acc_walking_chest_7.csv')\n",
    "running = pd.read_csv('acc_running_chest_7.csv')\n",
    "climbingdown = pd.read_csv('acc_climbingdown_chest_7.csv')\n",
    "climbingup = pd.read_csv('acc_climbingup_chest_7.csv')"
   ]
  },
  {
   "cell_type": "code",
   "execution_count": null,
   "id": "koztD2kvL1gA",
   "metadata": {
    "id": "koztD2kvL1gA"
   },
   "outputs": [],
   "source": [
    "from ts2vg import HorizontalVG\n",
    "import numpy as np\n",
    "g = HorizontalVG()\n",
    "g.build(walking['attr_x'][1000:2024])\n",
    "ig_g_h = g.as_igraph()"
   ]
  },
  {
   "cell_type": "code",
   "execution_count": null,
   "id": "zmzREUX5L9ak",
   "metadata": {
    "colab": {
     "base_uri": "https://localhost:8080/"
    },
    "id": "zmzREUX5L9ak",
    "outputId": "03af4a8c-6129-4f35-e51b-65b4161fd1d6"
   },
   "outputs": [],
   "source": [
    "print('Number of Nodes:',ig_g_h.vcount())\n",
    "print('Number of Links:',ig_g_h.ecount())\n",
    "print('Average Degree:',np.mean(ig_g_h.degree()))\n",
    "print('Network Diameter:',ig_g_h.diameter())\n",
    "print('Average Path Length:',ig_g_h.average_path_length())"
   ]
  },
  {
   "cell_type": "code",
   "execution_count": null,
   "id": "E3aLG6OqL_TL",
   "metadata": {
    "id": "E3aLG6OqL_TL"
   },
   "outputs": [],
   "source": [
    "from ts2vg import NaturalVG\n",
    "g = NaturalVG()\n",
    "g.build(walking['attr_x'][1000:2024])\n",
    "ig_g_n = g.as_igraph()"
   ]
  },
  {
   "cell_type": "code",
   "execution_count": null,
   "id": "RVx2klyoL_WX",
   "metadata": {
    "colab": {
     "base_uri": "https://localhost:8080/"
    },
    "id": "RVx2klyoL_WX",
    "outputId": "23b009f5-da3c-4e16-9203-e1c0f7d7e8f5"
   },
   "outputs": [],
   "source": [
    "print('Number of Nodes:',ig_g_n.vcount())\n",
    "print('Number of Links:',ig_g_n.ecount())\n",
    "print('Average Degree:',np.mean(ig_g_n.degree()))\n",
    "print('Network Diameter:',ig_g_n.diameter())\n",
    "print('Average Path Length:',ig_g_n.average_path_length())"
   ]
  },
  {
   "cell_type": "code",
   "execution_count": null,
   "id": "-3SN_9CIL_ZW",
   "metadata": {
    "id": "-3SN_9CIL_ZW"
   },
   "outputs": [],
   "source": [
    "ad_walk_hz_2=np.mean(ig_g_h.degree())\n",
    "nd_walk_hz_2=ig_g_h.diameter()\n",
    "ad_walk_nat_2=np.mean(ig_g_n.degree())\n",
    "nd_walk_nat_2=ig_g_n.diameter()\n",
    "\n",
    "x_walk_hz_list=[]\n",
    "x_walk_nat_list=[]\n",
    "y_walk_hz_list=[]\n",
    "y_walk_nat_list=[]\n",
    "x_walk_hz_list.append(ad_walk_hz_2)\n",
    "x_walk_nat_list.append(ad_walk_nat_2)\n",
    "y_walk_hz_list.append(nd_walk_hz_2)\n",
    "y_walk_nat_list.append(nd_walk_nat_2)"
   ]
  },
  {
   "cell_type": "markdown",
   "id": "nRo_ayX-MEoC",
   "metadata": {
    "id": "nRo_ayX-MEoC"
   },
   "source": [
    "Running"
   ]
  },
  {
   "cell_type": "code",
   "execution_count": null,
   "id": "avzRA2yqL_dZ",
   "metadata": {
    "id": "avzRA2yqL_dZ"
   },
   "outputs": [],
   "source": [
    "from ts2vg import HorizontalVG\n",
    "import numpy as np\n",
    "g = HorizontalVG()\n",
    "g.build(running['attr_x'][1000:2024])\n",
    "ig_g_h = g.as_igraph()"
   ]
  },
  {
   "cell_type": "code",
   "execution_count": null,
   "id": "WCGBisOOMLgB",
   "metadata": {
    "colab": {
     "base_uri": "https://localhost:8080/"
    },
    "id": "WCGBisOOMLgB",
    "outputId": "21d3fb71-6482-4ff5-ae0c-6f68aae9a20b"
   },
   "outputs": [],
   "source": [
    "print('Number of Nodes:',ig_g_h.vcount())\n",
    "print('Number of Links:',ig_g_h.ecount())\n",
    "print('Average Degree:',np.mean(ig_g_h.degree()))\n",
    "print('Network Diameter:',ig_g_h.diameter())\n",
    "print('Average Path Length:',ig_g_h.average_path_length())"
   ]
  },
  {
   "cell_type": "code",
   "execution_count": null,
   "id": "X5u2GnahMLlV",
   "metadata": {
    "id": "X5u2GnahMLlV"
   },
   "outputs": [],
   "source": [
    "from ts2vg import NaturalVG\n",
    "g = NaturalVG()\n",
    "g.build(running['attr_x'][1000:2024])\n",
    "ig_g_n = g.as_igraph()"
   ]
  },
  {
   "cell_type": "code",
   "execution_count": null,
   "id": "2OQjXXbUMLxu",
   "metadata": {
    "colab": {
     "base_uri": "https://localhost:8080/"
    },
    "id": "2OQjXXbUMLxu",
    "outputId": "751eb0b2-6205-4eb5-f4dc-d20766b1c40f"
   },
   "outputs": [],
   "source": [
    "print('Number of Nodes:',ig_g_n.vcount())\n",
    "print('Number of Links:',ig_g_n.ecount())\n",
    "print('Average Degree:',np.mean(ig_g_n.degree()))\n",
    "print('Network Diameter:',ig_g_n.diameter())\n",
    "print('Average Path Length:',ig_g_n.average_path_length())"
   ]
  },
  {
   "cell_type": "code",
   "execution_count": null,
   "id": "KCF-EGKbL_hi",
   "metadata": {
    "id": "KCF-EGKbL_hi"
   },
   "outputs": [],
   "source": [
    "ad_run_hz_2=np.mean(ig_g_h.degree())\n",
    "nd_run_hz_2=ig_g_h.diameter()\n",
    "ad_run_nat_2=np.mean(ig_g_n.degree())\n",
    "nd_run_nat_2=ig_g_n.diameter()\n",
    "\n",
    "x_run_hz_list=[]\n",
    "x_run_nat_list=[]\n",
    "y_run_hz_list=[]\n",
    "y_run_nat_list=[]\n",
    "x_run_hz_list.append(ad_run_hz_2)\n",
    "x_run_nat_list.append(ad_run_nat_2)\n",
    "y_run_hz_list.append(nd_run_hz_2)\n",
    "y_run_nat_list.append(nd_run_nat_2)"
   ]
  },
  {
   "cell_type": "markdown",
   "id": "2Wtp_llBMXT7",
   "metadata": {
    "id": "2Wtp_llBMXT7"
   },
   "source": [
    "Climbing Down"
   ]
  },
  {
   "cell_type": "code",
   "execution_count": null,
   "id": "83wDpVTKMYjS",
   "metadata": {
    "id": "83wDpVTKMYjS"
   },
   "outputs": [],
   "source": [
    "from ts2vg import HorizontalVG\n",
    "import numpy as np\n",
    "g = HorizontalVG()\n",
    "g.build(climbingdown['attr_x'][1000:2024])\n",
    "ig_g_h = g.as_igraph()"
   ]
  },
  {
   "cell_type": "code",
   "execution_count": null,
   "id": "7MgGtZldMYl2",
   "metadata": {
    "colab": {
     "base_uri": "https://localhost:8080/"
    },
    "id": "7MgGtZldMYl2",
    "outputId": "749b327a-f6c7-48ff-9951-dc3faf91c8f5"
   },
   "outputs": [],
   "source": [
    "print('Number of Nodes:',ig_g_h.vcount())\n",
    "print('Number of Links:',ig_g_h.ecount())\n",
    "print('Average Degree:',np.mean(ig_g_h.degree()))\n",
    "print('Network Diameter:',ig_g_h.diameter())\n",
    "print('Average Path Length:',ig_g_h.average_path_length())"
   ]
  },
  {
   "cell_type": "code",
   "execution_count": null,
   "id": "w-HXd2eGMYqA",
   "metadata": {
    "id": "w-HXd2eGMYqA"
   },
   "outputs": [],
   "source": [
    "from ts2vg import NaturalVG\n",
    "g = NaturalVG()\n",
    "g.build(climbingdown['attr_x'][1000:2024])\n",
    "ig_g_n = g.as_igraph()"
   ]
  },
  {
   "cell_type": "code",
   "execution_count": null,
   "id": "4feHkesaMYsQ",
   "metadata": {
    "colab": {
     "base_uri": "https://localhost:8080/"
    },
    "id": "4feHkesaMYsQ",
    "outputId": "7db7a98a-09c4-44f1-cf71-487ed2a13483"
   },
   "outputs": [],
   "source": [
    "print('Number of Nodes:',ig_g_n.vcount())\n",
    "print('Number of Links:',ig_g_n.ecount())\n",
    "print('Average Degree:',np.mean(ig_g_n.degree()))\n",
    "print('Network Diameter:',ig_g_n.diameter())\n",
    "print('Average Path Length:',ig_g_n.average_path_length())"
   ]
  },
  {
   "cell_type": "code",
   "execution_count": null,
   "id": "vXo9QxN5MYud",
   "metadata": {
    "id": "vXo9QxN5MYud"
   },
   "outputs": [],
   "source": [
    "ad_climbdown_hz_2=np.mean(ig_g_h.degree())\n",
    "nd_climbdown_hz_2=ig_g_h.diameter()\n",
    "ad_climbdown_nat_2=np.mean(ig_g_n.degree())\n",
    "nd_climbdown_nat_2=ig_g_n.diameter()\n",
    "\n",
    "x_climbdown_hz_list=[]\n",
    "x_climbdown_nat_list=[]\n",
    "y_climbdown_hz_list=[]\n",
    "y_climbdown_nat_list=[]\n",
    "x_climbdown_hz_list.append(ad_climbdown_hz_2)\n",
    "x_climbdown_nat_list.append(ad_climbdown_nat_2)\n",
    "y_climbdown_hz_list.append(nd_climbdown_hz_2)\n",
    "y_climbdown_nat_list.append(nd_climbdown_nat_2)"
   ]
  },
  {
   "cell_type": "markdown",
   "id": "C2mSU_xmMji6",
   "metadata": {
    "id": "C2mSU_xmMji6"
   },
   "source": [
    "Cimbing up"
   ]
  },
  {
   "cell_type": "code",
   "execution_count": null,
   "id": "Q4B3z8YZMk2L",
   "metadata": {
    "id": "Q4B3z8YZMk2L"
   },
   "outputs": [],
   "source": [
    "from ts2vg import HorizontalVG\n",
    "import numpy as np\n",
    "g = HorizontalVG()\n",
    "g.build(climbingup['attr_x'][1000:2024])\n",
    "ig_g_h = g.as_igraph()"
   ]
  },
  {
   "cell_type": "code",
   "execution_count": null,
   "id": "gWA7-0qiMk40",
   "metadata": {
    "colab": {
     "base_uri": "https://localhost:8080/"
    },
    "id": "gWA7-0qiMk40",
    "outputId": "0b29906e-6e4f-4d12-fc9c-9805d688e29f"
   },
   "outputs": [],
   "source": [
    "print('Number of Nodes:',ig_g_h.vcount())\n",
    "print('Number of Links:',ig_g_h.ecount())\n",
    "print('Average Degree:',np.mean(ig_g_h.degree()))\n",
    "print('Network Diameter:',ig_g_h.diameter())\n",
    "print('Average Path Length:',ig_g_h.average_path_length())"
   ]
  },
  {
   "cell_type": "code",
   "execution_count": null,
   "id": "_wKBlHX3Mk7z",
   "metadata": {
    "id": "_wKBlHX3Mk7z"
   },
   "outputs": [],
   "source": [
    "from ts2vg import NaturalVG\n",
    "g = NaturalVG()\n",
    "g.build(climbingup['attr_x'][1000:2024])\n",
    "ig_g_n = g.as_igraph()"
   ]
  },
  {
   "cell_type": "code",
   "execution_count": null,
   "id": "eq70JsRnMk98",
   "metadata": {
    "colab": {
     "base_uri": "https://localhost:8080/"
    },
    "id": "eq70JsRnMk98",
    "outputId": "72ee0d7e-a1e7-4861-85de-639e5259860b"
   },
   "outputs": [],
   "source": [
    "print('Number of Nodes:',ig_g_n.vcount())\n",
    "print('Number of Links:',ig_g_n.ecount())\n",
    "print('Average Degree:',np.mean(ig_g_n.degree()))\n",
    "print('Network Diameter:',ig_g_n.diameter())\n",
    "print('Average Path Length:',ig_g_n.average_path_length())"
   ]
  },
  {
   "cell_type": "code",
   "execution_count": null,
   "id": "ufGP_ZgAMlA-",
   "metadata": {
    "id": "ufGP_ZgAMlA-"
   },
   "outputs": [],
   "source": [
    "ad_climbingup_hz_2=np.mean(ig_g_h.degree())\n",
    "nd_climbingup_hz_2=ig_g_h.diameter()\n",
    "ad_climbingup_nat_2=np.mean(ig_g_n.degree())\n",
    "nd_climbingup_nat_2=ig_g_n.diameter()\n",
    "\n",
    "x_climbingup_hz_list=[]\n",
    "x_climbingup_nat_list=[]\n",
    "y_climbingup_hz_list=[]\n",
    "y_climbingup_nat_list=[]\n",
    "x_climbingup_hz_list.append(ad_climbingup_hz_2)\n",
    "x_climbingup_nat_list.append(ad_climbingup_nat_2)\n",
    "y_climbingup_hz_list.append(nd_climbingup_hz_2)\n",
    "y_climbingup_nat_list.append(nd_climbingup_nat_2)"
   ]
  },
  {
   "cell_type": "markdown",
   "id": "_I-XD4LzNMMS",
   "metadata": {
    "id": "_I-XD4LzNMMS"
   },
   "source": [
    "#Subject 3"
   ]
  },
  {
   "cell_type": "code",
   "execution_count": null,
   "id": "aa59d178",
   "metadata": {
    "id": "bfa0e974"
   },
   "outputs": [],
   "source": [
    "import pandas as pd\n",
    "walking = pd.read_csv('acc_walking_chest_7.csv')\n",
    "running = pd.read_csv('acc_running_chest_7.csv')\n",
    "climbingdown = pd.read_csv('acc_climbingdown_chest_7.csv')\n",
    "climbingup = pd.read_csv('acc_climbingup_chest_7.csv')"
   ]
  },
  {
   "cell_type": "markdown",
   "id": "t0IvElCnNN3U",
   "metadata": {
    "id": "t0IvElCnNN3U"
   },
   "source": [
    "Walking"
   ]
  },
  {
   "cell_type": "code",
   "execution_count": null,
   "id": "aJelB0wjNV4e",
   "metadata": {
    "id": "aJelB0wjNV4e"
   },
   "outputs": [],
   "source": [
    "from ts2vg import HorizontalVG\n",
    "import numpy as np\n",
    "g = HorizontalVG()\n",
    "g.build(walking['attr_x'][1000:2024])\n",
    "ig_g_h = g.as_igraph()"
   ]
  },
  {
   "cell_type": "code",
   "execution_count": null,
   "id": "LCZw-yYrNWBc",
   "metadata": {
    "id": "LCZw-yYrNWBc"
   },
   "outputs": [],
   "source": [
    "print('Number of Nodes:',ig_g_h.vcount())\n",
    "print('Number of Links:',ig_g_h.ecount())\n",
    "print('Average Degree:',np.mean(ig_g_h.degree()))\n",
    "print('Network Diameter:',ig_g_h.diameter())\n",
    "print('Average Path Length:',ig_g_h.average_path_length())"
   ]
  },
  {
   "cell_type": "code",
   "execution_count": null,
   "id": "fniZ_E1rNWKL",
   "metadata": {
    "id": "fniZ_E1rNWKL"
   },
   "outputs": [],
   "source": [
    "from ts2vg import NaturalVG\n",
    "g = NaturalVG()\n",
    "g.build(walking['attr_x'][1000:2024])\n",
    "ig_g_n = g.as_igraph()"
   ]
  },
  {
   "cell_type": "code",
   "execution_count": null,
   "id": "h0To4yryNWS1",
   "metadata": {
    "id": "h0To4yryNWS1"
   },
   "outputs": [],
   "source": [
    "print('Number of Nodes:',ig_g_n.vcount())\n",
    "print('Number of Links:',ig_g_n.ecount())\n",
    "print('Average Degree:',np.mean(ig_g_n.degree()))\n",
    "print('Network Diameter:',ig_g_n.diameter())\n",
    "print('Average Path Length:',ig_g_n.average_path_length())"
   ]
  },
  {
   "cell_type": "code",
   "execution_count": null,
   "id": "tMYIPLUaNWce",
   "metadata": {
    "id": "tMYIPLUaNWce"
   },
   "outputs": [],
   "source": [
    "ad_walk_hz_3=np.mean(ig_g_h.degree())\n",
    "nd_walk_hz_3=ig_g_h.diameter()\n",
    "ad_walk_nat_3=np.mean(ig_g_n.degree())\n",
    "nd_walk_nat_3=ig_g_n.diameter()\n",
    "\n",
    "x_walk_hz_list=[]\n",
    "x_walk_nat_list=[]\n",
    "y_walk_hz_list=[]\n",
    "y_walk_nat_list=[]\n",
    "x_walk_hz_list.append(ad_walk_hz_3)\n",
    "x_walk_nat_list.append(ad_walk_nat_3)\n",
    "y_walk_hz_list.append(nd_walk_hz_3)\n",
    "y_walk_nat_list.append(nd_walk_nat_3)"
   ]
  },
  {
   "cell_type": "markdown",
   "id": "azgmh6alNPD5",
   "metadata": {
    "id": "azgmh6alNPD5"
   },
   "source": [
    "Running"
   ]
  },
  {
   "cell_type": "code",
   "execution_count": null,
   "id": "gR3558P8WtpN",
   "metadata": {
    "id": "gR3558P8WtpN"
   },
   "outputs": [],
   "source": [
    "from ts2vg import HorizontalVG\n",
    "import numpy as np\n",
    "g = HorizontalVG()\n",
    "g.build(running['attr_x'][1000:2024])\n",
    "ig_g_h = g.as_igraph()"
   ]
  },
  {
   "cell_type": "code",
   "execution_count": null,
   "id": "Cfc9Z4qyWty5",
   "metadata": {
    "colab": {
     "base_uri": "https://localhost:8080/"
    },
    "id": "Cfc9Z4qyWty5",
    "outputId": "0d900cf0-12fc-4fde-edf3-8980917250be"
   },
   "outputs": [],
   "source": [
    "print('Number of Nodes:',ig_g_h.vcount())\n",
    "print('Number of Links:',ig_g_h.ecount())\n",
    "print('Average Degree:',np.mean(ig_g_h.degree()))\n",
    "print('Network Diameter:',ig_g_h.diameter())\n",
    "print('Average Path Length:',ig_g_h.average_path_length())"
   ]
  },
  {
   "cell_type": "code",
   "execution_count": null,
   "id": "lh1XUAR3Wt6V",
   "metadata": {
    "id": "lh1XUAR3Wt6V"
   },
   "outputs": [],
   "source": [
    "from ts2vg import NaturalVG\n",
    "g = NaturalVG()\n",
    "g.build(running['attr_x'][1000:2024])\n",
    "ig_g_n = g.as_igraph()"
   ]
  },
  {
   "cell_type": "code",
   "execution_count": null,
   "id": "Y0u49kxBWuBJ",
   "metadata": {
    "colab": {
     "base_uri": "https://localhost:8080/"
    },
    "id": "Y0u49kxBWuBJ",
    "outputId": "76d9bae6-96e0-4e0e-cb03-ab7c603a7d44"
   },
   "outputs": [],
   "source": [
    "print('Number of Nodes:',ig_g_n.vcount())\n",
    "print('Number of Links:',ig_g_n.ecount())\n",
    "print('Average Degree:',np.mean(ig_g_n.degree()))\n",
    "print('Network Diameter:',ig_g_n.diameter())\n",
    "print('Average Path Length:',ig_g_n.average_path_length())"
   ]
  },
  {
   "cell_type": "code",
   "execution_count": null,
   "id": "pVUeVcQzWuKK",
   "metadata": {
    "id": "pVUeVcQzWuKK"
   },
   "outputs": [],
   "source": [
    "ad_run_hz_3=np.mean(ig_g_h.degree())\n",
    "nd_run_hz_3=ig_g_h.diameter()\n",
    "ad_run_nat_3=np.mean(ig_g_n.degree())\n",
    "nd_run_nat_3=ig_g_n.diameter()\n",
    "\n",
    "x_run_hz_list=[]\n",
    "x_run_nat_list=[]\n",
    "y_run_hz_list=[]\n",
    "y_run_nat_list=[]\n",
    "x_run_hz_list.append(ad_run_hz_3)\n",
    "x_run_nat_list.append(ad_run_nat_3)\n",
    "y_run_hz_list.append(nd_run_hz_3)\n",
    "y_run_nat_list.append(nd_run_nat_3)"
   ]
  },
  {
   "cell_type": "markdown",
   "id": "Ockp1GSTNPJk",
   "metadata": {
    "id": "Ockp1GSTNPJk"
   },
   "source": [
    "Climbing Down"
   ]
  },
  {
   "cell_type": "code",
   "execution_count": null,
   "id": "67HYqfutXIBh",
   "metadata": {
    "id": "67HYqfutXIBh"
   },
   "outputs": [],
   "source": [
    "from ts2vg import HorizontalVG\n",
    "import numpy as np\n",
    "g = HorizontalVG()\n",
    "g.build(climbingup['attr_x'][1000:2024])\n",
    "ig_g_h = g.as_igraph()"
   ]
  },
  {
   "cell_type": "code",
   "execution_count": null,
   "id": "b3LKFPWSXILV",
   "metadata": {
    "colab": {
     "base_uri": "https://localhost:8080/"
    },
    "id": "b3LKFPWSXILV",
    "outputId": "75033c0b-fe9f-4e80-9f24-f40a4c28b65f"
   },
   "outputs": [],
   "source": [
    "print('Number of Nodes:',ig_g_h.vcount())\n",
    "print('Number of Links:',ig_g_h.ecount())\n",
    "print('Average Degree:',np.mean(ig_g_h.degree()))\n",
    "print('Network Diameter:',ig_g_h.diameter())\n",
    "print('Average Path Length:',ig_g_h.average_path_length())"
   ]
  },
  {
   "cell_type": "code",
   "execution_count": null,
   "id": "_x7pvJ7JXITg",
   "metadata": {
    "id": "_x7pvJ7JXITg"
   },
   "outputs": [],
   "source": [
    "from ts2vg import NaturalVG\n",
    "g = NaturalVG()\n",
    "g.build(climbingup['attr_x'][1000:2024])\n",
    "ig_g_n = g.as_igraph()"
   ]
  },
  {
   "cell_type": "code",
   "execution_count": null,
   "id": "07fLiekVXIcC",
   "metadata": {
    "colab": {
     "base_uri": "https://localhost:8080/"
    },
    "id": "07fLiekVXIcC",
    "outputId": "d777bea5-c0d1-44f2-c477-3e049d21e50e"
   },
   "outputs": [],
   "source": [
    "print('Number of Nodes:',ig_g_n.vcount())\n",
    "print('Number of Links:',ig_g_n.ecount())\n",
    "print('Average Degree:',np.mean(ig_g_n.degree()))\n",
    "print('Network Diameter:',ig_g_n.diameter())\n",
    "print('Average Path Length:',ig_g_n.average_path_length())"
   ]
  },
  {
   "cell_type": "code",
   "execution_count": null,
   "id": "Guyhc5J_XI7L",
   "metadata": {
    "id": "Guyhc5J_XI7L"
   },
   "outputs": [],
   "source": [
    "ad_climbdown_hz_3=np.mean(ig_g_h.degree())\n",
    "nd_climbdown_hz_3=ig_g_h.diameter()\n",
    "ad_climbdown_nat_3=np.mean(ig_g_n.degree())\n",
    "nd_climbdown_nat_3=ig_g_n.diameter()\n",
    "\n",
    "x_climbdown_hz_list=[]\n",
    "x_climbdown_nat_list=[]\n",
    "y_climbdown_hz_list=[]\n",
    "y_climbdown_nat_list=[]\n",
    "x_climbdown_hz_list.append(ad_climbdown_hz_3)\n",
    "x_climbdown_nat_list.append(ad_climbdown_nat_3)\n",
    "y_climbdown_hz_list.append(nd_climbdown_hz_3)\n",
    "y_climbdown_nat_list.append(nd_climbdown_nat_3)"
   ]
  },
  {
   "cell_type": "markdown",
   "id": "qMj2jdMMXf63",
   "metadata": {
    "id": "qMj2jdMMXf63"
   },
   "source": [
    "Climbing Up"
   ]
  },
  {
   "cell_type": "code",
   "execution_count": null,
   "id": "KlECBZBUXheE",
   "metadata": {
    "id": "KlECBZBUXheE"
   },
   "outputs": [],
   "source": [
    "from ts2vg import HorizontalVG\n",
    "import numpy as np\n",
    "g = HorizontalVG()\n",
    "g.build(climbingup['attr_x'][1000:2024])\n",
    "ig_g_h = g.as_igraph()"
   ]
  },
  {
   "cell_type": "code",
   "execution_count": null,
   "id": "5NfDMGryXhkv",
   "metadata": {
    "colab": {
     "base_uri": "https://localhost:8080/"
    },
    "id": "5NfDMGryXhkv",
    "outputId": "43ee1053-004e-4ff7-96ea-93e1269a7713"
   },
   "outputs": [],
   "source": [
    "print('Number of Nodes:',ig_g_h.vcount())\n",
    "print('Number of Links:',ig_g_h.ecount())\n",
    "print('Average Degree:',np.mean(ig_g_h.degree()))\n",
    "print('Network Diameter:',ig_g_h.diameter())\n",
    "print('Average Path Length:',ig_g_h.average_path_length())"
   ]
  },
  {
   "cell_type": "code",
   "execution_count": null,
   "id": "IE-jf_xZXhrt",
   "metadata": {
    "id": "IE-jf_xZXhrt"
   },
   "outputs": [],
   "source": [
    "from ts2vg import NaturalVG\n",
    "g = NaturalVG()\n",
    "g.build(climbingup['attr_x'][1000:2024])\n",
    "ig_g_n = g.as_igraph()"
   ]
  },
  {
   "cell_type": "code",
   "execution_count": null,
   "id": "HUocpwb7XhyA",
   "metadata": {
    "colab": {
     "base_uri": "https://localhost:8080/"
    },
    "id": "HUocpwb7XhyA",
    "outputId": "fc4a8036-f391-463f-9f0a-926d4e0867be"
   },
   "outputs": [],
   "source": [
    "print('Number of Nodes:',ig_g_n.vcount())\n",
    "print('Number of Links:',ig_g_n.ecount())\n",
    "print('Average Degree:',np.mean(ig_g_n.degree()))\n",
    "print('Network Diameter:',ig_g_n.diameter())\n",
    "print('Average Path Length:',ig_g_n.average_path_length())"
   ]
  },
  {
   "cell_type": "code",
   "execution_count": null,
   "id": "_6vB1OvnXh52",
   "metadata": {
    "id": "_6vB1OvnXh52"
   },
   "outputs": [],
   "source": [
    "ad_climbingup_hz_3=np.mean(ig_g_h.degree())\n",
    "nd_climbingup_hz_3=ig_g_h.diameter()\n",
    "ad_climbingup_nat_3=np.mean(ig_g_n.degree())\n",
    "nd_climbingup_nat_3=ig_g_n.diameter()\n",
    "\n",
    "x_climbingup_hz_list=[]\n",
    "x_climbingup_nat_list=[]\n",
    "y_climbingup_hz_list=[]\n",
    "y_climbingup_nat_list=[]\n",
    "x_climbingup_hz_list.append(ad_climbingup_hz_3)\n",
    "x_climbingup_nat_list.append(ad_climbingup_nat_3)\n",
    "y_climbingup_hz_list.append(nd_climbingup_hz_3)\n",
    "y_climbingup_nat_list.append(nd_climbingup_nat_3)"
   ]
  },
  {
   "cell_type": "markdown",
   "id": "TZNsK6owNPbF",
   "metadata": {
    "id": "TZNsK6owNPbF"
   },
   "source": [
    "#Subject 4"
   ]
  },
  {
   "cell_type": "code",
   "execution_count": null,
   "id": "fd19b907",
   "metadata": {
    "id": "bfa0e974"
   },
   "outputs": [],
   "source": [
    "import pandas as pd\n",
    "walking = pd.read_csv('acc_walking_chest_7.csv')\n",
    "running = pd.read_csv('acc_running_chest_7.csv')\n",
    "climbingdown = pd.read_csv('acc_climbingdown_chest_7.csv')\n",
    "climbingup = pd.read_csv('acc_climbingup_chest_7.csv')"
   ]
  },
  {
   "cell_type": "markdown",
   "id": "ZjEf_yZJX74l",
   "metadata": {
    "id": "ZjEf_yZJX74l"
   },
   "source": [
    "Walking"
   ]
  },
  {
   "cell_type": "code",
   "execution_count": null,
   "id": "DBna8CEzYC7_",
   "metadata": {
    "id": "DBna8CEzYC7_"
   },
   "outputs": [],
   "source": [
    "from ts2vg import HorizontalVG\n",
    "import numpy as np\n",
    "g = HorizontalVG()\n",
    "g.build(walking['attr_x'][1000:2024])\n",
    "ig_g_h = g.as_igraph()"
   ]
  },
  {
   "cell_type": "code",
   "execution_count": null,
   "id": "5gWpUIYaYC_q",
   "metadata": {
    "colab": {
     "base_uri": "https://localhost:8080/"
    },
    "id": "5gWpUIYaYC_q",
    "outputId": "507e307a-db50-494c-f958-0a36eff393d2"
   },
   "outputs": [],
   "source": [
    "print('Number of Nodes:',ig_g_h.vcount())\n",
    "print('Number of Links:',ig_g_h.ecount())\n",
    "print('Average Degree:',np.mean(ig_g_h.degree()))\n",
    "print('Network Diameter:',ig_g_h.diameter())\n",
    "print('Average Path Length:',ig_g_h.average_path_length())"
   ]
  },
  {
   "cell_type": "code",
   "execution_count": null,
   "id": "_tVo0iLHYDFF",
   "metadata": {
    "id": "_tVo0iLHYDFF"
   },
   "outputs": [],
   "source": [
    "from ts2vg import NaturalVG\n",
    "g = NaturalVG()\n",
    "g.build(walking['attr_x'][1000:2024])\n",
    "ig_g_n = g.as_igraph()"
   ]
  },
  {
   "cell_type": "code",
   "execution_count": null,
   "id": "vUoybV3dYDHz",
   "metadata": {
    "colab": {
     "base_uri": "https://localhost:8080/"
    },
    "id": "vUoybV3dYDHz",
    "outputId": "786745a0-506d-4d58-a7c5-eb5beb35f4a5"
   },
   "outputs": [],
   "source": [
    "print('Number of Nodes:',ig_g_n.vcount())\n",
    "print('Number of Links:',ig_g_n.ecount())\n",
    "print('Average Degree:',np.mean(ig_g_n.degree()))\n",
    "print('Network Diameter:',ig_g_n.diameter())\n",
    "print('Average Path Length:',ig_g_n.average_path_length())"
   ]
  },
  {
   "cell_type": "code",
   "execution_count": null,
   "id": "UOTyflSBYDRt",
   "metadata": {
    "id": "UOTyflSBYDRt"
   },
   "outputs": [],
   "source": [
    "ad_walk_hz_4=np.mean(ig_g_h.degree())\n",
    "nd_walk_hz_4=ig_g_h.diameter()\n",
    "ad_walk_nat_4=np.mean(ig_g_n.degree())\n",
    "nd_walk_nat_4=ig_g_n.diameter()\n",
    "\n",
    "x_walk_hz_list=[]\n",
    "x_walk_nat_list=[]\n",
    "y_walk_hz_list=[]\n",
    "y_walk_nat_list=[]\n",
    "x_walk_hz_list.append(ad_walk_hz_4)\n",
    "x_walk_nat_list.append(ad_walk_nat_4)\n",
    "y_walk_hz_list.append(nd_walk_hz_4)\n",
    "y_walk_nat_list.append(nd_walk_nat_4)"
   ]
  },
  {
   "cell_type": "markdown",
   "id": "v94kZHMaX8_0",
   "metadata": {
    "id": "v94kZHMaX8_0"
   },
   "source": [
    "Running"
   ]
  },
  {
   "cell_type": "code",
   "execution_count": null,
   "id": "kHpIFEa6Yin6",
   "metadata": {
    "id": "kHpIFEa6Yin6"
   },
   "outputs": [],
   "source": [
    "from ts2vg import HorizontalVG\n",
    "import numpy as np\n",
    "g = HorizontalVG()\n",
    "g.build(running['attr_x'][1000:2024])\n",
    "ig_g_h = g.as_igraph()"
   ]
  },
  {
   "cell_type": "code",
   "execution_count": null,
   "id": "9R_hcaB6Yix5",
   "metadata": {
    "colab": {
     "base_uri": "https://localhost:8080/"
    },
    "id": "9R_hcaB6Yix5",
    "outputId": "627792a1-0030-4d13-834f-fe53848b8684"
   },
   "outputs": [],
   "source": [
    "print('Number of Nodes:',ig_g_h.vcount())\n",
    "print('Number of Links:',ig_g_h.ecount())\n",
    "print('Average Degree:',np.mean(ig_g_h.degree()))\n",
    "print('Network Diameter:',ig_g_h.diameter())\n",
    "print('Average Path Length:',ig_g_h.average_path_length())"
   ]
  },
  {
   "cell_type": "code",
   "execution_count": null,
   "id": "Fci8Lx-lYi5e",
   "metadata": {
    "id": "Fci8Lx-lYi5e"
   },
   "outputs": [],
   "source": [
    "from ts2vg import NaturalVG\n",
    "g = NaturalVG()\n",
    "g.build(running['attr_x'][1000:2024])\n",
    "ig_g_n = g.as_igraph()"
   ]
  },
  {
   "cell_type": "code",
   "execution_count": null,
   "id": "Pn7IFNtLYjDE",
   "metadata": {
    "colab": {
     "base_uri": "https://localhost:8080/"
    },
    "id": "Pn7IFNtLYjDE",
    "outputId": "25ff9faa-f4ac-4e52-be24-2cb97cecd89f"
   },
   "outputs": [],
   "source": [
    "print('Number of Nodes:',ig_g_n.vcount())\n",
    "print('Number of Links:',ig_g_n.ecount())\n",
    "print('Average Degree:',np.mean(ig_g_n.degree()))\n",
    "print('Network Diameter:',ig_g_n.diameter())\n",
    "print('Average Path Length:',ig_g_n.average_path_length())"
   ]
  },
  {
   "cell_type": "code",
   "execution_count": null,
   "id": "vpNthFVIYjL2",
   "metadata": {
    "id": "vpNthFVIYjL2"
   },
   "outputs": [],
   "source": [
    "ad_run_hz_4=np.mean(ig_g_h.degree())\n",
    "nd_run_hz_4=ig_g_h.diameter()\n",
    "ad_run_nat_4=np.mean(ig_g_n.degree())\n",
    "nd_run_nat_4=ig_g_n.diameter()\n",
    "\n",
    "x_run_hz_list=[]\n",
    "x_run_nat_list=[]\n",
    "y_run_hz_list=[]\n",
    "y_run_nat_list=[]\n",
    "x_run_hz_list.append(ad_run_hz_4)\n",
    "x_run_nat_list.append(ad_run_nat_4)\n",
    "y_run_hz_list.append(nd_run_hz_4)\n",
    "y_run_nat_list.append(nd_run_nat_4)"
   ]
  },
  {
   "cell_type": "markdown",
   "id": "K1vVjG7kX9Gq",
   "metadata": {
    "id": "K1vVjG7kX9Gq"
   },
   "source": [
    "Climbing Down"
   ]
  },
  {
   "cell_type": "code",
   "execution_count": null,
   "id": "Aj95A_EeZAfm",
   "metadata": {
    "id": "Aj95A_EeZAfm"
   },
   "outputs": [],
   "source": [
    "from ts2vg import HorizontalVG\n",
    "import numpy as np\n",
    "g = HorizontalVG()\n",
    "g.build(climbingdown['attr_x'][1000:2024])\n",
    "ig_g_h = g.as_igraph()"
   ]
  },
  {
   "cell_type": "code",
   "execution_count": null,
   "id": "WYQK2nwyZAnv",
   "metadata": {
    "colab": {
     "base_uri": "https://localhost:8080/"
    },
    "id": "WYQK2nwyZAnv",
    "outputId": "8d8a138a-e948-41ae-9c39-5a121eaa7ae5"
   },
   "outputs": [],
   "source": [
    "print('Number of Nodes:',ig_g_h.vcount())\n",
    "print('Number of Links:',ig_g_h.ecount())\n",
    "print('Average Degree:',np.mean(ig_g_h.degree()))\n",
    "print('Network Diameter:',ig_g_h.diameter())\n",
    "print('Average Path Length:',ig_g_h.average_path_length())"
   ]
  },
  {
   "cell_type": "code",
   "execution_count": null,
   "id": "NeXLBwNPZAv6",
   "metadata": {
    "id": "NeXLBwNPZAv6"
   },
   "outputs": [],
   "source": [
    "from ts2vg import NaturalVG\n",
    "g = NaturalVG()\n",
    "g.build(climbingdown['attr_x'][1000:2024])\n",
    "ig_g_n = g.as_igraph()"
   ]
  },
  {
   "cell_type": "code",
   "execution_count": null,
   "id": "UN-MMJAaZA4l",
   "metadata": {
    "colab": {
     "base_uri": "https://localhost:8080/"
    },
    "id": "UN-MMJAaZA4l",
    "outputId": "b9e01722-d396-49fa-a19f-69d763b54b05"
   },
   "outputs": [],
   "source": [
    "print('Number of Nodes:',ig_g_n.vcount())\n",
    "print('Number of Links:',ig_g_n.ecount())\n",
    "print('Average Degree:',np.mean(ig_g_n.degree()))\n",
    "print('Network Diameter:',ig_g_n.diameter())\n",
    "print('Average Path Length:',ig_g_n.average_path_length())"
   ]
  },
  {
   "cell_type": "code",
   "execution_count": null,
   "id": "NKkH2ZVZZA_p",
   "metadata": {
    "id": "NKkH2ZVZZA_p"
   },
   "outputs": [],
   "source": [
    "ad_climbdown_hz_4=np.mean(ig_g_h.degree())\n",
    "nd_climbdown_hz_4=ig_g_h.diameter()\n",
    "ad_climbdown_nat_4=np.mean(ig_g_n.degree())\n",
    "nd_climbdown_nat_4=ig_g_n.diameter()\n",
    "\n",
    "x_climbdown_hz_list=[]\n",
    "x_climbdown_nat_list=[]\n",
    "y_climbdown_hz_list=[]\n",
    "y_climbdown_nat_list=[]\n",
    "x_climbdown_hz_list.append(ad_climbdown_hz_4)\n",
    "x_climbdown_nat_list.append(ad_climbdown_nat_4)\n",
    "y_climbdown_hz_list.append(nd_climbdown_hz_4)\n",
    "y_climbdown_nat_list.append(nd_climbdown_nat_4)"
   ]
  },
  {
   "cell_type": "markdown",
   "id": "Q_uUN_vOY-0q",
   "metadata": {
    "id": "Q_uUN_vOY-0q"
   },
   "source": [
    "Climbing Up"
   ]
  },
  {
   "cell_type": "code",
   "execution_count": null,
   "id": "dQy7ngrBZq4h",
   "metadata": {
    "id": "dQy7ngrBZq4h"
   },
   "outputs": [],
   "source": [
    "from ts2vg import HorizontalVG\n",
    "import numpy as np\n",
    "g = HorizontalVG()\n",
    "g.build(climbingup['attr_x'][1000:2024])\n",
    "ig_g_h = g.as_igraph()"
   ]
  },
  {
   "cell_type": "code",
   "execution_count": null,
   "id": "rBZXaXFJZrEN",
   "metadata": {
    "id": "rBZXaXFJZrEN"
   },
   "outputs": [],
   "source": [
    "print('Number of Nodes:',ig_g_h.vcount())\n",
    "print('Number of Links:',ig_g_h.ecount())\n",
    "print('Average Degree:',np.mean(ig_g_h.degree()))\n",
    "print('Network Diameter:',ig_g_h.diameter())\n",
    "print('Average Path Length:',ig_g_h.average_path_length())"
   ]
  },
  {
   "cell_type": "code",
   "execution_count": null,
   "id": "VXoDT5SBZrLO",
   "metadata": {
    "id": "VXoDT5SBZrLO"
   },
   "outputs": [],
   "source": [
    "from ts2vg import NaturalVG\n",
    "g = NaturalVG()\n",
    "g.build(climbingup['attr_x'][1000:2024])\n",
    "ig_g_n = g.as_igraph()"
   ]
  },
  {
   "cell_type": "code",
   "execution_count": null,
   "id": "UFRvH9qrZrUE",
   "metadata": {
    "id": "UFRvH9qrZrUE"
   },
   "outputs": [],
   "source": [
    "print('Number of Nodes:',ig_g_n.vcount())\n",
    "print('Number of Links:',ig_g_n.ecount())\n",
    "print('Average Degree:',np.mean(ig_g_n.degree()))\n",
    "print('Network Diameter:',ig_g_n.diameter())\n",
    "print('Average Path Length:',ig_g_n.average_path_length())"
   ]
  },
  {
   "cell_type": "code",
   "execution_count": null,
   "id": "juugsDdkZrdq",
   "metadata": {
    "id": "juugsDdkZrdq"
   },
   "outputs": [],
   "source": [
    "ad_climbingup_hz_4=np.mean(ig_g_h.degree())\n",
    "nd_climbingup_hz_4=ig_g_h.diameter()\n",
    "ad_climbingup_nat_4=np.mean(ig_g_n.degree())\n",
    "nd_climbingup_nat_4=ig_g_n.diameter()\n",
    "\n",
    "x_climbingup_hz_list=[]\n",
    "x_climbingup_nat_list=[]\n",
    "y_climbingup_hz_list=[]\n",
    "y_climbingup_nat_list=[]\n",
    "x_climbingup_hz_list.append(ad_climbingup_hz_4)\n",
    "x_climbingup_nat_list.append(ad_climbingup_nat_4)\n",
    "y_climbingup_hz_list.append(nd_climbingup_hz_4)\n",
    "y_climbingup_nat_list.append(nd_climbingup_nat_4)"
   ]
  },
  {
   "cell_type": "markdown",
   "id": "sYvRI465aAaA",
   "metadata": {
    "id": "sYvRI465aAaA"
   },
   "source": [
    "#Subject 5"
   ]
  },
  {
   "cell_type": "code",
   "execution_count": null,
   "id": "b1348dad",
   "metadata": {
    "id": "bfa0e974"
   },
   "outputs": [],
   "source": [
    "import pandas as pd\n",
    "walking = pd.read_csv('acc_walking_chest_7.csv')\n",
    "running = pd.read_csv('acc_running_chest_7.csv')\n",
    "climbingdown = pd.read_csv('acc_climbingdown_chest_7.csv')\n",
    "climbingup = pd.read_csv('acc_climbingup_chest_7.csv')"
   ]
  },
  {
   "cell_type": "markdown",
   "id": "CbJd_RmfaAhm",
   "metadata": {
    "id": "CbJd_RmfaAhm"
   },
   "source": [
    "Walking"
   ]
  },
  {
   "cell_type": "code",
   "execution_count": null,
   "id": "nVBVEfbxaH10",
   "metadata": {
    "id": "nVBVEfbxaH10"
   },
   "outputs": [],
   "source": [
    "from ts2vg import HorizontalVG\n",
    "import numpy as np\n",
    "g = HorizontalVG()\n",
    "g.build(walking['attr_x'][1000:2024])\n",
    "ig_g_h = g.as_igraph()"
   ]
  },
  {
   "cell_type": "code",
   "execution_count": null,
   "id": "WY4-03E2aH9F",
   "metadata": {
    "colab": {
     "base_uri": "https://localhost:8080/"
    },
    "id": "WY4-03E2aH9F",
    "outputId": "a3d58572-31ab-4c13-f813-6ae887dfcd49"
   },
   "outputs": [],
   "source": [
    "print('Number of Nodes:',ig_g_h.vcount())\n",
    "print('Number of Links:',ig_g_h.ecount())\n",
    "print('Average Degree:',np.mean(ig_g_h.degree()))\n",
    "print('Network Diameter:',ig_g_h.diameter())\n",
    "print('Average Path Length:',ig_g_h.average_path_length())"
   ]
  },
  {
   "cell_type": "code",
   "execution_count": null,
   "id": "RXINuJsiaIFH",
   "metadata": {
    "id": "RXINuJsiaIFH"
   },
   "outputs": [],
   "source": [
    "from ts2vg import NaturalVG\n",
    "g = NaturalVG()\n",
    "g.build(walking['attr_x'][1000:2024])\n",
    "ig_g_n = g.as_igraph()"
   ]
  },
  {
   "cell_type": "code",
   "execution_count": null,
   "id": "ATeHxM2paINA",
   "metadata": {
    "colab": {
     "base_uri": "https://localhost:8080/"
    },
    "id": "ATeHxM2paINA",
    "outputId": "4aec32e9-4cd1-4979-c1e2-a506f2a57a0d"
   },
   "outputs": [],
   "source": [
    "print('Number of Nodes:',ig_g_n.vcount())\n",
    "print('Number of Links:',ig_g_n.ecount())\n",
    "print('Average Degree:',np.mean(ig_g_n.degree()))\n",
    "print('Network Diameter:',ig_g_n.diameter())\n",
    "print('Average Path Length:',ig_g_n.average_path_length())"
   ]
  },
  {
   "cell_type": "code",
   "execution_count": null,
   "id": "epTA7F60aIUo",
   "metadata": {
    "id": "epTA7F60aIUo"
   },
   "outputs": [],
   "source": [
    "ad_walk_hz_5=np.mean(ig_g_h.degree())\n",
    "nd_walk_hz_5=ig_g_h.diameter()\n",
    "ad_walk_nat_5=np.mean(ig_g_n.degree())\n",
    "nd_walk_nat_5=ig_g_n.diameter()\n",
    "\n",
    "x_walk_hz_list=[]\n",
    "x_walk_nat_list=[]\n",
    "y_walk_hz_list=[]\n",
    "y_walk_nat_list=[]\n",
    "x_walk_hz_list.append(ad_walk_hz_5)\n",
    "x_walk_nat_list.append(ad_walk_nat_5)\n",
    "y_walk_hz_list.append(nd_walk_hz_5)\n",
    "y_walk_nat_list.append(nd_walk_nat_5)"
   ]
  },
  {
   "cell_type": "markdown",
   "id": "pr68tjCAaC3_",
   "metadata": {
    "id": "pr68tjCAaC3_"
   },
   "source": [
    "Running"
   ]
  },
  {
   "cell_type": "code",
   "execution_count": null,
   "id": "01v7VsFUalC0",
   "metadata": {
    "id": "01v7VsFUalC0"
   },
   "outputs": [],
   "source": [
    "from ts2vg import HorizontalVG\n",
    "import numpy as np\n",
    "g = HorizontalVG()\n",
    "g.build(running['attr_x'][1000:2024])\n",
    "ig_g_h = g.as_igraph()"
   ]
  },
  {
   "cell_type": "code",
   "execution_count": null,
   "id": "bspVUebPalVr",
   "metadata": {
    "colab": {
     "base_uri": "https://localhost:8080/"
    },
    "id": "bspVUebPalVr",
    "outputId": "5db1ed6c-c987-4a3e-ffb4-2f0505131d3c"
   },
   "outputs": [],
   "source": [
    "print('Number of Nodes:',ig_g_h.vcount())\n",
    "print('Number of Links:',ig_g_h.ecount())\n",
    "print('Average Degree:',np.mean(ig_g_h.degree()))\n",
    "print('Network Diameter:',ig_g_h.diameter())\n",
    "print('Average Path Length:',ig_g_h.average_path_length())"
   ]
  },
  {
   "cell_type": "code",
   "execution_count": null,
   "id": "jvEz0RaJalie",
   "metadata": {
    "id": "jvEz0RaJalie"
   },
   "outputs": [],
   "source": [
    "from ts2vg import NaturalVG\n",
    "g = NaturalVG()\n",
    "g.build(running['attr_x'][1000:2024])\n",
    "ig_g_n = g.as_igraph()"
   ]
  },
  {
   "cell_type": "code",
   "execution_count": null,
   "id": "IVYSQb8salr9",
   "metadata": {
    "colab": {
     "base_uri": "https://localhost:8080/"
    },
    "id": "IVYSQb8salr9",
    "outputId": "3f510fc2-cb03-4c29-c8fe-20ac8e57928f"
   },
   "outputs": [],
   "source": [
    "print('Number of Nodes:',ig_g_n.vcount())\n",
    "print('Number of Links:',ig_g_n.ecount())\n",
    "print('Average Degree:',np.mean(ig_g_n.degree()))\n",
    "print('Network Diameter:',ig_g_n.diameter())\n",
    "print('Average Path Length:',ig_g_n.average_path_length())"
   ]
  },
  {
   "cell_type": "code",
   "execution_count": null,
   "id": "FzL6kP1damAV",
   "metadata": {
    "id": "FzL6kP1damAV"
   },
   "outputs": [],
   "source": [
    "ad_run_hz_5=np.mean(ig_g_h.degree())\n",
    "nd_run_hz_5=ig_g_h.diameter()\n",
    "ad_run_nat_5=np.mean(ig_g_n.degree())\n",
    "nd_run_nat_5=ig_g_n.diameter()\n",
    "\n",
    "x_run_hz_list=[]\n",
    "x_run_nat_list=[]\n",
    "y_run_hz_list=[]\n",
    "y_run_nat_list=[]\n",
    "x_run_hz_list.append(ad_run_hz_5)\n",
    "x_run_nat_list.append(ad_run_nat_5)\n",
    "y_run_hz_list.append(nd_run_hz_5)\n",
    "y_run_nat_list.append(nd_run_nat_5)"
   ]
  },
  {
   "cell_type": "markdown",
   "id": "bIKBfQWUaC-A",
   "metadata": {
    "id": "bIKBfQWUaC-A"
   },
   "source": [
    "Climbing Down"
   ]
  },
  {
   "cell_type": "code",
   "execution_count": null,
   "id": "-f17rrKdam9c",
   "metadata": {
    "id": "-f17rrKdam9c"
   },
   "outputs": [],
   "source": [
    "from ts2vg import HorizontalVG\n",
    "import numpy as np\n",
    "g = HorizontalVG()\n",
    "g.build(climbingdown['attr_x'][1000:2024])\n",
    "ig_g_h = g.as_igraph()"
   ]
  },
  {
   "cell_type": "code",
   "execution_count": null,
   "id": "7nIFEqT6anG0",
   "metadata": {
    "colab": {
     "base_uri": "https://localhost:8080/"
    },
    "id": "7nIFEqT6anG0",
    "outputId": "ebece084-6890-451c-c607-c2ee538e9dcb"
   },
   "outputs": [],
   "source": [
    "print('Number of Nodes:',ig_g_h.vcount())\n",
    "print('Number of Links:',ig_g_h.ecount())\n",
    "print('Average Degree:',np.mean(ig_g_h.degree()))\n",
    "print('Network Diameter:',ig_g_h.diameter())\n",
    "print('Average Path Length:',ig_g_h.average_path_length())"
   ]
  },
  {
   "cell_type": "code",
   "execution_count": null,
   "id": "LbAu6T7JanOl",
   "metadata": {
    "id": "LbAu6T7JanOl"
   },
   "outputs": [],
   "source": [
    "from ts2vg import NaturalVG\n",
    "g = NaturalVG()\n",
    "g.build(climbingdown['attr_x'][1000:2024])\n",
    "ig_g_n = g.as_igraph()"
   ]
  },
  {
   "cell_type": "code",
   "execution_count": null,
   "id": "pb3wwnBLanV_",
   "metadata": {
    "colab": {
     "base_uri": "https://localhost:8080/"
    },
    "id": "pb3wwnBLanV_",
    "outputId": "c628ce09-5250-4c8b-819e-5963df07fcf9"
   },
   "outputs": [],
   "source": [
    "print('Number of Nodes:',ig_g_n.vcount())\n",
    "print('Number of Links:',ig_g_n.ecount())\n",
    "print('Average Degree:',np.mean(ig_g_n.degree()))\n",
    "print('Network Diameter:',ig_g_n.diameter())\n",
    "print('Average Path Length:',ig_g_n.average_path_length())"
   ]
  },
  {
   "cell_type": "code",
   "execution_count": null,
   "id": "xSPSsMkPaneq",
   "metadata": {
    "id": "xSPSsMkPaneq"
   },
   "outputs": [],
   "source": [
    "ad_climbdown_hz_5=np.mean(ig_g_h.degree())\n",
    "nd_climbdown_hz_5=ig_g_h.diameter()\n",
    "ad_climbdown_nat_5=np.mean(ig_g_n.degree())\n",
    "nd_climbdown_nat_5=ig_g_n.diameter()\n",
    "\n",
    "x_climbdown_hz_list=[]\n",
    "x_climbdown_nat_list=[]\n",
    "y_climbdown_hz_list=[]\n",
    "y_climbdown_nat_list=[]\n",
    "x_climbdown_hz_list.append(ad_climbdown_hz_5)\n",
    "x_climbdown_nat_list.append(ad_climbdown_nat_5)\n",
    "y_climbdown_hz_list.append(nd_climbdown_hz_5)\n",
    "y_climbdown_nat_list.append(nd_climbdown_nat_5)"
   ]
  },
  {
   "cell_type": "markdown",
   "id": "npwqb8KtaDHI",
   "metadata": {
    "id": "npwqb8KtaDHI"
   },
   "source": [
    "Climbing Up"
   ]
  },
  {
   "cell_type": "code",
   "execution_count": null,
   "id": "Xya1-lC7aom9",
   "metadata": {
    "id": "Xya1-lC7aom9"
   },
   "outputs": [],
   "source": [
    "from ts2vg import HorizontalVG\n",
    "import numpy as np\n",
    "g = HorizontalVG()\n",
    "g.build(climbingup['attr_x'][1000:2024])\n",
    "ig_g_h = g.as_igraph()"
   ]
  },
  {
   "cell_type": "code",
   "execution_count": null,
   "id": "jXydGBVmaovY",
   "metadata": {
    "colab": {
     "base_uri": "https://localhost:8080/"
    },
    "id": "jXydGBVmaovY",
    "outputId": "8bb98850-391f-4973-8f53-ad4301abd642"
   },
   "outputs": [],
   "source": [
    "print('Number of Nodes:',ig_g_h.vcount())\n",
    "print('Number of Links:',ig_g_h.ecount())\n",
    "print('Average Degree:',np.mean(ig_g_h.degree()))\n",
    "print('Network Diameter:',ig_g_h.diameter())\n",
    "print('Average Path Length:',ig_g_h.average_path_length())"
   ]
  },
  {
   "cell_type": "code",
   "execution_count": null,
   "id": "gJNxzJnJao14",
   "metadata": {
    "id": "gJNxzJnJao14"
   },
   "outputs": [],
   "source": [
    "from ts2vg import NaturalVG\n",
    "g = NaturalVG()\n",
    "g.build(climbingup['attr_x'][1000:2024])\n",
    "ig_g_n = g.as_igraph()"
   ]
  },
  {
   "cell_type": "code",
   "execution_count": null,
   "id": "vnrRY-9_apHa",
   "metadata": {
    "colab": {
     "base_uri": "https://localhost:8080/"
    },
    "id": "vnrRY-9_apHa",
    "outputId": "676945df-2df5-4ff4-e121-846436e1df7b"
   },
   "outputs": [],
   "source": [
    "print('Number of Nodes:',ig_g_n.vcount())\n",
    "print('Number of Links:',ig_g_n.ecount())\n",
    "print('Average Degree:',np.mean(ig_g_n.degree()))\n",
    "print('Network Diameter:',ig_g_n.diameter())\n",
    "print('Average Path Length:',ig_g_n.average_path_length())"
   ]
  },
  {
   "cell_type": "code",
   "execution_count": null,
   "id": "tKouBWq2apQE",
   "metadata": {
    "id": "tKouBWq2apQE"
   },
   "outputs": [],
   "source": [
    "ad_climbingup_hz_5=np.mean(ig_g_h.degree())\n",
    "nd_climbingup_hz_5=ig_g_h.diameter()\n",
    "ad_climbingup_nat_5=np.mean(ig_g_n.degree())\n",
    "nd_climbingup_nat_5=ig_g_n.diameter()\n",
    "\n",
    "x_climbingup_hz_list=[]\n",
    "x_climbingup_nat_list=[]\n",
    "y_climbingup_hz_list=[]\n",
    "y_climbingup_nat_list=[]\n",
    "x_climbingup_hz_list.append(ad_climbingup_hz_5)\n",
    "x_climbingup_nat_list.append(ad_climbingup_nat_5)\n",
    "y_climbingup_hz_list.append(nd_climbingup_hz_5)\n",
    "y_climbingup_nat_list.append(nd_climbingup_nat_5)"
   ]
  },
  {
   "cell_type": "markdown",
   "id": "p2HQEpkAlAci",
   "metadata": {
    "id": "p2HQEpkAlAci"
   },
   "source": [
    "#Subject 6"
   ]
  },
  {
   "cell_type": "markdown",
   "id": "94DVJ-UvlAkV",
   "metadata": {
    "id": "94DVJ-UvlAkV"
   },
   "source": [
    "Walking"
   ]
  },
  {
   "cell_type": "code",
   "execution_count": null,
   "id": "q5S3ymbUlIUj",
   "metadata": {
    "id": "q5S3ymbUlIUj"
   },
   "outputs": [],
   "source": [
    "from ts2vg import HorizontalVG\n",
    "import numpy as np\n",
    "g = HorizontalVG()\n",
    "g.build(walking['attr_x'][1000:2024])\n",
    "ig_g_h = g.as_igraph()"
   ]
  },
  {
   "cell_type": "code",
   "execution_count": null,
   "id": "4SzR9bDulIbg",
   "metadata": {
    "colab": {
     "base_uri": "https://localhost:8080/"
    },
    "id": "4SzR9bDulIbg",
    "outputId": "7614d811-628a-4c7c-87dd-460f8e60ad00"
   },
   "outputs": [],
   "source": [
    "print('Number of Nodes:',ig_g_h.vcount())\n",
    "print('Number of Links:',ig_g_h.ecount())\n",
    "print('Average Degree:',np.mean(ig_g_h.degree()))\n",
    "print('Network Diameter:',ig_g_h.diameter())\n",
    "print('Average Path Length:',ig_g_h.average_path_length())"
   ]
  },
  {
   "cell_type": "code",
   "execution_count": null,
   "id": "PhtyuMqQlIi1",
   "metadata": {
    "id": "PhtyuMqQlIi1"
   },
   "outputs": [],
   "source": [
    "from ts2vg import NaturalVG\n",
    "g = NaturalVG()\n",
    "g.build(walking['attr_x'][1000:2024])\n",
    "ig_g_n = g.as_igraph()"
   ]
  },
  {
   "cell_type": "code",
   "execution_count": null,
   "id": "alLyjn1ilIrj",
   "metadata": {
    "colab": {
     "base_uri": "https://localhost:8080/"
    },
    "id": "alLyjn1ilIrj",
    "outputId": "2c6b8ee1-1428-42c3-bfa9-f3f011477a20"
   },
   "outputs": [],
   "source": [
    "print('Number of Nodes:',ig_g_n.vcount())\n",
    "print('Number of Links:',ig_g_n.ecount())\n",
    "print('Average Degree:',np.mean(ig_g_n.degree()))\n",
    "print('Network Diameter:',ig_g_n.diameter())\n",
    "print('Average Path Length:',ig_g_n.average_path_length())"
   ]
  },
  {
   "cell_type": "code",
   "execution_count": null,
   "id": "EqaAyfkjlI0D",
   "metadata": {
    "id": "EqaAyfkjlI0D"
   },
   "outputs": [],
   "source": [
    "ad_walk_hz_6=np.mean(ig_g_h.degree())\n",
    "nd_walk_hz_6=ig_g_h.diameter()\n",
    "ad_walk_nat_6=np.mean(ig_g_n.degree())\n",
    "nd_walk_nat_6=ig_g_n.diameter()\n",
    "\n",
    "x_walk_hz_list=[]\n",
    "x_walk_nat_list=[]\n",
    "y_walk_hz_list=[]\n",
    "y_walk_nat_list=[]\n",
    "x_walk_hz_list.append(ad_walk_hz_6)\n",
    "x_walk_nat_list.append(ad_walk_nat_6)\n",
    "y_walk_hz_list.append(nd_walk_hz_6)\n",
    "y_walk_nat_list.append(nd_walk_nat_6)"
   ]
  },
  {
   "cell_type": "markdown",
   "id": "P0A5aCMblAre",
   "metadata": {
    "id": "P0A5aCMblAre"
   },
   "source": [
    "Running"
   ]
  },
  {
   "cell_type": "code",
   "execution_count": null,
   "id": "3rqnSemClJYb",
   "metadata": {
    "id": "3rqnSemClJYb"
   },
   "outputs": [],
   "source": [
    "from ts2vg import HorizontalVG\n",
    "import numpy as np\n",
    "g = HorizontalVG()\n",
    "g.build(running['attr_x'][1000:2024])\n",
    "ig_g_h = g.as_igraph()"
   ]
  },
  {
   "cell_type": "code",
   "execution_count": null,
   "id": "9ZIOzkPQlJf-",
   "metadata": {
    "colab": {
     "base_uri": "https://localhost:8080/"
    },
    "id": "9ZIOzkPQlJf-",
    "outputId": "8495fcb6-c73d-4054-e571-1f645e77280e"
   },
   "outputs": [],
   "source": [
    "print('Number of Nodes:',ig_g_h.vcount())\n",
    "print('Number of Links:',ig_g_h.ecount())\n",
    "print('Average Degree:',np.mean(ig_g_h.degree()))\n",
    "print('Network Diameter:',ig_g_h.diameter())\n",
    "print('Average Path Length:',ig_g_h.average_path_length())"
   ]
  },
  {
   "cell_type": "code",
   "execution_count": null,
   "id": "MGGZ9WQ9lJpV",
   "metadata": {
    "id": "MGGZ9WQ9lJpV"
   },
   "outputs": [],
   "source": [
    "from ts2vg import NaturalVG\n",
    "g = NaturalVG()\n",
    "g.build(running['attr_x'][1000:2024])\n",
    "ig_g_n = g.as_igraph()"
   ]
  },
  {
   "cell_type": "code",
   "execution_count": null,
   "id": "ZAo-vmLVlJy0",
   "metadata": {
    "colab": {
     "base_uri": "https://localhost:8080/"
    },
    "id": "ZAo-vmLVlJy0",
    "outputId": "7fdb5505-cd6a-42df-ec8b-f60cbc58d185"
   },
   "outputs": [],
   "source": [
    "print('Number of Nodes:',ig_g_n.vcount())\n",
    "print('Number of Links:',ig_g_n.ecount())\n",
    "print('Average Degree:',np.mean(ig_g_n.degree()))\n",
    "print('Network Diameter:',ig_g_n.diameter())\n",
    "print('Average Path Length:',ig_g_n.average_path_length())"
   ]
  },
  {
   "cell_type": "code",
   "execution_count": null,
   "id": "H-_tqkh9lKDY",
   "metadata": {
    "id": "H-_tqkh9lKDY"
   },
   "outputs": [],
   "source": [
    "ad_run_hz_6=np.mean(ig_g_h.degree())\n",
    "nd_run_hz_6=ig_g_h.diameter()\n",
    "ad_run_nat_6=np.mean(ig_g_n.degree())\n",
    "nd_run_nat_6=ig_g_n.diameter()\n",
    "\n",
    "x_run_hz_list=[]\n",
    "x_run_nat_list=[]\n",
    "y_run_hz_list=[]\n",
    "y_run_nat_list=[]\n",
    "x_run_hz_list.append(ad_run_hz_6)\n",
    "x_run_nat_list.append(ad_run_nat_6)\n",
    "y_run_hz_list.append(nd_run_hz_6)\n",
    "y_run_nat_list.append(nd_run_nat_6)"
   ]
  },
  {
   "cell_type": "markdown",
   "id": "ebNJgrHolA0N",
   "metadata": {
    "id": "ebNJgrHolA0N"
   },
   "source": [
    "Climbing Down"
   ]
  },
  {
   "cell_type": "code",
   "execution_count": null,
   "id": "w157PfSdlKop",
   "metadata": {
    "id": "w157PfSdlKop"
   },
   "outputs": [],
   "source": [
    "from ts2vg import HorizontalVG\n",
    "import numpy as np\n",
    "g = HorizontalVG()\n",
    "g.build(climbingup['attr_x'][1000:2024])\n",
    "ig_g_h = g.as_igraph()"
   ]
  },
  {
   "cell_type": "code",
   "execution_count": null,
   "id": "DgoXI-TElKx5",
   "metadata": {
    "colab": {
     "base_uri": "https://localhost:8080/"
    },
    "id": "DgoXI-TElKx5",
    "outputId": "f2f1c372-3b1c-46d6-8a7a-41fcb9ae0795"
   },
   "outputs": [],
   "source": [
    "print('Number of Nodes:',ig_g_h.vcount())\n",
    "print('Number of Links:',ig_g_h.ecount())\n",
    "print('Average Degree:',np.mean(ig_g_h.degree()))\n",
    "print('Network Diameter:',ig_g_h.diameter())\n",
    "print('Average Path Length:',ig_g_h.average_path_length())"
   ]
  },
  {
   "cell_type": "code",
   "execution_count": null,
   "id": "3QzEVfbZlK64",
   "metadata": {
    "id": "3QzEVfbZlK64"
   },
   "outputs": [],
   "source": [
    "from ts2vg import NaturalVG\n",
    "g = NaturalVG()\n",
    "g.build(climbingup['attr_x'][1000:2024])\n",
    "ig_g_n = g.as_igraph()"
   ]
  },
  {
   "cell_type": "code",
   "execution_count": null,
   "id": "pXKZgtz8lLED",
   "metadata": {
    "colab": {
     "base_uri": "https://localhost:8080/"
    },
    "id": "pXKZgtz8lLED",
    "outputId": "e2dc3567-46a5-4690-f53d-2460738fc6b7"
   },
   "outputs": [],
   "source": [
    "print('Number of Nodes:',ig_g_n.vcount())\n",
    "print('Number of Links:',ig_g_n.ecount())\n",
    "print('Average Degree:',np.mean(ig_g_n.degree()))\n",
    "print('Network Diameter:',ig_g_n.diameter())\n",
    "print('Average Path Length:',ig_g_n.average_path_length())"
   ]
  },
  {
   "cell_type": "code",
   "execution_count": null,
   "id": "CbNPTJcelLMk",
   "metadata": {
    "id": "CbNPTJcelLMk"
   },
   "outputs": [],
   "source": [
    "ad_climbdown_hz_6=np.mean(ig_g_h.degree())\n",
    "nd_climbdown_hz_6=ig_g_h.diameter()\n",
    "ad_climbdown_nat_6=np.mean(ig_g_n.degree())\n",
    "nd_climbdown_nat_6=ig_g_n.diameter()\n",
    "\n",
    "x_climbdown_hz_list=[]\n",
    "x_climbdown_nat_list=[]\n",
    "y_climbdown_hz_list=[]\n",
    "y_climbdown_nat_list=[]\n",
    "x_climbdown_hz_list.append(ad_climbdown_hz_6)\n",
    "x_climbdown_nat_list.append(ad_climbdown_nat_6)\n",
    "y_climbdown_hz_list.append(nd_climbdown_hz_6)\n",
    "y_climbdown_nat_list.append(nd_climbdown_nat_6)"
   ]
  },
  {
   "cell_type": "markdown",
   "id": "5TJO9ge3lA9J",
   "metadata": {
    "id": "5TJO9ge3lA9J"
   },
   "source": [
    "Climbing Up"
   ]
  },
  {
   "cell_type": "code",
   "execution_count": null,
   "id": "cFh8EHtplLx4",
   "metadata": {
    "id": "cFh8EHtplLx4"
   },
   "outputs": [],
   "source": [
    "from ts2vg import HorizontalVG\n",
    "import numpy as np\n",
    "g = HorizontalVG()\n",
    "g.build(climbingup['attr_x'][1000:2024])\n",
    "ig_g_h = g.as_igraph()"
   ]
  },
  {
   "cell_type": "code",
   "execution_count": null,
   "id": "dM-vaWoUlL6W",
   "metadata": {
    "colab": {
     "base_uri": "https://localhost:8080/"
    },
    "id": "dM-vaWoUlL6W",
    "outputId": "a6af2b9f-db3a-424b-b224-c33a245ee4ee"
   },
   "outputs": [],
   "source": [
    "print('Number of Nodes:',ig_g_h.vcount())\n",
    "print('Number of Links:',ig_g_h.ecount())\n",
    "print('Average Degree:',np.mean(ig_g_h.degree()))\n",
    "print('Network Diameter:',ig_g_h.diameter())\n",
    "print('Average Path Length:',ig_g_h.average_path_length())"
   ]
  },
  {
   "cell_type": "code",
   "execution_count": null,
   "id": "0XseeCEYlMDR",
   "metadata": {
    "id": "0XseeCEYlMDR"
   },
   "outputs": [],
   "source": [
    "from ts2vg import NaturalVG\n",
    "g = NaturalVG()\n",
    "g.build(climbingup['attr_x'][1000:2024])\n",
    "ig_g_n = g.as_igraph()"
   ]
  },
  {
   "cell_type": "code",
   "execution_count": null,
   "id": "brFS5ITrlMLl",
   "metadata": {
    "colab": {
     "base_uri": "https://localhost:8080/"
    },
    "id": "brFS5ITrlMLl",
    "outputId": "201d31e6-0ade-495c-fbae-f19c148e643a"
   },
   "outputs": [],
   "source": [
    "print('Number of Nodes:',ig_g_n.vcount())\n",
    "print('Number of Links:',ig_g_n.ecount())\n",
    "print('Average Degree:',np.mean(ig_g_n.degree()))\n",
    "print('Network Diameter:',ig_g_n.diameter())\n",
    "print('Average Path Length:',ig_g_n.average_path_length())"
   ]
  },
  {
   "cell_type": "code",
   "execution_count": null,
   "id": "ZsO-3Rr9lMvU",
   "metadata": {
    "id": "ZsO-3Rr9lMvU"
   },
   "outputs": [],
   "source": [
    "ad_climbingup_hz_6=np.mean(ig_g_h.degree())\n",
    "nd_climbingup_hz_6=ig_g_h.diameter()\n",
    "ad_climbingup_nat_6=np.mean(ig_g_n.degree())\n",
    "nd_climbingup_nat_6=ig_g_n.diameter()\n",
    "\n",
    "x_climbingup_hz_list=[]\n",
    "x_climbingup_nat_list=[]\n",
    "y_climbingup_hz_list=[]\n",
    "y_climbingup_nat_list=[]\n",
    "x_climbingup_hz_list.append(ad_climbingup_hz_6)\n",
    "x_climbingup_nat_list.append(ad_climbingup_nat_6)\n",
    "y_climbingup_hz_list.append(nd_climbingup_hz_6)\n",
    "y_climbingup_nat_list.append(nd_climbingup_nat_6)"
   ]
  },
  {
   "cell_type": "markdown",
   "id": "KsCgbm9qTAoY",
   "metadata": {
    "id": "KsCgbm9qTAoY"
   },
   "source": [
    "#Subject 7"
   ]
  },
  {
   "cell_type": "markdown",
   "id": "nFH2ULjyTAxS",
   "metadata": {
    "id": "nFH2ULjyTAxS"
   },
   "source": [
    "Walking"
   ]
  },
  {
   "cell_type": "code",
   "execution_count": null,
   "id": "DfN-9sLUTKte",
   "metadata": {
    "id": "DfN-9sLUTKte"
   },
   "outputs": [],
   "source": [
    "from ts2vg import HorizontalVG\n",
    "import numpy as np\n",
    "g = HorizontalVG()\n",
    "g.build(walking['attr_x'][1000:2024])\n",
    "ig_g_h = g.as_igraph()"
   ]
  },
  {
   "cell_type": "code",
   "execution_count": null,
   "id": "m9CRHRl4TK2M",
   "metadata": {
    "colab": {
     "base_uri": "https://localhost:8080/"
    },
    "id": "m9CRHRl4TK2M",
    "outputId": "31b22f7e-0470-471c-b348-32560680c52b"
   },
   "outputs": [],
   "source": [
    "print('Number of Nodes:',ig_g_h.vcount())\n",
    "print('Number of Links:',ig_g_h.ecount())\n",
    "print('Average Degree:',np.mean(ig_g_h.degree()))\n",
    "print('Network Diameter:',ig_g_h.diameter())\n",
    "print('Average Path Length:',ig_g_h.average_path_length())"
   ]
  },
  {
   "cell_type": "code",
   "execution_count": null,
   "id": "FTvw8JnITK-r",
   "metadata": {
    "id": "FTvw8JnITK-r"
   },
   "outputs": [],
   "source": [
    "from ts2vg import NaturalVG\n",
    "g = NaturalVG()\n",
    "g.build(walking['attr_x'][1000:2024])\n",
    "ig_g_n = g.as_igraph()"
   ]
  },
  {
   "cell_type": "code",
   "execution_count": null,
   "id": "QDBNPF-jTLHY",
   "metadata": {
    "colab": {
     "base_uri": "https://localhost:8080/"
    },
    "id": "QDBNPF-jTLHY",
    "outputId": "2c1435b6-aa08-46d9-835f-7c677c621a9e"
   },
   "outputs": [],
   "source": [
    "print('Number of Nodes:',ig_g_n.vcount())\n",
    "print('Number of Links:',ig_g_n.ecount())\n",
    "print('Average Degree:',np.mean(ig_g_n.degree()))\n",
    "print('Network Diameter:',ig_g_n.diameter())\n",
    "print('Average Path Length:',ig_g_n.average_path_length())"
   ]
  },
  {
   "cell_type": "code",
   "execution_count": null,
   "id": "6iJQG8ItTLRW",
   "metadata": {
    "id": "6iJQG8ItTLRW"
   },
   "outputs": [],
   "source": [
    "ad_walk_hz_7=np.mean(ig_g_h.degree())\n",
    "nd_walk_hz_7=ig_g_h.diameter()\n",
    "ad_walk_nat_7=np.mean(ig_g_n.degree())\n",
    "nd_walk_nat_7=ig_g_n.diameter()\n",
    "\n",
    "x_walk_hz_list=[]\n",
    "x_walk_nat_list=[]\n",
    "y_walk_hz_list=[]\n",
    "y_walk_nat_list=[]\n",
    "x_walk_hz_list.append(ad_walk_hz_7)\n",
    "x_walk_nat_list.append(ad_walk_nat_7)\n",
    "y_walk_hz_list.append(nd_walk_hz_7)\n",
    "y_walk_nat_list.append(nd_walk_nat_7)"
   ]
  },
  {
   "cell_type": "markdown",
   "id": "ot9X5g9LTA8M",
   "metadata": {
    "id": "ot9X5g9LTA8M"
   },
   "source": [
    "Running"
   ]
  },
  {
   "cell_type": "code",
   "execution_count": null,
   "id": "mfWUYfL6TM5-",
   "metadata": {
    "id": "mfWUYfL6TM5-"
   },
   "outputs": [],
   "source": [
    "from ts2vg import HorizontalVG\n",
    "import numpy as np\n",
    "g = HorizontalVG()\n",
    "g.build(running['attr_x'][1000:2024])\n",
    "ig_g_h = g.as_igraph()"
   ]
  },
  {
   "cell_type": "code",
   "execution_count": null,
   "id": "SSY2tO1xTNCT",
   "metadata": {
    "colab": {
     "base_uri": "https://localhost:8080/"
    },
    "id": "SSY2tO1xTNCT",
    "outputId": "0896988e-dd36-4c05-e478-1557a6708d88"
   },
   "outputs": [],
   "source": [
    "print('Number of Nodes:',ig_g_h.vcount())\n",
    "print('Number of Links:',ig_g_h.ecount())\n",
    "print('Average Degree:',np.mean(ig_g_h.degree()))\n",
    "print('Network Diameter:',ig_g_h.diameter())\n",
    "print('Average Path Length:',ig_g_h.average_path_length())"
   ]
  },
  {
   "cell_type": "code",
   "execution_count": null,
   "id": "jIqtor4kTNLE",
   "metadata": {
    "id": "jIqtor4kTNLE"
   },
   "outputs": [],
   "source": [
    "from ts2vg import NaturalVG\n",
    "g = NaturalVG()\n",
    "g.build(running['attr_x'][1000:2024])\n",
    "ig_g_n = g.as_igraph()"
   ]
  },
  {
   "cell_type": "code",
   "execution_count": null,
   "id": "mkFBQZhKTNUF",
   "metadata": {
    "colab": {
     "base_uri": "https://localhost:8080/"
    },
    "id": "mkFBQZhKTNUF",
    "outputId": "94970358-16f3-4790-d1a3-f3fab5aaa606"
   },
   "outputs": [],
   "source": [
    "print('Number of Nodes:',ig_g_n.vcount())\n",
    "print('Number of Links:',ig_g_n.ecount())\n",
    "print('Average Degree:',np.mean(ig_g_n.degree()))\n",
    "print('Network Diameter:',ig_g_n.diameter())\n",
    "print('Average Path Length:',ig_g_n.average_path_length())"
   ]
  },
  {
   "cell_type": "code",
   "execution_count": null,
   "id": "g4TTtZWBTNjd",
   "metadata": {
    "id": "g4TTtZWBTNjd"
   },
   "outputs": [],
   "source": [
    "ad_run_hz_7=np.mean(ig_g_h.degree())\n",
    "nd_run_hz_7=ig_g_h.diameter()\n",
    "ad_run_nat_7=np.mean(ig_g_n.degree())\n",
    "nd_run_nat_7=ig_g_n.diameter()\n",
    "\n",
    "x_run_hz_list=[]\n",
    "x_run_nat_list=[]\n",
    "y_run_hz_list=[]\n",
    "y_run_nat_list=[]\n",
    "x_run_hz_list.append(ad_run_hz_7)\n",
    "x_run_nat_list.append(ad_run_nat_7)\n",
    "y_run_hz_list.append(nd_run_hz_7)\n",
    "y_run_nat_list.append(nd_run_nat_7)"
   ]
  },
  {
   "cell_type": "markdown",
   "id": "mfpDCnRoTBFG",
   "metadata": {
    "id": "mfpDCnRoTBFG"
   },
   "source": [
    "Climbing Down"
   ]
  },
  {
   "cell_type": "code",
   "execution_count": null,
   "id": "NaaCj6JyTOfg",
   "metadata": {
    "id": "NaaCj6JyTOfg"
   },
   "outputs": [],
   "source": [
    "from ts2vg import HorizontalVG\n",
    "import numpy as np\n",
    "g = HorizontalVG()\n",
    "g.build(climbingdown['attr_x'][1000:2024])\n",
    "ig_g_h = g.as_igraph()"
   ]
  },
  {
   "cell_type": "code",
   "execution_count": null,
   "id": "inZiHwpxTOoZ",
   "metadata": {
    "colab": {
     "base_uri": "https://localhost:8080/"
    },
    "id": "inZiHwpxTOoZ",
    "outputId": "fbdada5c-3bd6-4170-cbce-cc3af1c0b077"
   },
   "outputs": [],
   "source": [
    "print('Number of Nodes:',ig_g_h.vcount())\n",
    "print('Number of Links:',ig_g_h.ecount())\n",
    "print('Average Degree:',np.mean(ig_g_h.degree()))\n",
    "print('Network Diameter:',ig_g_h.diameter())\n",
    "print('Average Path Length:',ig_g_h.average_path_length())"
   ]
  },
  {
   "cell_type": "code",
   "execution_count": null,
   "id": "cDrN31GkTOxK",
   "metadata": {
    "id": "cDrN31GkTOxK"
   },
   "outputs": [],
   "source": [
    "from ts2vg import NaturalVG\n",
    "g = NaturalVG()\n",
    "g.build(climbingdown['attr_x'][1000:2024])\n",
    "ig_g_n = g.as_igraph()"
   ]
  },
  {
   "cell_type": "code",
   "execution_count": null,
   "id": "98kWlnfRTO6h",
   "metadata": {
    "colab": {
     "base_uri": "https://localhost:8080/"
    },
    "id": "98kWlnfRTO6h",
    "outputId": "d0d742b8-67f8-4c7f-eea3-1e616c189cc7"
   },
   "outputs": [],
   "source": [
    "print('Number of Nodes:',ig_g_n.vcount())\n",
    "print('Number of Links:',ig_g_n.ecount())\n",
    "print('Average Degree:',np.mean(ig_g_n.degree()))\n",
    "print('Network Diameter:',ig_g_n.diameter())\n",
    "print('Average Path Length:',ig_g_n.average_path_length())"
   ]
  },
  {
   "cell_type": "code",
   "execution_count": null,
   "id": "GujGKv11TPEZ",
   "metadata": {
    "id": "GujGKv11TPEZ"
   },
   "outputs": [],
   "source": [
    "ad_climbdown_hz_7=np.mean(ig_g_h.degree())\n",
    "nd_climbdown_hz_7=ig_g_h.diameter()\n",
    "ad_climbdown_nat_7=np.mean(ig_g_n.degree())\n",
    "nd_climbdown_nat_7=ig_g_n.diameter()\n",
    "\n",
    "x_climbdown_hz_list=[]\n",
    "x_climbdown_nat_list=[]\n",
    "y_climbdown_hz_list=[]\n",
    "y_climbdown_nat_list=[]\n",
    "x_climbdown_hz_list.append(ad_climbdown_hz_7)\n",
    "x_climbdown_nat_list.append(ad_climbdown_nat_7)\n",
    "y_climbdown_hz_list.append(nd_climbdown_hz_7)\n",
    "y_climbdown_nat_list.append(nd_climbdown_nat_7)"
   ]
  },
  {
   "cell_type": "markdown",
   "id": "FTLim08pTBPb",
   "metadata": {
    "id": "FTLim08pTBPb"
   },
   "source": [
    "Climbing Up"
   ]
  },
  {
   "cell_type": "code",
   "execution_count": null,
   "id": "Rwn-VL2lTxR4",
   "metadata": {
    "id": "Rwn-VL2lTxR4"
   },
   "outputs": [],
   "source": [
    "from ts2vg import HorizontalVG\n",
    "import numpy as np\n",
    "g = HorizontalVG()\n",
    "g.build(climbingup['attr_x'][1000:2024])\n",
    "ig_g_h = g.as_igraph()"
   ]
  },
  {
   "cell_type": "code",
   "execution_count": null,
   "id": "RHD6_7ZITxbn",
   "metadata": {
    "colab": {
     "base_uri": "https://localhost:8080/"
    },
    "id": "RHD6_7ZITxbn",
    "outputId": "401ec5cd-3ed7-40c4-fddd-e4585d7a5df4"
   },
   "outputs": [],
   "source": [
    "print('Number of Nodes:',ig_g_h.vcount())\n",
    "print('Number of Links:',ig_g_h.ecount())\n",
    "print('Average Degree:',np.mean(ig_g_h.degree()))\n",
    "print('Network Diameter:',ig_g_h.diameter())\n",
    "print('Average Path Length:',ig_g_h.average_path_length())"
   ]
  },
  {
   "cell_type": "code",
   "execution_count": null,
   "id": "J259ysk3TxkY",
   "metadata": {
    "id": "J259ysk3TxkY"
   },
   "outputs": [],
   "source": [
    "from ts2vg import NaturalVG\n",
    "g = NaturalVG()\n",
    "g.build(climbingup['attr_x'][1000:2024])\n",
    "ig_g_n = g.as_igraph()"
   ]
  },
  {
   "cell_type": "code",
   "execution_count": null,
   "id": "V8MPTOg1TxtZ",
   "metadata": {
    "colab": {
     "base_uri": "https://localhost:8080/"
    },
    "id": "V8MPTOg1TxtZ",
    "outputId": "ebe18e54-1ecf-45d7-c30b-31c9df2210c1"
   },
   "outputs": [],
   "source": [
    "print('Number of Nodes:',ig_g_n.vcount())\n",
    "print('Number of Links:',ig_g_n.ecount())\n",
    "print('Average Degree:',np.mean(ig_g_n.degree()))\n",
    "print('Network Diameter:',ig_g_n.diameter())\n",
    "print('Average Path Length:',ig_g_n.average_path_length())"
   ]
  },
  {
   "cell_type": "code",
   "execution_count": null,
   "id": "p2jHrZscTx2X",
   "metadata": {
    "id": "p2jHrZscTx2X"
   },
   "outputs": [],
   "source": [
    "ad_climbingup_hz_7=np.mean(ig_g_h.degree())\n",
    "nd_climbingup_hz_7=ig_g_h.diameter()\n",
    "ad_climbingup_nat_7=np.mean(ig_g_n.degree())\n",
    "nd_climbingup_nat_7=ig_g_n.diameter()\n",
    "\n",
    "x_climbingup_hz_list=[]\n",
    "x_climbingup_nat_list=[]\n",
    "y_climbingup_hz_list=[]\n",
    "y_climbingup_nat_list=[]\n",
    "x_climbingup_hz_list.append(ad_climbingup_hz_7)\n",
    "x_climbingup_nat_list.append(ad_climbingup_nat_7)\n",
    "y_climbingup_hz_list.append(nd_climbingup_hz_7)\n",
    "y_climbingup_nat_list.append(nd_climbingup_nat_7)"
   ]
  },
  {
   "cell_type": "markdown",
   "id": "7-GDq4YjUixV",
   "metadata": {
    "id": "7-GDq4YjUixV"
   },
   "source": [
    "#Subject 8"
   ]
  },
  {
   "cell_type": "markdown",
   "id": "nPFx6fPaUi2S",
   "metadata": {
    "id": "nPFx6fPaUi2S"
   },
   "source": [
    "Walking"
   ]
  },
  {
   "cell_type": "code",
   "execution_count": null,
   "id": "BQ0pzQyfUrVR",
   "metadata": {
    "id": "BQ0pzQyfUrVR"
   },
   "outputs": [],
   "source": [
    "from ts2vg import HorizontalVG\n",
    "import numpy as np\n",
    "g = HorizontalVG()\n",
    "g.build(walking['attr_x'][1000:2024])\n",
    "ig_g_h = g.as_igraph()"
   ]
  },
  {
   "cell_type": "code",
   "execution_count": null,
   "id": "3AIYM7C7UrdX",
   "metadata": {
    "colab": {
     "base_uri": "https://localhost:8080/"
    },
    "id": "3AIYM7C7UrdX",
    "outputId": "983c6ca7-7d85-4169-b091-7b430f3b8c77"
   },
   "outputs": [],
   "source": [
    "print('Number of Nodes:',ig_g_h.vcount())\n",
    "print('Number of Links:',ig_g_h.ecount())\n",
    "print('Average Degree:',np.mean(ig_g_h.degree()))\n",
    "print('Network Diameter:',ig_g_h.diameter())\n",
    "print('Average Path Length:',ig_g_h.average_path_length())"
   ]
  },
  {
   "cell_type": "code",
   "execution_count": null,
   "id": "0aKlvh0bUrlf",
   "metadata": {
    "id": "0aKlvh0bUrlf"
   },
   "outputs": [],
   "source": [
    "from ts2vg import NaturalVG\n",
    "g = NaturalVG()\n",
    "g.build(walking['attr_x'][1000:2024])\n",
    "ig_g_n = g.as_igraph()"
   ]
  },
  {
   "cell_type": "code",
   "execution_count": null,
   "id": "B2I1pFWZUrt6",
   "metadata": {
    "colab": {
     "base_uri": "https://localhost:8080/"
    },
    "id": "B2I1pFWZUrt6",
    "outputId": "324c9205-980a-4a01-8a0a-17a229ac7709"
   },
   "outputs": [],
   "source": [
    "print('Number of Nodes:',ig_g_n.vcount())\n",
    "print('Number of Links:',ig_g_n.ecount())\n",
    "print('Average Degree:',np.mean(ig_g_n.degree()))\n",
    "print('Network Diameter:',ig_g_n.diameter())\n",
    "print('Average Path Length:',ig_g_n.average_path_length())"
   ]
  },
  {
   "cell_type": "code",
   "execution_count": null,
   "id": "kxxqoIvWUr1m",
   "metadata": {
    "id": "kxxqoIvWUr1m"
   },
   "outputs": [],
   "source": [
    "ad_walk_hz_8=np.mean(ig_g_h.degree())\n",
    "nd_walk_hz_8=ig_g_h.diameter()\n",
    "ad_walk_nat_8=np.mean(ig_g_n.degree())\n",
    "nd_walk_nat_8=ig_g_n.diameter()\n",
    "\n",
    "x_walk_hz_list=[]\n",
    "x_walk_nat_list=[]\n",
    "y_walk_hz_list=[]\n",
    "y_walk_nat_list=[]\n",
    "x_walk_hz_list.append(ad_walk_hz_8)\n",
    "x_walk_nat_list.append(ad_walk_nat_8)\n",
    "y_walk_hz_list.append(nd_walk_hz_8)\n",
    "y_walk_nat_list.append(nd_walk_nat_8)"
   ]
  },
  {
   "cell_type": "markdown",
   "id": "BmAF4T4WUi5-",
   "metadata": {
    "id": "BmAF4T4WUi5-"
   },
   "source": [
    "Running"
   ]
  },
  {
   "cell_type": "code",
   "execution_count": null,
   "id": "XVPGz5BtUslv",
   "metadata": {
    "id": "XVPGz5BtUslv"
   },
   "outputs": [],
   "source": [
    "from ts2vg import HorizontalVG\n",
    "import numpy as np\n",
    "g = HorizontalVG()\n",
    "g.build(running['attr_x'][1000:2024])\n",
    "ig_g_h = g.as_igraph()"
   ]
  },
  {
   "cell_type": "code",
   "execution_count": null,
   "id": "8zG8anBSUsvI",
   "metadata": {
    "colab": {
     "base_uri": "https://localhost:8080/"
    },
    "id": "8zG8anBSUsvI",
    "outputId": "39c2f1ee-e985-4d22-c0b4-0a5c86998ee8"
   },
   "outputs": [],
   "source": [
    "print('Number of Nodes:',ig_g_h.vcount())\n",
    "print('Number of Links:',ig_g_h.ecount())\n",
    "print('Average Degree:',np.mean(ig_g_h.degree()))\n",
    "print('Network Diameter:',ig_g_h.diameter())\n",
    "print('Average Path Length:',ig_g_h.average_path_length())"
   ]
  },
  {
   "cell_type": "code",
   "execution_count": null,
   "id": "8n-_7QcNUs3-",
   "metadata": {
    "id": "8n-_7QcNUs3-"
   },
   "outputs": [],
   "source": [
    "from ts2vg import NaturalVG\n",
    "g = NaturalVG()\n",
    "g.build(running['attr_x'][1000:2024])\n",
    "ig_g_n = g.as_igraph()"
   ]
  },
  {
   "cell_type": "code",
   "execution_count": null,
   "id": "42PvLx-xVIL4",
   "metadata": {
    "colab": {
     "base_uri": "https://localhost:8080/"
    },
    "id": "42PvLx-xVIL4",
    "outputId": "b5a8afda-3aed-47fc-ab50-0ef841386422"
   },
   "outputs": [],
   "source": [
    "print('Number of Nodes:',ig_g_n.vcount())\n",
    "print('Number of Links:',ig_g_n.ecount())\n",
    "print('Average Degree:',np.mean(ig_g_n.degree()))\n",
    "print('Network Diameter:',ig_g_n.diameter())\n",
    "print('Average Path Length:',ig_g_n.average_path_length())"
   ]
  },
  {
   "cell_type": "code",
   "execution_count": null,
   "id": "kqnIQ6twUtBf",
   "metadata": {
    "id": "kqnIQ6twUtBf"
   },
   "outputs": [],
   "source": [
    "ad_run_hz_8=np.mean(ig_g_h.degree())\n",
    "nd_run_hz_8=ig_g_h.diameter()\n",
    "ad_run_nat_8=np.mean(ig_g_n.degree())\n",
    "nd_run_nat_8=ig_g_n.diameter()\n",
    "\n",
    "x_run_hz_list=[]\n",
    "x_run_nat_list=[]\n",
    "y_run_hz_list=[]\n",
    "y_run_nat_list=[]\n",
    "x_run_hz_list.append(ad_run_hz_8)\n",
    "x_run_nat_list.append(ad_run_nat_8)\n",
    "y_run_hz_list.append(nd_run_hz_8)\n",
    "y_run_nat_list.append(nd_run_nat_8)"
   ]
  },
  {
   "cell_type": "markdown",
   "id": "7geD9U4IUjOC",
   "metadata": {
    "id": "7geD9U4IUjOC"
   },
   "source": [
    "Climbing Down"
   ]
  },
  {
   "cell_type": "code",
   "execution_count": null,
   "id": "o96buyPEUtzj",
   "metadata": {
    "id": "o96buyPEUtzj"
   },
   "outputs": [],
   "source": [
    "from ts2vg import HorizontalVG\n",
    "import numpy as np\n",
    "g = HorizontalVG()\n",
    "g.build(climbingdown['attr_x'][1000:2024])\n",
    "ig_g_h = g.as_igraph()"
   ]
  },
  {
   "cell_type": "code",
   "execution_count": null,
   "id": "XviRIZJMUt8Z",
   "metadata": {
    "colab": {
     "base_uri": "https://localhost:8080/"
    },
    "id": "XviRIZJMUt8Z",
    "outputId": "e0e1db59-364a-428d-cae2-d9e68069b3e4"
   },
   "outputs": [],
   "source": [
    "print('Number of Nodes:',ig_g_h.vcount())\n",
    "print('Number of Links:',ig_g_h.ecount())\n",
    "print('Average Degree:',np.mean(ig_g_h.degree()))\n",
    "print('Network Diameter:',ig_g_h.diameter())\n",
    "print('Average Path Length:',ig_g_h.average_path_length())"
   ]
  },
  {
   "cell_type": "code",
   "execution_count": null,
   "id": "1G0_j3oeUwMg",
   "metadata": {
    "id": "1G0_j3oeUwMg"
   },
   "outputs": [],
   "source": [
    "from ts2vg import NaturalVG\n",
    "g = NaturalVG()\n",
    "g.build(climbingdown['attr_x'][1000:2024])\n",
    "ig_g_n = g.as_igraph()"
   ]
  },
  {
   "cell_type": "code",
   "execution_count": null,
   "id": "rcmmRk2xUwY9",
   "metadata": {
    "colab": {
     "base_uri": "https://localhost:8080/"
    },
    "id": "rcmmRk2xUwY9",
    "outputId": "9805147c-45bb-40d9-f597-b74240b6ddf4"
   },
   "outputs": [],
   "source": [
    "print('Number of Nodes:',ig_g_n.vcount())\n",
    "print('Number of Links:',ig_g_n.ecount())\n",
    "print('Average Degree:',np.mean(ig_g_n.degree()))\n",
    "print('Network Diameter:',ig_g_n.diameter())\n",
    "print('Average Path Length:',ig_g_n.average_path_length())"
   ]
  },
  {
   "cell_type": "code",
   "execution_count": null,
   "id": "dpEeQ7k7UwhN",
   "metadata": {
    "id": "dpEeQ7k7UwhN"
   },
   "outputs": [],
   "source": [
    "ad_climbdown_hz_8=np.mean(ig_g_h.degree())\n",
    "nd_climbdown_hz_8=ig_g_h.diameter()\n",
    "ad_climbdown_nat_8=np.mean(ig_g_n.degree())\n",
    "nd_climbdown_nat_8=ig_g_n.diameter()\n",
    "\n",
    "x_climbdown_hz_list=[]\n",
    "x_climbdown_nat_list=[]\n",
    "y_climbdown_hz_list=[]\n",
    "y_climbdown_nat_list=[]\n",
    "x_climbdown_hz_list.append(ad_climbdown_hz_8)\n",
    "x_climbdown_nat_list.append(ad_climbdown_nat_8)\n",
    "y_climbdown_hz_list.append(nd_climbdown_hz_8)\n",
    "y_climbdown_nat_list.append(nd_climbdown_nat_8)"
   ]
  },
  {
   "cell_type": "markdown",
   "id": "vu-OHVAEUjgY",
   "metadata": {
    "id": "vu-OHVAEUjgY"
   },
   "source": [
    "Climbing Up"
   ]
  },
  {
   "cell_type": "code",
   "execution_count": null,
   "id": "svVXZkzZUxJA",
   "metadata": {
    "id": "svVXZkzZUxJA"
   },
   "outputs": [],
   "source": [
    "from ts2vg import HorizontalVG\n",
    "import numpy as np\n",
    "g = HorizontalVG()\n",
    "g.build(climbingup['attr_x'][1000:2024])\n",
    "ig_g_h = g.as_igraph()"
   ]
  },
  {
   "cell_type": "code",
   "execution_count": null,
   "id": "nuxGaV6wUxS-",
   "metadata": {
    "colab": {
     "base_uri": "https://localhost:8080/"
    },
    "id": "nuxGaV6wUxS-",
    "outputId": "d9fe3799-596b-4c48-ef19-e46d15d6302a"
   },
   "outputs": [],
   "source": [
    "print('Number of Nodes:',ig_g_h.vcount())\n",
    "print('Number of Links:',ig_g_h.ecount())\n",
    "print('Average Degree:',np.mean(ig_g_h.degree()))\n",
    "print('Network Diameter:',ig_g_h.diameter())\n",
    "print('Average Path Length:',ig_g_h.average_path_length())"
   ]
  },
  {
   "cell_type": "code",
   "execution_count": null,
   "id": "5ubGAPYTUxb4",
   "metadata": {
    "id": "5ubGAPYTUxb4"
   },
   "outputs": [],
   "source": [
    "from ts2vg import NaturalVG\n",
    "g = NaturalVG()\n",
    "g.build(climbingup['attr_x'][1000:2024])\n",
    "ig_g_n = g.as_igraph()"
   ]
  },
  {
   "cell_type": "code",
   "execution_count": null,
   "id": "RQxHyS6sUxmA",
   "metadata": {
    "colab": {
     "base_uri": "https://localhost:8080/"
    },
    "id": "RQxHyS6sUxmA",
    "outputId": "43e0abb8-28e5-4aa9-c2ef-6a128b44e4ed"
   },
   "outputs": [],
   "source": [
    "print('Number of Nodes:',ig_g_n.vcount())\n",
    "print('Number of Links:',ig_g_n.ecount())\n",
    "print('Average Degree:',np.mean(ig_g_n.degree()))\n",
    "print('Network Diameter:',ig_g_n.diameter())\n",
    "print('Average Path Length:',ig_g_n.average_path_length())"
   ]
  },
  {
   "cell_type": "code",
   "execution_count": null,
   "id": "5xjTYLolUxti",
   "metadata": {
    "id": "5xjTYLolUxti"
   },
   "outputs": [],
   "source": [
    "ad_climbingup_hz_8=np.mean(ig_g_h.degree())\n",
    "nd_climbingup_hz_8=ig_g_h.diameter()\n",
    "ad_climbingup_nat_8=np.mean(ig_g_n.degree())\n",
    "nd_climbingup_nat_8=ig_g_n.diameter()\n",
    "\n",
    "x_climbingup_hz_list=[]\n",
    "x_climbingup_nat_list=[]\n",
    "y_climbingup_hz_list=[]\n",
    "y_climbingup_nat_list=[]\n",
    "x_climbingup_hz_list.append(ad_climbingup_hz_8)\n",
    "x_climbingup_nat_list.append(ad_climbingup_nat_8)\n",
    "y_climbingup_hz_list.append(nd_climbingup_hz_8)\n",
    "y_climbingup_nat_list.append(nd_climbingup_nat_8)"
   ]
  },
  {
   "cell_type": "markdown",
   "id": "th_AFo0QWr3I",
   "metadata": {
    "id": "th_AFo0QWr3I"
   },
   "source": [
    "#Subject 9"
   ]
  },
  {
   "cell_type": "markdown",
   "id": "y2CdstSGWr_i",
   "metadata": {
    "id": "y2CdstSGWr_i"
   },
   "source": [
    "Walking"
   ]
  },
  {
   "cell_type": "code",
   "execution_count": null,
   "id": "BKQHw3-rW0so",
   "metadata": {
    "id": "BKQHw3-rW0so"
   },
   "outputs": [],
   "source": [
    "from ts2vg import HorizontalVG\n",
    "import numpy as np\n",
    "g = HorizontalVG()\n",
    "g.build(walking['attr_x'][1000:2024])\n",
    "ig_g_h = g.as_igraph()"
   ]
  },
  {
   "cell_type": "code",
   "execution_count": null,
   "id": "7kz4DZpCW0zF",
   "metadata": {
    "colab": {
     "base_uri": "https://localhost:8080/"
    },
    "id": "7kz4DZpCW0zF",
    "outputId": "727f1e3d-d2a5-47ef-a088-da6ccfdbfbad"
   },
   "outputs": [],
   "source": [
    "print('Number of Nodes:',ig_g_h.vcount())\n",
    "print('Number of Links:',ig_g_h.ecount())\n",
    "print('Average Degree:',np.mean(ig_g_h.degree()))\n",
    "print('Network Diameter:',ig_g_h.diameter())\n",
    "print('Average Path Length:',ig_g_h.average_path_length())"
   ]
  },
  {
   "cell_type": "code",
   "execution_count": null,
   "id": "ELkbAby-W07t",
   "metadata": {
    "id": "ELkbAby-W07t"
   },
   "outputs": [],
   "source": [
    "from ts2vg import NaturalVG\n",
    "g = NaturalVG()\n",
    "g.build(walking['attr_x'][1000:2024])\n",
    "ig_g_n = g.as_igraph()"
   ]
  },
  {
   "cell_type": "code",
   "execution_count": null,
   "id": "TyJHqb5SW1FY",
   "metadata": {
    "colab": {
     "base_uri": "https://localhost:8080/"
    },
    "id": "TyJHqb5SW1FY",
    "outputId": "adf28ec0-98c7-483e-fb43-073c0d6ea2ec"
   },
   "outputs": [],
   "source": [
    "print('Number of Nodes:',ig_g_n.vcount())\n",
    "print('Number of Links:',ig_g_n.ecount())\n",
    "print('Average Degree:',np.mean(ig_g_n.degree()))\n",
    "print('Network Diameter:',ig_g_n.diameter())\n",
    "print('Average Path Length:',ig_g_n.average_path_length())"
   ]
  },
  {
   "cell_type": "code",
   "execution_count": null,
   "id": "A5cc6Z9vW1Qa",
   "metadata": {
    "id": "A5cc6Z9vW1Qa"
   },
   "outputs": [],
   "source": [
    "ad_walk_hz_9=np.mean(ig_g_h.degree())\n",
    "nd_walk_hz_9=ig_g_h.diameter()\n",
    "ad_walk_nat_9=np.mean(ig_g_n.degree())\n",
    "nd_walk_nat_9=ig_g_n.diameter()\n",
    "\n",
    "x_walk_hz_list=[]\n",
    "x_walk_nat_list=[]\n",
    "y_walk_hz_list=[]\n",
    "y_walk_nat_list=[]\n",
    "x_walk_hz_list.append(ad_walk_hz_9)\n",
    "x_walk_nat_list.append(ad_walk_nat_9)\n",
    "y_walk_hz_list.append(nd_walk_hz_9)\n",
    "y_walk_nat_list.append(nd_walk_nat_9)"
   ]
  },
  {
   "cell_type": "markdown",
   "id": "lQTwj_ASWsH9",
   "metadata": {
    "id": "lQTwj_ASWsH9"
   },
   "source": [
    "Running"
   ]
  },
  {
   "cell_type": "code",
   "execution_count": null,
   "id": "ENm9DlnzW1yz",
   "metadata": {
    "id": "ENm9DlnzW1yz"
   },
   "outputs": [],
   "source": [
    "from ts2vg import HorizontalVG\n",
    "import numpy as np\n",
    "g = HorizontalVG()\n",
    "g.build(running['attr_x'][1000:2024])\n",
    "ig_g_h = g.as_igraph()"
   ]
  },
  {
   "cell_type": "code",
   "execution_count": null,
   "id": "iyz2ntGrW17A",
   "metadata": {
    "colab": {
     "base_uri": "https://localhost:8080/"
    },
    "id": "iyz2ntGrW17A",
    "outputId": "76bdaff5-5d9b-4cd3-dd4f-a851cb49f59c"
   },
   "outputs": [],
   "source": [
    "print('Number of Nodes:',ig_g_h.vcount())\n",
    "print('Number of Links:',ig_g_h.ecount())\n",
    "print('Average Degree:',np.mean(ig_g_h.degree()))\n",
    "print('Network Diameter:',ig_g_h.diameter())\n",
    "print('Average Path Length:',ig_g_h.average_path_length())"
   ]
  },
  {
   "cell_type": "code",
   "execution_count": null,
   "id": "VwpW1108W2BQ",
   "metadata": {
    "id": "VwpW1108W2BQ"
   },
   "outputs": [],
   "source": [
    "from ts2vg import NaturalVG\n",
    "g = NaturalVG()\n",
    "g.build(running['attr_x'][1000:2024])\n",
    "ig_g_n = g.as_igraph()"
   ]
  },
  {
   "cell_type": "code",
   "execution_count": null,
   "id": "62Cyw-oTW2Ju",
   "metadata": {
    "colab": {
     "base_uri": "https://localhost:8080/"
    },
    "id": "62Cyw-oTW2Ju",
    "outputId": "0a576afd-eaed-44d1-b034-0849f4a1bb55"
   },
   "outputs": [],
   "source": [
    "print('Number of Nodes:',ig_g_n.vcount())\n",
    "print('Number of Links:',ig_g_n.ecount())\n",
    "print('Average Degree:',np.mean(ig_g_n.degree()))\n",
    "print('Network Diameter:',ig_g_n.diameter())\n",
    "print('Average Path Length:',ig_g_n.average_path_length())"
   ]
  },
  {
   "cell_type": "code",
   "execution_count": null,
   "id": "5uv_dyhaW2O5",
   "metadata": {
    "id": "5uv_dyhaW2O5"
   },
   "outputs": [],
   "source": [
    "ad_run_hz_9=np.mean(ig_g_h.degree())\n",
    "nd_run_hz_9=ig_g_h.diameter()\n",
    "ad_run_nat_9=np.mean(ig_g_n.degree())\n",
    "nd_run_nat_9=ig_g_n.diameter()\n",
    "\n",
    "x_run_hz_list=[]\n",
    "x_run_nat_list=[]\n",
    "y_run_hz_list=[]\n",
    "y_run_nat_list=[]\n",
    "x_run_hz_list.append(ad_run_hz_9)\n",
    "x_run_nat_list.append(ad_run_nat_9)\n",
    "y_run_hz_list.append(nd_run_hz_9)\n",
    "y_run_nat_list.append(nd_run_nat_9)"
   ]
  },
  {
   "cell_type": "markdown",
   "id": "LDXchs1rWsPm",
   "metadata": {
    "id": "LDXchs1rWsPm"
   },
   "source": [
    "Climbing Down"
   ]
  },
  {
   "cell_type": "code",
   "execution_count": null,
   "id": "D1Tny6GFW3q1",
   "metadata": {
    "id": "D1Tny6GFW3q1"
   },
   "outputs": [],
   "source": [
    "from ts2vg import HorizontalVG\n",
    "import numpy as np\n",
    "g = HorizontalVG()\n",
    "g.build(climbingdown['attr_x'][1000:2024])\n",
    "ig_g_h = g.as_igraph()"
   ]
  },
  {
   "cell_type": "code",
   "execution_count": null,
   "id": "9PVN25VbW30M",
   "metadata": {
    "colab": {
     "base_uri": "https://localhost:8080/"
    },
    "id": "9PVN25VbW30M",
    "outputId": "496bbd28-efb4-4dca-f331-4dd4a0f69f23"
   },
   "outputs": [],
   "source": [
    "print('Number of Nodes:',ig_g_h.vcount())\n",
    "print('Number of Links:',ig_g_h.ecount())\n",
    "print('Average Degree:',np.mean(ig_g_h.degree()))\n",
    "print('Network Diameter:',ig_g_h.diameter())\n",
    "print('Average Path Length:',ig_g_h.average_path_length())"
   ]
  },
  {
   "cell_type": "code",
   "execution_count": null,
   "id": "Pv0-fkFRW39_",
   "metadata": {
    "id": "Pv0-fkFRW39_"
   },
   "outputs": [],
   "source": [
    "from ts2vg import NaturalVG\n",
    "g = NaturalVG()\n",
    "g.build(climbingdown['attr_x'][1000:2024])\n",
    "ig_g_n = g.as_igraph()"
   ]
  },
  {
   "cell_type": "code",
   "execution_count": null,
   "id": "AkW8JjJsW4G_",
   "metadata": {
    "colab": {
     "base_uri": "https://localhost:8080/"
    },
    "id": "AkW8JjJsW4G_",
    "outputId": "3cf1b568-976d-4986-ca46-7fb2eff82995"
   },
   "outputs": [],
   "source": [
    "print('Number of Nodes:',ig_g_n.vcount())\n",
    "print('Number of Links:',ig_g_n.ecount())\n",
    "print('Average Degree:',np.mean(ig_g_n.degree()))\n",
    "print('Network Diameter:',ig_g_n.diameter())\n",
    "print('Average Path Length:',ig_g_n.average_path_length())"
   ]
  },
  {
   "cell_type": "code",
   "execution_count": null,
   "id": "Fd0DhmloW4Q7",
   "metadata": {
    "id": "Fd0DhmloW4Q7"
   },
   "outputs": [],
   "source": [
    "ad_climbdown_hz_9=np.mean(ig_g_h.degree())\n",
    "nd_climbdown_hz_9=ig_g_h.diameter()\n",
    "ad_climbdown_nat_9=np.mean(ig_g_n.degree())\n",
    "nd_climbdown_nat_9=ig_g_n.diameter()\n",
    "\n",
    "x_climbdown_hz_list=[]\n",
    "x_climbdown_nat_list=[]\n",
    "y_climbdown_hz_list=[]\n",
    "y_climbdown_nat_list=[]\n",
    "x_climbdown_hz_list.append(ad_climbdown_hz_9)\n",
    "x_climbdown_nat_list.append(ad_climbdown_nat_9)\n",
    "y_climbdown_hz_list.append(nd_climbdown_hz_9)\n",
    "y_climbdown_nat_list.append(nd_climbdown_nat_9)"
   ]
  },
  {
   "cell_type": "markdown",
   "id": "vUT1zV70WsYl",
   "metadata": {
    "id": "vUT1zV70WsYl"
   },
   "source": [
    "Climbing Up"
   ]
  },
  {
   "cell_type": "code",
   "execution_count": null,
   "id": "3rQmdx8fWyFB",
   "metadata": {
    "id": "3rQmdx8fWyFB"
   },
   "outputs": [],
   "source": [
    "from ts2vg import HorizontalVG\n",
    "import numpy as np\n",
    "g = HorizontalVG()\n",
    "g.build(climbingup['attr_x'][1000:2024])\n",
    "ig_g_h = g.as_igraph()"
   ]
  },
  {
   "cell_type": "code",
   "execution_count": null,
   "id": "deYMDkbyWyMz",
   "metadata": {
    "colab": {
     "base_uri": "https://localhost:8080/"
    },
    "id": "deYMDkbyWyMz",
    "outputId": "9dee3288-d63f-4514-f281-14551e1c8b57"
   },
   "outputs": [],
   "source": [
    "print('Number of Nodes:',ig_g_h.vcount())\n",
    "print('Number of Links:',ig_g_h.ecount())\n",
    "print('Average Degree:',np.mean(ig_g_h.degree()))\n",
    "print('Network Diameter:',ig_g_h.diameter())\n",
    "print('Average Path Length:',ig_g_h.average_path_length())"
   ]
  },
  {
   "cell_type": "code",
   "execution_count": null,
   "id": "BBLSfhpUWyUf",
   "metadata": {
    "id": "BBLSfhpUWyUf"
   },
   "outputs": [],
   "source": [
    "from ts2vg import NaturalVG\n",
    "g = NaturalVG()\n",
    "g.build(climbingup['attr_x'][1000:2024])\n",
    "ig_g_n = g.as_igraph()"
   ]
  },
  {
   "cell_type": "code",
   "execution_count": null,
   "id": "orkqPOneWyeg",
   "metadata": {
    "colab": {
     "base_uri": "https://localhost:8080/"
    },
    "id": "orkqPOneWyeg",
    "outputId": "0d23d173-4a90-40c5-e62f-9cd9d1ca3310"
   },
   "outputs": [],
   "source": [
    "print('Number of Nodes:',ig_g_n.vcount())\n",
    "print('Number of Links:',ig_g_n.ecount())\n",
    "print('Average Degree:',np.mean(ig_g_n.degree()))\n",
    "print('Network Diameter:',ig_g_n.diameter())\n",
    "print('Average Path Length:',ig_g_n.average_path_length())"
   ]
  },
  {
   "cell_type": "code",
   "execution_count": null,
   "id": "ykH8LgqOWynH",
   "metadata": {
    "id": "ykH8LgqOWynH"
   },
   "outputs": [],
   "source": [
    "ad_climbingup_hz_9=np.mean(ig_g_h.degree())\n",
    "nd_climbingup_hz_9=ig_g_h.diameter()\n",
    "ad_climbingup_nat_9=np.mean(ig_g_n.degree())\n",
    "nd_climbingup_nat_9=ig_g_n.diameter()\n",
    "\n",
    "x_climbingup_hz_list=[]\n",
    "x_climbingup_nat_list=[]\n",
    "y_climbingup_hz_list=[]\n",
    "y_climbingup_nat_list=[]\n",
    "x_climbingup_hz_list.append(ad_climbingup_hz_9)\n",
    "x_climbingup_nat_list.append(ad_climbingup_nat_9)\n",
    "y_climbingup_hz_list.append(nd_climbingup_hz_9)\n",
    "y_climbingup_nat_list.append(nd_climbingup_nat_9)"
   ]
  },
  {
   "cell_type": "markdown",
   "id": "SSI2n_Y5XuBT",
   "metadata": {
    "id": "SSI2n_Y5XuBT"
   },
   "source": [
    "#Subject 10"
   ]
  },
  {
   "cell_type": "markdown",
   "id": "Ul-gcqb2XuHn",
   "metadata": {
    "id": "Ul-gcqb2XuHn"
   },
   "source": [
    "Walking"
   ]
  },
  {
   "cell_type": "code",
   "execution_count": null,
   "id": "sJ03c0NSX8Nc",
   "metadata": {
    "id": "sJ03c0NSX8Nc"
   },
   "outputs": [],
   "source": [
    "from ts2vg import HorizontalVG\n",
    "import numpy as np\n",
    "g = HorizontalVG()\n",
    "g.build(walking['attr_x'][1000:2024])\n",
    "ig_g_h = g.as_igraph()"
   ]
  },
  {
   "cell_type": "code",
   "execution_count": null,
   "id": "A9u7HYLsX8Wi",
   "metadata": {
    "colab": {
     "base_uri": "https://localhost:8080/"
    },
    "id": "A9u7HYLsX8Wi",
    "outputId": "2c786b4b-2bb7-4532-ebcc-23b8e42d0044"
   },
   "outputs": [],
   "source": [
    "print('Number of Nodes:',ig_g_h.vcount())\n",
    "print('Number of Links:',ig_g_h.ecount())\n",
    "print('Average Degree:',np.mean(ig_g_h.degree()))\n",
    "print('Network Diameter:',ig_g_h.diameter())\n",
    "print('Average Path Length:',ig_g_h.average_path_length())"
   ]
  },
  {
   "cell_type": "code",
   "execution_count": null,
   "id": "eCic_H3HX8gp",
   "metadata": {
    "id": "eCic_H3HX8gp"
   },
   "outputs": [],
   "source": [
    "from ts2vg import NaturalVG\n",
    "g = NaturalVG()\n",
    "g.build(walking['attr_x'][1000:2024])\n",
    "ig_g_n = g.as_igraph()"
   ]
  },
  {
   "cell_type": "code",
   "execution_count": null,
   "id": "gYpCzCwfX8rl",
   "metadata": {
    "colab": {
     "base_uri": "https://localhost:8080/"
    },
    "id": "gYpCzCwfX8rl",
    "outputId": "18587d05-1ba4-49aa-ea58-bd2295a8cab8"
   },
   "outputs": [],
   "source": [
    "print('Number of Nodes:',ig_g_n.vcount())\n",
    "print('Number of Links:',ig_g_n.ecount())\n",
    "print('Average Degree:',np.mean(ig_g_n.degree()))\n",
    "print('Network Diameter:',ig_g_n.diameter())\n",
    "print('Average Path Length:',ig_g_n.average_path_length())"
   ]
  },
  {
   "cell_type": "code",
   "execution_count": null,
   "id": "tx0yBBjAX82n",
   "metadata": {
    "id": "tx0yBBjAX82n"
   },
   "outputs": [],
   "source": [
    "ad_walk_hz_10=np.mean(ig_g_h.degree())\n",
    "nd_walk_hz_10=ig_g_h.diameter()\n",
    "ad_walk_nat_10=np.mean(ig_g_n.degree())\n",
    "nd_walk_nat_10=ig_g_n.diameter()\n",
    "\n",
    "x_walk_hz_list=[]\n",
    "x_walk_nat_list=[]\n",
    "y_walk_hz_list=[]\n",
    "y_walk_nat_list=[]\n",
    "x_walk_hz_list.append(ad_walk_hz_10)\n",
    "x_walk_nat_list.append(ad_walk_nat_10)\n",
    "y_walk_hz_list.append(nd_walk_hz_10)\n",
    "y_walk_nat_list.append(nd_walk_nat_10)"
   ]
  },
  {
   "cell_type": "markdown",
   "id": "kpepGLpdXuQQ",
   "metadata": {
    "id": "kpepGLpdXuQQ"
   },
   "source": [
    "Running"
   ]
  },
  {
   "cell_type": "code",
   "execution_count": null,
   "id": "5vOtU8dJX5J9",
   "metadata": {
    "id": "5vOtU8dJX5J9"
   },
   "outputs": [],
   "source": [
    "from ts2vg import HorizontalVG\n",
    "import numpy as np\n",
    "g = HorizontalVG()\n",
    "g.build(running['attr_x'][1000:2024])\n",
    "ig_g_h = g.as_igraph()"
   ]
  },
  {
   "cell_type": "code",
   "execution_count": null,
   "id": "DVgOe8j3X5T7",
   "metadata": {
    "colab": {
     "base_uri": "https://localhost:8080/"
    },
    "id": "DVgOe8j3X5T7",
    "outputId": "727754ec-94e0-44af-c70f-cd84aaa92e40"
   },
   "outputs": [],
   "source": [
    "print('Number of Nodes:',ig_g_h.vcount())\n",
    "print('Number of Links:',ig_g_h.ecount())\n",
    "print('Average Degree:',np.mean(ig_g_h.degree()))\n",
    "print('Network Diameter:',ig_g_h.diameter())\n",
    "print('Average Path Length:',ig_g_h.average_path_length())"
   ]
  },
  {
   "cell_type": "code",
   "execution_count": null,
   "id": "2rKrMJ8AX5dt",
   "metadata": {
    "id": "2rKrMJ8AX5dt"
   },
   "outputs": [],
   "source": [
    "from ts2vg import NaturalVG\n",
    "g = NaturalVG()\n",
    "g.build(running['attr_x'][1000:2024])\n",
    "ig_g_n = g.as_igraph()"
   ]
  },
  {
   "cell_type": "code",
   "execution_count": null,
   "id": "xFdJFpaqX5np",
   "metadata": {
    "colab": {
     "base_uri": "https://localhost:8080/"
    },
    "id": "xFdJFpaqX5np",
    "outputId": "f5174f18-c240-4f2e-bfc8-25ad819352af"
   },
   "outputs": [],
   "source": [
    "print('Number of Nodes:',ig_g_n.vcount())\n",
    "print('Number of Links:',ig_g_n.ecount())\n",
    "print('Average Degree:',np.mean(ig_g_n.degree()))\n",
    "print('Network Diameter:',ig_g_n.diameter())\n",
    "print('Average Path Length:',ig_g_n.average_path_length())"
   ]
  },
  {
   "cell_type": "code",
   "execution_count": null,
   "id": "Px737Z2jX5ys",
   "metadata": {
    "id": "Px737Z2jX5ys"
   },
   "outputs": [],
   "source": [
    "ad_run_hz_10=np.mean(ig_g_h.degree())\n",
    "nd_run_hz_10=ig_g_h.diameter()\n",
    "ad_run_nat_10=np.mean(ig_g_n.degree())\n",
    "nd_run_nat_10=ig_g_n.diameter()\n",
    "\n",
    "x_run_hz_list=[]\n",
    "x_run_nat_list=[]\n",
    "y_run_hz_list=[]\n",
    "y_run_nat_list=[]\n",
    "x_run_hz_list.append(ad_run_hz_10)\n",
    "x_run_nat_list.append(ad_run_nat_10)\n",
    "y_run_hz_list.append(nd_run_hz_10)\n",
    "y_run_nat_list.append(nd_run_nat_10)"
   ]
  },
  {
   "cell_type": "markdown",
   "id": "A2leSxhRXuZG",
   "metadata": {
    "id": "A2leSxhRXuZG"
   },
   "source": [
    "Climbing Down"
   ]
  },
  {
   "cell_type": "code",
   "execution_count": null,
   "id": "-meSreMDX10b",
   "metadata": {
    "id": "-meSreMDX10b"
   },
   "outputs": [],
   "source": [
    "from ts2vg import HorizontalVG\n",
    "import numpy as np\n",
    "g = HorizontalVG()\n",
    "g.build(climbingdown['attr_x'][1000:2024])\n",
    "ig_g_h = g.as_igraph()"
   ]
  },
  {
   "cell_type": "code",
   "execution_count": null,
   "id": "yfa6tO7rX19t",
   "metadata": {
    "colab": {
     "base_uri": "https://localhost:8080/"
    },
    "id": "yfa6tO7rX19t",
    "outputId": "d70cb015-40f6-4d34-ed21-445a4501ea96"
   },
   "outputs": [],
   "source": [
    "print('Number of Nodes:',ig_g_h.vcount())\n",
    "print('Number of Links:',ig_g_h.ecount())\n",
    "print('Average Degree:',np.mean(ig_g_h.degree()))\n",
    "print('Network Diameter:',ig_g_h.diameter())\n",
    "print('Average Path Length:',ig_g_h.average_path_length())"
   ]
  },
  {
   "cell_type": "code",
   "execution_count": null,
   "id": "-ZdQ1azjX2HB",
   "metadata": {
    "id": "-ZdQ1azjX2HB"
   },
   "outputs": [],
   "source": [
    "from ts2vg import NaturalVG\n",
    "g = NaturalVG()\n",
    "g.build(climbingdown['attr_x'][1000:2024])\n",
    "ig_g_n = g.as_igraph()"
   ]
  },
  {
   "cell_type": "code",
   "execution_count": null,
   "id": "fhzjsAegX2Qd",
   "metadata": {
    "colab": {
     "base_uri": "https://localhost:8080/"
    },
    "id": "fhzjsAegX2Qd",
    "outputId": "3966d6b8-ca36-4b96-f159-34f8550205f0"
   },
   "outputs": [],
   "source": [
    "print('Number of Nodes:',ig_g_n.vcount())\n",
    "print('Number of Links:',ig_g_n.ecount())\n",
    "print('Average Degree:',np.mean(ig_g_n.degree()))\n",
    "print('Network Diameter:',ig_g_n.diameter())\n",
    "print('Average Path Length:',ig_g_n.average_path_length())"
   ]
  },
  {
   "cell_type": "code",
   "execution_count": null,
   "id": "PAWh4q7uX2Zt",
   "metadata": {
    "id": "PAWh4q7uX2Zt"
   },
   "outputs": [],
   "source": [
    "ad_climbdown_hz_10=np.mean(ig_g_h.degree())\n",
    "nd_climbdown_hz_10=ig_g_h.diameter()\n",
    "ad_climbdown_nat_10=np.mean(ig_g_n.degree())\n",
    "nd_climbdown_nat_10=ig_g_n.diameter()\n",
    "\n",
    "x_climbdown_hz_list=[]\n",
    "x_climbdown_nat_list=[]\n",
    "y_climbdown_hz_list=[]\n",
    "y_climbdown_nat_list=[]\n",
    "x_climbdown_hz_list.append(ad_climbdown_hz_10)\n",
    "x_climbdown_nat_list.append(ad_climbdown_nat_10)\n",
    "y_climbdown_hz_list.append(nd_climbdown_hz_10)\n",
    "y_climbdown_nat_list.append(nd_climbdown_nat_10)"
   ]
  },
  {
   "cell_type": "markdown",
   "id": "sPOqOd5GXuh7",
   "metadata": {
    "id": "sPOqOd5GXuh7"
   },
   "source": [
    "Climbing Up"
   ]
  },
  {
   "cell_type": "code",
   "execution_count": null,
   "id": "26wt6X7JX0CF",
   "metadata": {
    "id": "26wt6X7JX0CF"
   },
   "outputs": [],
   "source": [
    "from ts2vg import HorizontalVG\n",
    "import numpy as np\n",
    "g = HorizontalVG()\n",
    "g.build(climbingup['attr_x'][1000:2024])\n",
    "ig_g_h = g.as_igraph()"
   ]
  },
  {
   "cell_type": "code",
   "execution_count": null,
   "id": "_gYW0iaYX0KR",
   "metadata": {
    "colab": {
     "base_uri": "https://localhost:8080/"
    },
    "id": "_gYW0iaYX0KR",
    "outputId": "73afc873-7687-46fb-a7af-94078dffe641"
   },
   "outputs": [],
   "source": [
    "print('Number of Nodes:',ig_g_h.vcount())\n",
    "print('Number of Links:',ig_g_h.ecount())\n",
    "print('Average Degree:',np.mean(ig_g_h.degree()))\n",
    "print('Network Diameter:',ig_g_h.diameter())\n",
    "print('Average Path Length:',ig_g_h.average_path_length())"
   ]
  },
  {
   "cell_type": "code",
   "execution_count": null,
   "id": "1HloCyekX0TU",
   "metadata": {
    "id": "1HloCyekX0TU"
   },
   "outputs": [],
   "source": [
    "from ts2vg import NaturalVG\n",
    "g = NaturalVG()\n",
    "g.build(climbingup['attr_x'][1000:2024])\n",
    "ig_g_n = g.as_igraph()"
   ]
  },
  {
   "cell_type": "code",
   "execution_count": null,
   "id": "GcmAt2VYX0cn",
   "metadata": {
    "colab": {
     "base_uri": "https://localhost:8080/"
    },
    "id": "GcmAt2VYX0cn",
    "outputId": "33420cac-b1fa-4a2c-b0a1-f71c9046775d"
   },
   "outputs": [],
   "source": [
    "print('Number of Nodes:',ig_g_n.vcount())\n",
    "print('Number of Links:',ig_g_n.ecount())\n",
    "print('Average Degree:',np.mean(ig_g_n.degree()))\n",
    "print('Network Diameter:',ig_g_n.diameter())\n",
    "print('Average Path Length:',ig_g_n.average_path_length())"
   ]
  },
  {
   "cell_type": "code",
   "execution_count": null,
   "id": "dVkv5Wv9X0xu",
   "metadata": {
    "id": "dVkv5Wv9X0xu"
   },
   "outputs": [],
   "source": [
    "ad_climbingup_hz_10=np.mean(ig_g_h.degree())\n",
    "nd_climbingup_hz_10=ig_g_h.diameter()\n",
    "ad_climbingup_nat_10=np.mean(ig_g_n.degree())\n",
    "nd_climbingup_nat_10=ig_g_n.diameter()\n",
    "\n",
    "x_climbingup_hz_list=[]\n",
    "x_climbingup_nat_list=[]\n",
    "y_climbingup_hz_list=[]\n",
    "y_climbingup_nat_list=[]\n",
    "x_climbingup_hz_list.append(ad_climbingup_hz_10)\n",
    "x_climbingup_nat_list.append(ad_climbingup_nat_10)\n",
    "y_climbingup_hz_list.append(nd_climbingup_hz_10)\n",
    "y_climbingup_nat_list.append(nd_climbingup_nat_10)"
   ]
  },
  {
   "cell_type": "markdown",
   "id": "II9TUjP_Zsfr",
   "metadata": {
    "id": "II9TUjP_Zsfr"
   },
   "source": [
    "#Subject 11"
   ]
  },
  {
   "cell_type": "markdown",
   "id": "BRYJj4d7ZspI",
   "metadata": {
    "id": "BRYJj4d7ZspI"
   },
   "source": [
    "Walking"
   ]
  },
  {
   "cell_type": "code",
   "execution_count": null,
   "id": "Ykz2oHfiZzRz",
   "metadata": {
    "id": "Ykz2oHfiZzRz"
   },
   "outputs": [],
   "source": [
    "from ts2vg import HorizontalVG\n",
    "import numpy as np\n",
    "g = HorizontalVG()\n",
    "g.build(walking['attr_x'][1000:2024])\n",
    "ig_g_h = g.as_igraph()"
   ]
  },
  {
   "cell_type": "code",
   "execution_count": null,
   "id": "MJ2m3KIdZzZk",
   "metadata": {
    "colab": {
     "base_uri": "https://localhost:8080/"
    },
    "id": "MJ2m3KIdZzZk",
    "outputId": "5a2d63a6-d77f-461a-8a41-862e908c4af0"
   },
   "outputs": [],
   "source": [
    "print('Number of Nodes:',ig_g_h.vcount())\n",
    "print('Number of Links:',ig_g_h.ecount())\n",
    "print('Average Degree:',np.mean(ig_g_h.degree()))\n",
    "print('Network Diameter:',ig_g_h.diameter())\n",
    "print('Average Path Length:',ig_g_h.average_path_length())"
   ]
  },
  {
   "cell_type": "code",
   "execution_count": null,
   "id": "XUZEBh-VZzi-",
   "metadata": {
    "id": "XUZEBh-VZzi-"
   },
   "outputs": [],
   "source": [
    "from ts2vg import NaturalVG\n",
    "g = NaturalVG()\n",
    "g.build(walking['attr_x'][1000:2024])\n",
    "ig_g_n = g.as_igraph()"
   ]
  },
  {
   "cell_type": "code",
   "execution_count": null,
   "id": "71An3KqRZzrp",
   "metadata": {
    "colab": {
     "base_uri": "https://localhost:8080/"
    },
    "id": "71An3KqRZzrp",
    "outputId": "fb30b6a8-50ff-467d-cc33-da341fa4ee7c"
   },
   "outputs": [],
   "source": [
    "print('Number of Nodes:',ig_g_n.vcount())\n",
    "print('Number of Links:',ig_g_n.ecount())\n",
    "print('Average Degree:',np.mean(ig_g_n.degree()))\n",
    "print('Network Diameter:',ig_g_n.diameter())\n",
    "print('Average Path Length:',ig_g_n.average_path_length())"
   ]
  },
  {
   "cell_type": "code",
   "execution_count": null,
   "id": "6vbyT5jYZz27",
   "metadata": {
    "id": "6vbyT5jYZz27"
   },
   "outputs": [],
   "source": [
    "ad_walk_hz_11=np.mean(ig_g_h.degree())\n",
    "nd_walk_hz_11=ig_g_h.diameter()\n",
    "ad_walk_nat_11=np.mean(ig_g_n.degree())\n",
    "nd_walk_nat_11=ig_g_n.diameter()\n",
    "\n",
    "x_walk_hz_list=[]\n",
    "x_walk_nat_list=[]\n",
    "y_walk_hz_list=[]\n",
    "y_walk_nat_list=[]\n",
    "x_walk_hz_list.append(ad_walk_hz_11)\n",
    "x_walk_nat_list.append(ad_walk_nat_11)\n",
    "y_walk_hz_list.append(nd_walk_hz_11)\n",
    "y_walk_nat_list.append(nd_walk_nat_11)"
   ]
  },
  {
   "cell_type": "markdown",
   "id": "BoMHH59JZtI3",
   "metadata": {
    "id": "BoMHH59JZtI3"
   },
   "source": [
    "Running"
   ]
  },
  {
   "cell_type": "code",
   "execution_count": null,
   "id": "jUP62cWmZ0g6",
   "metadata": {
    "id": "jUP62cWmZ0g6"
   },
   "outputs": [],
   "source": [
    "from ts2vg import HorizontalVG\n",
    "import numpy as np\n",
    "g = HorizontalVG()\n",
    "g.build(running['attr_x'][1000:2024])\n",
    "ig_g_h = g.as_igraph()"
   ]
  },
  {
   "cell_type": "code",
   "execution_count": null,
   "id": "T6iT0KyaaILA",
   "metadata": {
    "colab": {
     "base_uri": "https://localhost:8080/"
    },
    "id": "T6iT0KyaaILA",
    "outputId": "f2d6446b-b881-408a-8f0e-95137afd2f23"
   },
   "outputs": [],
   "source": [
    "print('Number of Nodes:',ig_g_h.vcount())\n",
    "print('Number of Links:',ig_g_h.ecount())\n",
    "print('Average Degree:',np.mean(ig_g_h.degree()))\n",
    "print('Network Diameter:',ig_g_h.diameter())\n",
    "print('Average Path Length:',ig_g_h.average_path_length())"
   ]
  },
  {
   "cell_type": "code",
   "execution_count": null,
   "id": "It4bY1TUZ0qV",
   "metadata": {
    "id": "It4bY1TUZ0qV"
   },
   "outputs": [],
   "source": [
    "from ts2vg import NaturalVG\n",
    "g = NaturalVG()\n",
    "g.build(running['attr_x'][1000:2024])\n",
    "ig_g_n = g.as_igraph()"
   ]
  },
  {
   "cell_type": "code",
   "execution_count": null,
   "id": "gE_Z-3HqZ01D",
   "metadata": {
    "colab": {
     "base_uri": "https://localhost:8080/"
    },
    "id": "gE_Z-3HqZ01D",
    "outputId": "5096e885-ef07-43a5-9324-340b6e68d967"
   },
   "outputs": [],
   "source": [
    "print('Number of Nodes:',ig_g_n.vcount())\n",
    "print('Number of Links:',ig_g_n.ecount())\n",
    "print('Average Degree:',np.mean(ig_g_n.degree()))\n",
    "print('Network Diameter:',ig_g_n.diameter())\n",
    "print('Average Path Length:',ig_g_n.average_path_length())"
   ]
  },
  {
   "cell_type": "code",
   "execution_count": null,
   "id": "H3elqIY5Z0_D",
   "metadata": {
    "id": "H3elqIY5Z0_D"
   },
   "outputs": [],
   "source": [
    "ad_run_hz_11=np.mean(ig_g_h.degree())\n",
    "nd_run_hz_11=ig_g_h.diameter()\n",
    "ad_run_nat_11=np.mean(ig_g_n.degree())\n",
    "nd_run_nat_11=ig_g_n.diameter()\n",
    "\n",
    "x_run_hz_list=[]\n",
    "x_run_nat_list=[]\n",
    "y_run_hz_list=[]\n",
    "y_run_nat_list=[]\n",
    "x_run_hz_list.append(ad_run_hz_11)\n",
    "x_run_nat_list.append(ad_run_nat_11)\n",
    "y_run_hz_list.append(nd_run_hz_11)\n",
    "y_run_nat_list.append(nd_run_nat_11)"
   ]
  },
  {
   "cell_type": "markdown",
   "id": "IpOmKLgIZtV-",
   "metadata": {
    "id": "IpOmKLgIZtV-"
   },
   "source": [
    "Climbing Down"
   ]
  },
  {
   "cell_type": "code",
   "execution_count": null,
   "id": "ioRP14clZ1ty",
   "metadata": {
    "id": "ioRP14clZ1ty"
   },
   "outputs": [],
   "source": [
    "from ts2vg import HorizontalVG\n",
    "import numpy as np\n",
    "g = HorizontalVG()\n",
    "g.build(climbingdown['attr_x'][1000:2024])\n",
    "ig_g_h = g.as_igraph()"
   ]
  },
  {
   "cell_type": "code",
   "execution_count": null,
   "id": "hOE9_T3IZ12P",
   "metadata": {
    "colab": {
     "base_uri": "https://localhost:8080/"
    },
    "id": "hOE9_T3IZ12P",
    "outputId": "a7524062-abc7-4bf6-902c-eafe6638670b"
   },
   "outputs": [],
   "source": [
    "print('Number of Nodes:',ig_g_h.vcount())\n",
    "print('Number of Links:',ig_g_h.ecount())\n",
    "print('Average Degree:',np.mean(ig_g_h.degree()))\n",
    "print('Network Diameter:',ig_g_h.diameter())\n",
    "print('Average Path Length:',ig_g_h.average_path_length())"
   ]
  },
  {
   "cell_type": "code",
   "execution_count": null,
   "id": "RnSpjOb-Z1_N",
   "metadata": {
    "id": "RnSpjOb-Z1_N"
   },
   "outputs": [],
   "source": [
    "from ts2vg import NaturalVG\n",
    "g = NaturalVG()\n",
    "g.build(climbingdown['attr_x'][1000:2024])\n",
    "ig_g_n = g.as_igraph()"
   ]
  },
  {
   "cell_type": "code",
   "execution_count": null,
   "id": "-NVOdjTPZ2Ik",
   "metadata": {
    "colab": {
     "base_uri": "https://localhost:8080/"
    },
    "id": "-NVOdjTPZ2Ik",
    "outputId": "d084551a-c460-4b3e-9fe8-c7db4836bf49"
   },
   "outputs": [],
   "source": [
    "print('Number of Nodes:',ig_g_n.vcount())\n",
    "print('Number of Links:',ig_g_n.ecount())\n",
    "print('Average Degree:',np.mean(ig_g_n.degree()))\n",
    "print('Network Diameter:',ig_g_n.diameter())\n",
    "print('Average Path Length:',ig_g_n.average_path_length())"
   ]
  },
  {
   "cell_type": "code",
   "execution_count": null,
   "id": "kQx2my-nZ2at",
   "metadata": {
    "id": "kQx2my-nZ2at"
   },
   "outputs": [],
   "source": [
    "ad_climbdown_hz_11=np.mean(ig_g_h.degree())\n",
    "nd_climbdown_hz_11=ig_g_h.diameter()\n",
    "ad_climbdown_nat_11=np.mean(ig_g_n.degree())\n",
    "nd_climbdown_nat_11=ig_g_n.diameter()\n",
    "\n",
    "x_climbdown_hz_list=[]\n",
    "x_climbdown_nat_list=[]\n",
    "y_climbdown_hz_list=[]\n",
    "y_climbdown_nat_list=[]\n",
    "x_climbdown_hz_list.append(ad_climbdown_hz_11)\n",
    "x_climbdown_nat_list.append(ad_climbdown_nat_11)\n",
    "y_climbdown_hz_list.append(nd_climbdown_hz_11)\n",
    "y_climbdown_nat_list.append(nd_climbdown_nat_11)"
   ]
  },
  {
   "cell_type": "markdown",
   "id": "ITLVrKA6Ztgj",
   "metadata": {
    "id": "ITLVrKA6Ztgj"
   },
   "source": [
    "Climbing Up"
   ]
  },
  {
   "cell_type": "code",
   "execution_count": null,
   "id": "82vi16uzZ37W",
   "metadata": {
    "id": "82vi16uzZ37W"
   },
   "outputs": [],
   "source": [
    "from ts2vg import HorizontalVG\n",
    "import numpy as np\n",
    "g = HorizontalVG()\n",
    "g.build(climbingup['attr_x'][1000:2024])\n",
    "ig_g_h = g.as_igraph()"
   ]
  },
  {
   "cell_type": "code",
   "execution_count": null,
   "id": "CNCS_tvBZ4Eu",
   "metadata": {
    "colab": {
     "base_uri": "https://localhost:8080/"
    },
    "id": "CNCS_tvBZ4Eu",
    "outputId": "13526366-e46a-43d2-a345-0831a46842fe"
   },
   "outputs": [],
   "source": [
    "print('Number of Nodes:',ig_g_h.vcount())\n",
    "print('Number of Links:',ig_g_h.ecount())\n",
    "print('Average Degree:',np.mean(ig_g_h.degree()))\n",
    "print('Network Diameter:',ig_g_h.diameter())\n",
    "print('Average Path Length:',ig_g_h.average_path_length())"
   ]
  },
  {
   "cell_type": "code",
   "execution_count": null,
   "id": "7N446kddZ4TK",
   "metadata": {
    "id": "7N446kddZ4TK"
   },
   "outputs": [],
   "source": [
    "from ts2vg import NaturalVG\n",
    "g = NaturalVG()\n",
    "g.build(climbingup['attr_x'][1000:2024])\n",
    "ig_g_n = g.as_igraph()"
   ]
  },
  {
   "cell_type": "code",
   "execution_count": null,
   "id": "L7o-etPxZ4d7",
   "metadata": {
    "colab": {
     "base_uri": "https://localhost:8080/"
    },
    "id": "L7o-etPxZ4d7",
    "outputId": "5d35325f-9aac-42b3-9eaf-c81ee8e0741a"
   },
   "outputs": [],
   "source": [
    "print('Number of Nodes:',ig_g_n.vcount())\n",
    "print('Number of Links:',ig_g_n.ecount())\n",
    "print('Average Degree:',np.mean(ig_g_n.degree()))\n",
    "print('Network Diameter:',ig_g_n.diameter())\n",
    "print('Average Path Length:',ig_g_n.average_path_length())"
   ]
  },
  {
   "cell_type": "code",
   "execution_count": null,
   "id": "BFUqPehqZ4t_",
   "metadata": {
    "id": "BFUqPehqZ4t_"
   },
   "outputs": [],
   "source": [
    "ad_climbingup_hz_11=np.mean(ig_g_h.degree())\n",
    "nd_climbingup_hz_11=ig_g_h.diameter()\n",
    "ad_climbingup_nat_11=np.mean(ig_g_n.degree())\n",
    "nd_climbingup_nat_11=ig_g_n.diameter()\n",
    "\n",
    "x_climbingup_hz_list=[]\n",
    "x_climbingup_nat_list=[]\n",
    "y_climbingup_hz_list=[]\n",
    "y_climbingup_nat_list=[]\n",
    "x_climbingup_hz_list.append(ad_climbingup_hz_11)\n",
    "x_climbingup_nat_list.append(ad_climbingup_nat_11)\n",
    "y_climbingup_hz_list.append(nd_climbingup_hz_11)\n",
    "y_climbingup_nat_list.append(nd_climbingup_nat_11)"
   ]
  },
  {
   "cell_type": "markdown",
   "id": "4QXEXUM8bozm",
   "metadata": {
    "id": "4QXEXUM8bozm"
   },
   "source": [
    "#Subject 12"
   ]
  },
  {
   "cell_type": "markdown",
   "id": "njWlvsKMbo8p",
   "metadata": {
    "id": "njWlvsKMbo8p"
   },
   "source": [
    "Walking"
   ]
  },
  {
   "cell_type": "code",
   "execution_count": null,
   "id": "Ws455EBGbwE_",
   "metadata": {
    "id": "Ws455EBGbwE_"
   },
   "outputs": [],
   "source": [
    "from ts2vg import HorizontalVG\n",
    "import numpy as np\n",
    "g = HorizontalVG()\n",
    "g.build(walking['attr_x'][1000:2024])\n",
    "ig_g_h = g.as_igraph()"
   ]
  },
  {
   "cell_type": "code",
   "execution_count": null,
   "id": "97R141-HbwOz",
   "metadata": {
    "colab": {
     "base_uri": "https://localhost:8080/"
    },
    "id": "97R141-HbwOz",
    "outputId": "18467032-752d-4f51-9da4-7c9dc558fc8c"
   },
   "outputs": [],
   "source": [
    "print('Number of Nodes:',ig_g_h.vcount())\n",
    "print('Number of Links:',ig_g_h.ecount())\n",
    "print('Average Degree:',np.mean(ig_g_h.degree()))\n",
    "print('Network Diameter:',ig_g_h.diameter())\n",
    "print('Average Path Length:',ig_g_h.average_path_length())"
   ]
  },
  {
   "cell_type": "code",
   "execution_count": null,
   "id": "8H9BHudTbwcY",
   "metadata": {
    "id": "8H9BHudTbwcY"
   },
   "outputs": [],
   "source": [
    "from ts2vg import NaturalVG\n",
    "g = NaturalVG()\n",
    "g.build(walking['attr_x'][1000:2024])\n",
    "ig_g_n = g.as_igraph()"
   ]
  },
  {
   "cell_type": "code",
   "execution_count": null,
   "id": "XGu7j41dbwns",
   "metadata": {
    "colab": {
     "base_uri": "https://localhost:8080/"
    },
    "id": "XGu7j41dbwns",
    "outputId": "6ba75635-663a-49e5-8bdc-356e35cd70ef"
   },
   "outputs": [],
   "source": [
    "print('Number of Nodes:',ig_g_n.vcount())\n",
    "print('Number of Links:',ig_g_n.ecount())\n",
    "print('Average Degree:',np.mean(ig_g_n.degree()))\n",
    "print('Network Diameter:',ig_g_n.diameter())\n",
    "print('Average Path Length:',ig_g_n.average_path_length())"
   ]
  },
  {
   "cell_type": "code",
   "execution_count": null,
   "id": "g_tlkBtzbwyj",
   "metadata": {
    "id": "g_tlkBtzbwyj"
   },
   "outputs": [],
   "source": [
    "ad_walk_hz_12=np.mean(ig_g_h.degree())\n",
    "nd_walk_hz_12=ig_g_h.diameter()\n",
    "ad_walk_nat_12=np.mean(ig_g_n.degree())\n",
    "nd_walk_nat_12=ig_g_n.diameter()\n",
    "\n",
    "x_walk_hz_list=[]\n",
    "x_walk_nat_list=[]\n",
    "y_walk_hz_list=[]\n",
    "y_walk_nat_list=[]\n",
    "x_walk_hz_list.append(ad_walk_hz_12)\n",
    "x_walk_nat_list.append(ad_walk_nat_12)\n",
    "y_walk_hz_list.append(nd_walk_hz_12)\n",
    "y_walk_nat_list.append(nd_walk_nat_12)"
   ]
  },
  {
   "cell_type": "markdown",
   "id": "O2qk0drmbpHB",
   "metadata": {
    "id": "O2qk0drmbpHB"
   },
   "source": [
    "Running"
   ]
  },
  {
   "cell_type": "code",
   "execution_count": null,
   "id": "j5U95w2gbxhO",
   "metadata": {
    "id": "j5U95w2gbxhO"
   },
   "outputs": [],
   "source": [
    "from ts2vg import HorizontalVG\n",
    "import numpy as np\n",
    "g = HorizontalVG()\n",
    "g.build(running['attr_x'][1000:2024])\n",
    "ig_g_h = g.as_igraph()"
   ]
  },
  {
   "cell_type": "code",
   "execution_count": null,
   "id": "lHnCu15cbxrs",
   "metadata": {
    "colab": {
     "base_uri": "https://localhost:8080/"
    },
    "id": "lHnCu15cbxrs",
    "outputId": "a80d25fb-c90a-441c-c7cd-c3eb71231ed1"
   },
   "outputs": [],
   "source": [
    "print('Number of Nodes:',ig_g_h.vcount())\n",
    "print('Number of Links:',ig_g_h.ecount())\n",
    "print('Average Degree:',np.mean(ig_g_h.degree()))\n",
    "print('Network Diameter:',ig_g_h.diameter())\n",
    "print('Average Path Length:',ig_g_h.average_path_length())"
   ]
  },
  {
   "cell_type": "code",
   "execution_count": null,
   "id": "cV05-XqAbx1T",
   "metadata": {
    "id": "cV05-XqAbx1T"
   },
   "outputs": [],
   "source": [
    "from ts2vg import NaturalVG\n",
    "g = NaturalVG()\n",
    "g.build(running['attr_x'][1000:2024])\n",
    "ig_g_n = g.as_igraph()"
   ]
  },
  {
   "cell_type": "code",
   "execution_count": null,
   "id": "cxInT9mSbx-a",
   "metadata": {
    "colab": {
     "base_uri": "https://localhost:8080/"
    },
    "id": "cxInT9mSbx-a",
    "outputId": "75aba16c-d7f3-4a13-f535-9b6e8477fb2c"
   },
   "outputs": [],
   "source": [
    "print('Number of Nodes:',ig_g_n.vcount())\n",
    "print('Number of Links:',ig_g_n.ecount())\n",
    "print('Average Degree:',np.mean(ig_g_n.degree()))\n",
    "print('Network Diameter:',ig_g_n.diameter())\n",
    "print('Average Path Length:',ig_g_n.average_path_length())"
   ]
  },
  {
   "cell_type": "code",
   "execution_count": null,
   "id": "WWmQv5G9byHC",
   "metadata": {
    "id": "WWmQv5G9byHC"
   },
   "outputs": [],
   "source": [
    "ad_run_hz_12=np.mean(ig_g_h.degree())\n",
    "nd_run_hz_12=ig_g_h.diameter()\n",
    "ad_run_nat_12=np.mean(ig_g_n.degree())\n",
    "nd_run_nat_12=ig_g_n.diameter()\n",
    "\n",
    "x_run_hz_list=[]\n",
    "x_run_nat_list=[]\n",
    "y_run_hz_list=[]\n",
    "y_run_nat_list=[]\n",
    "x_run_hz_list.append(ad_run_hz_12)\n",
    "x_run_nat_list.append(ad_run_nat_12)\n",
    "y_run_hz_list.append(nd_run_hz_12)\n",
    "y_run_nat_list.append(nd_run_nat_12)"
   ]
  },
  {
   "cell_type": "markdown",
   "id": "XFSMpHoubpQD",
   "metadata": {
    "id": "XFSMpHoubpQD"
   },
   "source": [
    "Climbing Down"
   ]
  },
  {
   "cell_type": "code",
   "execution_count": null,
   "id": "iX_nSSH0byyj",
   "metadata": {
    "id": "iX_nSSH0byyj"
   },
   "outputs": [],
   "source": [
    "from ts2vg import HorizontalVG\n",
    "import numpy as np\n",
    "g = HorizontalVG()\n",
    "g.build(climbingdown['attr_x'][1000:2024])\n",
    "ig_g_h = g.as_igraph()"
   ]
  },
  {
   "cell_type": "code",
   "execution_count": null,
   "id": "frJPMgjkby7E",
   "metadata": {
    "colab": {
     "base_uri": "https://localhost:8080/"
    },
    "id": "frJPMgjkby7E",
    "outputId": "5e0e0363-91b9-4801-b067-74ec5a788efe"
   },
   "outputs": [],
   "source": [
    "print('Number of Nodes:',ig_g_h.vcount())\n",
    "print('Number of Links:',ig_g_h.ecount())\n",
    "print('Average Degree:',np.mean(ig_g_h.degree()))\n",
    "print('Network Diameter:',ig_g_h.diameter())\n",
    "print('Average Path Length:',ig_g_h.average_path_length())"
   ]
  },
  {
   "cell_type": "code",
   "execution_count": null,
   "id": "UqRcAJkNbzE1",
   "metadata": {
    "id": "UqRcAJkNbzE1"
   },
   "outputs": [],
   "source": [
    "from ts2vg import NaturalVG\n",
    "g = NaturalVG()\n",
    "g.build(climbingdown['attr_x'][1000:2024])\n",
    "ig_g_n = g.as_igraph()"
   ]
  },
  {
   "cell_type": "code",
   "execution_count": null,
   "id": "SR2fDiyubzOf",
   "metadata": {
    "colab": {
     "base_uri": "https://localhost:8080/"
    },
    "id": "SR2fDiyubzOf",
    "outputId": "e151e1e5-043e-41de-fa91-5179f272cc07"
   },
   "outputs": [],
   "source": [
    "print('Number of Nodes:',ig_g_n.vcount())\n",
    "print('Number of Links:',ig_g_n.ecount())\n",
    "print('Average Degree:',np.mean(ig_g_n.degree()))\n",
    "print('Network Diameter:',ig_g_n.diameter())\n",
    "print('Average Path Length:',ig_g_n.average_path_length())"
   ]
  },
  {
   "cell_type": "code",
   "execution_count": null,
   "id": "TfJRHgLdbzY2",
   "metadata": {
    "id": "TfJRHgLdbzY2"
   },
   "outputs": [],
   "source": [
    "ad_climbdown_hz_12=np.mean(ig_g_h.degree())\n",
    "nd_climbdown_hz_12=ig_g_h.diameter()\n",
    "ad_climbdown_nat_12=np.mean(ig_g_n.degree())\n",
    "nd_climbdown_nat_12=ig_g_n.diameter()\n",
    "\n",
    "x_climbdown_hz_list=[]\n",
    "x_climbdown_nat_list=[]\n",
    "y_climbdown_hz_list=[]\n",
    "y_climbdown_nat_list=[]\n",
    "x_climbdown_hz_list.append(ad_climbdown_hz_12)\n",
    "x_climbdown_nat_list.append(ad_climbdown_nat_12)\n",
    "y_climbdown_hz_list.append(nd_climbdown_hz_12)\n",
    "y_climbdown_nat_list.append(nd_climbdown_nat_12)"
   ]
  },
  {
   "cell_type": "markdown",
   "id": "8wC3amwXbpYe",
   "metadata": {
    "id": "8wC3amwXbpYe"
   },
   "source": [
    "Climbing Up"
   ]
  },
  {
   "cell_type": "code",
   "execution_count": null,
   "id": "A-fGwzmrb0Ck",
   "metadata": {
    "id": "A-fGwzmrb0Ck"
   },
   "outputs": [],
   "source": [
    "from ts2vg import HorizontalVG\n",
    "import numpy as np\n",
    "g = HorizontalVG()\n",
    "g.build(climbingup['attr_x'][1000:2024])\n",
    "ig_g_h = g.as_igraph()"
   ]
  },
  {
   "cell_type": "code",
   "execution_count": null,
   "id": "P8sQcRA1b0Ks",
   "metadata": {
    "colab": {
     "base_uri": "https://localhost:8080/"
    },
    "id": "P8sQcRA1b0Ks",
    "outputId": "1188223d-d56f-4284-8f08-dabf46f1a83a"
   },
   "outputs": [],
   "source": [
    "print('Number of Nodes:',ig_g_h.vcount())\n",
    "print('Number of Links:',ig_g_h.ecount())\n",
    "print('Average Degree:',np.mean(ig_g_h.degree()))\n",
    "print('Network Diameter:',ig_g_h.diameter())\n",
    "print('Average Path Length:',ig_g_h.average_path_length())"
   ]
  },
  {
   "cell_type": "code",
   "execution_count": null,
   "id": "1-AMa29xb0T3",
   "metadata": {
    "id": "1-AMa29xb0T3"
   },
   "outputs": [],
   "source": [
    "from ts2vg import NaturalVG\n",
    "g = NaturalVG()\n",
    "g.build(climbingup['attr_x'][1000:2024])\n",
    "ig_g_n = g.as_igraph()"
   ]
  },
  {
   "cell_type": "code",
   "execution_count": null,
   "id": "CAujxFjGb0eo",
   "metadata": {
    "colab": {
     "base_uri": "https://localhost:8080/"
    },
    "id": "CAujxFjGb0eo",
    "outputId": "0151787b-bfc1-4a6d-ea35-be2dda02d04a"
   },
   "outputs": [],
   "source": [
    "print('Number of Nodes:',ig_g_n.vcount())\n",
    "print('Number of Links:',ig_g_n.ecount())\n",
    "print('Average Degree:',np.mean(ig_g_n.degree()))\n",
    "print('Network Diameter:',ig_g_n.diameter())\n",
    "print('Average Path Length:',ig_g_n.average_path_length())"
   ]
  },
  {
   "cell_type": "code",
   "execution_count": null,
   "id": "EIcxLV1tb0nY",
   "metadata": {
    "id": "EIcxLV1tb0nY"
   },
   "outputs": [],
   "source": [
    "ad_climbingup_hz_12=np.mean(ig_g_h.degree())\n",
    "nd_climbingup_hz_12=ig_g_h.diameter()\n",
    "ad_climbingup_nat_12=np.mean(ig_g_n.degree())\n",
    "nd_climbingup_nat_12=ig_g_n.diameter()\n",
    "\n",
    "x_climbingup_hz_list=[]\n",
    "x_climbingup_nat_list=[]\n",
    "y_climbingup_hz_list=[]\n",
    "y_climbingup_nat_list=[]\n",
    "x_climbingup_hz_list.append(ad_climbingup_hz_12)\n",
    "x_climbingup_nat_list.append(ad_climbingup_nat_12)\n",
    "y_climbingup_hz_list.append(nd_climbingup_hz_12)\n",
    "y_climbingup_nat_list.append(nd_climbingup_nat_12)"
   ]
  },
  {
   "cell_type": "markdown",
   "id": "q-pXKullcxrL",
   "metadata": {
    "id": "q-pXKullcxrL"
   },
   "source": [
    "#Subject 13"
   ]
  },
  {
   "cell_type": "markdown",
   "id": "uUkMhFCncxzY",
   "metadata": {
    "id": "uUkMhFCncxzY"
   },
   "source": [
    "Walking"
   ]
  },
  {
   "cell_type": "code",
   "execution_count": null,
   "id": "VWnummbjc4vy",
   "metadata": {
    "id": "VWnummbjc4vy"
   },
   "outputs": [],
   "source": [
    "from ts2vg import HorizontalVG\n",
    "import numpy as np\n",
    "g = HorizontalVG()\n",
    "g.build(walking['attr_x'][1000:2024])\n",
    "ig_g_h = g.as_igraph()"
   ]
  },
  {
   "cell_type": "code",
   "execution_count": null,
   "id": "xrFnFCK5c42o",
   "metadata": {
    "colab": {
     "base_uri": "https://localhost:8080/"
    },
    "id": "xrFnFCK5c42o",
    "outputId": "a266e934-80b3-4de5-eab2-5f7f00236e07"
   },
   "outputs": [],
   "source": [
    "print('Number of Nodes:',ig_g_h.vcount())\n",
    "print('Number of Links:',ig_g_h.ecount())\n",
    "print('Average Degree:',np.mean(ig_g_h.degree()))\n",
    "print('Network Diameter:',ig_g_h.diameter())\n",
    "print('Average Path Length:',ig_g_h.average_path_length())"
   ]
  },
  {
   "cell_type": "code",
   "execution_count": null,
   "id": "sjnktiQPc5Ao",
   "metadata": {
    "id": "sjnktiQPc5Ao"
   },
   "outputs": [],
   "source": [
    "from ts2vg import NaturalVG\n",
    "g = NaturalVG()\n",
    "g.build(walking['attr_x'][1000:2024])\n",
    "ig_g_n = g.as_igraph()"
   ]
  },
  {
   "cell_type": "code",
   "execution_count": null,
   "id": "XiYOqgIac5LP",
   "metadata": {
    "colab": {
     "base_uri": "https://localhost:8080/"
    },
    "id": "XiYOqgIac5LP",
    "outputId": "7a540f4d-8a4c-4ad1-a5e8-17384e76e438"
   },
   "outputs": [],
   "source": [
    "print('Number of Nodes:',ig_g_n.vcount())\n",
    "print('Number of Links:',ig_g_n.ecount())\n",
    "print('Average Degree:',np.mean(ig_g_n.degree()))\n",
    "print('Network Diameter:',ig_g_n.diameter())\n",
    "print('Average Path Length:',ig_g_n.average_path_length())"
   ]
  },
  {
   "cell_type": "code",
   "execution_count": null,
   "id": "6G08Y8kMc5X1",
   "metadata": {
    "id": "6G08Y8kMc5X1"
   },
   "outputs": [],
   "source": [
    "ad_walk_hz_13=np.mean(ig_g_h.degree())\n",
    "nd_walk_hz_13=ig_g_h.diameter()\n",
    "ad_walk_nat_13=np.mean(ig_g_n.degree())\n",
    "nd_walk_nat_13=ig_g_n.diameter()\n",
    "\n",
    "x_walk_hz_list=[]\n",
    "x_walk_nat_list=[]\n",
    "y_walk_hz_list=[]\n",
    "y_walk_nat_list=[]\n",
    "x_walk_hz_list.append(ad_walk_hz_13)\n",
    "x_walk_nat_list.append(ad_walk_nat_13)\n",
    "y_walk_hz_list.append(nd_walk_hz_13)\n",
    "y_walk_nat_list.append(nd_walk_nat_13)"
   ]
  },
  {
   "cell_type": "markdown",
   "id": "MMhioucscx9H",
   "metadata": {
    "id": "MMhioucscx9H"
   },
   "source": [
    "Running"
   ]
  },
  {
   "cell_type": "code",
   "execution_count": null,
   "id": "42wnUUeic5_n",
   "metadata": {
    "id": "42wnUUeic5_n"
   },
   "outputs": [],
   "source": [
    "from ts2vg import HorizontalVG\n",
    "import numpy as np\n",
    "g = HorizontalVG()\n",
    "g.build(running['attr_x'][1000:2024])\n",
    "ig_g_h = g.as_igraph()"
   ]
  },
  {
   "cell_type": "code",
   "execution_count": null,
   "id": "_HCgNhrhc6Ip",
   "metadata": {
    "colab": {
     "base_uri": "https://localhost:8080/"
    },
    "id": "_HCgNhrhc6Ip",
    "outputId": "1cc49d4a-9dec-455f-d737-0336be371947"
   },
   "outputs": [],
   "source": [
    "print('Number of Nodes:',ig_g_h.vcount())\n",
    "print('Number of Links:',ig_g_h.ecount())\n",
    "print('Average Degree:',np.mean(ig_g_h.degree()))\n",
    "print('Network Diameter:',ig_g_h.diameter())\n",
    "print('Average Path Length:',ig_g_h.average_path_length())"
   ]
  },
  {
   "cell_type": "code",
   "execution_count": null,
   "id": "juTkI2Uzc6Sk",
   "metadata": {
    "id": "juTkI2Uzc6Sk"
   },
   "outputs": [],
   "source": [
    "from ts2vg import NaturalVG\n",
    "g = NaturalVG()\n",
    "g.build(running['attr_x'][1000:2024])\n",
    "ig_g_n = g.as_igraph()"
   ]
  },
  {
   "cell_type": "code",
   "execution_count": null,
   "id": "chOOniphc6cu",
   "metadata": {
    "colab": {
     "base_uri": "https://localhost:8080/"
    },
    "id": "chOOniphc6cu",
    "outputId": "3c0bda17-4c59-4f4d-bdf3-dcd848306a98"
   },
   "outputs": [],
   "source": [
    "print('Number of Nodes:',ig_g_n.vcount())\n",
    "print('Number of Links:',ig_g_n.ecount())\n",
    "print('Average Degree:',np.mean(ig_g_n.degree()))\n",
    "print('Network Diameter:',ig_g_n.diameter())\n",
    "print('Average Path Length:',ig_g_n.average_path_length())"
   ]
  },
  {
   "cell_type": "code",
   "execution_count": null,
   "id": "9nI-44Ruc67A",
   "metadata": {
    "id": "9nI-44Ruc67A"
   },
   "outputs": [],
   "source": [
    "ad_run_hz_13=np.mean(ig_g_h.degree())\n",
    "nd_run_hz_13=ig_g_h.diameter()\n",
    "ad_run_nat_13=np.mean(ig_g_n.degree())\n",
    "nd_run_nat_13=ig_g_n.diameter()\n",
    "\n",
    "x_run_hz_list=[]\n",
    "x_run_nat_list=[]\n",
    "y_run_hz_list=[]\n",
    "y_run_nat_list=[]\n",
    "x_run_hz_list.append(ad_run_hz_13)\n",
    "x_run_nat_list.append(ad_run_nat_13)\n",
    "y_run_hz_list.append(nd_run_hz_13)\n",
    "y_run_nat_list.append(nd_run_nat_13)"
   ]
  },
  {
   "cell_type": "markdown",
   "id": "BJ9Y7WsacyH_",
   "metadata": {
    "id": "BJ9Y7WsacyH_"
   },
   "source": [
    "Climbing Down"
   ]
  },
  {
   "cell_type": "code",
   "execution_count": null,
   "id": "qiUE6Wxwc7qW",
   "metadata": {
    "id": "qiUE6Wxwc7qW"
   },
   "outputs": [],
   "source": [
    "from ts2vg import HorizontalVG\n",
    "import numpy as np\n",
    "g = HorizontalVG()\n",
    "g.build(climbingdown['attr_x'][1000:2024])\n",
    "ig_g_h = g.as_igraph()"
   ]
  },
  {
   "cell_type": "code",
   "execution_count": null,
   "id": "kQ7o__coc7zN",
   "metadata": {
    "colab": {
     "base_uri": "https://localhost:8080/"
    },
    "id": "kQ7o__coc7zN",
    "outputId": "6d2a6a79-a8f4-48cd-b8df-63ac340b6021"
   },
   "outputs": [],
   "source": [
    "print('Number of Nodes:',ig_g_h.vcount())\n",
    "print('Number of Links:',ig_g_h.ecount())\n",
    "print('Average Degree:',np.mean(ig_g_h.degree()))\n",
    "print('Network Diameter:',ig_g_h.diameter())\n",
    "print('Average Path Length:',ig_g_h.average_path_length())"
   ]
  },
  {
   "cell_type": "code",
   "execution_count": null,
   "id": "7EjUQ9dWc78j",
   "metadata": {
    "id": "7EjUQ9dWc78j"
   },
   "outputs": [],
   "source": [
    "from ts2vg import NaturalVG\n",
    "g = NaturalVG()\n",
    "g.build(climbingdown['attr_x'][1000:2024])\n",
    "ig_g_n = g.as_igraph()"
   ]
  },
  {
   "cell_type": "code",
   "execution_count": null,
   "id": "w7SL7zI_c8GP",
   "metadata": {
    "colab": {
     "base_uri": "https://localhost:8080/"
    },
    "id": "w7SL7zI_c8GP",
    "outputId": "0624e3e2-c78a-4b3b-c572-1d6dc4d5ae9a"
   },
   "outputs": [],
   "source": [
    "print('Number of Nodes:',ig_g_n.vcount())\n",
    "print('Number of Links:',ig_g_n.ecount())\n",
    "print('Average Degree:',np.mean(ig_g_n.degree()))\n",
    "print('Network Diameter:',ig_g_n.diameter())\n",
    "print('Average Path Length:',ig_g_n.average_path_length())"
   ]
  },
  {
   "cell_type": "code",
   "execution_count": null,
   "id": "-VhecKzrc8QZ",
   "metadata": {
    "id": "-VhecKzrc8QZ"
   },
   "outputs": [],
   "source": [
    "ad_climbdown_hz_13=np.mean(ig_g_h.degree())\n",
    "nd_climbdown_hz_13=ig_g_h.diameter()\n",
    "ad_climbdown_nat_13=np.mean(ig_g_n.degree())\n",
    "nd_climbdown_nat_13=ig_g_n.diameter()\n",
    "\n",
    "x_climbdown_hz_list=[]\n",
    "x_climbdown_nat_list=[]\n",
    "y_climbdown_hz_list=[]\n",
    "y_climbdown_nat_list=[]\n",
    "x_climbdown_hz_list.append(ad_climbdown_hz_13)\n",
    "x_climbdown_nat_list.append(ad_climbdown_nat_13)\n",
    "y_climbdown_hz_list.append(nd_climbdown_hz_13)\n",
    "y_climbdown_nat_list.append(nd_climbdown_nat_13)"
   ]
  },
  {
   "cell_type": "markdown",
   "id": "vn7oeGtpcyTG",
   "metadata": {
    "id": "vn7oeGtpcyTG"
   },
   "source": [
    "Climbing Up"
   ]
  },
  {
   "cell_type": "code",
   "execution_count": null,
   "id": "tjvwDGh0c88y",
   "metadata": {
    "id": "tjvwDGh0c88y"
   },
   "outputs": [],
   "source": [
    "from ts2vg import HorizontalVG\n",
    "import numpy as np\n",
    "g = HorizontalVG()\n",
    "g.build(climbingup['attr_x'][1000:2024])\n",
    "ig_g_h = g.as_igraph()"
   ]
  },
  {
   "cell_type": "code",
   "execution_count": null,
   "id": "Ccl-r0pYc9G5",
   "metadata": {
    "colab": {
     "base_uri": "https://localhost:8080/"
    },
    "id": "Ccl-r0pYc9G5",
    "outputId": "630c997e-04dc-4467-b508-ed740129aa34"
   },
   "outputs": [],
   "source": [
    "print('Number of Nodes:',ig_g_h.vcount())\n",
    "print('Number of Links:',ig_g_h.ecount())\n",
    "print('Average Degree:',np.mean(ig_g_h.degree()))\n",
    "print('Network Diameter:',ig_g_h.diameter())\n",
    "print('Average Path Length:',ig_g_h.average_path_length())"
   ]
  },
  {
   "cell_type": "code",
   "execution_count": null,
   "id": "LPaNiJt4c9TL",
   "metadata": {
    "id": "LPaNiJt4c9TL"
   },
   "outputs": [],
   "source": [
    "from ts2vg import NaturalVG\n",
    "g = NaturalVG()\n",
    "g.build(climbingup['attr_x'][1000:2024])\n",
    "ig_g_n = g.as_igraph()"
   ]
  },
  {
   "cell_type": "code",
   "execution_count": null,
   "id": "RmEUOJEwc9d9",
   "metadata": {
    "colab": {
     "base_uri": "https://localhost:8080/"
    },
    "id": "RmEUOJEwc9d9",
    "outputId": "e01ffe63-7c97-4632-c149-45bbee35d6d7"
   },
   "outputs": [],
   "source": [
    "print('Number of Nodes:',ig_g_n.vcount())\n",
    "print('Number of Links:',ig_g_n.ecount())\n",
    "print('Average Degree:',np.mean(ig_g_n.degree()))\n",
    "print('Network Diameter:',ig_g_n.diameter())\n",
    "print('Average Path Length:',ig_g_n.average_path_length())"
   ]
  },
  {
   "cell_type": "code",
   "execution_count": null,
   "id": "Bb6IWrdUc9pd",
   "metadata": {
    "id": "Bb6IWrdUc9pd"
   },
   "outputs": [],
   "source": [
    "ad_climbingup_hz_13=np.mean(ig_g_h.degree())\n",
    "nd_climbingup_hz_13=ig_g_h.diameter()\n",
    "ad_climbingup_nat_13=np.mean(ig_g_n.degree())\n",
    "nd_climbingup_nat_13=ig_g_n.diameter()\n",
    "\n",
    "x_climbingup_hz_list=[]\n",
    "x_climbingup_nat_list=[]\n",
    "y_climbingup_hz_list=[]\n",
    "y_climbingup_nat_list=[]\n",
    "x_climbingup_hz_list.append(ad_climbingup_hz_13)\n",
    "x_climbingup_nat_list.append(ad_climbingup_nat_13)\n",
    "y_climbingup_hz_list.append(nd_climbingup_hz_13)\n",
    "y_climbingup_nat_list.append(nd_climbingup_nat_13)"
   ]
  },
  {
   "cell_type": "markdown",
   "id": "pYIzebQPdnEe",
   "metadata": {
    "id": "pYIzebQPdnEe"
   },
   "source": [
    "#Subject 14"
   ]
  },
  {
   "cell_type": "markdown",
   "id": "QhEbTu6DdnNp",
   "metadata": {
    "id": "QhEbTu6DdnNp"
   },
   "source": [
    "Walking"
   ]
  },
  {
   "cell_type": "code",
   "execution_count": null,
   "id": "-2L2ghj1dzgh",
   "metadata": {
    "id": "-2L2ghj1dzgh"
   },
   "outputs": [],
   "source": [
    "from ts2vg import HorizontalVG\n",
    "import numpy as np\n",
    "g = HorizontalVG()\n",
    "g.build(walking['attr_x'][1000:2024])\n",
    "ig_g_h = g.as_igraph()"
   ]
  },
  {
   "cell_type": "code",
   "execution_count": null,
   "id": "irqRjD_idzrN",
   "metadata": {
    "colab": {
     "base_uri": "https://localhost:8080/"
    },
    "id": "irqRjD_idzrN",
    "outputId": "eaea38b4-bbc4-4834-d507-d9387ac336a1"
   },
   "outputs": [],
   "source": [
    "print('Number of Nodes:',ig_g_h.vcount())\n",
    "print('Number of Links:',ig_g_h.ecount())\n",
    "print('Average Degree:',np.mean(ig_g_h.degree()))\n",
    "print('Network Diameter:',ig_g_h.diameter())\n",
    "print('Average Path Length:',ig_g_h.average_path_length())"
   ]
  },
  {
   "cell_type": "code",
   "execution_count": null,
   "id": "W99d_swcdz0O",
   "metadata": {
    "id": "W99d_swcdz0O"
   },
   "outputs": [],
   "source": [
    "from ts2vg import NaturalVG\n",
    "g = NaturalVG()\n",
    "g.build(walking['attr_x'][1000:2024])\n",
    "ig_g_n = g.as_igraph()"
   ]
  },
  {
   "cell_type": "code",
   "execution_count": null,
   "id": "u_vmEkRtdz_I",
   "metadata": {
    "colab": {
     "base_uri": "https://localhost:8080/"
    },
    "id": "u_vmEkRtdz_I",
    "outputId": "1a8e3137-cdd8-4d5e-8c4e-e2e167289d77"
   },
   "outputs": [],
   "source": [
    "print('Number of Nodes:',ig_g_n.vcount())\n",
    "print('Number of Links:',ig_g_n.ecount())\n",
    "print('Average Degree:',np.mean(ig_g_n.degree()))\n",
    "print('Network Diameter:',ig_g_n.diameter())\n",
    "print('Average Path Length:',ig_g_n.average_path_length())"
   ]
  },
  {
   "cell_type": "code",
   "execution_count": null,
   "id": "QMVOj7tod0Jr",
   "metadata": {
    "id": "QMVOj7tod0Jr"
   },
   "outputs": [],
   "source": [
    "ad_walk_hz_14=np.mean(ig_g_h.degree())\n",
    "nd_walk_hz_14=ig_g_h.diameter()\n",
    "ad_walk_nat_14=np.mean(ig_g_n.degree())\n",
    "nd_walk_nat_14=ig_g_n.diameter()\n",
    "\n",
    "x_walk_hz_list=[]\n",
    "x_walk_nat_list=[]\n",
    "y_walk_hz_list=[]\n",
    "y_walk_nat_list=[]\n",
    "x_walk_hz_list.append(ad_walk_hz_14)\n",
    "x_walk_nat_list.append(ad_walk_nat_14)\n",
    "y_walk_hz_list.append(nd_walk_hz_14)\n",
    "y_walk_nat_list.append(nd_walk_nat_14)"
   ]
  },
  {
   "cell_type": "markdown",
   "id": "B6CUpEAIdnW4",
   "metadata": {
    "id": "B6CUpEAIdnW4"
   },
   "source": [
    "Running"
   ]
  },
  {
   "cell_type": "code",
   "execution_count": null,
   "id": "yrNQ4c3HdyLi",
   "metadata": {
    "id": "yrNQ4c3HdyLi"
   },
   "outputs": [],
   "source": [
    "from ts2vg import HorizontalVG\n",
    "import numpy as np\n",
    "g = HorizontalVG()\n",
    "g.build(running['attr_x'][1000:2024])\n",
    "ig_g_h = g.as_igraph()"
   ]
  },
  {
   "cell_type": "code",
   "execution_count": null,
   "id": "LbLubks9dyUd",
   "metadata": {
    "colab": {
     "base_uri": "https://localhost:8080/"
    },
    "id": "LbLubks9dyUd",
    "outputId": "8a441ed1-d308-4e72-ccf9-3dcd87a083ff"
   },
   "outputs": [],
   "source": [
    "print('Number of Nodes:',ig_g_h.vcount())\n",
    "print('Number of Links:',ig_g_h.ecount())\n",
    "print('Average Degree:',np.mean(ig_g_h.degree()))\n",
    "print('Network Diameter:',ig_g_h.diameter())\n",
    "print('Average Path Length:',ig_g_h.average_path_length())"
   ]
  },
  {
   "cell_type": "code",
   "execution_count": null,
   "id": "MQxkxSprdyeF",
   "metadata": {
    "id": "MQxkxSprdyeF"
   },
   "outputs": [],
   "source": [
    "from ts2vg import NaturalVG\n",
    "g = NaturalVG()\n",
    "g.build(running['attr_x'][1000:2024])\n",
    "ig_g_n = g.as_igraph()"
   ]
  },
  {
   "cell_type": "code",
   "execution_count": null,
   "id": "smj2rip-dynl",
   "metadata": {
    "colab": {
     "base_uri": "https://localhost:8080/"
    },
    "id": "smj2rip-dynl",
    "outputId": "fbf51fe2-1339-45c4-8ae7-b81b44e3a353"
   },
   "outputs": [],
   "source": [
    "print('Number of Nodes:',ig_g_n.vcount())\n",
    "print('Number of Links:',ig_g_n.ecount())\n",
    "print('Average Degree:',np.mean(ig_g_n.degree()))\n",
    "print('Network Diameter:',ig_g_n.diameter())\n",
    "print('Average Path Length:',ig_g_n.average_path_length())"
   ]
  },
  {
   "cell_type": "code",
   "execution_count": null,
   "id": "-RG82o0ydyxP",
   "metadata": {
    "id": "-RG82o0ydyxP"
   },
   "outputs": [],
   "source": [
    "ad_run_hz_14=np.mean(ig_g_h.degree())\n",
    "nd_run_hz_14=ig_g_h.diameter()\n",
    "ad_run_nat_14=np.mean(ig_g_n.degree())\n",
    "nd_run_nat_14=ig_g_n.diameter()\n",
    "\n",
    "x_run_hz_list=[]\n",
    "x_run_nat_list=[]\n",
    "y_run_hz_list=[]\n",
    "y_run_nat_list=[]\n",
    "x_run_hz_list.append(ad_run_hz_14)\n",
    "x_run_nat_list.append(ad_run_nat_14)\n",
    "y_run_hz_list.append(nd_run_hz_14)\n",
    "y_run_nat_list.append(nd_run_nat_14)"
   ]
  },
  {
   "cell_type": "markdown",
   "id": "r88a4oJtdngo",
   "metadata": {
    "id": "r88a4oJtdngo"
   },
   "source": [
    "Climbing Down"
   ]
  },
  {
   "cell_type": "code",
   "execution_count": null,
   "id": "6KVv2Qu0dwfm",
   "metadata": {
    "id": "6KVv2Qu0dwfm"
   },
   "outputs": [],
   "source": [
    "from ts2vg import HorizontalVG\n",
    "import numpy as np\n",
    "g = HorizontalVG()\n",
    "g.build(climbingdown['attr_x'][1000:2024])\n",
    "ig_g_h = g.as_igraph()"
   ]
  },
  {
   "cell_type": "code",
   "execution_count": null,
   "id": "-x2LuHLSdwqG",
   "metadata": {
    "colab": {
     "base_uri": "https://localhost:8080/"
    },
    "id": "-x2LuHLSdwqG",
    "outputId": "976e616d-073a-4dc7-958e-1cbec9c2647a"
   },
   "outputs": [],
   "source": [
    "print('Number of Nodes:',ig_g_h.vcount())\n",
    "print('Number of Links:',ig_g_h.ecount())\n",
    "print('Average Degree:',np.mean(ig_g_h.degree()))\n",
    "print('Network Diameter:',ig_g_h.diameter())\n",
    "print('Average Path Length:',ig_g_h.average_path_length())"
   ]
  },
  {
   "cell_type": "code",
   "execution_count": null,
   "id": "CtDtTSWrdwzd",
   "metadata": {
    "id": "CtDtTSWrdwzd"
   },
   "outputs": [],
   "source": [
    "from ts2vg import NaturalVG\n",
    "g = NaturalVG()\n",
    "g.build(climbingdown['attr_x'][1000:2024])\n",
    "ig_g_n = g.as_igraph()"
   ]
  },
  {
   "cell_type": "code",
   "execution_count": null,
   "id": "LZsfY8WjdxJD",
   "metadata": {
    "colab": {
     "base_uri": "https://localhost:8080/"
    },
    "id": "LZsfY8WjdxJD",
    "outputId": "aeaea4a6-c213-4393-9267-d2ca5b62f389"
   },
   "outputs": [],
   "source": [
    "print('Number of Nodes:',ig_g_n.vcount())\n",
    "print('Number of Links:',ig_g_n.ecount())\n",
    "print('Average Degree:',np.mean(ig_g_n.degree()))\n",
    "print('Network Diameter:',ig_g_n.diameter())\n",
    "print('Average Path Length:',ig_g_n.average_path_length())"
   ]
  },
  {
   "cell_type": "code",
   "execution_count": null,
   "id": "UzR6eajGdxT-",
   "metadata": {
    "id": "UzR6eajGdxT-"
   },
   "outputs": [],
   "source": [
    "ad_climbdown_hz_14=np.mean(ig_g_h.degree())\n",
    "nd_climbdown_hz_14=ig_g_h.diameter()\n",
    "ad_climbdown_nat_14=np.mean(ig_g_n.degree())\n",
    "nd_climbdown_nat_14=ig_g_n.diameter()\n",
    "\n",
    "x_climbdown_hz_list=[]\n",
    "x_climbdown_nat_list=[]\n",
    "y_climbdown_hz_list=[]\n",
    "y_climbdown_nat_list=[]\n",
    "x_climbdown_hz_list.append(ad_climbdown_hz_14)\n",
    "x_climbdown_nat_list.append(ad_climbdown_nat_14)\n",
    "y_climbdown_hz_list.append(nd_climbdown_hz_14)\n",
    "y_climbdown_nat_list.append(nd_climbdown_nat_14)"
   ]
  },
  {
   "cell_type": "markdown",
   "id": "F5xB2iV5dnrD",
   "metadata": {
    "id": "F5xB2iV5dnrD"
   },
   "source": [
    "Climbing Up"
   ]
  },
  {
   "cell_type": "code",
   "execution_count": null,
   "id": "gDZb-E1vdryA",
   "metadata": {
    "id": "gDZb-E1vdryA"
   },
   "outputs": [],
   "source": [
    "from ts2vg import HorizontalVG\n",
    "import numpy as np\n",
    "g = HorizontalVG()\n",
    "g.build(climbingup['attr_x'][1000:2024])\n",
    "ig_g_h = g.as_igraph()"
   ]
  },
  {
   "cell_type": "code",
   "execution_count": null,
   "id": "C3h4CGTRdr6R",
   "metadata": {
    "colab": {
     "base_uri": "https://localhost:8080/"
    },
    "id": "C3h4CGTRdr6R",
    "outputId": "25365a9b-cc58-4315-9526-64d89b812281"
   },
   "outputs": [],
   "source": [
    "print('Number of Nodes:',ig_g_h.vcount())\n",
    "print('Number of Links:',ig_g_h.ecount())\n",
    "print('Average Degree:',np.mean(ig_g_h.degree()))\n",
    "print('Network Diameter:',ig_g_h.diameter())\n",
    "print('Average Path Length:',ig_g_h.average_path_length())"
   ]
  },
  {
   "cell_type": "code",
   "execution_count": null,
   "id": "Q8UUziqcdsDj",
   "metadata": {
    "id": "Q8UUziqcdsDj"
   },
   "outputs": [],
   "source": [
    "from ts2vg import NaturalVG\n",
    "g = NaturalVG()\n",
    "g.build(climbingup['attr_x'][1000:2024])\n",
    "ig_g_n = g.as_igraph()"
   ]
  },
  {
   "cell_type": "code",
   "execution_count": null,
   "id": "MfnbBYZodsNc",
   "metadata": {
    "colab": {
     "base_uri": "https://localhost:8080/"
    },
    "id": "MfnbBYZodsNc",
    "outputId": "c6c26bdc-efc0-4214-8a57-5cb74ed373e7"
   },
   "outputs": [],
   "source": [
    "print('Number of Nodes:',ig_g_n.vcount())\n",
    "print('Number of Links:',ig_g_n.ecount())\n",
    "print('Average Degree:',np.mean(ig_g_n.degree()))\n",
    "print('Network Diameter:',ig_g_n.diameter())\n",
    "print('Average Path Length:',ig_g_n.average_path_length())"
   ]
  },
  {
   "cell_type": "code",
   "execution_count": null,
   "id": "Jxh6oMX0dsX5",
   "metadata": {
    "id": "Jxh6oMX0dsX5"
   },
   "outputs": [],
   "source": [
    "ad_climbingup_hz_14=np.mean(ig_g_h.degree())\n",
    "nd_climbingup_hz_14=ig_g_h.diameter()\n",
    "ad_climbingup_nat_14=np.mean(ig_g_n.degree())\n",
    "nd_climbingup_nat_14=ig_g_n.diameter()\n",
    "\n",
    "x_climbingup_hz_list=[]\n",
    "x_climbingup_nat_list=[]\n",
    "y_climbingup_hz_list=[]\n",
    "y_climbingup_nat_list=[]\n",
    "x_climbingup_hz_list.append(ad_climbingup_hz_14)\n",
    "x_climbingup_nat_list.append(ad_climbingup_nat_14)\n",
    "y_climbingup_hz_list.append(nd_climbingup_hz_14)\n",
    "y_climbingup_nat_list.append(nd_climbingup_nat_14)"
   ]
  },
  {
   "cell_type": "markdown",
   "id": "9QUS3c8-ec79",
   "metadata": {
    "id": "9QUS3c8-ec79"
   },
   "source": [
    "#Subject 15"
   ]
  },
  {
   "cell_type": "markdown",
   "id": "1fJQgmo3edCK",
   "metadata": {
    "id": "1fJQgmo3edCK"
   },
   "source": [
    "Walking"
   ]
  },
  {
   "cell_type": "code",
   "execution_count": null,
   "id": "njuT24UOejO-",
   "metadata": {
    "id": "njuT24UOejO-"
   },
   "outputs": [],
   "source": [
    "from ts2vg import HorizontalVG\n",
    "import numpy as np\n",
    "g = HorizontalVG()\n",
    "g.build(walking['attr_x'][1000:2024])\n",
    "ig_g_h = g.as_igraph()"
   ]
  },
  {
   "cell_type": "code",
   "execution_count": null,
   "id": "GhDAEbGwejU6",
   "metadata": {
    "colab": {
     "base_uri": "https://localhost:8080/"
    },
    "id": "GhDAEbGwejU6",
    "outputId": "a8f01574-b5ba-4fd3-d412-4a2bed0c9448"
   },
   "outputs": [],
   "source": [
    "print('Number of Nodes:',ig_g_h.vcount())\n",
    "print('Number of Links:',ig_g_h.ecount())\n",
    "print('Average Degree:',np.mean(ig_g_h.degree()))\n",
    "print('Network Diameter:',ig_g_h.diameter())\n",
    "print('Average Path Length:',ig_g_h.average_path_length())"
   ]
  },
  {
   "cell_type": "code",
   "execution_count": null,
   "id": "pJGHOjZDejcw",
   "metadata": {
    "id": "pJGHOjZDejcw"
   },
   "outputs": [],
   "source": [
    "from ts2vg import NaturalVG\n",
    "g = NaturalVG()\n",
    "g.build(walking['attr_x'][1000:2024])\n",
    "ig_g_n = g.as_igraph()"
   ]
  },
  {
   "cell_type": "code",
   "execution_count": null,
   "id": "AeBVzHpSejjM",
   "metadata": {
    "colab": {
     "base_uri": "https://localhost:8080/"
    },
    "id": "AeBVzHpSejjM",
    "outputId": "334e1e69-963a-4625-c30c-8a476ca41cb6"
   },
   "outputs": [],
   "source": [
    "print('Number of Nodes:',ig_g_n.vcount())\n",
    "print('Number of Links:',ig_g_n.ecount())\n",
    "print('Average Degree:',np.mean(ig_g_n.degree()))\n",
    "print('Network Diameter:',ig_g_n.diameter())\n",
    "print('Average Path Length:',ig_g_n.average_path_length())"
   ]
  },
  {
   "cell_type": "code",
   "execution_count": null,
   "id": "jqnb4OG7ejro",
   "metadata": {
    "id": "jqnb4OG7ejro"
   },
   "outputs": [],
   "source": [
    "ad_walk_hz_15=np.mean(ig_g_h.degree())\n",
    "nd_walk_hz_15=ig_g_h.diameter()\n",
    "ad_walk_nat_15=np.mean(ig_g_n.degree())\n",
    "nd_walk_nat_15=ig_g_n.diameter()\n",
    "\n",
    "x_walk_hz_list=[]\n",
    "x_walk_nat_list=[]\n",
    "y_walk_hz_list=[]\n",
    "y_walk_nat_list=[]\n",
    "x_walk_hz_list.append(ad_walk_hz_15)\n",
    "x_walk_nat_list.append(ad_walk_nat_15)\n",
    "y_walk_hz_list.append(nd_walk_hz_15)\n",
    "y_walk_nat_list.append(nd_walk_nat_15)"
   ]
  },
  {
   "cell_type": "markdown",
   "id": "HOBnstSEedL6",
   "metadata": {
    "id": "HOBnstSEedL6"
   },
   "source": [
    "Running"
   ]
  },
  {
   "cell_type": "code",
   "execution_count": null,
   "id": "kunF9OngekyE",
   "metadata": {
    "id": "kunF9OngekyE"
   },
   "outputs": [],
   "source": [
    "from ts2vg import HorizontalVG\n",
    "import numpy as np\n",
    "g = HorizontalVG()\n",
    "g.build(running['attr_x'][1000:2024])\n",
    "ig_g_h = g.as_igraph()"
   ]
  },
  {
   "cell_type": "code",
   "execution_count": null,
   "id": "JUyfEUTtek6z",
   "metadata": {
    "colab": {
     "base_uri": "https://localhost:8080/"
    },
    "id": "JUyfEUTtek6z",
    "outputId": "940ab29b-7a7c-4960-efc4-98d1ab07386a"
   },
   "outputs": [],
   "source": [
    "print('Number of Nodes:',ig_g_h.vcount())\n",
    "print('Number of Links:',ig_g_h.ecount())\n",
    "print('Average Degree:',np.mean(ig_g_h.degree()))\n",
    "print('Network Diameter:',ig_g_h.diameter())\n",
    "print('Average Path Length:',ig_g_h.average_path_length())"
   ]
  },
  {
   "cell_type": "code",
   "execution_count": null,
   "id": "3HM54SwyelDp",
   "metadata": {
    "id": "3HM54SwyelDp"
   },
   "outputs": [],
   "source": [
    "from ts2vg import NaturalVG\n",
    "g = NaturalVG()\n",
    "g.build(running['attr_x'][1000:2024])\n",
    "ig_g_n = g.as_igraph()"
   ]
  },
  {
   "cell_type": "code",
   "execution_count": null,
   "id": "oxsqvTqWelNY",
   "metadata": {
    "colab": {
     "base_uri": "https://localhost:8080/"
    },
    "id": "oxsqvTqWelNY",
    "outputId": "78028553-83eb-435e-db01-9897f4a36e4c"
   },
   "outputs": [],
   "source": [
    "print('Number of Nodes:',ig_g_n.vcount())\n",
    "print('Number of Links:',ig_g_n.ecount())\n",
    "print('Average Degree:',np.mean(ig_g_n.degree()))\n",
    "print('Network Diameter:',ig_g_n.diameter())\n",
    "print('Average Path Length:',ig_g_n.average_path_length())"
   ]
  },
  {
   "cell_type": "code",
   "execution_count": null,
   "id": "M8ut8o23elWH",
   "metadata": {
    "id": "M8ut8o23elWH"
   },
   "outputs": [],
   "source": [
    "ad_run_hz_15=np.mean(ig_g_h.degree())\n",
    "nd_run_hz_15=ig_g_h.diameter()\n",
    "ad_run_nat_15=np.mean(ig_g_n.degree())\n",
    "nd_run_nat_15=ig_g_n.diameter()\n",
    "\n",
    "x_run_hz_list=[]\n",
    "x_run_nat_list=[]\n",
    "y_run_hz_list=[]\n",
    "y_run_nat_list=[]\n",
    "x_run_hz_list.append(ad_run_hz_15)\n",
    "x_run_nat_list.append(ad_run_nat_15)\n",
    "y_run_hz_list.append(nd_run_hz_15)\n",
    "y_run_nat_list.append(nd_run_nat_15)"
   ]
  },
  {
   "cell_type": "markdown",
   "id": "ASmOcG1SedWt",
   "metadata": {
    "id": "ASmOcG1SedWt"
   },
   "source": [
    "Climbing Down"
   ]
  },
  {
   "cell_type": "code",
   "execution_count": null,
   "id": "EwfTx4NDemFc",
   "metadata": {
    "id": "EwfTx4NDemFc"
   },
   "outputs": [],
   "source": [
    "from ts2vg import HorizontalVG\n",
    "import numpy as np\n",
    "g = HorizontalVG()\n",
    "g.build(climbingdown['attr_x'][1000:2024])\n",
    "ig_g_h = g.as_igraph()"
   ]
  },
  {
   "cell_type": "code",
   "execution_count": null,
   "id": "8Y8jCNWdemN8",
   "metadata": {
    "colab": {
     "base_uri": "https://localhost:8080/"
    },
    "id": "8Y8jCNWdemN8",
    "outputId": "0f8fbe1c-6802-4b8d-ac44-be6b61fd3c26"
   },
   "outputs": [],
   "source": [
    "print('Number of Nodes:',ig_g_h.vcount())\n",
    "print('Number of Links:',ig_g_h.ecount())\n",
    "print('Average Degree:',np.mean(ig_g_h.degree()))\n",
    "print('Network Diameter:',ig_g_h.diameter())\n",
    "print('Average Path Length:',ig_g_h.average_path_length())"
   ]
  },
  {
   "cell_type": "code",
   "execution_count": null,
   "id": "FMs86OkremYD",
   "metadata": {
    "id": "FMs86OkremYD"
   },
   "outputs": [],
   "source": [
    "from ts2vg import NaturalVG\n",
    "g = NaturalVG()\n",
    "g.build(climbingdown['attr_x'][1000:2024])\n",
    "ig_g_n = g.as_igraph()"
   ]
  },
  {
   "cell_type": "code",
   "execution_count": null,
   "id": "TEb4MBXQemhH",
   "metadata": {
    "colab": {
     "base_uri": "https://localhost:8080/"
    },
    "id": "TEb4MBXQemhH",
    "outputId": "a29a06a9-5d9d-4407-eb76-3d27b303eb4e"
   },
   "outputs": [],
   "source": [
    "print('Number of Nodes:',ig_g_n.vcount())\n",
    "print('Number of Links:',ig_g_n.ecount())\n",
    "print('Average Degree:',np.mean(ig_g_n.degree()))\n",
    "print('Network Diameter:',ig_g_n.diameter())\n",
    "print('Average Path Length:',ig_g_n.average_path_length())"
   ]
  },
  {
   "cell_type": "code",
   "execution_count": null,
   "id": "f5OsEUddemri",
   "metadata": {
    "id": "f5OsEUddemri"
   },
   "outputs": [],
   "source": [
    "ad_climbdown_hz_15=np.mean(ig_g_h.degree())\n",
    "nd_climbdown_hz_15=ig_g_h.diameter()\n",
    "ad_climbdown_nat_15=np.mean(ig_g_n.degree())\n",
    "nd_climbdown_nat_15=ig_g_n.diameter()\n",
    "\n",
    "x_climbdown_hz_list=[]\n",
    "x_climbdown_nat_list=[]\n",
    "y_climbdown_hz_list=[]\n",
    "y_climbdown_nat_list=[]\n",
    "x_climbdown_hz_list.append(ad_climbdown_hz_15)\n",
    "x_climbdown_nat_list.append(ad_climbdown_nat_15)\n",
    "y_climbdown_hz_list.append(nd_climbdown_hz_15)\n",
    "y_climbdown_nat_list.append(nd_climbdown_nat_15)"
   ]
  },
  {
   "cell_type": "markdown",
   "id": "ns5I2WfCedhG",
   "metadata": {
    "id": "ns5I2WfCedhG"
   },
   "source": [
    "Climbing Up"
   ]
  },
  {
   "cell_type": "code",
   "execution_count": null,
   "id": "KcTpiRJSenTZ",
   "metadata": {
    "id": "KcTpiRJSenTZ"
   },
   "outputs": [],
   "source": [
    "from ts2vg import HorizontalVG\n",
    "import numpy as np\n",
    "g = HorizontalVG()\n",
    "g.build(climbingup['attr_x'][1000:2024])\n",
    "ig_g_h = g.as_igraph()"
   ]
  },
  {
   "cell_type": "code",
   "execution_count": null,
   "id": "D5OMUHUNenbL",
   "metadata": {
    "colab": {
     "base_uri": "https://localhost:8080/"
    },
    "id": "D5OMUHUNenbL",
    "outputId": "59d7d5db-6125-4a68-c022-0b6942630357"
   },
   "outputs": [],
   "source": [
    "print('Number of Nodes:',ig_g_h.vcount())\n",
    "print('Number of Links:',ig_g_h.ecount())\n",
    "print('Average Degree:',np.mean(ig_g_h.degree()))\n",
    "print('Network Diameter:',ig_g_h.diameter())\n",
    "print('Average Path Length:',ig_g_h.average_path_length())"
   ]
  },
  {
   "cell_type": "code",
   "execution_count": null,
   "id": "pb0tTVYAenjR",
   "metadata": {
    "id": "pb0tTVYAenjR"
   },
   "outputs": [],
   "source": [
    "from ts2vg import NaturalVG\n",
    "g = NaturalVG()\n",
    "g.build(climbingup['attr_x'][1000:2024])\n",
    "ig_g_n = g.as_igraph()"
   ]
  },
  {
   "cell_type": "code",
   "execution_count": null,
   "id": "HQ3V5UqJenrK",
   "metadata": {
    "colab": {
     "base_uri": "https://localhost:8080/"
    },
    "id": "HQ3V5UqJenrK",
    "outputId": "2cad4cf4-ea8b-46e1-f5ca-ca3cc6c5b9c2"
   },
   "outputs": [],
   "source": [
    "print('Number of Nodes:',ig_g_n.vcount())\n",
    "print('Number of Links:',ig_g_n.ecount())\n",
    "print('Average Degree:',np.mean(ig_g_n.degree()))\n",
    "print('Network Diameter:',ig_g_n.diameter())\n",
    "print('Average Path Length:',ig_g_n.average_path_length())"
   ]
  },
  {
   "cell_type": "markdown",
   "id": "f45e8ea2",
   "metadata": {},
   "source": [
    "# 1.4 OUTPUT COLUMN"
   ]
  },
  {
   "cell_type": "code",
   "execution_count": 9,
   "id": "44deb03f",
   "metadata": {},
   "outputs": [],
   "source": [
    "import pandas as pd\n",
    "import numpy as npj\n",
    "from ts2vg import HorizontalVG\n",
    "from ts2vg import NaturalVG\n",
    "df = pd.DataFrame()\n",
    "df['Method'] = []\n",
    "df['Subject'] = []\n",
    "df['Accelerometer axis'] = []\n",
    "df['Average degree'] = []\n",
    "df['Networkdiameter'] = []\n",
    "df['Average pathlength'] = []\n",
    "df['Activity'] = []\n",
    "d_data={}\n",
    "for i in range (1,16) :\n",
    "# For loop for 15 subjects\n",
    "    for j in ['walking', 'running', 'climbingup','climbingdown']:\n",
    "        d_data['subject%s_%d' %(j,i)] = pd.read_csv('acc_%s_chest_%d.csv' %(j,i)) \n",
    "        for k in ['x','y','z']:\n",
    "# For loop for accelerometer axis\n",
    "            for l in ['HVG', 'NVG']:\n",
    "                if l == 'HVG':\n",
    "                    g = HorizontalVG()\n",
    "                    g.build(d_data['subject%s_%d' %(j,i)]['attr_x'][1000:2024])\n",
    "                    ig_g = g.as_igraph()\n",
    "                    \n",
    "                elif l == 'NVG':\n",
    "                    g = NaturalVG()\n",
    "                    g.build(d_data['subject%s_%d' %(j,i)]['attr_x'][1000:2024])\n",
    "                    ig_g = g.as_igraph()\n",
    "                df.loc[len(df.index)] = [l,i,k,np.mean(ig_g.degree()),ig_g.diameter(),ig_g.average_path_length(),j] # Saving data in data frame"
   ]
  },
  {
   "cell_type": "code",
   "execution_count": 10,
   "id": "b5821516",
   "metadata": {},
   "outputs": [
    {
     "data": {
      "text/html": [
       "<div>\n",
       "<style scoped>\n",
       "    .dataframe tbody tr th:only-of-type {\n",
       "        vertical-align: middle;\n",
       "    }\n",
       "\n",
       "    .dataframe tbody tr th {\n",
       "        vertical-align: top;\n",
       "    }\n",
       "\n",
       "    .dataframe thead th {\n",
       "        text-align: right;\n",
       "    }\n",
       "</style>\n",
       "<table border=\"1\" class=\"dataframe\">\n",
       "  <thead>\n",
       "    <tr style=\"text-align: right;\">\n",
       "      <th></th>\n",
       "      <th>Method</th>\n",
       "      <th>Subject</th>\n",
       "      <th>Accelerometer axis</th>\n",
       "      <th>Average degree</th>\n",
       "      <th>Networkdiameter</th>\n",
       "      <th>Average pathlength</th>\n",
       "      <th>Activity</th>\n",
       "    </tr>\n",
       "  </thead>\n",
       "  <tbody>\n",
       "    <tr>\n",
       "      <th>0</th>\n",
       "      <td>HVG</td>\n",
       "      <td>1.0</td>\n",
       "      <td>x</td>\n",
       "      <td>3.958984</td>\n",
       "      <td>26.0</td>\n",
       "      <td>11.578024</td>\n",
       "      <td>walking</td>\n",
       "    </tr>\n",
       "    <tr>\n",
       "      <th>1</th>\n",
       "      <td>NVG</td>\n",
       "      <td>1.0</td>\n",
       "      <td>x</td>\n",
       "      <td>11.451172</td>\n",
       "      <td>10.0</td>\n",
       "      <td>4.441492</td>\n",
       "      <td>walking</td>\n",
       "    </tr>\n",
       "    <tr>\n",
       "      <th>2</th>\n",
       "      <td>HVG</td>\n",
       "      <td>1.0</td>\n",
       "      <td>y</td>\n",
       "      <td>3.958984</td>\n",
       "      <td>26.0</td>\n",
       "      <td>11.578024</td>\n",
       "      <td>walking</td>\n",
       "    </tr>\n",
       "    <tr>\n",
       "      <th>3</th>\n",
       "      <td>NVG</td>\n",
       "      <td>1.0</td>\n",
       "      <td>y</td>\n",
       "      <td>11.451172</td>\n",
       "      <td>10.0</td>\n",
       "      <td>4.441492</td>\n",
       "      <td>walking</td>\n",
       "    </tr>\n",
       "    <tr>\n",
       "      <th>4</th>\n",
       "      <td>HVG</td>\n",
       "      <td>1.0</td>\n",
       "      <td>z</td>\n",
       "      <td>3.958984</td>\n",
       "      <td>26.0</td>\n",
       "      <td>11.578024</td>\n",
       "      <td>walking</td>\n",
       "    </tr>\n",
       "    <tr>\n",
       "      <th>...</th>\n",
       "      <td>...</td>\n",
       "      <td>...</td>\n",
       "      <td>...</td>\n",
       "      <td>...</td>\n",
       "      <td>...</td>\n",
       "      <td>...</td>\n",
       "      <td>...</td>\n",
       "    </tr>\n",
       "    <tr>\n",
       "      <th>355</th>\n",
       "      <td>NVG</td>\n",
       "      <td>15.0</td>\n",
       "      <td>x</td>\n",
       "      <td>11.130859</td>\n",
       "      <td>11.0</td>\n",
       "      <td>5.427627</td>\n",
       "      <td>climbingdown</td>\n",
       "    </tr>\n",
       "    <tr>\n",
       "      <th>356</th>\n",
       "      <td>HVG</td>\n",
       "      <td>15.0</td>\n",
       "      <td>y</td>\n",
       "      <td>3.951172</td>\n",
       "      <td>33.0</td>\n",
       "      <td>13.926625</td>\n",
       "      <td>climbingdown</td>\n",
       "    </tr>\n",
       "    <tr>\n",
       "      <th>357</th>\n",
       "      <td>NVG</td>\n",
       "      <td>15.0</td>\n",
       "      <td>y</td>\n",
       "      <td>11.130859</td>\n",
       "      <td>11.0</td>\n",
       "      <td>5.427627</td>\n",
       "      <td>climbingdown</td>\n",
       "    </tr>\n",
       "    <tr>\n",
       "      <th>358</th>\n",
       "      <td>HVG</td>\n",
       "      <td>15.0</td>\n",
       "      <td>z</td>\n",
       "      <td>3.951172</td>\n",
       "      <td>33.0</td>\n",
       "      <td>13.926625</td>\n",
       "      <td>climbingdown</td>\n",
       "    </tr>\n",
       "    <tr>\n",
       "      <th>359</th>\n",
       "      <td>NVG</td>\n",
       "      <td>15.0</td>\n",
       "      <td>z</td>\n",
       "      <td>11.130859</td>\n",
       "      <td>11.0</td>\n",
       "      <td>5.427627</td>\n",
       "      <td>climbingdown</td>\n",
       "    </tr>\n",
       "  </tbody>\n",
       "</table>\n",
       "<p>360 rows × 7 columns</p>\n",
       "</div>"
      ],
      "text/plain": [
       "    Method  Subject Accelerometer axis  Average degree  Networkdiameter  \\\n",
       "0      HVG      1.0                  x        3.958984             26.0   \n",
       "1      NVG      1.0                  x       11.451172             10.0   \n",
       "2      HVG      1.0                  y        3.958984             26.0   \n",
       "3      NVG      1.0                  y       11.451172             10.0   \n",
       "4      HVG      1.0                  z        3.958984             26.0   \n",
       "..     ...      ...                ...             ...              ...   \n",
       "355    NVG     15.0                  x       11.130859             11.0   \n",
       "356    HVG     15.0                  y        3.951172             33.0   \n",
       "357    NVG     15.0                  y       11.130859             11.0   \n",
       "358    HVG     15.0                  z        3.951172             33.0   \n",
       "359    NVG     15.0                  z       11.130859             11.0   \n",
       "\n",
       "     Average pathlength      Activity  \n",
       "0             11.578024       walking  \n",
       "1              4.441492       walking  \n",
       "2             11.578024       walking  \n",
       "3              4.441492       walking  \n",
       "4             11.578024       walking  \n",
       "..                  ...           ...  \n",
       "355            5.427627  climbingdown  \n",
       "356           13.926625  climbingdown  \n",
       "357            5.427627  climbingdown  \n",
       "358           13.926625  climbingdown  \n",
       "359            5.427627  climbingdown  \n",
       "\n",
       "[360 rows x 7 columns]"
      ]
     },
     "execution_count": 10,
     "metadata": {},
     "output_type": "execute_result"
    }
   ],
   "source": [
    "df"
   ]
  },
  {
   "cell_type": "markdown",
   "id": "2c51bfd3",
   "metadata": {},
   "source": [
    "# SIMPLIFIED VERSION"
   ]
  },
  {
   "cell_type": "markdown",
   "id": "974e54d3",
   "metadata": {},
   "source": [
    "#### WALKING"
   ]
  },
  {
   "cell_type": "code",
   "execution_count": null,
   "id": "728f89b9",
   "metadata": {},
   "outputs": [],
   "source": [
    "file_name='acc_walking_chest_'\n",
    "x_walk_hz_list_x=[]\n",
    "x_walk_nat_list_x=[]\n",
    "y_walk_hz_list_x=[]\n",
    "y_walk_nat_list_x=[]\n",
    "apl_walk_hz_list_x=[]\n",
    "apl_walk_hz_list_x=[]\n",
    "\n",
    "\n",
    "for i in range(1,16):\n",
    "    full_file_name= f\"{file_name}{i}\"\n",
    "    import pandas as pd\n",
    "    walking = pd.read_csv(f\"{full_file_name}.csv\")\n",
    "\n",
    "\n",
    "    from ts2vg import HorizontalVG\n",
    "    import numpy as np\n",
    "    g = HorizontalVG()\n",
    "    g.build(walking['attr_x'][1000:2024])\n",
    "    ig_g_h = g.as_igraph()\n",
    "    from ts2vg import NaturalVG\n",
    "    g = NaturalVG()\n",
    "    g.build(walking['attr_x'][1000:2024])\n",
    "    ig_g_n = g.as_igraph()\n",
    "    \n",
    "    ad_walk_hz_x=np.mean(ig_g_h.degree())\n",
    "    nd_walk_hz_x=ig_g_h.diameter()\n",
    "    ad_walk_nat_x=np.mean(ig_g_n.degree())\n",
    "    nd_walk_nat_x=ig_g_n.diameter()\n",
    "    apl_walk_hz_x=ig_g_h.average_path_length()\n",
    "    apl_walk_hz_x=ig_g_n.average_path_length()\n",
    "\n",
    "\n",
    "    x_walk_hz_list_x.append(ad_walk_hz_x)\n",
    "    x_walk_nat_list_x.append(ad_walk_nat_x)\n",
    "    y_walk_hz_list_x.append(nd_walk_hz_x)\n",
    "    y_walk_nat_list_x.append(nd_walk_nat_x)\n",
    "    apl_walk_hz_list_x.append(apl_walk_hz_x)\n",
    "    apl_walk_hz_list_x.append(apl_walk_hz_x)\n",
    "    \n",
    "    \n",
    "    "
   ]
  },
  {
   "cell_type": "code",
   "execution_count": null,
   "id": "76cea634",
   "metadata": {},
   "outputs": [],
   "source": [
    "file_name='acc_walking_chest_'\n",
    "x_walk_hz_list_y=[]\n",
    "x_walk_nat_list_y=[]\n",
    "y_walk_hz_list_y=[]\n",
    "y_walk_nat_list_y=[]\n",
    "for i in range(1,16):\n",
    "    full_file_name= f\"{file_name}{i}\"\n",
    "    import pandas as pd\n",
    "    walking = pd.read_csv(f\"{full_file_name}.csv\")\n",
    "\n",
    "\n",
    "    from ts2vg import HorizontalVG\n",
    "    import numpy as np\n",
    "    g = HorizontalVG()\n",
    "    g.build(walking['attr_y'][1000:2024])\n",
    "    ig_g_h = g.as_igraph()\n",
    "    from ts2vg import NaturalVG\n",
    "    g = NaturalVG()\n",
    "    g.build(walking['attr_y'][1000:2024])\n",
    "    ig_g_n = g.as_igraph()\n",
    "    \n",
    "    ad_walk_hz_y=np.mean(ig_g_h.degree())\n",
    "    nd_walk_hz_y=ig_g_h.diameter()\n",
    "    ad_walk_nat_y=np.mean(ig_g_n.degree())\n",
    "    nd_walk_nat_y=ig_g_n.diameter()\n",
    "\n",
    "\n",
    "    x_walk_hz_list_y.append(ad_walk_hz_y)\n",
    "    x_walk_nat_list_y.append(ad_walk_nat_y)\n",
    "    y_walk_hz_list_y.append(nd_walk_hz_y)\n",
    "    y_walk_nat_list_y.append(nd_walk_nat_y)\n",
    "    \n",
    "    "
   ]
  },
  {
   "cell_type": "code",
   "execution_count": null,
   "id": "b287b9d8",
   "metadata": {},
   "outputs": [],
   "source": [
    "file_name='acc_walking_chest_'\n",
    "x_walk_hz_list_z=[]\n",
    "x_walk_nat_list_z=[]\n",
    "y_walk_hz_list_z=[]\n",
    "y_walk_nat_list_z=[]\n",
    "for i in range(1,16):\n",
    "    full_file_name= f\"{file_name}{i}\"\n",
    "    import pandas as pd\n",
    "    walking = pd.read_csv(f\"{full_file_name}.csv\")\n",
    "\n",
    "\n",
    "    from ts2vg import HorizontalVG\n",
    "    import numpy as np\n",
    "    g = HorizontalVG()\n",
    "    g.build(walking['attr_z'][1000:2024])\n",
    "    ig_g_h = g.as_igraph()\n",
    "    from ts2vg import NaturalVG\n",
    "    g = NaturalVG()\n",
    "    g.build(walking['attr_z'][1000:2024])\n",
    "    ig_g_n = g.as_igraph()\n",
    "    \n",
    "    ad_walk_hz_z=np.mean(ig_g_h.degree())\n",
    "    nd_walk_hz_z=ig_g_h.diameter()\n",
    "    ad_walk_nat_z=np.mean(ig_g_n.degree())\n",
    "    nd_walk_nat_z=ig_g_n.diameter()\n",
    "\n",
    "\n",
    "    x_walk_hz_list_z.append(ad_walk_hz_z)\n",
    "    x_walk_nat_list_z.append(ad_walk_nat_z)\n",
    "    y_walk_hz_list_z.append(nd_walk_hz_z)\n",
    "    y_walk_nat_list_z.append(nd_walk_nat_z)"
   ]
  },
  {
   "cell_type": "markdown",
   "id": "ed2f194e",
   "metadata": {},
   "source": [
    "#### Running"
   ]
  },
  {
   "cell_type": "code",
   "execution_count": null,
   "id": "1e2f5d2c",
   "metadata": {},
   "outputs": [],
   "source": [
    "file_name='acc_running_chest_'\n",
    "x_run_hz_list_x=[]\n",
    "x_run_nat_list_x=[]\n",
    "y_run_hz_list_x=[]\n",
    "y_run_nat_list_x=[]\n",
    "for i in range(1,16):\n",
    "    full_file_name= f\"{file_name}{i}\"\n",
    "    import pandas as pd\n",
    "    running = pd.read_csv(f\"{full_file_name}.csv\")\n",
    "\n",
    "\n",
    "    from ts2vg import HorizontalVG\n",
    "    import numpy as np\n",
    "    g = HorizontalVG()\n",
    "    g.build(running['attr_x'][1000:2048])\n",
    "    ig_g_h = g.as_igraph()\n",
    "    from ts2vg import NaturalVG\n",
    "    g = NaturalVG()\n",
    "    g.build(running['attr_x'][1000:2048])\n",
    "    ig_g_n = g.as_igraph()\n",
    "    \n",
    "    ad_run_hz_x=np.mean(ig_g_h.degree())\n",
    "    nd_run_hz_x=ig_g_h.diameter()\n",
    "    ad_run_nat_x=np.mean(ig_g_n.degree())\n",
    "    nd_run_nat_x=ig_g_n.diameter()\n",
    "\n",
    "\n",
    "    x_run_hz_list_x.append(ad_run_hz_x)\n",
    "    x_run_nat_list_x.append(ad_run_nat_x)\n",
    "    y_run_hz_list_x.append(nd_run_hz_x)\n",
    "    y_run_nat_list_x.append(nd_run_nat_x)\n",
    "    "
   ]
  },
  {
   "cell_type": "code",
   "execution_count": null,
   "id": "42e78f3c",
   "metadata": {},
   "outputs": [],
   "source": [
    "ile_name='acc_running_chest_'\n",
    "x_run_hz_list_y=[]\n",
    "x_run_nat_list_y=[]\n",
    "y_run_hz_list_y=[]\n",
    "y_run_nat_list_y=[]\n",
    "for i in range(1,16):\n",
    "    full_file_name= f\"{file_name}{i}\"\n",
    "    import pandas as pd\n",
    "    running = pd.read_csv(f\"{full_file_name}.csv\")\n",
    "\n",
    "\n",
    "    from ts2vg import HorizontalVG\n",
    "    import numpy as np\n",
    "    g = HorizontalVG()\n",
    "    g.build(running['attr_y'][1000:2024])\n",
    "    ig_g_h = g.as_igraph()\n",
    "    from ts2vg import NaturalVG\n",
    "    g = NaturalVG()\n",
    "    g.build(running['attr_y'][1000:2024])\n",
    "    ig_g_n = g.as_igraph()\n",
    "    \n",
    "    ad_run_hz_y=np.mean(ig_g_h.degree())\n",
    "    nd_run_hz_y=ig_g_h.diameter()\n",
    "    ad_run_nat_y=np.mean(ig_g_n.degree())\n",
    "    nd_run_nat_y=ig_g_n.diameter()\n",
    "\n",
    "\n",
    "    x_run_hz_list_y.append(ad_run_hz_y)\n",
    "    x_run_nat_list_y.append(ad_run_nat_y)\n",
    "    y_run_hz_list_y.append(nd_run_hz_y)\n",
    "    y_run_nat_list_y.append(nd_run_nat_y)"
   ]
  },
  {
   "cell_type": "code",
   "execution_count": null,
   "id": "b9075381",
   "metadata": {},
   "outputs": [],
   "source": [
    "ile_name='acc_running_chest_'\n",
    "x_run_hz_list_z=[]\n",
    "x_run_nat_list_z=[]\n",
    "y_run_hz_list_z=[]\n",
    "y_run_nat_list_z=[]\n",
    "for i in range(1,16):\n",
    "    full_file_name= f\"{file_name}{i}\"\n",
    "    import pandas as pd\n",
    "    running = pd.read_csv(f\"{full_file_name}.csv\")\n",
    "\n",
    "\n",
    "    from ts2vg import HorizontalVG\n",
    "    import numpy as np\n",
    "    g = HorizontalVG()\n",
    "    g.build(running['attr_z'][1000:2024])\n",
    "    ig_g_h = g.as_igraph()\n",
    "    from ts2vg import NaturalVG\n",
    "    g = NaturalVG()\n",
    "    g.build(running['attr_z'][1000:2024])\n",
    "    ig_g_n = g.as_igraph()\n",
    "    \n",
    "    ad_run_hz_z=np.mean(ig_g_h.degree())\n",
    "    nd_run_hz_z=ig_g_h.diameter()\n",
    "    ad_run_nat_z=np.mean(ig_g_n.degree())\n",
    "    nd_run_nat_z=ig_g_n.diameter()\n",
    "\n",
    "\n",
    "    x_run_hz_list_z.append(ad_run_hz_z)\n",
    "    x_run_nat_list_z.append(ad_run_nat_z)\n",
    "    y_run_hz_list_z.append(nd_run_hz_z)\n",
    "    y_run_nat_list_z.append(nd_run_nat_z)"
   ]
  },
  {
   "cell_type": "markdown",
   "id": "265e2a39",
   "metadata": {},
   "source": [
    "#### CLIMBING UP"
   ]
  },
  {
   "cell_type": "code",
   "execution_count": null,
   "id": "579d6fef",
   "metadata": {},
   "outputs": [],
   "source": [
    "file_name='acc_climbingup_chest_'\n",
    "x_climbup_hz_list_x=[]\n",
    "x_climbup_nat_list_x=[]\n",
    "y_climbup_hz_list_x=[]\n",
    "y_climbup_nat_list_x=[]\n",
    "for i in range(1,16):\n",
    "    full_file_name= f\"{file_name}{i}\"\n",
    "    import pandas as pd\n",
    "    climbup = pd.read_csv(f\"{full_file_name}.csv\")\n",
    "\n",
    "\n",
    "    from ts2vg import HorizontalVG\n",
    "    import numpy as np\n",
    "    g = HorizontalVG()\n",
    "    g.build(climbup['attr_x'][1000:2024])\n",
    "    ig_g_h = g.as_igraph()\n",
    "    from ts2vg import NaturalVG\n",
    "    g = NaturalVG()\n",
    "    g.build(climbup['attr_x'][1000:2024])\n",
    "    ig_g_n = g.as_igraph()\n",
    "    \n",
    "    ad_climbup_hz_x=np.mean(ig_g_h.degree())\n",
    "    nd_climbup_hz_x=ig_g_h.diameter()\n",
    "    ad_climbup_nat_x=np.mean(ig_g_n.degree())\n",
    "    nd_climbup_nat_x=ig_g_n.diameter()\n",
    "\n",
    "\n",
    "    x_climbup_hz_list_x.append(ad_climbup_hz_x)\n",
    "    x_climbup_nat_list_x.append(ad_climbup_nat_x)\n",
    "    y_climbup_hz_list_x.append(nd_climbup_hz_x)\n",
    "    y_climbup_nat_list_x.append(nd_climbup_nat_x)"
   ]
  },
  {
   "cell_type": "code",
   "execution_count": null,
   "id": "062ef386",
   "metadata": {},
   "outputs": [],
   "source": [
    "file_name='acc_climbingup_chest_'\n",
    "x_climbup_hz_list_y=[]\n",
    "x_climbup_nat_list_y=[]\n",
    "y_climbup_hz_list_y=[]\n",
    "y_climbup_nat_list_y=[]\n",
    "for i in range(1,16):\n",
    "    full_file_name= f\"{file_name}{i}\"\n",
    "    import pandas as pd\n",
    "    climbup = pd.read_csv(f\"{full_file_name}.csv\")\n",
    "\n",
    "\n",
    "    from ts2vg import HorizontalVG\n",
    "    import numpy as np\n",
    "    g = HorizontalVG()\n",
    "    g.build(climbup['attr_y'][1000:2024])\n",
    "    ig_g_h = g.as_igraph()\n",
    "    from ts2vg import NaturalVG\n",
    "    g = NaturalVG()\n",
    "    g.build(climbup['attr_y'][1000:2024])\n",
    "    ig_g_n = g.as_igraph()\n",
    "    \n",
    "    ad_climbup_hz_y=np.mean(ig_g_h.degree())\n",
    "    nd_climbup_hz_y=ig_g_h.diameter()\n",
    "    ad_climbup_nat_y=np.mean(ig_g_n.degree())\n",
    "    nd_climbup_nat_y=ig_g_n.diameter()\n",
    "\n",
    "\n",
    "    x_climbup_hz_list_y.append(ad_climbup_hz_y)\n",
    "    x_climbup_nat_list_y.append(ad_climbup_nat_y)\n",
    "    y_climbup_hz_list_y.append(nd_climbup_hz_y)\n",
    "    y_climbup_nat_list_y.append(nd_climbup_nat_y)"
   ]
  },
  {
   "cell_type": "code",
   "execution_count": null,
   "id": "182f747f",
   "metadata": {},
   "outputs": [],
   "source": [
    "file_name='acc_climbingup_chest_'\n",
    "x_climbup_hz_list_z=[]\n",
    "x_climbup_nat_list_z=[]\n",
    "y_climbup_hz_list_z=[]\n",
    "y_climbup_nat_list_z=[]\n",
    "for i in range(1,16):\n",
    "    full_file_name= f\"{file_name}{i}\"\n",
    "    import pandas as pd\n",
    "    climbup = pd.read_csv(f\"{full_file_name}.csv\")\n",
    "\n",
    "\n",
    "    from ts2vg import HorizontalVG\n",
    "    import numpy as np\n",
    "    g = HorizontalVG()\n",
    "    g.build(climbup['attr_z'][1000:2024])\n",
    "    ig_g_h = g.as_igraph()\n",
    "    from ts2vg import NaturalVG\n",
    "    g = NaturalVG()\n",
    "    g.build(climbup['attr_z'][1000:2024])\n",
    "    ig_g_n = g.as_igraph()\n",
    "    \n",
    "    ad_climbup_hz_z=np.mean(ig_g_h.degree())\n",
    "    nd_climbup_hz_z=ig_g_h.diameter()\n",
    "    ad_climbup_nat_z=np.mean(ig_g_n.degree())\n",
    "    nd_climbup_nat_z=ig_g_n.diameter()\n",
    "\n",
    "\n",
    "    x_climbup_hz_list_z.append(ad_climbup_hz_z)\n",
    "    x_climbup_nat_list_z.append(ad_climbup_nat_z)\n",
    "    y_climbup_hz_list_z.append(nd_climbup_hz_z)\n",
    "    y_climbup_nat_list_z.append(nd_climbup_nat_z)"
   ]
  },
  {
   "cell_type": "markdown",
   "id": "293124f3",
   "metadata": {},
   "source": [
    "CLIMBING DOWN"
   ]
  },
  {
   "cell_type": "code",
   "execution_count": null,
   "id": "0a533fe2",
   "metadata": {},
   "outputs": [],
   "source": [
    "file_name='acc_climbingdown_chest_'\n",
    "x_climbdown_hz_list_x=[]\n",
    "x_climbdown_nat_list_x=[]\n",
    "y_climbdown_hz_list_x=[]\n",
    "y_climbdown_nat_list_x=[]\n",
    "for i in range(1,16):\n",
    "    full_file_name= f\"{file_name}{i}\"\n",
    "    import pandas as pd\n",
    "    climbdown = pd.read_csv(f\"{full_file_name}.csv\")\n",
    "\n",
    "\n",
    "    from ts2vg import HorizontalVG\n",
    "    import numpy as np\n",
    "    g = HorizontalVG()\n",
    "    g.build(climbdown['attr_x'][1000:2024])\n",
    "    ig_g_h = g.as_igraph()\n",
    "    from ts2vg import NaturalVG\n",
    "    g = NaturalVG()\n",
    "    g.build(climbdown['attr_x'][1000:2024])\n",
    "    ig_g_n = g.as_igraph()\n",
    "    \n",
    "    ad_climbdown_hz_x=np.mean(ig_g_h.degree())\n",
    "    nd_climbdown_hz_x=ig_g_h.diameter()\n",
    "    ad_climbdown_nat_x=np.mean(ig_g_n.degree())\n",
    "    nd_climbdown_nat_x=ig_g_n.diameter()\n",
    "\n",
    "\n",
    "    x_climbdown_hz_list_x.append(ad_climbdown_hz_x)\n",
    "    x_climbdown_nat_list_x.append(ad_climbdown_nat_x)\n",
    "    y_climbdown_hz_list_x.append(nd_climbdown_hz_x)\n",
    "    y_climbdown_nat_list_x.append(nd_climbdown_nat_x)"
   ]
  },
  {
   "cell_type": "code",
   "execution_count": null,
   "id": "09382b30",
   "metadata": {},
   "outputs": [],
   "source": [
    "file_name='acc_climbingdown_chest_'\n",
    "x_climbdown_hz_list_y=[]\n",
    "x_climbdown_nat_list_y=[]\n",
    "y_climbdown_hz_list_y=[]\n",
    "y_climbdown_nat_list_y=[]\n",
    "for i in range(1,16):\n",
    "    full_file_name= f\"{file_name}{i}\"\n",
    "    import pandas as pd\n",
    "    climbdown = pd.read_csv(f\"{full_file_name}.csv\")\n",
    "\n",
    "\n",
    "    from ts2vg import HorizontalVG\n",
    "    import numpy as np\n",
    "    g = HorizontalVG()\n",
    "    g.build(climbdown['attr_y'][1000:2024])\n",
    "    ig_g_h = g.as_igraph()\n",
    "    from ts2vg import NaturalVG\n",
    "    g = NaturalVG()\n",
    "    g.build(climbdown['attr_y'][1000:2024])\n",
    "    ig_g_n = g.as_igraph()\n",
    "    \n",
    "    ad_climbdown_hz_y=np.mean(ig_g_h.degree())\n",
    "    nd_climbdown_hz_y=ig_g_h.diameter()\n",
    "    ad_climbdown_nat_y=np.mean(ig_g_n.degree())\n",
    "    nd_climbdown_nat_y=ig_g_n.diameter()\n",
    "\n",
    "\n",
    "    x_climbdown_hz_list_y.append(ad_climbdown_hz_y)\n",
    "    x_climbdown_nat_list_y.append(ad_climbdown_nat_y)\n",
    "    y_climbdown_hz_list_y.append(nd_climbdown_hz_y)\n",
    "    y_climbdown_nat_list_y.append(nd_climbdown_nat_y)"
   ]
  },
  {
   "cell_type": "code",
   "execution_count": null,
   "id": "b71febc7",
   "metadata": {},
   "outputs": [],
   "source": [
    "file_name='acc_climbingdown_chest_'\n",
    "x_climbdown_hz_list_z=[]\n",
    "x_climbdown_nat_list_z=[]\n",
    "y_climbdown_hz_list_z=[]\n",
    "y_climbdown_nat_list_z=[]\n",
    "for i in range(1,16):\n",
    "    full_file_name= f\"{file_name}{i}\"\n",
    "    import pandas as pd\n",
    "    climbdown = pd.read_csv(f\"{full_file_name}.csv\")\n",
    "\n",
    "\n",
    "    from ts2vg import HorizontalVG\n",
    "    import numpy as np\n",
    "    g = HorizontalVG()\n",
    "    g.build(climbdown['attr_z'][1000:2024])\n",
    "    ig_g_h = g.as_igraph()\n",
    "    from ts2vg import NaturalVG\n",
    "    g = NaturalVG()\n",
    "    g.build(climbdown['attr_z'][1000:2024])\n",
    "    ig_g_n = g.as_igraph()\n",
    "    \n",
    "    ad_climbdown_hz_z=np.mean(ig_g_h.degree())\n",
    "    nd_climbdown_hz_z=ig_g_h.diameter()\n",
    "    ad_climbdown_nat_z=np.mean(ig_g_n.degree())\n",
    "    nd_climbdown_nat_z=ig_g_n.diameter()\n",
    "\n",
    "\n",
    "    x_climbdown_hz_list_z.append(ad_climbdown_hz_z)\n",
    "    x_climbdown_nat_list_z.append(ad_climbdown_nat_z)\n",
    "    y_climbdown_hz_list_z.append(nd_climbdown_hz_z)\n",
    "    y_climbdown_nat_list_z.append(nd_climbdown_nat_z)"
   ]
  },
  {
   "cell_type": "markdown",
   "id": "d85db315",
   "metadata": {},
   "source": [
    "# 1.5(GRAPH)"
   ]
  },
  {
   "cell_type": "markdown",
   "id": "9198bcb9",
   "metadata": {},
   "source": [
    "## ACCORDING TO HVG"
   ]
  },
  {
   "cell_type": "markdown",
   "id": "ddb85262",
   "metadata": {},
   "source": [
    "#### FOR X DIRECTION"
   ]
  },
  {
   "cell_type": "code",
   "execution_count": null,
   "id": "12298a92",
   "metadata": {},
   "outputs": [],
   "source": [
    "import numpy as np\n",
    "import matplotlib.pyplot as plt\n",
    "plt.scatter(x=x_walk_hz_list_x, y=y_walk_hz_list_x,color='red',label='walking')\n",
    "plt.scatter(x=x_run_hz_list_x, y=y_run_hz_list_x,color='blue',label='running')\n",
    "plt.legend()\n",
    "plt.xlabel(\"Average Degree\")\n",
    "plt.ylabel(\"Network Diameter\")"
   ]
  },
  {
   "cell_type": "markdown",
   "id": "63c1ae55",
   "metadata": {},
   "source": [
    "#### FOR Y DIRECTION"
   ]
  },
  {
   "cell_type": "code",
   "execution_count": null,
   "id": "c49bb221",
   "metadata": {},
   "outputs": [],
   "source": [
    "import numpy as np\n",
    "import matplotlib.pyplot as plt\n",
    "plt.scatter(x=x_walk_hz_list_y, y=y_walk_hz_list_y,color='red',label='walking')\n",
    "plt.scatter(x=x_run_hz_list_y, y=y_run_hz_list_y,color='blue',label='running')\n",
    "plt.legend()\n",
    "plt.xlabel(\"Average Degree\")\n",
    "plt.ylabel(\"Network Diameter\")"
   ]
  },
  {
   "cell_type": "markdown",
   "id": "6f2eadf5",
   "metadata": {},
   "source": [
    "#### FOR Z DIRECTION"
   ]
  },
  {
   "cell_type": "code",
   "execution_count": null,
   "id": "ac5c4147",
   "metadata": {},
   "outputs": [],
   "source": [
    "import numpy as np\n",
    "import matplotlib.pyplot as plt\n",
    "plt.scatter(x=x_walk_hz_list_z, y=y_walk_hz_list_z,color='red',label='walking')\n",
    "plt.scatter(x=x_run_hz_list_z, y=y_run_hz_list_z,color='blue',label='running')\n",
    "plt.legend()\n",
    "plt.xlabel(\"Average Degree\")\n",
    "plt.ylabel(\"Network Diameter\")"
   ]
  },
  {
   "cell_type": "markdown",
   "id": "230f1f57",
   "metadata": {},
   "source": [
    "## ACCORDING TO NVG"
   ]
  },
  {
   "cell_type": "markdown",
   "id": "219e663e",
   "metadata": {},
   "source": [
    "#### FOR X DIRECTION"
   ]
  },
  {
   "cell_type": "code",
   "execution_count": null,
   "id": "1b3fd24a",
   "metadata": {},
   "outputs": [],
   "source": [
    "import numpy as np\n",
    "import matplotlib.pyplot as plt\n",
    "plt.scatter(x=x_walk_nat_list_x, y=y_walk_nat_list_x,color='red',label='walking')\n",
    "plt.scatter(x=x_run_nat_list_x, y=y_run_nat_list_x,color='blue',label='running')\n",
    "plt.legend()\n",
    "plt.xlabel(\"Average Degree\")\n",
    "plt.ylabel(\"Network Diameter\")"
   ]
  },
  {
   "cell_type": "markdown",
   "id": "e6b9fbb6",
   "metadata": {},
   "source": [
    "#### FOR Y DIRECTION"
   ]
  },
  {
   "cell_type": "code",
   "execution_count": null,
   "id": "d0451797",
   "metadata": {},
   "outputs": [],
   "source": [
    "import numpy as np\n",
    "import matplotlib.pyplot as plt\n",
    "plt.scatter(x=x_walk_nat_list_y, y=y_walk_nat_list_y,color='red',label='walking')\n",
    "plt.scatter(x=x_run_nat_list_y, y=y_run_nat_list_y,color='blue',label='running')\n",
    "plt.legend()\n",
    "plt.xlabel(\"Average Degree\")\n",
    "plt.ylabel(\"Network Diameter\")"
   ]
  },
  {
   "cell_type": "markdown",
   "id": "8cc554e6",
   "metadata": {},
   "source": [
    "#### FOR Z DIRECTION"
   ]
  },
  {
   "cell_type": "code",
   "execution_count": null,
   "id": "603dc8c8",
   "metadata": {},
   "outputs": [],
   "source": [
    "import numpy as np\n",
    "import matplotlib.pyplot as plt\n",
    "plt.scatter(x=x_walk_nat_list_z, y=y_walk_nat_list_z,color='red',label='walking')\n",
    "plt.scatter(x=x_run_nat_list_z, y=y_run_nat_list_z,color='blue',label='running')\n",
    "plt.legend()\n",
    "plt.xlabel(\"Average Degree\")\n",
    "plt.ylabel(\"Network Diameter\")"
   ]
  },
  {
   "cell_type": "markdown",
   "id": "2703e97a",
   "metadata": {},
   "source": [
    "# 1.6(GRAPH)"
   ]
  },
  {
   "cell_type": "markdown",
   "id": "3e06e192",
   "metadata": {},
   "source": [
    "## ACCORDING TO HVG"
   ]
  },
  {
   "cell_type": "markdown",
   "id": "927efa51",
   "metadata": {},
   "source": [
    "#### FOR X DIRECTION"
   ]
  },
  {
   "cell_type": "code",
   "execution_count": null,
   "id": "1c0b28cf",
   "metadata": {},
   "outputs": [],
   "source": [
    "import numpy as np\n",
    "import matplotlib.pyplot as plt\n",
    "plt.scatter(x=x_climbup_hz_list_x, y=y_climbup_hz_list_x,color='red',label='climbing up')\n",
    "plt.scatter(x=x_climbdown_hz_list_x, y=y_climbdown_hz_list_x,color='blue',label='climbing down')\n",
    "plt.legend()\n",
    "plt.xlabel(\"Average Degree\")\n",
    "plt.ylabel(\"Network Diameter\")"
   ]
  },
  {
   "cell_type": "markdown",
   "id": "f49ca6db",
   "metadata": {},
   "source": [
    "#### FOR Y DIRECTION"
   ]
  },
  {
   "cell_type": "code",
   "execution_count": null,
   "id": "63dee0f3",
   "metadata": {},
   "outputs": [],
   "source": [
    "import numpy as np\n",
    "import matplotlib.pyplot as plt\n",
    "plt.scatter(x=x_climbup_hz_list_y, y=y_climbup_hz_list_y,color='red',label='climbing up')\n",
    "plt.scatter(x=x_climbdown_hz_list_y, y=y_climbdown_hz_list_y,color='blue',label='climbing down')\n",
    "plt.legend()\n",
    "plt.xlabel(\"Average Degree\")\n",
    "plt.ylabel(\"Network Diameter\")\n"
   ]
  },
  {
   "cell_type": "markdown",
   "id": "f9696f4b",
   "metadata": {},
   "source": [
    "#### FOR Z DIRECTION"
   ]
  },
  {
   "cell_type": "code",
   "execution_count": null,
   "id": "61963b92",
   "metadata": {},
   "outputs": [],
   "source": [
    "import numpy as np\n",
    "import matplotlib.pyplot as plt\n",
    "plt.scatter(x=x_climbup_hz_list_z, y=y_climbup_hz_list_z,color='red',label='climbing up')\n",
    "plt.scatter(x=x_climbdown_hz_list_z, y=y_climbdown_hz_list_z,color='blue',label='climbing down')\n",
    "plt.legend()\n",
    "plt.xlabel(\"Average Degree\")\n",
    "plt.ylabel(\"Network Diameter\")"
   ]
  },
  {
   "cell_type": "markdown",
   "id": "b8a90178",
   "metadata": {},
   "source": [
    "## ACCORDING TO NVG"
   ]
  },
  {
   "cell_type": "markdown",
   "id": "a08fbfe7",
   "metadata": {},
   "source": [
    "#### FOR X DIRECTION"
   ]
  },
  {
   "cell_type": "code",
   "execution_count": null,
   "id": "fcd367db",
   "metadata": {},
   "outputs": [],
   "source": [
    "import numpy as np\n",
    "import matplotlib.pyplot as plt\n",
    "plt.scatter(x=x_climbup_nat_list_x, y=y_climbup_nat_list_x,color='red',label='climbing up')\n",
    "plt.scatter(x=x_climbdown_nat_list_x, y=y_climbdown_nat_list_x,color='blue',label='climbing down')\n",
    "plt.legend()\n",
    "plt.xlabel(\"Average Degree\")\n",
    "plt.ylabel(\"Network Diameter\")"
   ]
  },
  {
   "cell_type": "markdown",
   "id": "d62e2f6f",
   "metadata": {},
   "source": [
    "#### FOR Y DIRECTION"
   ]
  },
  {
   "cell_type": "code",
   "execution_count": null,
   "id": "c2271d04",
   "metadata": {},
   "outputs": [],
   "source": [
    "import numpy as np\n",
    "import matplotlib.pyplot as plt\n",
    "plt.scatter(x=x_climbup_nat_list_y, y=y_climbup_nat_list_y,color='red',label='climbing up')\n",
    "plt.scatter(x=x_climbdown_nat_list_y, y=y_climbdown_nat_list_y,color='blue',label='climbing down')\n",
    "plt.legend()\n",
    "plt.xlabel(\"Average Degree\")\n",
    "plt.ylabel(\"Network Diameter\")"
   ]
  },
  {
   "cell_type": "markdown",
   "id": "fc2b0b51",
   "metadata": {},
   "source": [
    "#### FOR Z DIRECTION"
   ]
  },
  {
   "cell_type": "code",
   "execution_count": null,
   "id": "4c95981d",
   "metadata": {},
   "outputs": [],
   "source": [
    "import numpy as np\n",
    "import matplotlib.pyplot as plt\n",
    "plt.scatter(x=x_climbup_nat_list_z, y=y_climbup_nat_list_z,color='red',label='climbing up')\n",
    "plt.scatter(x=x_climbdown_nat_list_z, y=y_climbdown_nat_list_z,color='blue',label='climbing down')\n",
    "plt.legend()\n",
    "plt.xlabel(\"Average Degree\")\n",
    "plt.ylabel(\"Network Diameter\")"
   ]
  },
  {
   "cell_type": "code",
   "execution_count": null,
   "id": "cc81cbf8",
   "metadata": {
    "id": "YB3B29BWo9hF"
   },
   "outputs": [],
   "source": [
    "import numpy as np\n",
    "\n",
    "\n",
    "def s_entropy(freq_list):\n",
    "    ''' This function computes the shannon entropy of a given frequency distribution.\n",
    "    USAGE: shannon_entropy(freq_list)\n",
    "    ARGS: freq_list = Numeric vector representing the frequency distribution\n",
    "    OUTPUT: A numeric value representing shannon's entropy'''\n",
    "    freq_list = [element for element in freq_list if element != 0]\n",
    "    sh_entropy = 0.0\n",
    "    for freq in freq_list:\n",
    "        sh_entropy += freq * np.log(freq)\n",
    "    sh_entropy = -sh_entropy\n",
    "    return(sh_entropy)\n",
    "\n",
    "def ordinal_patterns(ts, embdim, embdelay):\n",
    "    ''' This function computes the ordinal patterns of a time series for a given embedding dimension and embedding delay.\n",
    "    USAGE: ordinal_patterns(ts, embdim, embdelay)\n",
    "    ARGS: ts = Numeric vector representing the time series, embdim = embedding dimension (3<=embdim<=7 prefered range), embdelay =  embdding delay\n",
    "    OUPTUT: A numeric vector representing frequencies of ordinal patterns'''\n",
    "    m, t = embdim, embdelay\n",
    "    x = ts if isinstance(ts, np.ndarray) else np.array(ts) \n",
    "\n",
    "    tmp = np.zeros((x.shape[0], m))\n",
    "    for i in range(m):\n",
    "        tmp[:, i] = np.roll(x, i*t)\n",
    "    partition = tmp[(t*m-1):, :] \n",
    "    permutation = np.argsort(partition)\n",
    "    idx = _hash(permutation)\n",
    "\n",
    "    counts = np.zeros(np.math.factorial(m))\n",
    "    for i in range(counts.shape[0]):\n",
    "        counts[i] = (idx == i).sum()\n",
    "    return list(counts[counts != 0].astype(int))\n",
    "\n",
    "def _hash(x):\n",
    "    m, n = x.shape\n",
    "    if n == 1:\n",
    "        return np.zeros(m)\n",
    "    return np.sum(np.apply_along_axis(lambda y: y < x[:, 0], 0, x), axis=1) * np.math.factorial(n-1) + _hash(x[:, 1:]) \n",
    "    \n",
    "\n",
    "def p_entropy(op):\n",
    "    ordinal_pat = op\n",
    "    max_entropy = np.log(len(ordinal_pat))\n",
    "    p = np.divide(np.array(ordinal_pat), float(sum(ordinal_pat)))\n",
    "    return(s_entropy(p)/max_entropy)\n",
    "\n",
    "def complexity(op):\n",
    "    ''' This function computes the complexity of a time series defined as: Comp_JS = Q_o * JSdivergence * pe\n",
    "    Q_o = Normalizing constant\n",
    "    JSdivergence = Jensen-Shannon divergence\n",
    "    pe = permutation entopry\n",
    "    ARGS: ordinal pattern'''\n",
    "    pe = p_entropy(op)\n",
    "    constant1 = (0.5+((1 - 0.5)/len(op)))* np.log(0.5+((1 - 0.5)/len(op)))\n",
    "    constant2 = ((1 - 0.5)/len(op))*np.log((1 - 0.5)/len(op))*(len(op) - 1)\n",
    "    constant3 = 0.5*np.log(len(op))\n",
    "    Q_o = -1/(constant1+constant2+constant3)\n",
    "\n",
    "    temp_op_prob = np.divide(op, sum(op))\n",
    "    temp_op_prob2 = (0.5*temp_op_prob)+(0.5*(1/len(op)))\n",
    "    JSdivergence = (s_entropy(temp_op_prob2) - 0.5 * s_entropy(temp_op_prob) - 0.5 * np.log(len(op)))\n",
    "    Comp_JS = Q_o * JSdivergence * pe\n",
    "    return(Comp_JS)"
   ]
  },
  {
   "cell_type": "code",
   "execution_count": null,
   "id": "7ac08d81",
   "metadata": {
    "id": "i2OBbTbKnhBp"
   },
   "outputs": [],
   "source": []
  },
  {
   "cell_type": "code",
   "execution_count": null,
   "id": "5661894d",
   "metadata": {
    "colab": {
     "base_uri": "https://localhost:8080/",
     "height": 1000,
     "resources": {
      "http://localhost:8080/nbextensions/google.colab/files.js": {
       "data": "Ly8gQ29weXJpZ2h0IDIwMTcgR29vZ2xlIExMQwovLwovLyBMaWNlbnNlZCB1bmRlciB0aGUgQXBhY2hlIExpY2Vuc2UsIFZlcnNpb24gMi4wICh0aGUgIkxpY2Vuc2UiKTsKLy8geW91IG1heSBub3QgdXNlIHRoaXMgZmlsZSBleGNlcHQgaW4gY29tcGxpYW5jZSB3aXRoIHRoZSBMaWNlbnNlLgovLyBZb3UgbWF5IG9idGFpbiBhIGNvcHkgb2YgdGhlIExpY2Vuc2UgYXQKLy8KLy8gICAgICBodHRwOi8vd3d3LmFwYWNoZS5vcmcvbGljZW5zZXMvTElDRU5TRS0yLjAKLy8KLy8gVW5sZXNzIHJlcXVpcmVkIGJ5IGFwcGxpY2FibGUgbGF3IG9yIGFncmVlZCB0byBpbiB3cml0aW5nLCBzb2Z0d2FyZQovLyBkaXN0cmlidXRlZCB1bmRlciB0aGUgTGljZW5zZSBpcyBkaXN0cmlidXRlZCBvbiBhbiAiQVMgSVMiIEJBU0lTLAovLyBXSVRIT1VUIFdBUlJBTlRJRVMgT1IgQ09ORElUSU9OUyBPRiBBTlkgS0lORCwgZWl0aGVyIGV4cHJlc3Mgb3IgaW1wbGllZC4KLy8gU2VlIHRoZSBMaWNlbnNlIGZvciB0aGUgc3BlY2lmaWMgbGFuZ3VhZ2UgZ292ZXJuaW5nIHBlcm1pc3Npb25zIGFuZAovLyBsaW1pdGF0aW9ucyB1bmRlciB0aGUgTGljZW5zZS4KCi8qKgogKiBAZmlsZW92ZXJ2aWV3IEhlbHBlcnMgZm9yIGdvb2dsZS5jb2xhYiBQeXRob24gbW9kdWxlLgogKi8KKGZ1bmN0aW9uKHNjb3BlKSB7CmZ1bmN0aW9uIHNwYW4odGV4dCwgc3R5bGVBdHRyaWJ1dGVzID0ge30pIHsKICBjb25zdCBlbGVtZW50ID0gZG9jdW1lbnQuY3JlYXRlRWxlbWVudCgnc3BhbicpOwogIGVsZW1lbnQudGV4dENvbnRlbnQgPSB0ZXh0OwogIGZvciAoY29uc3Qga2V5IG9mIE9iamVjdC5rZXlzKHN0eWxlQXR0cmlidXRlcykpIHsKICAgIGVsZW1lbnQuc3R5bGVba2V5XSA9IHN0eWxlQXR0cmlidXRlc1trZXldOwogIH0KICByZXR1cm4gZWxlbWVudDsKfQoKLy8gTWF4IG51bWJlciBvZiBieXRlcyB3aGljaCB3aWxsIGJlIHVwbG9hZGVkIGF0IGEgdGltZS4KY29uc3QgTUFYX1BBWUxPQURfU0laRSA9IDEwMCAqIDEwMjQ7CgpmdW5jdGlvbiBfdXBsb2FkRmlsZXMoaW5wdXRJZCwgb3V0cHV0SWQpIHsKICBjb25zdCBzdGVwcyA9IHVwbG9hZEZpbGVzU3RlcChpbnB1dElkLCBvdXRwdXRJZCk7CiAgY29uc3Qgb3V0cHV0RWxlbWVudCA9IGRvY3VtZW50LmdldEVsZW1lbnRCeUlkKG91dHB1dElkKTsKICAvLyBDYWNoZSBzdGVwcyBvbiB0aGUgb3V0cHV0RWxlbWVudCB0byBtYWtlIGl0IGF2YWlsYWJsZSBmb3IgdGhlIG5leHQgY2FsbAogIC8vIHRvIHVwbG9hZEZpbGVzQ29udGludWUgZnJvbSBQeXRob24uCiAgb3V0cHV0RWxlbWVudC5zdGVwcyA9IHN0ZXBzOwoKICByZXR1cm4gX3VwbG9hZEZpbGVzQ29udGludWUob3V0cHV0SWQpOwp9CgovLyBUaGlzIGlzIHJvdWdobHkgYW4gYXN5bmMgZ2VuZXJhdG9yIChub3Qgc3VwcG9ydGVkIGluIHRoZSBicm93c2VyIHlldCksCi8vIHdoZXJlIHRoZXJlIGFyZSBtdWx0aXBsZSBhc3luY2hyb25vdXMgc3RlcHMgYW5kIHRoZSBQeXRob24gc2lkZSBpcyBnb2luZwovLyB0byBwb2xsIGZvciBjb21wbGV0aW9uIG9mIGVhY2ggc3RlcC4KLy8gVGhpcyB1c2VzIGEgUHJvbWlzZSB0byBibG9jayB0aGUgcHl0aG9uIHNpZGUgb24gY29tcGxldGlvbiBvZiBlYWNoIHN0ZXAsCi8vIHRoZW4gcGFzc2VzIHRoZSByZXN1bHQgb2YgdGhlIHByZXZpb3VzIHN0ZXAgYXMgdGhlIGlucHV0IHRvIHRoZSBuZXh0IHN0ZXAuCmZ1bmN0aW9uIF91cGxvYWRGaWxlc0NvbnRpbnVlKG91dHB1dElkKSB7CiAgY29uc3Qgb3V0cHV0RWxlbWVudCA9IGRvY3VtZW50LmdldEVsZW1lbnRCeUlkKG91dHB1dElkKTsKICBjb25zdCBzdGVwcyA9IG91dHB1dEVsZW1lbnQuc3RlcHM7CgogIGNvbnN0IG5leHQgPSBzdGVwcy5uZXh0KG91dHB1dEVsZW1lbnQubGFzdFByb21pc2VWYWx1ZSk7CiAgcmV0dXJuIFByb21pc2UucmVzb2x2ZShuZXh0LnZhbHVlLnByb21pc2UpLnRoZW4oKHZhbHVlKSA9PiB7CiAgICAvLyBDYWNoZSB0aGUgbGFzdCBwcm9taXNlIHZhbHVlIHRvIG1ha2UgaXQgYXZhaWxhYmxlIHRvIHRoZSBuZXh0CiAgICAvLyBzdGVwIG9mIHRoZSBnZW5lcmF0b3IuCiAgICBvdXRwdXRFbGVtZW50Lmxhc3RQcm9taXNlVmFsdWUgPSB2YWx1ZTsKICAgIHJldHVybiBuZXh0LnZhbHVlLnJlc3BvbnNlOwogIH0pOwp9CgovKioKICogR2VuZXJhdG9yIGZ1bmN0aW9uIHdoaWNoIGlzIGNhbGxlZCBiZXR3ZWVuIGVhY2ggYXN5bmMgc3RlcCBvZiB0aGUgdXBsb2FkCiAqIHByb2Nlc3MuCiAqIEBwYXJhbSB7c3RyaW5nfSBpbnB1dElkIEVsZW1lbnQgSUQgb2YgdGhlIGlucHV0IGZpbGUgcGlja2VyIGVsZW1lbnQuCiAqIEBwYXJhbSB7c3RyaW5nfSBvdXRwdXRJZCBFbGVtZW50IElEIG9mIHRoZSBvdXRwdXQgZGlzcGxheS4KICogQHJldHVybiB7IUl0ZXJhYmxlPCFPYmplY3Q+fSBJdGVyYWJsZSBvZiBuZXh0IHN0ZXBzLgogKi8KZnVuY3Rpb24qIHVwbG9hZEZpbGVzU3RlcChpbnB1dElkLCBvdXRwdXRJZCkgewogIGNvbnN0IGlucHV0RWxlbWVudCA9IGRvY3VtZW50LmdldEVsZW1lbnRCeUlkKGlucHV0SWQpOwogIGlucHV0RWxlbWVudC5kaXNhYmxlZCA9IGZhbHNlOwoKICBjb25zdCBvdXRwdXRFbGVtZW50ID0gZG9jdW1lbnQuZ2V0RWxlbWVudEJ5SWQob3V0cHV0SWQpOwogIG91dHB1dEVsZW1lbnQuaW5uZXJIVE1MID0gJyc7CgogIGNvbnN0IHBpY2tlZFByb21pc2UgPSBuZXcgUHJvbWlzZSgocmVzb2x2ZSkgPT4gewogICAgaW5wdXRFbGVtZW50LmFkZEV2ZW50TGlzdGVuZXIoJ2NoYW5nZScsIChlKSA9PiB7CiAgICAgIHJlc29sdmUoZS50YXJnZXQuZmlsZXMpOwogICAgfSk7CiAgfSk7CgogIGNvbnN0IGNhbmNlbCA9IGRvY3VtZW50LmNyZWF0ZUVsZW1lbnQoJ2J1dHRvbicpOwogIGlucHV0RWxlbWVudC5wYXJlbnRFbGVtZW50LmFwcGVuZENoaWxkKGNhbmNlbCk7CiAgY2FuY2VsLnRleHRDb250ZW50ID0gJ0NhbmNlbCB1cGxvYWQnOwogIGNvbnN0IGNhbmNlbFByb21pc2UgPSBuZXcgUHJvbWlzZSgocmVzb2x2ZSkgPT4gewogICAgY2FuY2VsLm9uY2xpY2sgPSAoKSA9PiB7CiAgICAgIHJlc29sdmUobnVsbCk7CiAgICB9OwogIH0pOwoKICAvLyBXYWl0IGZvciB0aGUgdXNlciB0byBwaWNrIHRoZSBmaWxlcy4KICBjb25zdCBmaWxlcyA9IHlpZWxkIHsKICAgIHByb21pc2U6IFByb21pc2UucmFjZShbcGlja2VkUHJvbWlzZSwgY2FuY2VsUHJvbWlzZV0pLAogICAgcmVzcG9uc2U6IHsKICAgICAgYWN0aW9uOiAnc3RhcnRpbmcnLAogICAgfQogIH07CgogIGNhbmNlbC5yZW1vdmUoKTsKCiAgLy8gRGlzYWJsZSB0aGUgaW5wdXQgZWxlbWVudCBzaW5jZSBmdXJ0aGVyIHBpY2tzIGFyZSBub3QgYWxsb3dlZC4KICBpbnB1dEVsZW1lbnQuZGlzYWJsZWQgPSB0cnVlOwoKICBpZiAoIWZpbGVzKSB7CiAgICByZXR1cm4gewogICAgICByZXNwb25zZTogewogICAgICAgIGFjdGlvbjogJ2NvbXBsZXRlJywKICAgICAgfQogICAgfTsKICB9CgogIGZvciAoY29uc3QgZmlsZSBvZiBmaWxlcykgewogICAgY29uc3QgbGkgPSBkb2N1bWVudC5jcmVhdGVFbGVtZW50KCdsaScpOwogICAgbGkuYXBwZW5kKHNwYW4oZmlsZS5uYW1lLCB7Zm9udFdlaWdodDogJ2JvbGQnfSkpOwogICAgbGkuYXBwZW5kKHNwYW4oCiAgICAgICAgYCgke2ZpbGUudHlwZSB8fCAnbi9hJ30pIC0gJHtmaWxlLnNpemV9IGJ5dGVzLCBgICsKICAgICAgICBgbGFzdCBtb2RpZmllZDogJHsKICAgICAgICAgICAgZmlsZS5sYXN0TW9kaWZpZWREYXRlID8gZmlsZS5sYXN0TW9kaWZpZWREYXRlLnRvTG9jYWxlRGF0ZVN0cmluZygpIDoKICAgICAgICAgICAgICAgICAgICAgICAgICAgICAgICAgICAgJ24vYSd9IC0gYCkpOwogICAgY29uc3QgcGVyY2VudCA9IHNwYW4oJzAlIGRvbmUnKTsKICAgIGxpLmFwcGVuZENoaWxkKHBlcmNlbnQpOwoKICAgIG91dHB1dEVsZW1lbnQuYXBwZW5kQ2hpbGQobGkpOwoKICAgIGNvbnN0IGZpbGVEYXRhUHJvbWlzZSA9IG5ldyBQcm9taXNlKChyZXNvbHZlKSA9PiB7CiAgICAgIGNvbnN0IHJlYWRlciA9IG5ldyBGaWxlUmVhZGVyKCk7CiAgICAgIHJlYWRlci5vbmxvYWQgPSAoZSkgPT4gewogICAgICAgIHJlc29sdmUoZS50YXJnZXQucmVzdWx0KTsKICAgICAgfTsKICAgICAgcmVhZGVyLnJlYWRBc0FycmF5QnVmZmVyKGZpbGUpOwogICAgfSk7CiAgICAvLyBXYWl0IGZvciB0aGUgZGF0YSB0byBiZSByZWFkeS4KICAgIGxldCBmaWxlRGF0YSA9IHlpZWxkIHsKICAgICAgcHJvbWlzZTogZmlsZURhdGFQcm9taXNlLAogICAgICByZXNwb25zZTogewogICAgICAgIGFjdGlvbjogJ2NvbnRpbnVlJywKICAgICAgfQogICAgfTsKCiAgICAvLyBVc2UgYSBjaHVua2VkIHNlbmRpbmcgdG8gYXZvaWQgbWVzc2FnZSBzaXplIGxpbWl0cy4gU2VlIGIvNjIxMTU2NjAuCiAgICBsZXQgcG9zaXRpb24gPSAwOwogICAgZG8gewogICAgICBjb25zdCBsZW5ndGggPSBNYXRoLm1pbihmaWxlRGF0YS5ieXRlTGVuZ3RoIC0gcG9zaXRpb24sIE1BWF9QQVlMT0FEX1NJWkUpOwogICAgICBjb25zdCBjaHVuayA9IG5ldyBVaW50OEFycmF5KGZpbGVEYXRhLCBwb3NpdGlvbiwgbGVuZ3RoKTsKICAgICAgcG9zaXRpb24gKz0gbGVuZ3RoOwoKICAgICAgY29uc3QgYmFzZTY0ID0gYnRvYShTdHJpbmcuZnJvbUNoYXJDb2RlLmFwcGx5KG51bGwsIGNodW5rKSk7CiAgICAgIHlpZWxkIHsKICAgICAgICByZXNwb25zZTogewogICAgICAgICAgYWN0aW9uOiAnYXBwZW5kJywKICAgICAgICAgIGZpbGU6IGZpbGUubmFtZSwKICAgICAgICAgIGRhdGE6IGJhc2U2NCwKICAgICAgICB9LAogICAgICB9OwoKICAgICAgbGV0IHBlcmNlbnREb25lID0gZmlsZURhdGEuYnl0ZUxlbmd0aCA9PT0gMCA/CiAgICAgICAgICAxMDAgOgogICAgICAgICAgTWF0aC5yb3VuZCgocG9zaXRpb24gLyBmaWxlRGF0YS5ieXRlTGVuZ3RoKSAqIDEwMCk7CiAgICAgIHBlcmNlbnQudGV4dENvbnRlbnQgPSBgJHtwZXJjZW50RG9uZX0lIGRvbmVgOwoKICAgIH0gd2hpbGUgKHBvc2l0aW9uIDwgZmlsZURhdGEuYnl0ZUxlbmd0aCk7CiAgfQoKICAvLyBBbGwgZG9uZS4KICB5aWVsZCB7CiAgICByZXNwb25zZTogewogICAgICBhY3Rpb246ICdjb21wbGV0ZScsCiAgICB9CiAgfTsKfQoKc2NvcGUuZ29vZ2xlID0gc2NvcGUuZ29vZ2xlIHx8IHt9OwpzY29wZS5nb29nbGUuY29sYWIgPSBzY29wZS5nb29nbGUuY29sYWIgfHwge307CnNjb3BlLmdvb2dsZS5jb2xhYi5fZmlsZXMgPSB7CiAgX3VwbG9hZEZpbGVzLAogIF91cGxvYWRGaWxlc0NvbnRpbnVlLAp9Owp9KShzZWxmKTsK",
       "headers": [
        [
         "content-type",
         "application/javascript"
        ]
       ],
       "ok": true,
       "status": 200,
       "status_text": ""
      }
     }
    },
    "id": "8SpP0GG1pV9a",
    "outputId": "6f7b7b1c-f5ee-48dd-91c0-b6912c99345c"
   },
   "outputs": [
    {
     "data": {
      "text/html": [
       "\n",
       "     <input type=\"file\" id=\"files-e8ae44ea-401b-47a5-a8d2-e05a33efe27d\" name=\"files[]\" multiple disabled\n",
       "        style=\"border:none\" />\n",
       "     <output id=\"result-e8ae44ea-401b-47a5-a8d2-e05a33efe27d\">\n",
       "      Upload widget is only available when the cell has been executed in the\n",
       "      current browser session. Please rerun this cell to enable.\n",
       "      </output>\n",
       "      <script src=\"/nbextensions/google.colab/files.js\"></script> "
      ],
      "text/plain": [
       "<IPython.core.display.HTML object>"
      ]
     },
     "metadata": {},
     "output_type": "display_data"
    },
    {
     "name": "stdout",
     "output_type": "stream",
     "text": [
      "Saving .DS_Store to .DS_Store\n",
      "Saving acc_climbingdown_chest1.csv to acc_climbingdown_chest1.csv\n",
      "Saving acc_climbingdown_chest2.csv to acc_climbingdown_chest2.csv\n",
      "Saving acc_climbingdown_chest3.csv to acc_climbingdown_chest3.csv\n",
      "Saving acc_climbingdown_chest4.csv to acc_climbingdown_chest4.csv\n",
      "Saving acc_climbingdown_chest5.csv to acc_climbingdown_chest5.csv\n",
      "Saving acc_climbingdown_chest6.csv to acc_climbingdown_chest6.csv\n",
      "Saving acc_climbingdown_chest7.csv to acc_climbingdown_chest7.csv\n",
      "Saving acc_climbingdown_chest8.csv to acc_climbingdown_chest8.csv\n",
      "Saving acc_climbingdown_chest9.csv to acc_climbingdown_chest9.csv\n",
      "Saving acc_climbingdown_chest10.csv to acc_climbingdown_chest10.csv\n",
      "Saving acc_climbingdown_chest11.csv to acc_climbingdown_chest11.csv\n",
      "Saving acc_climbingdown_chest12.csv to acc_climbingdown_chest12.csv\n",
      "Saving acc_climbingdown_chest13.csv to acc_climbingdown_chest13.csv\n",
      "Saving acc_climbingdown_chest14.csv to acc_climbingdown_chest14.csv\n",
      "Saving acc_climbingdown_chest15.csv to acc_climbingdown_chest15.csv\n",
      "Saving acc_climbingup_chest1.csv to acc_climbingup_chest1.csv\n",
      "Saving acc_climbingup_chest2.csv to acc_climbingup_chest2.csv\n",
      "Saving acc_climbingup_chest3.csv to acc_climbingup_chest3.csv\n",
      "Saving acc_climbingup_chest4.csv to acc_climbingup_chest4.csv\n",
      "Saving acc_climbingup_chest5.csv to acc_climbingup_chest5.csv\n",
      "Saving acc_climbingup_chest6.csv to acc_climbingup_chest6.csv\n",
      "Saving acc_climbingup_chest7.csv to acc_climbingup_chest7.csv\n",
      "Saving acc_climbingup_chest8.csv to acc_climbingup_chest8.csv\n",
      "Saving acc_climbingup_chest9.csv to acc_climbingup_chest9.csv\n",
      "Saving acc_climbingup_chest10.csv to acc_climbingup_chest10.csv\n",
      "Saving acc_climbingup_chest11.csv to acc_climbingup_chest11.csv\n",
      "Saving acc_climbingup_chest12.csv to acc_climbingup_chest12.csv\n",
      "Saving acc_climbingup_chest13.csv to acc_climbingup_chest13.csv\n",
      "Saving acc_climbingup_chest14.csv to acc_climbingup_chest14.csv\n",
      "Saving acc_climbingup_chest15.csv to acc_climbingup_chest15.csv\n",
      "Saving acc_running_chest1.csv to acc_running_chest1.csv\n",
      "Saving acc_running_chest2.csv to acc_running_chest2.csv\n",
      "Saving acc_running_chest3.csv to acc_running_chest3.csv\n",
      "Saving acc_running_chest4.csv to acc_running_chest4.csv\n",
      "Saving acc_running_chest5.csv to acc_running_chest5.csv\n",
      "Saving acc_running_chest6.csv to acc_running_chest6.csv\n",
      "Saving acc_running_chest7.csv to acc_running_chest7.csv\n",
      "Saving acc_running_chest8.csv to acc_running_chest8.csv\n",
      "Saving acc_running_chest9.csv to acc_running_chest9.csv\n",
      "Saving acc_running_chest10.csv to acc_running_chest10.csv\n",
      "Saving acc_running_chest11.csv to acc_running_chest11.csv\n",
      "Saving acc_running_chest12.csv to acc_running_chest12.csv\n",
      "Saving acc_running_chest13.csv to acc_running_chest13.csv\n",
      "Saving acc_running_chest14.csv to acc_running_chest14.csv\n",
      "Saving acc_running_chest15.csv to acc_running_chest15.csv\n",
      "Saving acc_walking_chest1.csv to acc_walking_chest1.csv\n",
      "Saving acc_walking_chest2.csv to acc_walking_chest2.csv\n",
      "Saving acc_walking_chest3.csv to acc_walking_chest3.csv\n",
      "Saving acc_walking_chest4.csv to acc_walking_chest4.csv\n",
      "Saving acc_walking_chest5.csv to acc_walking_chest5.csv\n",
      "Saving acc_walking_chest6.csv to acc_walking_chest6.csv\n",
      "Saving acc_walking_chest7.csv to acc_walking_chest7.csv\n",
      "Saving acc_walking_chest8.csv to acc_walking_chest8.csv\n",
      "Saving acc_walking_chest9.csv to acc_walking_chest9.csv\n",
      "Saving acc_walking_chest10.csv to acc_walking_chest10.csv\n",
      "Saving acc_walking_chest11.csv to acc_walking_chest11.csv\n",
      "Saving acc_walking_chest12.csv to acc_walking_chest12.csv\n",
      "Saving acc_walking_chest13.csv to acc_walking_chest13.csv\n",
      "Saving acc_walking_chest14.csv to acc_walking_chest14.csv\n",
      "Saving acc_walking_chest15.csv to acc_walking_chest15.csv\n"
     ]
    }
   ],
   "source": [
    "from google.colab import files\n",
    "uploaded = files.upload()"
   ]
  },
  {
   "cell_type": "code",
   "execution_count": null,
   "id": "d822848e",
   "metadata": {
    "id": "d-SfdBsJus4u"
   },
   "outputs": [],
   "source": [
    "import pandas as pd\n",
    "walking = pd.read_csv('acc_walking_chest1.csv')\n",
    "running = pd.read_csv('acc_running_chest1.csv')\n",
    "climb_down= pd.read_csv('acc_climbingdown_chest1.csv')\n",
    "climb_up = pd.read_csv('acc_climbingup_chest1.csv')"
   ]
  },
  {
   "cell_type": "code",
   "execution_count": null,
   "id": "83fcf020",
   "metadata": {
    "id": "Dy-V0pAqqA-D"
   },
   "outputs": [],
   "source": [
    "import pandas as pd"
   ]
  },
  {
   "cell_type": "markdown",
   "id": "09daea59",
   "metadata": {
    "id": "tpSPMVTGqZJE"
   },
   "source": [
    "## SUBJECT 1"
   ]
  },
  {
   "cell_type": "code",
   "execution_count": null,
   "id": "253b9326",
   "metadata": {
    "id": "dSj3C8Pq0Lo4"
   },
   "outputs": [],
   "source": [
    "from sys import float_repr_style\n",
    "per_list=[]\n",
    "per0_list=[]\n",
    "per1_list=[]\n",
    "per2_list=[]\n",
    "pery_list=[]\n",
    "pery0_list=[]\n",
    "pery1_list=[]\n",
    "pery2_list=[]\n",
    "perz_list=[]\n",
    "perz0_list=[]\n",
    "perz1_list=[]\n",
    "perz2_list=[]\n",
    "com_list=[]\n",
    "com0_list=[]\n",
    "com1_list=[]\n",
    "com2_list=[]\n",
    "comy_list=[]\n",
    "comy1_list=[]\n",
    "comy2_list=[]\n",
    "comz_list=[]\n",
    "comz1_list=[]\n",
    "comz2_list=[]\n",
    "n=3\n",
    "i=1\n",
    "dim_list=[3,4,5,6]"
   ]
  },
  {
   "cell_type": "code",
   "execution_count": null,
   "id": "d8e34cfa",
   "metadata": {
    "colab": {
     "base_uri": "https://localhost:8080/"
    },
    "id": "WlnYjiTzwLLB",
    "outputId": "527a2816-8d76-497a-c06e-bb0b3ea35dcf"
   },
   "outputs": [
    {
     "name": "stderr",
     "output_type": "stream",
     "text": [
      "/usr/local/lib/python3.7/dist-packages/ipykernel_launcher.py:47: RuntimeWarning: invalid value encountered in double_scalars\n",
      "/usr/local/lib/python3.7/dist-packages/ipykernel_launcher.py:59: RuntimeWarning: divide by zero encountered in double_scalars\n",
      "/usr/local/lib/python3.7/dist-packages/ipykernel_launcher.py:64: RuntimeWarning: invalid value encountered in double_scalars\n"
     ]
    }
   ],
   "source": [
    "for k in dim_list :\n",
    "  for i in range(4):\n",
    "  \n",
    "    op_walking = ordinal_patterns(walking['attr_x'][0:1024],k,i)\n",
    "    x_1=p_entropy(op_walking)\n",
    "    co1z = complexity(op_walking)\n",
    "    per_list.append(x_1)\n",
    "    com_list.append(co1z)\n",
    "    op_walking = ordinal_patterns(walking['attr_x'][0:2048],k,i)\n",
    "    x_1=p_entropy(op_walking)\n",
    "    per1_list.append(x_1)\n",
    "    com1_list.append(co1z)\n",
    "    op_walking = ordinal_patterns(walking['attr_x'][0:4096],k,i)\n",
    "    x_1=p_entropy(op_walking)\n",
    "    per2_list.append(x_1)\n",
    "    com2_list.append(co1z)\n",
    "    op_walking = ordinal_patterns(walking['attr_y'][0:1024],k,i)\n",
    "    x_1=p_entropy(op_walking)\n",
    "    pery_list.append(x_1)\n",
    "    comy_list.append(co1z)\n",
    "    op_walking = ordinal_patterns(walking['attr_y'][0:2048],k,i)\n",
    "    x_1=p_entropy(op_walking)\n",
    "    pery1_list.append(x_1)\n",
    "    comy1_list.append(co1z)\n",
    "    op_walking = ordinal_patterns(walking['attr_y'][0:4096],k,i)\n",
    "    x_1=p_entropy(op_walking)\n",
    "    pery2_list.append(x_1)\n",
    "    comy2_list.append(co1z)\n",
    "    op_walking = ordinal_patterns(walking['attr_z'][0:1024],k,i)\n",
    "    x_1=p_entropy(op_walking)\n",
    "    perz_list.append(x_1)\n",
    "    comz_list.append(co1z)\n",
    "    op_walking = ordinal_patterns(walking['attr_z'][0:2048],k,i)\n",
    "    x_1=p_entropy(op_walking)\n",
    "    perz1_list.append(x_1)\n",
    "    comz1_list.append(co1z)\n",
    "    op_walking = ordinal_patterns(walking['attr_z'][0:4096],k,i)\n",
    "    x_1=p_entropy(op_walking)\n",
    "    perz2_list.append(x_1)\n",
    "    comz2_list.append(co1z)\n",
    "    op_running = ordinal_patterns(running['attr_x'][0:1024],k,i)\n",
    "    x_1=p_entropy(op_running)     \n",
    "    co1z = complexity(op_running)\n",
    "    per_list.append(x_1)\n",
    "    com_list.append(co1z)\n",
    "    op_running = ordinal_patterns(running['attr_x'][0:2048],k,i)\n",
    "    x_1=p_entropy(op_running)\n",
    "    per1_list.append(x_1)\n",
    "    com1_list.append(co1z)\n",
    "    op_running = ordinal_patterns(running['attr_x'][0:4096],k,i)\n",
    "    x_1=p_entropy(op_running)\n",
    "    per2_list.append(x_1)\n",
    "    com2_list.append(co1z)\n",
    "    op_running = ordinal_patterns(running['attr_y'][0:1024],k,i)\n",
    "    x_1=p_entropy(op_running)\n",
    "    pery_list.append(x_1)\n",
    "    comy_list.append(co1z)\n",
    "    op_running = ordinal_patterns(running['attr_y'][0:2048],k,i)\n",
    "    x_1=p_entropy(op_running)\n",
    "    pery1_list.append(x_1)\n",
    "    comy1_list.append(co1z)\n",
    "    op_running = ordinal_patterns(running['attr_y'][0:4096],k,i)\n",
    "    x_1=p_entropy(op_running)\n",
    "    pery2_list.append(x_1)\n",
    "    comy2_list.append(co1z)\n",
    "    op_running = ordinal_patterns(running['attr_z'][0:1024],k,i)\n",
    "    x_1=p_entropy(op_running)\n",
    "    perz_list.append(x_1)\n",
    "    comz_list.append(co1z)\n",
    "    op_running = ordinal_patterns(running['attr_z'][0:2048],k,i)\n",
    "    x_1=p_entropy(op_running)\n",
    "    perz1_list.append(x_1)\n",
    "    comz1_list.append(co1z)\n",
    "    op_running = ordinal_patterns(running['attr_z'][0:4096],k,i)\n",
    "    x_1=p_entropy(op_running)\n",
    "    perz2_list.append(x_1)\n",
    "    comz2_list.append(co1z)\n",
    "    op_climb_up = ordinal_patterns(climb_up['attr_x'][0:1024],k,i)\n",
    "    x_1=p_entropy(op_climb_up)     \n",
    "    co1z = complexity(op_climb_up)\n",
    "    per_list.append(x_1)\n",
    "    com_list.append(co1z)\n",
    "    op_climb_up = ordinal_patterns(climb_up['attr_x'][0:2048],k,i)\n",
    "    x_1=p_entropy(op_climb_up)\n",
    "    per1_list.append(x_1)\n",
    "    com1_list.append(co1z)\n",
    "    op_climb_up = ordinal_patterns(climb_up['attr_x'][0:4096],k,i)\n",
    "    x_1=p_entropy(op_climb_up)\n",
    "    per2_list.append(x_1)\n",
    "    com2_list.append(co1z)\n",
    "    op_climb_up = ordinal_patterns(climb_up['attr_y'][0:1024],k,i)\n",
    "    x_1=p_entropy(op_climb_up)\n",
    "    pery_list.append(x_1)\n",
    "    comy_list.append(co1z)\n",
    "    op_climb_up = ordinal_patterns(climb_up['attr_y'][0:2048],k,i)\n",
    "    x_1=p_entropy(op_climb_up)\n",
    "    pery1_list.append(x_1)\n",
    "    comy1_list.append(co1z)\n",
    "    op_climb_up = ordinal_patterns(climb_up['attr_y'][0:4096],k,i)\n",
    "    x_1=p_entropy(op_climb_up)\n",
    "    pery2_list.append(x_1)\n",
    "    comy2_list.append(co1z)\n",
    "    op_climb_up = ordinal_patterns(climb_up['attr_z'][0:1024],k,i)\n",
    "    x_1=p_entropy(op_climb_up)\n",
    "    perz_list.append(x_1)\n",
    "    comz_list.append(co1z)\n",
    "    op_climb_up = ordinal_patterns(climb_up['attr_z'][0:2048],k,i)\n",
    "    x_1=p_entropy(op_climb_up)\n",
    "    perz1_list.append(x_1)\n",
    "    comz1_list.append(co1z)\n",
    "    op_climb_up = ordinal_patterns(climb_up['attr_z'][0:4096],k,i)\n",
    "    x_1=p_entropy(op_climb_up)\n",
    "    perz2_list.append(x_1)\n",
    "    comz2_list.append(co1z)\n",
    "    op_climb_down = ordinal_patterns(climb_down['attr_x'][0:1024],k,i)\n",
    "    x_1=p_entropy(op_climb_down)     \n",
    "    co1z = complexity(op_climb_down)\n",
    "    per_list.append(x_1)\n",
    "    com_list.append(co1z)\n",
    "    op_climb_down = ordinal_patterns(climb_down['attr_x'][0:2048],k,i)\n",
    "    x_1=p_entropy(op_climb_down)\n",
    "    per1_list.append(x_1)\n",
    "    com1_list.append(co1z)\n",
    "    op_climb_down = ordinal_patterns(climb_down['attr_x'][0:4096],k,i)\n",
    "    x_1=p_entropy(op_climb_down)\n",
    "    per2_list.append(x_1)\n",
    "    com2_list.append(co1z)\n",
    "    op_climb_down = ordinal_patterns(climb_down['attr_y'][0:1024],k,i)\n",
    "    x_1=p_entropy(op_climb_down)\n",
    "    pery_list.append(x_1)\n",
    "    comy_list.append(co1z)\n",
    "    op_climb_down = ordinal_patterns(climb_down['attr_y'][0:2048],k,i)\n",
    "    x_1=p_entropy(op_climb_down)\n",
    "    pery1_list.append(x_1)\n",
    "    comy1_list.append(co1z)\n",
    "    op_climb_down = ordinal_patterns(climb_down['attr_y'][0:4096],k,i)\n",
    "    x_1=p_entropy(op_climb_down)\n",
    "    pery2_list.append(x_1)\n",
    "    comy2_list.append(co1z)\n",
    "    op_climb_down = ordinal_patterns(climb_down['attr_z'][0:1024],k,i)\n",
    "    x_1=p_entropy(op_climb_down)\n",
    "    perz_list.append(x_1)\n",
    "    comz_list.append(co1z)\n",
    "    op_climb_down = ordinal_patterns(climb_down['attr_z'][0:2048],k,i)\n",
    "    x_1=p_entropy(op_climb_down)\n",
    "    perz1_list.append(x_1)\n",
    "    comz1_list.append(co1z)\n",
    "    op_climb_down = ordinal_patterns(climb_down['attr_z'][0:4096],k,i)\n",
    "    x_1=p_entropy(op_climb_down)\n",
    "    perz2_list.append(x_1)\n",
    "    comz2_list.append(co1z)\n",
    "\n",
    "\n",
    "\n",
    "\n",
    "\n",
    "\n",
    "\n",
    "##com_list.append(complexity(op_walking))"
   ]
  },
  {
   "cell_type": "code",
   "execution_count": null,
   "id": "ac999f3f",
   "metadata": {
    "id": "IOQT9FwYhFm8"
   },
   "outputs": [],
   "source": []
  },
  {
   "cell_type": "code",
   "execution_count": null,
   "id": "8eb136f4",
   "metadata": {
    "colab": {
     "base_uri": "https://localhost:8080/"
    },
    "id": "dPDASCILhF8s",
    "outputId": "0a375afe-32ed-4693-98e0-87a3b99ebeda"
   },
   "outputs": [
    {
     "data": {
      "text/plain": [
       "64"
      ]
     },
     "execution_count": 91,
     "metadata": {},
     "output_type": "execute_result"
    }
   ],
   "source": [
    "len(per_list)"
   ]
  },
  {
   "cell_type": "code",
   "execution_count": null,
   "id": "cb401c10",
   "metadata": {
    "colab": {
     "base_uri": "https://localhost:8080/"
    },
    "id": "f7B9o3zd6ozq",
    "outputId": "28f8730c-a65b-41be-a7b4-4924083645f0"
   },
   "outputs": [
    {
     "data": {
      "text/plain": [
       "576"
      ]
     },
     "execution_count": 92,
     "metadata": {},
     "output_type": "execute_result"
    }
   ],
   "source": [
    "per_list.extend(per1_list)\n",
    "per_list.extend(per2_list)\n",
    "pery_list.extend(pery1_list)\n",
    "pery_list.extend(pery2_list)\n",
    "perz_list.extend(perz1_list)\n",
    "perz_list.extend(perz2_list)\n",
    "com_list.extend(com1_list)\n",
    "com_list.extend(com2_list)\n",
    "comy_list.extend(comy1_list)\n",
    "comy_list.extend(comy2_list)\n",
    "comz_list.extend(comz1_list)\n",
    "comz_list.extend(comz2_list)\n",
    "per_list.extend(pery_list)\n",
    "per_list.extend(perz_list)\n",
    "com_list.extend(comy_list)\n",
    "com_list.extend(comz_list)\n",
    "len(per_list)"
   ]
  },
  {
   "cell_type": "code",
   "execution_count": null,
   "id": "e40f1141",
   "metadata": {
    "colab": {
     "base_uri": "https://localhost:8080/"
    },
    "id": "Nmk6udBj4wSE",
    "outputId": "68331624-d429-4879-f83f-39f427d140a9"
   },
   "outputs": [
    {
     "data": {
      "text/plain": [
       "432"
      ]
     },
     "execution_count": 93,
     "metadata": {},
     "output_type": "execute_result"
    }
   ],
   "source": [
    "\n",
    "per_list = [x for x in per_list if np.isnan(x) == False]\n",
    "com_list = [x for x in com_list if np.isnan(x) == False]\n",
    "len(per_list)\n",
    "\n"
   ]
  },
  {
   "cell_type": "markdown",
   "id": "fb69bb58",
   "metadata": {
    "id": "pisEJPndRAPA"
   },
   "source": [
    "# Subject 2\n"
   ]
  },
  {
   "cell_type": "code",
   "execution_count": null,
   "id": "f98ed3cf",
   "metadata": {
    "colab": {
     "base_uri": "https://localhost:8080/"
    },
    "id": "qlb0jhD9RDJQ",
    "outputId": "83260d03-398b-41d5-a7a1-e792414eedd5"
   },
   "outputs": [
    {
     "name": "stderr",
     "output_type": "stream",
     "text": [
      "/usr/local/lib/python3.7/dist-packages/ipykernel_launcher.py:47: RuntimeWarning: invalid value encountered in double_scalars\n",
      "/usr/local/lib/python3.7/dist-packages/ipykernel_launcher.py:59: RuntimeWarning: divide by zero encountered in double_scalars\n",
      "/usr/local/lib/python3.7/dist-packages/ipykernel_launcher.py:64: RuntimeWarning: invalid value encountered in double_scalars\n"
     ]
    }
   ],
   "source": [
    "\n",
    "walking = pd.read_csv('acc_walking_chest2.csv')\n",
    "running = pd.read_csv('acc_running_chest2.csv')\n",
    "climb_down= pd.read_csv('acc_climbingdown_chest2.csv')\n",
    "climb_up = pd.read_csv('acc_climbingup_chest2.csv')\n",
    "from sys import float_repr_style\n",
    "\n",
    "per0_list=[]\n",
    "per1_list=[]\n",
    "per2_list=[]\n",
    "pery_list=[]\n",
    "pery0_list=[]\n",
    "pery1_list=[]\n",
    "pery2_list=[]\n",
    "perz_list=[]\n",
    "perz0_list=[]\n",
    "perz1_list=[]\n",
    "perz2_list=[]\n",
    "\n",
    "com0_list=[]\n",
    "com1_list=[]\n",
    "com2_list=[]\n",
    "comy_list=[]\n",
    "comy1_list=[]\n",
    "comy2_list=[]\n",
    "comz_list=[]\n",
    "comz1_list=[]\n",
    "comz2_list=[]\n",
    "\n",
    "for k in dim_list :\n",
    "  for i in range(4):\n",
    "  \n",
    "    op_walking = ordinal_patterns(walking['attr_x'][0:1024],k,i)\n",
    "    x_1=p_entropy(op_walking)\n",
    "    co1z = complexity(op_walking)\n",
    "    per_list.append(x_1)\n",
    "    com_list.append(co1z)\n",
    "    op_walking = ordinal_patterns(walking['attr_x'][0:2048],k,i)\n",
    "    x_1=p_entropy(op_walking)\n",
    "    per1_list.append(x_1)\n",
    "    com1_list.append(co1z)\n",
    "    op_walking = ordinal_patterns(walking['attr_x'][0:4096],k,i)\n",
    "    x_1=p_entropy(op_walking)\n",
    "    per2_list.append(x_1)\n",
    "    com2_list.append(co1z)\n",
    "    op_walking = ordinal_patterns(walking['attr_y'][0:1024],k,i)\n",
    "    x_1=p_entropy(op_walking)\n",
    "    pery_list.append(x_1)\n",
    "    comy_list.append(co1z)\n",
    "    op_walking = ordinal_patterns(walking['attr_y'][0:2048],k,i)\n",
    "    x_1=p_entropy(op_walking)\n",
    "    pery1_list.append(x_1)\n",
    "    comy1_list.append(co1z)\n",
    "    op_walking = ordinal_patterns(walking['attr_y'][0:4096],k,i)\n",
    "    x_1=p_entropy(op_walking)\n",
    "    pery2_list.append(x_1)\n",
    "    comy2_list.append(co1z)\n",
    "    op_walking = ordinal_patterns(walking['attr_z'][0:1024],k,i)\n",
    "    x_1=p_entropy(op_walking)\n",
    "    perz_list.append(x_1)\n",
    "    comz_list.append(co1z)\n",
    "    op_walking = ordinal_patterns(walking['attr_z'][0:2048],k,i)\n",
    "    x_1=p_entropy(op_walking)\n",
    "    perz1_list.append(x_1)\n",
    "    comz1_list.append(co1z)\n",
    "    op_walking = ordinal_patterns(walking['attr_z'][0:4096],k,i)\n",
    "    x_1=p_entropy(op_walking)\n",
    "    perz2_list.append(x_1)\n",
    "    comz2_list.append(co1z)\n",
    "    op_running = ordinal_patterns(running['attr_x'][0:1024],k,i)\n",
    "    x_1=p_entropy(op_running)     \n",
    "    co1z = complexity(op_running)\n",
    "    per_list.append(x_1)\n",
    "    com_list.append(co1z)\n",
    "    op_running = ordinal_patterns(running['attr_x'][0:2048],k,i)\n",
    "    x_1=p_entropy(op_running)\n",
    "    per1_list.append(x_1)\n",
    "    com1_list.append(co1z)\n",
    "    op_running = ordinal_patterns(running['attr_x'][0:4096],k,i)\n",
    "    x_1=p_entropy(op_running)\n",
    "    per2_list.append(x_1)\n",
    "    com2_list.append(co1z)\n",
    "    op_running = ordinal_patterns(running['attr_y'][0:1024],k,i)\n",
    "    x_1=p_entropy(op_running)\n",
    "    pery_list.append(x_1)\n",
    "    comy_list.append(co1z)\n",
    "    op_running = ordinal_patterns(running['attr_y'][0:2048],k,i)\n",
    "    x_1=p_entropy(op_running)\n",
    "    pery1_list.append(x_1)\n",
    "    comy1_list.append(co1z)\n",
    "    op_running = ordinal_patterns(running['attr_y'][0:4096],k,i)\n",
    "    x_1=p_entropy(op_running)\n",
    "    pery2_list.append(x_1)\n",
    "    comy2_list.append(co1z)\n",
    "    op_running = ordinal_patterns(running['attr_z'][0:1024],k,i)\n",
    "    x_1=p_entropy(op_running)\n",
    "    perz_list.append(x_1)\n",
    "    comz_list.append(co1z)\n",
    "    op_running = ordinal_patterns(running['attr_z'][0:2048],k,i)\n",
    "    x_1=p_entropy(op_running)\n",
    "    perz1_list.append(x_1)\n",
    "    comz1_list.append(co1z)\n",
    "    op_running = ordinal_patterns(running['attr_z'][0:4096],k,i)\n",
    "    x_1=p_entropy(op_running)\n",
    "    perz2_list.append(x_1)\n",
    "    comz2_list.append(co1z)\n",
    "    op_climb_up = ordinal_patterns(climb_up['attr_x'][0:1024],k,i)\n",
    "    x_1=p_entropy(op_climb_up)     \n",
    "    co1z = complexity(op_climb_up)\n",
    "    per_list.append(x_1)\n",
    "    com_list.append(co1z)\n",
    "    op_climb_up = ordinal_patterns(climb_up['attr_x'][0:2048],k,i)\n",
    "    x_1=p_entropy(op_climb_up)\n",
    "    per1_list.append(x_1)\n",
    "    com1_list.append(co1z)\n",
    "    op_climb_up = ordinal_patterns(climb_up['attr_x'][0:4096],k,i)\n",
    "    x_1=p_entropy(op_climb_up)\n",
    "    per2_list.append(x_1)\n",
    "    com2_list.append(co1z)\n",
    "    op_climb_up = ordinal_patterns(climb_up['attr_y'][0:1024],k,i)\n",
    "    x_1=p_entropy(op_climb_up)\n",
    "    pery_list.append(x_1)\n",
    "    comy_list.append(co1z)\n",
    "    op_climb_up = ordinal_patterns(climb_up['attr_y'][0:2048],k,i)\n",
    "    x_1=p_entropy(op_climb_up)\n",
    "    pery1_list.append(x_1)\n",
    "    comy1_list.append(co1z)\n",
    "    op_climb_up = ordinal_patterns(climb_up['attr_y'][0:4096],k,i)\n",
    "    x_1=p_entropy(op_climb_up)\n",
    "    pery2_list.append(x_1)\n",
    "    comy2_list.append(co1z)\n",
    "    op_climb_up = ordinal_patterns(climb_up['attr_z'][0:1024],k,i)\n",
    "    x_1=p_entropy(op_climb_up)\n",
    "    perz_list.append(x_1)\n",
    "    comz_list.append(co1z)\n",
    "    op_climb_up = ordinal_patterns(climb_up['attr_z'][0:2048],k,i)\n",
    "    x_1=p_entropy(op_climb_up)\n",
    "    perz1_list.append(x_1)\n",
    "    comz1_list.append(co1z)\n",
    "    op_climb_up = ordinal_patterns(climb_up['attr_z'][0:4096],k,i)\n",
    "    x_1=p_entropy(op_climb_up)\n",
    "    perz2_list.append(x_1)\n",
    "    comz2_list.append(co1z)\n",
    "    op_climb_down = ordinal_patterns(climb_down['attr_x'][0:1024],k,i)\n",
    "    x_1=p_entropy(op_climb_down)     \n",
    "    co1z = complexity(op_climb_down)\n",
    "    per_list.append(x_1)\n",
    "    com_list.append(co1z)\n",
    "    op_climb_down = ordinal_patterns(climb_down['attr_x'][0:2048],k,i)\n",
    "    x_1=p_entropy(op_climb_down)\n",
    "    per1_list.append(x_1)\n",
    "    com1_list.append(co1z)\n",
    "    op_climb_down = ordinal_patterns(climb_down['attr_x'][0:4096],k,i)\n",
    "    x_1=p_entropy(op_climb_down)\n",
    "    per2_list.append(x_1)\n",
    "    com2_list.append(co1z)\n",
    "    op_climb_down = ordinal_patterns(climb_down['attr_y'][0:1024],k,i)\n",
    "    x_1=p_entropy(op_climb_down)\n",
    "    pery_list.append(x_1)\n",
    "    comy_list.append(co1z)\n",
    "    op_climb_down = ordinal_patterns(climb_down['attr_y'][0:2048],k,i)\n",
    "    x_1=p_entropy(op_climb_down)\n",
    "    pery1_list.append(x_1)\n",
    "    comy1_list.append(co1z)\n",
    "    op_climb_down = ordinal_patterns(climb_down['attr_y'][0:4096],k,i)\n",
    "    x_1=p_entropy(op_climb_down)\n",
    "    pery2_list.append(x_1)\n",
    "    comy2_list.append(co1z)\n",
    "    op_climb_down = ordinal_patterns(climb_down['attr_z'][0:1024],k,i)\n",
    "    x_1=p_entropy(op_climb_down)\n",
    "    perz_list.append(x_1)\n",
    "    comz_list.append(co1z)\n",
    "    op_climb_down = ordinal_patterns(climb_down['attr_z'][0:2048],k,i)\n",
    "    x_1=p_entropy(op_climb_down)\n",
    "    perz1_list.append(x_1)\n",
    "    comz1_list.append(co1z)\n",
    "    op_climb_down = ordinal_patterns(climb_down['attr_z'][0:4096],k,i)\n",
    "    x_1=p_entropy(op_climb_down)\n",
    "    perz2_list.append(x_1)\n",
    "    comz2_list.append(co1z)\n",
    "\n",
    "\n",
    "\n",
    "\n",
    "\n",
    "\n",
    "\n",
    "\n",
    "\n"
   ]
  },
  {
   "cell_type": "code",
   "execution_count": null,
   "id": "9f214c03",
   "metadata": {
    "colab": {
     "base_uri": "https://localhost:8080/"
    },
    "id": "lTva_ycTTQMm",
    "outputId": "0474fc54-ebbf-4d5c-9455-6b7da7e45eaf"
   },
   "outputs": [
    {
     "data": {
      "text/plain": [
       "864"
      ]
     },
     "execution_count": 95,
     "metadata": {},
     "output_type": "execute_result"
    }
   ],
   "source": [
    "per_list.extend(per1_list)\n",
    "per_list.extend(per2_list)\n",
    "pery_list.extend(pery1_list)\n",
    "pery_list.extend(pery2_list)\n",
    "perz_list.extend(perz1_list)\n",
    "perz_list.extend(perz2_list)\n",
    "com_list.extend(com1_list)\n",
    "com_list.extend(com2_list)\n",
    "comy_list.extend(comy1_list)\n",
    "comy_list.extend(comy2_list)\n",
    "comz_list.extend(comz1_list)\n",
    "comz_list.extend(comz2_list)\n",
    "per_list.extend(pery_list)\n",
    "per_list.extend(perz_list)\n",
    "com_list.extend(comy_list)\n",
    "com_list.extend(comz_list)\n",
    "per_list = [x for x in per_list if np.isnan(x) == False]\n",
    "com_list = [x for x in com_list if np.isnan(x) == False]\n",
    "len(com_list)\n"
   ]
  },
  {
   "cell_type": "markdown",
   "id": "412defe1",
   "metadata": {
    "id": "7ZQKbqa_j5ie"
   },
   "source": [
    "# Subject 3\n"
   ]
  },
  {
   "cell_type": "code",
   "execution_count": null,
   "id": "f5de2de3",
   "metadata": {
    "colab": {
     "base_uri": "https://localhost:8080/"
    },
    "id": "nNuv-1g3kBoP",
    "outputId": "7dad8a48-38b3-4f86-8ffa-e600a5804664"
   },
   "outputs": [
    {
     "name": "stderr",
     "output_type": "stream",
     "text": [
      "/usr/local/lib/python3.7/dist-packages/ipykernel_launcher.py:47: RuntimeWarning: invalid value encountered in double_scalars\n",
      "/usr/local/lib/python3.7/dist-packages/ipykernel_launcher.py:59: RuntimeWarning: divide by zero encountered in double_scalars\n",
      "/usr/local/lib/python3.7/dist-packages/ipykernel_launcher.py:64: RuntimeWarning: invalid value encountered in double_scalars\n"
     ]
    },
    {
     "data": {
      "text/plain": [
       "1296"
      ]
     },
     "execution_count": 96,
     "metadata": {},
     "output_type": "execute_result"
    }
   ],
   "source": [
    "\n",
    "walking = pd.read_csv('acc_walking_chest3.csv')\n",
    "running = pd.read_csv('acc_running_chest3.csv')\n",
    "climb_down= pd.read_csv('acc_climbingdown_chest3.csv')\n",
    "climb_up = pd.read_csv('acc_climbingup_chest3.csv')\n",
    "from sys import float_repr_style\n",
    "\n",
    "per0_list=[]\n",
    "per1_list=[]\n",
    "per2_list=[]\n",
    "pery_list=[]\n",
    "pery0_list=[]\n",
    "pery1_list=[]\n",
    "pery2_list=[]\n",
    "perz_list=[]\n",
    "perz0_list=[]\n",
    "perz1_list=[]\n",
    "perz2_list=[]\n",
    "\n",
    "com0_list=[]\n",
    "com1_list=[]\n",
    "com2_list=[]\n",
    "comy_list=[]\n",
    "comy1_list=[]\n",
    "comy2_list=[]\n",
    "comz_list=[]\n",
    "comz1_list=[]\n",
    "comz2_list=[]\n",
    "\n",
    "for k in dim_list :\n",
    "  for i in range(4):\n",
    "  \n",
    "    op_walking = ordinal_patterns(walking['attr_x'][0:1024],k,i)\n",
    "    x_1=p_entropy(op_walking)\n",
    "    co1z = complexity(op_walking)\n",
    "    per_list.append(x_1)\n",
    "    com_list.append(co1z)\n",
    "    op_walking = ordinal_patterns(walking['attr_x'][0:2048],k,i)\n",
    "    x_1=p_entropy(op_walking)\n",
    "    per1_list.append(x_1)\n",
    "    com1_list.append(co1z)\n",
    "    op_walking = ordinal_patterns(walking['attr_x'][0:4096],k,i)\n",
    "    x_1=p_entropy(op_walking)\n",
    "    per2_list.append(x_1)\n",
    "    com2_list.append(co1z)\n",
    "    op_walking = ordinal_patterns(walking['attr_y'][0:1024],k,i)\n",
    "    x_1=p_entropy(op_walking)\n",
    "    pery_list.append(x_1)\n",
    "    comy_list.append(co1z)\n",
    "    op_walking = ordinal_patterns(walking['attr_y'][0:2048],k,i)\n",
    "    x_1=p_entropy(op_walking)\n",
    "    pery1_list.append(x_1)\n",
    "    comy1_list.append(co1z)\n",
    "    op_walking = ordinal_patterns(walking['attr_y'][0:4096],k,i)\n",
    "    x_1=p_entropy(op_walking)\n",
    "    pery2_list.append(x_1)\n",
    "    comy2_list.append(co1z)\n",
    "    op_walking = ordinal_patterns(walking['attr_z'][0:1024],k,i)\n",
    "    x_1=p_entropy(op_walking)\n",
    "    perz_list.append(x_1)\n",
    "    comz_list.append(co1z)\n",
    "    op_walking = ordinal_patterns(walking['attr_z'][0:2048],k,i)\n",
    "    x_1=p_entropy(op_walking)\n",
    "    perz1_list.append(x_1)\n",
    "    comz1_list.append(co1z)\n",
    "    op_walking = ordinal_patterns(walking['attr_z'][0:4096],k,i)\n",
    "    x_1=p_entropy(op_walking)\n",
    "    perz2_list.append(x_1)\n",
    "    comz2_list.append(co1z)\n",
    "    op_running = ordinal_patterns(running['attr_x'][0:1024],k,i)\n",
    "    x_1=p_entropy(op_running)     \n",
    "    co1z = complexity(op_running)\n",
    "    per_list.append(x_1)\n",
    "    com_list.append(co1z)\n",
    "    op_running = ordinal_patterns(running['attr_x'][0:2048],k,i)\n",
    "    x_1=p_entropy(op_running)\n",
    "    per1_list.append(x_1)\n",
    "    com1_list.append(co1z)\n",
    "    op_running = ordinal_patterns(running['attr_x'][0:4096],k,i)\n",
    "    x_1=p_entropy(op_running)\n",
    "    per2_list.append(x_1)\n",
    "    com2_list.append(co1z)\n",
    "    op_running = ordinal_patterns(running['attr_y'][0:1024],k,i)\n",
    "    x_1=p_entropy(op_running)\n",
    "    pery_list.append(x_1)\n",
    "    comy_list.append(co1z)\n",
    "    op_running = ordinal_patterns(running['attr_y'][0:2048],k,i)\n",
    "    x_1=p_entropy(op_running)\n",
    "    pery1_list.append(x_1)\n",
    "    comy1_list.append(co1z)\n",
    "    op_running = ordinal_patterns(running['attr_y'][0:4096],k,i)\n",
    "    x_1=p_entropy(op_running)\n",
    "    pery2_list.append(x_1)\n",
    "    comy2_list.append(co1z)\n",
    "    op_running = ordinal_patterns(running['attr_z'][0:1024],k,i)\n",
    "    x_1=p_entropy(op_running)\n",
    "    perz_list.append(x_1)\n",
    "    comz_list.append(co1z)\n",
    "    op_running = ordinal_patterns(running['attr_z'][0:2048],k,i)\n",
    "    x_1=p_entropy(op_running)\n",
    "    perz1_list.append(x_1)\n",
    "    comz1_list.append(co1z)\n",
    "    op_running = ordinal_patterns(running['attr_z'][0:4096],k,i)\n",
    "    x_1=p_entropy(op_running)\n",
    "    perz2_list.append(x_1)\n",
    "    comz2_list.append(co1z)\n",
    "    op_climb_up = ordinal_patterns(climb_up['attr_x'][0:1024],k,i)\n",
    "    x_1=p_entropy(op_climb_up)     \n",
    "    co1z = complexity(op_climb_up)\n",
    "    per_list.append(x_1)\n",
    "    com_list.append(co1z)\n",
    "    op_climb_up = ordinal_patterns(climb_up['attr_x'][0:2048],k,i)\n",
    "    x_1=p_entropy(op_climb_up)\n",
    "    per1_list.append(x_1)\n",
    "    com1_list.append(co1z)\n",
    "    op_climb_up = ordinal_patterns(climb_up['attr_x'][0:4096],k,i)\n",
    "    x_1=p_entropy(op_climb_up)\n",
    "    per2_list.append(x_1)\n",
    "    com2_list.append(co1z)\n",
    "    op_climb_up = ordinal_patterns(climb_up['attr_y'][0:1024],k,i)\n",
    "    x_1=p_entropy(op_climb_up)\n",
    "    pery_list.append(x_1)\n",
    "    comy_list.append(co1z)\n",
    "    op_climb_up = ordinal_patterns(climb_up['attr_y'][0:2048],k,i)\n",
    "    x_1=p_entropy(op_climb_up)\n",
    "    pery1_list.append(x_1)\n",
    "    comy1_list.append(co1z)\n",
    "    op_climb_up = ordinal_patterns(climb_up['attr_y'][0:4096],k,i)\n",
    "    x_1=p_entropy(op_climb_up)\n",
    "    pery2_list.append(x_1)\n",
    "    comy2_list.append(co1z)\n",
    "    op_climb_up = ordinal_patterns(climb_up['attr_z'][0:1024],k,i)\n",
    "    x_1=p_entropy(op_climb_up)\n",
    "    perz_list.append(x_1)\n",
    "    comz_list.append(co1z)\n",
    "    op_climb_up = ordinal_patterns(climb_up['attr_z'][0:2048],k,i)\n",
    "    x_1=p_entropy(op_climb_up)\n",
    "    perz1_list.append(x_1)\n",
    "    comz1_list.append(co1z)\n",
    "    op_climb_up = ordinal_patterns(climb_up['attr_z'][0:4096],k,i)\n",
    "    x_1=p_entropy(op_climb_up)\n",
    "    perz2_list.append(x_1)\n",
    "    comz2_list.append(co1z)\n",
    "    op_climb_down = ordinal_patterns(climb_down['attr_x'][0:1024],k,i)\n",
    "    x_1=p_entropy(op_climb_down)     \n",
    "    co1z = complexity(op_climb_down)\n",
    "    per_list.append(x_1)\n",
    "    com_list.append(co1z)\n",
    "    op_climb_down = ordinal_patterns(climb_down['attr_x'][0:2048],k,i)\n",
    "    x_1=p_entropy(op_climb_down)\n",
    "    per1_list.append(x_1)\n",
    "    com1_list.append(co1z)\n",
    "    op_climb_down = ordinal_patterns(climb_down['attr_x'][0:4096],k,i)\n",
    "    x_1=p_entropy(op_climb_down)\n",
    "    per2_list.append(x_1)\n",
    "    com2_list.append(co1z)\n",
    "    op_climb_down = ordinal_patterns(climb_down['attr_y'][0:1024],k,i)\n",
    "    x_1=p_entropy(op_climb_down)\n",
    "    pery_list.append(x_1)\n",
    "    comy_list.append(co1z)\n",
    "    op_climb_down = ordinal_patterns(climb_down['attr_y'][0:2048],k,i)\n",
    "    x_1=p_entropy(op_climb_down)\n",
    "    pery1_list.append(x_1)\n",
    "    comy1_list.append(co1z)\n",
    "    op_climb_down = ordinal_patterns(climb_down['attr_y'][0:4096],k,i)\n",
    "    x_1=p_entropy(op_climb_down)\n",
    "    pery2_list.append(x_1)\n",
    "    comy2_list.append(co1z)\n",
    "    op_climb_down = ordinal_patterns(climb_down['attr_z'][0:1024],k,i)\n",
    "    x_1=p_entropy(op_climb_down)\n",
    "    perz_list.append(x_1)\n",
    "    comz_list.append(co1z)\n",
    "    op_climb_down = ordinal_patterns(climb_down['attr_z'][0:2048],k,i)\n",
    "    x_1=p_entropy(op_climb_down)\n",
    "    perz1_list.append(x_1)\n",
    "    comz1_list.append(co1z)\n",
    "    op_climb_down = ordinal_patterns(climb_down['attr_z'][0:4096],k,i)\n",
    "    x_1=p_entropy(op_climb_down)\n",
    "    perz2_list.append(x_1)\n",
    "    comz2_list.append(co1z)\n",
    "\n",
    "\n",
    "\n",
    "\n",
    "per_list.extend(per1_list)\n",
    "per_list.extend(per2_list)\n",
    "pery_list.extend(pery1_list)\n",
    "pery_list.extend(pery2_list)\n",
    "perz_list.extend(perz1_list)\n",
    "perz_list.extend(perz2_list)\n",
    "com_list.extend(com1_list)\n",
    "com_list.extend(com2_list)\n",
    "comy_list.extend(comy1_list)\n",
    "comy_list.extend(comy2_list)\n",
    "comz_list.extend(comz1_list)\n",
    "comz_list.extend(comz2_list)\n",
    "per_list.extend(pery_list)\n",
    "per_list.extend(perz_list)\n",
    "com_list.extend(comy_list)\n",
    "com_list.extend(comz_list)\n",
    "per_list = [x for x in per_list if np.isnan(x) == False]\n",
    "com_list = [x for x in com_list if np.isnan(x) == False]\n",
    "len(com_list)\n",
    "\n",
    "\n",
    "\n",
    "\n"
   ]
  },
  {
   "cell_type": "markdown",
   "id": "a3214331",
   "metadata": {
    "id": "dKpVtLb5mDQ9"
   },
   "source": [
    "# Subject 4\n"
   ]
  },
  {
   "cell_type": "code",
   "execution_count": null,
   "id": "4688870e",
   "metadata": {
    "colab": {
     "base_uri": "https://localhost:8080/"
    },
    "id": "omT0_gLmmJem",
    "outputId": "4dca5701-6264-41f8-e493-4f93b3fc3ea2"
   },
   "outputs": [
    {
     "name": "stderr",
     "output_type": "stream",
     "text": [
      "/usr/local/lib/python3.7/dist-packages/ipykernel_launcher.py:47: RuntimeWarning: invalid value encountered in double_scalars\n",
      "/usr/local/lib/python3.7/dist-packages/ipykernel_launcher.py:59: RuntimeWarning: divide by zero encountered in double_scalars\n",
      "/usr/local/lib/python3.7/dist-packages/ipykernel_launcher.py:64: RuntimeWarning: invalid value encountered in double_scalars\n"
     ]
    },
    {
     "data": {
      "text/plain": [
       "1728"
      ]
     },
     "execution_count": 97,
     "metadata": {},
     "output_type": "execute_result"
    }
   ],
   "source": [
    "\n",
    "walking = pd.read_csv('acc_walking_chest4.csv')\n",
    "running = pd.read_csv('acc_running_chest4.csv')\n",
    "climb_down= pd.read_csv('acc_climbingdown_chest4.csv')\n",
    "climb_up = pd.read_csv('acc_climbingup_chest4.csv')\n",
    "from sys import float_repr_style\n",
    "\n",
    "per0_list=[]\n",
    "per1_list=[]\n",
    "per2_list=[]\n",
    "pery_list=[]\n",
    "pery0_list=[]\n",
    "pery1_list=[]\n",
    "pery2_list=[]\n",
    "perz_list=[]\n",
    "perz0_list=[]\n",
    "perz1_list=[]\n",
    "perz2_list=[]\n",
    "\n",
    "com0_list=[]\n",
    "com1_list=[]\n",
    "com2_list=[]\n",
    "comy_list=[]\n",
    "comy1_list=[]\n",
    "comy2_list=[]\n",
    "comz_list=[]\n",
    "comz1_list=[]\n",
    "comz2_list=[]\n",
    "\n",
    "for k in dim_list :\n",
    "  for i in range(4):\n",
    "  \n",
    "    op_walking = ordinal_patterns(walking['attr_x'][0:1024],k,i)\n",
    "    x_1=p_entropy(op_walking)\n",
    "    co1z = complexity(op_walking)\n",
    "    per_list.append(x_1)\n",
    "    com_list.append(co1z)\n",
    "    op_walking = ordinal_patterns(walking['attr_x'][0:2048],k,i)\n",
    "    x_1=p_entropy(op_walking)\n",
    "    per1_list.append(x_1)\n",
    "    com1_list.append(co1z)\n",
    "    op_walking = ordinal_patterns(walking['attr_x'][0:4096],k,i)\n",
    "    x_1=p_entropy(op_walking)\n",
    "    per2_list.append(x_1)\n",
    "    com2_list.append(co1z)\n",
    "    op_walking = ordinal_patterns(walking['attr_y'][0:1024],k,i)\n",
    "    x_1=p_entropy(op_walking)\n",
    "    pery_list.append(x_1)\n",
    "    comy_list.append(co1z)\n",
    "    op_walking = ordinal_patterns(walking['attr_y'][0:2048],k,i)\n",
    "    x_1=p_entropy(op_walking)\n",
    "    pery1_list.append(x_1)\n",
    "    comy1_list.append(co1z)\n",
    "    op_walking = ordinal_patterns(walking['attr_y'][0:4096],k,i)\n",
    "    x_1=p_entropy(op_walking)\n",
    "    pery2_list.append(x_1)\n",
    "    comy2_list.append(co1z)\n",
    "    op_walking = ordinal_patterns(walking['attr_z'][0:1024],k,i)\n",
    "    x_1=p_entropy(op_walking)\n",
    "    perz_list.append(x_1)\n",
    "    comz_list.append(co1z)\n",
    "    op_walking = ordinal_patterns(walking['attr_z'][0:2048],k,i)\n",
    "    x_1=p_entropy(op_walking)\n",
    "    perz1_list.append(x_1)\n",
    "    comz1_list.append(co1z)\n",
    "    op_walking = ordinal_patterns(walking['attr_z'][0:4096],k,i)\n",
    "    x_1=p_entropy(op_walking)\n",
    "    perz2_list.append(x_1)\n",
    "    comz2_list.append(co1z)\n",
    "    op_running = ordinal_patterns(running['attr_x'][0:1024],k,i)\n",
    "    x_1=p_entropy(op_running)     \n",
    "    co1z = complexity(op_running)\n",
    "    per_list.append(x_1)\n",
    "    com_list.append(co1z)\n",
    "    op_running = ordinal_patterns(running['attr_x'][0:2048],k,i)\n",
    "    x_1=p_entropy(op_running)\n",
    "    per1_list.append(x_1)\n",
    "    com1_list.append(co1z)\n",
    "    op_running = ordinal_patterns(running['attr_x'][0:4096],k,i)\n",
    "    x_1=p_entropy(op_running)\n",
    "    per2_list.append(x_1)\n",
    "    com2_list.append(co1z)\n",
    "    op_running = ordinal_patterns(running['attr_y'][0:1024],k,i)\n",
    "    x_1=p_entropy(op_running)\n",
    "    pery_list.append(x_1)\n",
    "    comy_list.append(co1z)\n",
    "    op_running = ordinal_patterns(running['attr_y'][0:2048],k,i)\n",
    "    x_1=p_entropy(op_running)\n",
    "    pery1_list.append(x_1)\n",
    "    comy1_list.append(co1z)\n",
    "    op_running = ordinal_patterns(running['attr_y'][0:4096],k,i)\n",
    "    x_1=p_entropy(op_running)\n",
    "    pery2_list.append(x_1)\n",
    "    comy2_list.append(co1z)\n",
    "    op_running = ordinal_patterns(running['attr_z'][0:1024],k,i)\n",
    "    x_1=p_entropy(op_running)\n",
    "    perz_list.append(x_1)\n",
    "    comz_list.append(co1z)\n",
    "    op_running = ordinal_patterns(running['attr_z'][0:2048],k,i)\n",
    "    x_1=p_entropy(op_running)\n",
    "    perz1_list.append(x_1)\n",
    "    comz1_list.append(co1z)\n",
    "    op_running = ordinal_patterns(running['attr_z'][0:4096],k,i)\n",
    "    x_1=p_entropy(op_running)\n",
    "    perz2_list.append(x_1)\n",
    "    comz2_list.append(co1z)\n",
    "    op_climb_up = ordinal_patterns(climb_up['attr_x'][0:1024],k,i)\n",
    "    x_1=p_entropy(op_climb_up)     \n",
    "    co1z = complexity(op_climb_up)\n",
    "    per_list.append(x_1)\n",
    "    com_list.append(co1z)\n",
    "    op_climb_up = ordinal_patterns(climb_up['attr_x'][0:2048],k,i)\n",
    "    x_1=p_entropy(op_climb_up)\n",
    "    per1_list.append(x_1)\n",
    "    com1_list.append(co1z)\n",
    "    op_climb_up = ordinal_patterns(climb_up['attr_x'][0:4096],k,i)\n",
    "    x_1=p_entropy(op_climb_up)\n",
    "    per2_list.append(x_1)\n",
    "    com2_list.append(co1z)\n",
    "    op_climb_up = ordinal_patterns(climb_up['attr_y'][0:1024],k,i)\n",
    "    x_1=p_entropy(op_climb_up)\n",
    "    pery_list.append(x_1)\n",
    "    comy_list.append(co1z)\n",
    "    op_climb_up = ordinal_patterns(climb_up['attr_y'][0:2048],k,i)\n",
    "    x_1=p_entropy(op_climb_up)\n",
    "    pery1_list.append(x_1)\n",
    "    comy1_list.append(co1z)\n",
    "    op_climb_up = ordinal_patterns(climb_up['attr_y'][0:4096],k,i)\n",
    "    x_1=p_entropy(op_climb_up)\n",
    "    pery2_list.append(x_1)\n",
    "    comy2_list.append(co1z)\n",
    "    op_climb_up = ordinal_patterns(climb_up['attr_z'][0:1024],k,i)\n",
    "    x_1=p_entropy(op_climb_up)\n",
    "    perz_list.append(x_1)\n",
    "    comz_list.append(co1z)\n",
    "    op_climb_up = ordinal_patterns(climb_up['attr_z'][0:2048],k,i)\n",
    "    x_1=p_entropy(op_climb_up)\n",
    "    perz1_list.append(x_1)\n",
    "    comz1_list.append(co1z)\n",
    "    op_climb_up = ordinal_patterns(climb_up['attr_z'][0:4096],k,i)\n",
    "    x_1=p_entropy(op_climb_up)\n",
    "    perz2_list.append(x_1)\n",
    "    comz2_list.append(co1z)\n",
    "    op_climb_down = ordinal_patterns(climb_down['attr_x'][0:1024],k,i)\n",
    "    x_1=p_entropy(op_climb_down)     \n",
    "    co1z = complexity(op_climb_down)\n",
    "    per_list.append(x_1)\n",
    "    com_list.append(co1z)\n",
    "    op_climb_down = ordinal_patterns(climb_down['attr_x'][0:2048],k,i)\n",
    "    x_1=p_entropy(op_climb_down)\n",
    "    per1_list.append(x_1)\n",
    "    com1_list.append(co1z)\n",
    "    op_climb_down = ordinal_patterns(climb_down['attr_x'][0:4096],k,i)\n",
    "    x_1=p_entropy(op_climb_down)\n",
    "    per2_list.append(x_1)\n",
    "    com2_list.append(co1z)\n",
    "    op_climb_down = ordinal_patterns(climb_down['attr_y'][0:1024],k,i)\n",
    "    x_1=p_entropy(op_climb_down)\n",
    "    pery_list.append(x_1)\n",
    "    comy_list.append(co1z)\n",
    "    op_climb_down = ordinal_patterns(climb_down['attr_y'][0:2048],k,i)\n",
    "    x_1=p_entropy(op_climb_down)\n",
    "    pery1_list.append(x_1)\n",
    "    comy1_list.append(co1z)\n",
    "    op_climb_down = ordinal_patterns(climb_down['attr_y'][0:4096],k,i)\n",
    "    x_1=p_entropy(op_climb_down)\n",
    "    pery2_list.append(x_1)\n",
    "    comy2_list.append(co1z)\n",
    "    op_climb_down = ordinal_patterns(climb_down['attr_z'][0:1024],k,i)\n",
    "    x_1=p_entropy(op_climb_down)\n",
    "    perz_list.append(x_1)\n",
    "    comz_list.append(co1z)\n",
    "    op_climb_down = ordinal_patterns(climb_down['attr_z'][0:2048],k,i)\n",
    "    x_1=p_entropy(op_climb_down)\n",
    "    perz1_list.append(x_1)\n",
    "    comz1_list.append(co1z)\n",
    "    op_climb_down = ordinal_patterns(climb_down['attr_z'][0:4096],k,i)\n",
    "    x_1=p_entropy(op_climb_down)\n",
    "    perz2_list.append(x_1)\n",
    "    comz2_list.append(co1z)\n",
    "\n",
    "\n",
    "\n",
    "\n",
    "\n",
    "per_list.extend(per1_list)\n",
    "per_list.extend(per2_list)\n",
    "pery_list.extend(pery1_list)\n",
    "pery_list.extend(pery2_list)\n",
    "perz_list.extend(perz1_list)\n",
    "perz_list.extend(perz2_list)\n",
    "com_list.extend(com1_list)\n",
    "com_list.extend(com2_list)\n",
    "comy_list.extend(comy1_list)\n",
    "comy_list.extend(comy2_list)\n",
    "comz_list.extend(comz1_list)\n",
    "comz_list.extend(comz2_list)\n",
    "per_list.extend(pery_list)\n",
    "per_list.extend(perz_list)\n",
    "com_list.extend(comy_list)\n",
    "com_list.extend(comz_list)\n",
    "per_list = [x for x in per_list if np.isnan(x) == False]\n",
    "com_list = [x for x in com_list if np.isnan(x) == False]\n",
    "len(com_list)\n",
    "\n",
    "\n",
    "\n",
    "\n"
   ]
  },
  {
   "cell_type": "markdown",
   "id": "9c3f7b5d",
   "metadata": {
    "id": "rfK-83R5nGkg"
   },
   "source": [
    "# Subject 5\n"
   ]
  },
  {
   "cell_type": "code",
   "execution_count": null,
   "id": "62e631d1",
   "metadata": {
    "colab": {
     "base_uri": "https://localhost:8080/"
    },
    "id": "4Xt08m6xnL9e",
    "outputId": "169d8e8c-4d92-49d9-d5e0-dc3bc5df4081"
   },
   "outputs": [
    {
     "name": "stderr",
     "output_type": "stream",
     "text": [
      "/usr/local/lib/python3.7/dist-packages/ipykernel_launcher.py:47: RuntimeWarning: invalid value encountered in double_scalars\n",
      "/usr/local/lib/python3.7/dist-packages/ipykernel_launcher.py:59: RuntimeWarning: divide by zero encountered in double_scalars\n",
      "/usr/local/lib/python3.7/dist-packages/ipykernel_launcher.py:64: RuntimeWarning: invalid value encountered in double_scalars\n"
     ]
    },
    {
     "data": {
      "text/plain": [
       "2160"
      ]
     },
     "execution_count": 98,
     "metadata": {},
     "output_type": "execute_result"
    }
   ],
   "source": [
    "\n",
    "walking = pd.read_csv('acc_walking_chest5.csv')\n",
    "running = pd.read_csv('acc_running_chest5.csv')\n",
    "climb_down= pd.read_csv('acc_climbingdown_chest5.csv')\n",
    "climb_up = pd.read_csv('acc_climbingup_chest5.csv')\n",
    "from sys import float_repr_style\n",
    "\n",
    "per0_list=[]\n",
    "per1_list=[]\n",
    "per2_list=[]\n",
    "pery_list=[]\n",
    "pery0_list=[]\n",
    "pery1_list=[]\n",
    "pery2_list=[]\n",
    "perz_list=[]\n",
    "perz0_list=[]\n",
    "perz1_list=[]\n",
    "perz2_list=[]\n",
    "\n",
    "com0_list=[]\n",
    "com1_list=[]\n",
    "com2_list=[]\n",
    "comy_list=[]\n",
    "comy1_list=[]\n",
    "comy2_list=[]\n",
    "comz_list=[]\n",
    "comz1_list=[]\n",
    "comz2_list=[]\n",
    "\n",
    "for k in dim_list :\n",
    "  for i in range(4):\n",
    "  \n",
    "    op_walking = ordinal_patterns(walking['attr_x'][0:1024],k,i)\n",
    "    x_1=p_entropy(op_walking)\n",
    "    co1z = complexity(op_walking)\n",
    "    per_list.append(x_1)\n",
    "    com_list.append(co1z)\n",
    "    op_walking = ordinal_patterns(walking['attr_x'][0:2048],k,i)\n",
    "    x_1=p_entropy(op_walking)\n",
    "    per1_list.append(x_1)\n",
    "    com1_list.append(co1z)\n",
    "    op_walking = ordinal_patterns(walking['attr_x'][0:4096],k,i)\n",
    "    x_1=p_entropy(op_walking)\n",
    "    per2_list.append(x_1)\n",
    "    com2_list.append(co1z)\n",
    "    op_walking = ordinal_patterns(walking['attr_y'][0:1024],k,i)\n",
    "    x_1=p_entropy(op_walking)\n",
    "    pery_list.append(x_1)\n",
    "    comy_list.append(co1z)\n",
    "    op_walking = ordinal_patterns(walking['attr_y'][0:2048],k,i)\n",
    "    x_1=p_entropy(op_walking)\n",
    "    pery1_list.append(x_1)\n",
    "    comy1_list.append(co1z)\n",
    "    op_walking = ordinal_patterns(walking['attr_y'][0:4096],k,i)\n",
    "    x_1=p_entropy(op_walking)\n",
    "    pery2_list.append(x_1)\n",
    "    comy2_list.append(co1z)\n",
    "    op_walking = ordinal_patterns(walking['attr_z'][0:1024],k,i)\n",
    "    x_1=p_entropy(op_walking)\n",
    "    perz_list.append(x_1)\n",
    "    comz_list.append(co1z)\n",
    "    op_walking = ordinal_patterns(walking['attr_z'][0:2048],k,i)\n",
    "    x_1=p_entropy(op_walking)\n",
    "    perz1_list.append(x_1)\n",
    "    comz1_list.append(co1z)\n",
    "    op_walking = ordinal_patterns(walking['attr_z'][0:4096],k,i)\n",
    "    x_1=p_entropy(op_walking)\n",
    "    perz2_list.append(x_1)\n",
    "    comz2_list.append(co1z)\n",
    "    op_running = ordinal_patterns(running['attr_x'][0:1024],k,i)\n",
    "    x_1=p_entropy(op_running)     \n",
    "    co1z = complexity(op_running)\n",
    "    per_list.append(x_1)\n",
    "    com_list.append(co1z)\n",
    "    op_running = ordinal_patterns(running['attr_x'][0:2048],k,i)\n",
    "    x_1=p_entropy(op_running)\n",
    "    per1_list.append(x_1)\n",
    "    com1_list.append(co1z)\n",
    "    op_running = ordinal_patterns(running['attr_x'][0:4096],k,i)\n",
    "    x_1=p_entropy(op_running)\n",
    "    per2_list.append(x_1)\n",
    "    com2_list.append(co1z)\n",
    "    op_running = ordinal_patterns(running['attr_y'][0:1024],k,i)\n",
    "    x_1=p_entropy(op_running)\n",
    "    pery_list.append(x_1)\n",
    "    comy_list.append(co1z)\n",
    "    op_running = ordinal_patterns(running['attr_y'][0:2048],k,i)\n",
    "    x_1=p_entropy(op_running)\n",
    "    pery1_list.append(x_1)\n",
    "    comy1_list.append(co1z)\n",
    "    op_running = ordinal_patterns(running['attr_y'][0:4096],k,i)\n",
    "    x_1=p_entropy(op_running)\n",
    "    pery2_list.append(x_1)\n",
    "    comy2_list.append(co1z)\n",
    "    op_running = ordinal_patterns(running['attr_z'][0:1024],k,i)\n",
    "    x_1=p_entropy(op_running)\n",
    "    perz_list.append(x_1)\n",
    "    comz_list.append(co1z)\n",
    "    op_running = ordinal_patterns(running['attr_z'][0:2048],k,i)\n",
    "    x_1=p_entropy(op_running)\n",
    "    perz1_list.append(x_1)\n",
    "    comz1_list.append(co1z)\n",
    "    op_running = ordinal_patterns(running['attr_z'][0:4096],k,i)\n",
    "    x_1=p_entropy(op_running)\n",
    "    perz2_list.append(x_1)\n",
    "    comz2_list.append(co1z)\n",
    "    op_climb_up = ordinal_patterns(climb_up['attr_x'][0:1024],k,i)\n",
    "    x_1=p_entropy(op_climb_up)     \n",
    "    co1z = complexity(op_climb_up)\n",
    "    per_list.append(x_1)\n",
    "    com_list.append(co1z)\n",
    "    op_climb_up = ordinal_patterns(climb_up['attr_x'][0:2048],k,i)\n",
    "    x_1=p_entropy(op_climb_up)\n",
    "    per1_list.append(x_1)\n",
    "    com1_list.append(co1z)\n",
    "    op_climb_up = ordinal_patterns(climb_up['attr_x'][0:4096],k,i)\n",
    "    x_1=p_entropy(op_climb_up)\n",
    "    per2_list.append(x_1)\n",
    "    com2_list.append(co1z)\n",
    "    op_climb_up = ordinal_patterns(climb_up['attr_y'][0:1024],k,i)\n",
    "    x_1=p_entropy(op_climb_up)\n",
    "    pery_list.append(x_1)\n",
    "    comy_list.append(co1z)\n",
    "    op_climb_up = ordinal_patterns(climb_up['attr_y'][0:2048],k,i)\n",
    "    x_1=p_entropy(op_climb_up)\n",
    "    pery1_list.append(x_1)\n",
    "    comy1_list.append(co1z)\n",
    "    op_climb_up = ordinal_patterns(climb_up['attr_y'][0:4096],k,i)\n",
    "    x_1=p_entropy(op_climb_up)\n",
    "    pery2_list.append(x_1)\n",
    "    comy2_list.append(co1z)\n",
    "    op_climb_up = ordinal_patterns(climb_up['attr_z'][0:1024],k,i)\n",
    "    x_1=p_entropy(op_climb_up)\n",
    "    perz_list.append(x_1)\n",
    "    comz_list.append(co1z)\n",
    "    op_climb_up = ordinal_patterns(climb_up['attr_z'][0:2048],k,i)\n",
    "    x_1=p_entropy(op_climb_up)\n",
    "    perz1_list.append(x_1)\n",
    "    comz1_list.append(co1z)\n",
    "    op_climb_up = ordinal_patterns(climb_up['attr_z'][0:4096],k,i)\n",
    "    x_1=p_entropy(op_climb_up)\n",
    "    perz2_list.append(x_1)\n",
    "    comz2_list.append(co1z)\n",
    "    op_climb_down = ordinal_patterns(climb_down['attr_x'][0:1024],k,i)\n",
    "    x_1=p_entropy(op_climb_down)     \n",
    "    co1z = complexity(op_climb_down)\n",
    "    per_list.append(x_1)\n",
    "    com_list.append(co1z)\n",
    "    op_climb_down = ordinal_patterns(climb_down['attr_x'][0:2048],k,i)\n",
    "    x_1=p_entropy(op_climb_down)\n",
    "    per1_list.append(x_1)\n",
    "    com1_list.append(co1z)\n",
    "    op_climb_down = ordinal_patterns(climb_down['attr_x'][0:4096],k,i)\n",
    "    x_1=p_entropy(op_climb_down)\n",
    "    per2_list.append(x_1)\n",
    "    com2_list.append(co1z)\n",
    "    op_climb_down = ordinal_patterns(climb_down['attr_y'][0:1024],k,i)\n",
    "    x_1=p_entropy(op_climb_down)\n",
    "    pery_list.append(x_1)\n",
    "    comy_list.append(co1z)\n",
    "    op_climb_down = ordinal_patterns(climb_down['attr_y'][0:2048],k,i)\n",
    "    x_1=p_entropy(op_climb_down)\n",
    "    pery1_list.append(x_1)\n",
    "    comy1_list.append(co1z)\n",
    "    op_climb_down = ordinal_patterns(climb_down['attr_y'][0:4096],k,i)\n",
    "    x_1=p_entropy(op_climb_down)\n",
    "    pery2_list.append(x_1)\n",
    "    comy2_list.append(co1z)\n",
    "    op_climb_down = ordinal_patterns(climb_down['attr_z'][0:1024],k,i)\n",
    "    x_1=p_entropy(op_climb_down)\n",
    "    perz_list.append(x_1)\n",
    "    comz_list.append(co1z)\n",
    "    op_climb_down = ordinal_patterns(climb_down['attr_z'][0:2048],k,i)\n",
    "    x_1=p_entropy(op_climb_down)\n",
    "    perz1_list.append(x_1)\n",
    "    comz1_list.append(co1z)\n",
    "    op_climb_down = ordinal_patterns(climb_down['attr_z'][0:4096],k,i)\n",
    "    x_1=p_entropy(op_climb_down)\n",
    "    perz2_list.append(x_1)\n",
    "    comz2_list.append(co1z)\n",
    "\n",
    "\n",
    "\n",
    "\n",
    "per_list.extend(per1_list)\n",
    "per_list.extend(per2_list)\n",
    "pery_list.extend(pery1_list)\n",
    "pery_list.extend(pery2_list)\n",
    "perz_list.extend(perz1_list)\n",
    "perz_list.extend(perz2_list)\n",
    "com_list.extend(com1_list)\n",
    "com_list.extend(com2_list)\n",
    "comy_list.extend(comy1_list)\n",
    "comy_list.extend(comy2_list)\n",
    "comz_list.extend(comz1_list)\n",
    "comz_list.extend(comz2_list)\n",
    "per_list.extend(pery_list)\n",
    "per_list.extend(perz_list)\n",
    "com_list.extend(comy_list)\n",
    "com_list.extend(comz_list)\n",
    "per_list = [x for x in per_list if np.isnan(x) == False]\n",
    "com_list = [x for x in com_list if np.isnan(x) == False]\n",
    "len(com_list)\n",
    "\n",
    "\n",
    "\n",
    "\n",
    "\n"
   ]
  },
  {
   "cell_type": "markdown",
   "id": "0c797544",
   "metadata": {
    "id": "Hu0ryfXFpDls"
   },
   "source": [
    "# Subject 6\n"
   ]
  },
  {
   "cell_type": "code",
   "execution_count": null,
   "id": "396f6d6a",
   "metadata": {
    "colab": {
     "base_uri": "https://localhost:8080/"
    },
    "id": "WtJ9cri3pIgy",
    "outputId": "0cd3dcce-ea09-4bd1-b01c-bc021654600f"
   },
   "outputs": [
    {
     "name": "stderr",
     "output_type": "stream",
     "text": [
      "/usr/local/lib/python3.7/dist-packages/ipykernel_launcher.py:47: RuntimeWarning: invalid value encountered in double_scalars\n",
      "/usr/local/lib/python3.7/dist-packages/ipykernel_launcher.py:59: RuntimeWarning: divide by zero encountered in double_scalars\n",
      "/usr/local/lib/python3.7/dist-packages/ipykernel_launcher.py:64: RuntimeWarning: invalid value encountered in double_scalars\n"
     ]
    },
    {
     "data": {
      "text/plain": [
       "2592"
      ]
     },
     "execution_count": 99,
     "metadata": {},
     "output_type": "execute_result"
    }
   ],
   "source": [
    "\n",
    "walking = pd.read_csv('acc_walking_chest6.csv')\n",
    "running = pd.read_csv('acc_running_chest6.csv')\n",
    "climb_down= pd.read_csv('acc_climbingdown_chest6.csv')\n",
    "climb_up = pd.read_csv('acc_climbingup_chest6.csv')\n",
    "from sys import float_repr_style\n",
    "\n",
    "per0_list=[]\n",
    "per1_list=[]\n",
    "per2_list=[]\n",
    "pery_list=[]\n",
    "pery0_list=[]\n",
    "pery1_list=[]\n",
    "pery2_list=[]\n",
    "perz_list=[]\n",
    "perz0_list=[]\n",
    "perz1_list=[]\n",
    "perz2_list=[]\n",
    "\n",
    "com0_list=[]\n",
    "com1_list=[]\n",
    "com2_list=[]\n",
    "comy_list=[]\n",
    "comy1_list=[]\n",
    "comy2_list=[]\n",
    "comz_list=[]\n",
    "comz1_list=[]\n",
    "comz2_list=[]\n",
    "\n",
    "for k in dim_list :\n",
    "  for i in range(4):\n",
    "  \n",
    "    op_walking = ordinal_patterns(walking['attr_x'][0:1024],k,i)\n",
    "    x_1=p_entropy(op_walking)\n",
    "    co1z = complexity(op_walking)\n",
    "    per_list.append(x_1)\n",
    "    com_list.append(co1z)\n",
    "    op_walking = ordinal_patterns(walking['attr_x'][0:2048],k,i)\n",
    "    x_1=p_entropy(op_walking)\n",
    "    per1_list.append(x_1)\n",
    "    com1_list.append(co1z)\n",
    "    op_walking = ordinal_patterns(walking['attr_x'][0:4096],k,i)\n",
    "    x_1=p_entropy(op_walking)\n",
    "    per2_list.append(x_1)\n",
    "    com2_list.append(co1z)\n",
    "    op_walking = ordinal_patterns(walking['attr_y'][0:1024],k,i)\n",
    "    x_1=p_entropy(op_walking)\n",
    "    pery_list.append(x_1)\n",
    "    comy_list.append(co1z)\n",
    "    op_walking = ordinal_patterns(walking['attr_y'][0:2048],k,i)\n",
    "    x_1=p_entropy(op_walking)\n",
    "    pery1_list.append(x_1)\n",
    "    comy1_list.append(co1z)\n",
    "    op_walking = ordinal_patterns(walking['attr_y'][0:4096],k,i)\n",
    "    x_1=p_entropy(op_walking)\n",
    "    pery2_list.append(x_1)\n",
    "    comy2_list.append(co1z)\n",
    "    op_walking = ordinal_patterns(walking['attr_z'][0:1024],k,i)\n",
    "    x_1=p_entropy(op_walking)\n",
    "    perz_list.append(x_1)\n",
    "    comz_list.append(co1z)\n",
    "    op_walking = ordinal_patterns(walking['attr_z'][0:2048],k,i)\n",
    "    x_1=p_entropy(op_walking)\n",
    "    perz1_list.append(x_1)\n",
    "    comz1_list.append(co1z)\n",
    "    op_walking = ordinal_patterns(walking['attr_z'][0:4096],k,i)\n",
    "    x_1=p_entropy(op_walking)\n",
    "    perz2_list.append(x_1)\n",
    "    comz2_list.append(co1z)\n",
    "    op_running = ordinal_patterns(running['attr_x'][0:1024],k,i)\n",
    "    x_1=p_entropy(op_running)     \n",
    "    co1z = complexity(op_running)\n",
    "    per_list.append(x_1)\n",
    "    com_list.append(co1z)\n",
    "    op_running = ordinal_patterns(running['attr_x'][0:2048],k,i)\n",
    "    x_1=p_entropy(op_running)\n",
    "    per1_list.append(x_1)\n",
    "    com1_list.append(co1z)\n",
    "    op_running = ordinal_patterns(running['attr_x'][0:4096],k,i)\n",
    "    x_1=p_entropy(op_running)\n",
    "    per2_list.append(x_1)\n",
    "    com2_list.append(co1z)\n",
    "    op_running = ordinal_patterns(running['attr_y'][0:1024],k,i)\n",
    "    x_1=p_entropy(op_running)\n",
    "    pery_list.append(x_1)\n",
    "    comy_list.append(co1z)\n",
    "    op_running = ordinal_patterns(running['attr_y'][0:2048],k,i)\n",
    "    x_1=p_entropy(op_running)\n",
    "    pery1_list.append(x_1)\n",
    "    comy1_list.append(co1z)\n",
    "    op_running = ordinal_patterns(running['attr_y'][0:4096],k,i)\n",
    "    x_1=p_entropy(op_running)\n",
    "    pery2_list.append(x_1)\n",
    "    comy2_list.append(co1z)\n",
    "    op_running = ordinal_patterns(running['attr_z'][0:1024],k,i)\n",
    "    x_1=p_entropy(op_running)\n",
    "    perz_list.append(x_1)\n",
    "    comz_list.append(co1z)\n",
    "    op_running = ordinal_patterns(running['attr_z'][0:2048],k,i)\n",
    "    x_1=p_entropy(op_running)\n",
    "    perz1_list.append(x_1)\n",
    "    comz1_list.append(co1z)\n",
    "    op_running = ordinal_patterns(running['attr_z'][0:4096],k,i)\n",
    "    x_1=p_entropy(op_running)\n",
    "    perz2_list.append(x_1)\n",
    "    comz2_list.append(co1z)\n",
    "    op_climb_up = ordinal_patterns(climb_up['attr_x'][0:1024],k,i)\n",
    "    x_1=p_entropy(op_climb_up)     \n",
    "    co1z = complexity(op_climb_up)\n",
    "    per_list.append(x_1)\n",
    "    com_list.append(co1z)\n",
    "    op_climb_up = ordinal_patterns(climb_up['attr_x'][0:2048],k,i)\n",
    "    x_1=p_entropy(op_climb_up)\n",
    "    per1_list.append(x_1)\n",
    "    com1_list.append(co1z)\n",
    "    op_climb_up = ordinal_patterns(climb_up['attr_x'][0:4096],k,i)\n",
    "    x_1=p_entropy(op_climb_up)\n",
    "    per2_list.append(x_1)\n",
    "    com2_list.append(co1z)\n",
    "    op_climb_up = ordinal_patterns(climb_up['attr_y'][0:1024],k,i)\n",
    "    x_1=p_entropy(op_climb_up)\n",
    "    pery_list.append(x_1)\n",
    "    comy_list.append(co1z)\n",
    "    op_climb_up = ordinal_patterns(climb_up['attr_y'][0:2048],k,i)\n",
    "    x_1=p_entropy(op_climb_up)\n",
    "    pery1_list.append(x_1)\n",
    "    comy1_list.append(co1z)\n",
    "    op_climb_up = ordinal_patterns(climb_up['attr_y'][0:4096],k,i)\n",
    "    x_1=p_entropy(op_climb_up)\n",
    "    pery2_list.append(x_1)\n",
    "    comy2_list.append(co1z)\n",
    "    op_climb_up = ordinal_patterns(climb_up['attr_z'][0:1024],k,i)\n",
    "    x_1=p_entropy(op_climb_up)\n",
    "    perz_list.append(x_1)\n",
    "    comz_list.append(co1z)\n",
    "    op_climb_up = ordinal_patterns(climb_up['attr_z'][0:2048],k,i)\n",
    "    x_1=p_entropy(op_climb_up)\n",
    "    perz1_list.append(x_1)\n",
    "    comz1_list.append(co1z)\n",
    "    op_climb_up = ordinal_patterns(climb_up['attr_z'][0:4096],k,i)\n",
    "    x_1=p_entropy(op_climb_up)\n",
    "    perz2_list.append(x_1)\n",
    "    comz2_list.append(co1z)\n",
    "    op_climb_down = ordinal_patterns(climb_down['attr_x'][0:1024],k,i)\n",
    "    x_1=p_entropy(op_climb_down)     \n",
    "    co1z = complexity(op_climb_down)\n",
    "    per_list.append(x_1)\n",
    "    com_list.append(co1z)\n",
    "    op_climb_down = ordinal_patterns(climb_down['attr_x'][0:2048],k,i)\n",
    "    x_1=p_entropy(op_climb_down)\n",
    "    per1_list.append(x_1)\n",
    "    com1_list.append(co1z)\n",
    "    op_climb_down = ordinal_patterns(climb_down['attr_x'][0:4096],k,i)\n",
    "    x_1=p_entropy(op_climb_down)\n",
    "    per2_list.append(x_1)\n",
    "    com2_list.append(co1z)\n",
    "    op_climb_down = ordinal_patterns(climb_down['attr_y'][0:1024],k,i)\n",
    "    x_1=p_entropy(op_climb_down)\n",
    "    pery_list.append(x_1)\n",
    "    comy_list.append(co1z)\n",
    "    op_climb_down = ordinal_patterns(climb_down['attr_y'][0:2048],k,i)\n",
    "    x_1=p_entropy(op_climb_down)\n",
    "    pery1_list.append(x_1)\n",
    "    comy1_list.append(co1z)\n",
    "    op_climb_down = ordinal_patterns(climb_down['attr_y'][0:4096],k,i)\n",
    "    x_1=p_entropy(op_climb_down)\n",
    "    pery2_list.append(x_1)\n",
    "    comy2_list.append(co1z)\n",
    "    op_climb_down = ordinal_patterns(climb_down['attr_z'][0:1024],k,i)\n",
    "    x_1=p_entropy(op_climb_down)\n",
    "    perz_list.append(x_1)\n",
    "    comz_list.append(co1z)\n",
    "    op_climb_down = ordinal_patterns(climb_down['attr_z'][0:2048],k,i)\n",
    "    x_1=p_entropy(op_climb_down)\n",
    "    perz1_list.append(x_1)\n",
    "    comz1_list.append(co1z)\n",
    "    op_climb_down = ordinal_patterns(climb_down['attr_z'][0:4096],k,i)\n",
    "    x_1=p_entropy(op_climb_down)\n",
    "    perz2_list.append(x_1)\n",
    "    comz2_list.append(co1z)\n",
    "\n",
    "\n",
    "\n",
    "\n",
    "per_list.extend(per1_list)\n",
    "per_list.extend(per2_list)\n",
    "pery_list.extend(pery1_list)\n",
    "pery_list.extend(pery2_list)\n",
    "perz_list.extend(perz1_list)\n",
    "perz_list.extend(perz2_list)\n",
    "com_list.extend(com1_list)\n",
    "com_list.extend(com2_list)\n",
    "comy_list.extend(comy1_list)\n",
    "comy_list.extend(comy2_list)\n",
    "comz_list.extend(comz1_list)\n",
    "comz_list.extend(comz2_list)\n",
    "per_list.extend(pery_list)\n",
    "per_list.extend(perz_list)\n",
    "com_list.extend(comy_list)\n",
    "com_list.extend(comz_list)\n",
    "per_list = [x for x in per_list if np.isnan(x) == False]\n",
    "com_list = [x for x in com_list if np.isnan(x) == False]\n",
    "len(com_list)\n",
    "\n",
    "\n",
    "\n",
    "\n",
    "\n"
   ]
  },
  {
   "cell_type": "markdown",
   "id": "3fa5ca9d",
   "metadata": {
    "id": "nqI4yrDCpUQH"
   },
   "source": [
    "# Subject 7\n"
   ]
  },
  {
   "cell_type": "code",
   "execution_count": null,
   "id": "c347db17",
   "metadata": {
    "colab": {
     "base_uri": "https://localhost:8080/"
    },
    "id": "im39jx6XpZaJ",
    "outputId": "60c3843e-ecc6-4592-9355-a7f3bd5c06ba"
   },
   "outputs": [
    {
     "name": "stderr",
     "output_type": "stream",
     "text": [
      "/usr/local/lib/python3.7/dist-packages/ipykernel_launcher.py:47: RuntimeWarning: invalid value encountered in double_scalars\n",
      "/usr/local/lib/python3.7/dist-packages/ipykernel_launcher.py:59: RuntimeWarning: divide by zero encountered in double_scalars\n",
      "/usr/local/lib/python3.7/dist-packages/ipykernel_launcher.py:64: RuntimeWarning: invalid value encountered in double_scalars\n"
     ]
    },
    {
     "data": {
      "text/plain": [
       "3024"
      ]
     },
     "execution_count": 100,
     "metadata": {},
     "output_type": "execute_result"
    }
   ],
   "source": [
    "\n",
    "walking = pd.read_csv('acc_walking_chest7.csv')\n",
    "running = pd.read_csv('acc_running_chest7.csv')\n",
    "climb_down= pd.read_csv('acc_climbingdown_chest7.csv')\n",
    "climb_up = pd.read_csv('acc_climbingup_chest7.csv')\n",
    "from sys import float_repr_style\n",
    "\n",
    "per0_list=[]\n",
    "per1_list=[]\n",
    "per2_list=[]\n",
    "pery_list=[]\n",
    "pery0_list=[]\n",
    "pery1_list=[]\n",
    "pery2_list=[]\n",
    "perz_list=[]\n",
    "perz0_list=[]\n",
    "perz1_list=[]\n",
    "perz2_list=[]\n",
    "\n",
    "com0_list=[]\n",
    "com1_list=[]\n",
    "com2_list=[]\n",
    "comy_list=[]\n",
    "comy1_list=[]\n",
    "comy2_list=[]\n",
    "comz_list=[]\n",
    "comz1_list=[]\n",
    "comz2_list=[]\n",
    "\n",
    "for k in dim_list :\n",
    "  for i in range(4):\n",
    "  \n",
    "    op_walking = ordinal_patterns(walking['attr_x'][0:1024],k,i)\n",
    "    x_1=p_entropy(op_walking)\n",
    "    co1z = complexity(op_walking)\n",
    "    per_list.append(x_1)\n",
    "    com_list.append(co1z)\n",
    "    op_walking = ordinal_patterns(walking['attr_x'][0:2048],k,i)\n",
    "    x_1=p_entropy(op_walking)\n",
    "    per1_list.append(x_1)\n",
    "    com1_list.append(co1z)\n",
    "    op_walking = ordinal_patterns(walking['attr_x'][0:4096],k,i)\n",
    "    x_1=p_entropy(op_walking)\n",
    "    per2_list.append(x_1)\n",
    "    com2_list.append(co1z)\n",
    "    op_walking = ordinal_patterns(walking['attr_y'][0:1024],k,i)\n",
    "    x_1=p_entropy(op_walking)\n",
    "    pery_list.append(x_1)\n",
    "    comy_list.append(co1z)\n",
    "    op_walking = ordinal_patterns(walking['attr_y'][0:2048],k,i)\n",
    "    x_1=p_entropy(op_walking)\n",
    "    pery1_list.append(x_1)\n",
    "    comy1_list.append(co1z)\n",
    "    op_walking = ordinal_patterns(walking['attr_y'][0:4096],k,i)\n",
    "    x_1=p_entropy(op_walking)\n",
    "    pery2_list.append(x_1)\n",
    "    comy2_list.append(co1z)\n",
    "    op_walking = ordinal_patterns(walking['attr_z'][0:1024],k,i)\n",
    "    x_1=p_entropy(op_walking)\n",
    "    perz_list.append(x_1)\n",
    "    comz_list.append(co1z)\n",
    "    op_walking = ordinal_patterns(walking['attr_z'][0:2048],k,i)\n",
    "    x_1=p_entropy(op_walking)\n",
    "    perz1_list.append(x_1)\n",
    "    comz1_list.append(co1z)\n",
    "    op_walking = ordinal_patterns(walking['attr_z'][0:4096],k,i)\n",
    "    x_1=p_entropy(op_walking)\n",
    "    perz2_list.append(x_1)\n",
    "    comz2_list.append(co1z)\n",
    "    op_running = ordinal_patterns(running['attr_x'][0:1024],k,i)\n",
    "    x_1=p_entropy(op_running)     \n",
    "    co1z = complexity(op_running)\n",
    "    per_list.append(x_1)\n",
    "    com_list.append(co1z)\n",
    "    op_running = ordinal_patterns(running['attr_x'][0:2048],k,i)\n",
    "    x_1=p_entropy(op_running)\n",
    "    per1_list.append(x_1)\n",
    "    com1_list.append(co1z)\n",
    "    op_running = ordinal_patterns(running['attr_x'][0:4096],k,i)\n",
    "    x_1=p_entropy(op_running)\n",
    "    per2_list.append(x_1)\n",
    "    com2_list.append(co1z)\n",
    "    op_running = ordinal_patterns(running['attr_y'][0:1024],k,i)\n",
    "    x_1=p_entropy(op_running)\n",
    "    pery_list.append(x_1)\n",
    "    comy_list.append(co1z)\n",
    "    op_running = ordinal_patterns(running['attr_y'][0:2048],k,i)\n",
    "    x_1=p_entropy(op_running)\n",
    "    pery1_list.append(x_1)\n",
    "    comy1_list.append(co1z)\n",
    "    op_running = ordinal_patterns(running['attr_y'][0:4096],k,i)\n",
    "    x_1=p_entropy(op_running)\n",
    "    pery2_list.append(x_1)\n",
    "    comy2_list.append(co1z)\n",
    "    op_running = ordinal_patterns(running['attr_z'][0:1024],k,i)\n",
    "    x_1=p_entropy(op_running)\n",
    "    perz_list.append(x_1)\n",
    "    comz_list.append(co1z)\n",
    "    op_running = ordinal_patterns(running['attr_z'][0:2048],k,i)\n",
    "    x_1=p_entropy(op_running)\n",
    "    perz1_list.append(x_1)\n",
    "    comz1_list.append(co1z)\n",
    "    op_running = ordinal_patterns(running['attr_z'][0:4096],k,i)\n",
    "    x_1=p_entropy(op_running)\n",
    "    perz2_list.append(x_1)\n",
    "    comz2_list.append(co1z)\n",
    "    op_climb_up = ordinal_patterns(climb_up['attr_x'][0:1024],k,i)\n",
    "    x_1=p_entropy(op_climb_up)     \n",
    "    co1z = complexity(op_climb_up)\n",
    "    per_list.append(x_1)\n",
    "    com_list.append(co1z)\n",
    "    op_climb_up = ordinal_patterns(climb_up['attr_x'][0:2048],k,i)\n",
    "    x_1=p_entropy(op_climb_up)\n",
    "    per1_list.append(x_1)\n",
    "    com1_list.append(co1z)\n",
    "    op_climb_up = ordinal_patterns(climb_up['attr_x'][0:4096],k,i)\n",
    "    x_1=p_entropy(op_climb_up)\n",
    "    per2_list.append(x_1)\n",
    "    com2_list.append(co1z)\n",
    "    op_climb_up = ordinal_patterns(climb_up['attr_y'][0:1024],k,i)\n",
    "    x_1=p_entropy(op_climb_up)\n",
    "    pery_list.append(x_1)\n",
    "    comy_list.append(co1z)\n",
    "    op_climb_up = ordinal_patterns(climb_up['attr_y'][0:2048],k,i)\n",
    "    x_1=p_entropy(op_climb_up)\n",
    "    pery1_list.append(x_1)\n",
    "    comy1_list.append(co1z)\n",
    "    op_climb_up = ordinal_patterns(climb_up['attr_y'][0:4096],k,i)\n",
    "    x_1=p_entropy(op_climb_up)\n",
    "    pery2_list.append(x_1)\n",
    "    comy2_list.append(co1z)\n",
    "    op_climb_up = ordinal_patterns(climb_up['attr_z'][0:1024],k,i)\n",
    "    x_1=p_entropy(op_climb_up)\n",
    "    perz_list.append(x_1)\n",
    "    comz_list.append(co1z)\n",
    "    op_climb_up = ordinal_patterns(climb_up['attr_z'][0:2048],k,i)\n",
    "    x_1=p_entropy(op_climb_up)\n",
    "    perz1_list.append(x_1)\n",
    "    comz1_list.append(co1z)\n",
    "    op_climb_up = ordinal_patterns(climb_up['attr_z'][0:4096],k,i)\n",
    "    x_1=p_entropy(op_climb_up)\n",
    "    perz2_list.append(x_1)\n",
    "    comz2_list.append(co1z)\n",
    "    op_climb_down = ordinal_patterns(climb_down['attr_x'][0:1024],k,i)\n",
    "    x_1=p_entropy(op_climb_down)     \n",
    "    co1z = complexity(op_climb_down)\n",
    "    per_list.append(x_1)\n",
    "    com_list.append(co1z)\n",
    "    op_climb_down = ordinal_patterns(climb_down['attr_x'][0:2048],k,i)\n",
    "    x_1=p_entropy(op_climb_down)\n",
    "    per1_list.append(x_1)\n",
    "    com1_list.append(co1z)\n",
    "    op_climb_down = ordinal_patterns(climb_down['attr_x'][0:4096],k,i)\n",
    "    x_1=p_entropy(op_climb_down)\n",
    "    per2_list.append(x_1)\n",
    "    com2_list.append(co1z)\n",
    "    op_climb_down = ordinal_patterns(climb_down['attr_y'][0:1024],k,i)\n",
    "    x_1=p_entropy(op_climb_down)\n",
    "    pery_list.append(x_1)\n",
    "    comy_list.append(co1z)\n",
    "    op_climb_down = ordinal_patterns(climb_down['attr_y'][0:2048],k,i)\n",
    "    x_1=p_entropy(op_climb_down)\n",
    "    pery1_list.append(x_1)\n",
    "    comy1_list.append(co1z)\n",
    "    op_climb_down = ordinal_patterns(climb_down['attr_y'][0:4096],k,i)\n",
    "    x_1=p_entropy(op_climb_down)\n",
    "    pery2_list.append(x_1)\n",
    "    comy2_list.append(co1z)\n",
    "    op_climb_down = ordinal_patterns(climb_down['attr_z'][0:1024],k,i)\n",
    "    x_1=p_entropy(op_climb_down)\n",
    "    perz_list.append(x_1)\n",
    "    comz_list.append(co1z)\n",
    "    op_climb_down = ordinal_patterns(climb_down['attr_z'][0:2048],k,i)\n",
    "    x_1=p_entropy(op_climb_down)\n",
    "    perz1_list.append(x_1)\n",
    "    comz1_list.append(co1z)\n",
    "    op_climb_down = ordinal_patterns(climb_down['attr_z'][0:4096],k,i)\n",
    "    x_1=p_entropy(op_climb_down)\n",
    "    perz2_list.append(x_1)\n",
    "    comz2_list.append(co1z)\n",
    "\n",
    "\n",
    "\n",
    "\n",
    "per_list.extend(per1_list)\n",
    "per_list.extend(per2_list)\n",
    "pery_list.extend(pery1_list)\n",
    "pery_list.extend(pery2_list)\n",
    "perz_list.extend(perz1_list)\n",
    "perz_list.extend(perz2_list)\n",
    "com_list.extend(com1_list)\n",
    "com_list.extend(com2_list)\n",
    "comy_list.extend(comy1_list)\n",
    "comy_list.extend(comy2_list)\n",
    "comz_list.extend(comz1_list)\n",
    "comz_list.extend(comz2_list)\n",
    "per_list.extend(pery_list)\n",
    "per_list.extend(perz_list)\n",
    "com_list.extend(comy_list)\n",
    "com_list.extend(comz_list)\n",
    "per_list = [x for x in per_list if np.isnan(x) == False]\n",
    "com_list = [x for x in com_list if np.isnan(x) == False]\n",
    "len(com_list)\n",
    "\n",
    "\n",
    "\n",
    "\n",
    "\n"
   ]
  },
  {
   "cell_type": "markdown",
   "id": "e853ef3a",
   "metadata": {
    "id": "qQ1avpjGppHI"
   },
   "source": [
    "# Subject 8\n"
   ]
  },
  {
   "cell_type": "code",
   "execution_count": null,
   "id": "71f333b9",
   "metadata": {
    "colab": {
     "base_uri": "https://localhost:8080/"
    },
    "id": "p4OPzPB6pt5u",
    "outputId": "bfc9279f-4b8a-42fe-a3fc-fc1cdfc39c5c"
   },
   "outputs": [
    {
     "name": "stderr",
     "output_type": "stream",
     "text": [
      "/usr/local/lib/python3.7/dist-packages/ipykernel_launcher.py:47: RuntimeWarning: invalid value encountered in double_scalars\n",
      "/usr/local/lib/python3.7/dist-packages/ipykernel_launcher.py:59: RuntimeWarning: divide by zero encountered in double_scalars\n",
      "/usr/local/lib/python3.7/dist-packages/ipykernel_launcher.py:64: RuntimeWarning: invalid value encountered in double_scalars\n"
     ]
    },
    {
     "data": {
      "text/plain": [
       "3456"
      ]
     },
     "execution_count": 101,
     "metadata": {},
     "output_type": "execute_result"
    }
   ],
   "source": [
    "\n",
    "walking = pd.read_csv('acc_walking_chest8.csv')\n",
    "running = pd.read_csv('acc_running_chest8.csv')\n",
    "climb_down= pd.read_csv('acc_climbingdown_chest8.csv')\n",
    "climb_up = pd.read_csv('acc_climbingup_chest8.csv')\n",
    "from sys import float_repr_style\n",
    "\n",
    "per0_list=[]\n",
    "per1_list=[]\n",
    "per2_list=[]\n",
    "pery_list=[]\n",
    "pery0_list=[]\n",
    "pery1_list=[]\n",
    "pery2_list=[]\n",
    "perz_list=[]\n",
    "perz0_list=[]\n",
    "perz1_list=[]\n",
    "perz2_list=[]\n",
    "\n",
    "com0_list=[]\n",
    "com1_list=[]\n",
    "com2_list=[]\n",
    "comy_list=[]\n",
    "comy1_list=[]\n",
    "comy2_list=[]\n",
    "comz_list=[]\n",
    "comz1_list=[]\n",
    "comz2_list=[]\n",
    "\n",
    "for k in dim_list :\n",
    "  for i in range(4):\n",
    "  \n",
    "    op_walking = ordinal_patterns(walking['attr_x'][0:1024],k,i)\n",
    "    x_1=p_entropy(op_walking)\n",
    "    co1z = complexity(op_walking)\n",
    "    per_list.append(x_1)\n",
    "    com_list.append(co1z)\n",
    "    op_walking = ordinal_patterns(walking['attr_x'][0:2048],k,i)\n",
    "    x_1=p_entropy(op_walking)\n",
    "    per1_list.append(x_1)\n",
    "    com1_list.append(co1z)\n",
    "    op_walking = ordinal_patterns(walking['attr_x'][0:4096],k,i)\n",
    "    x_1=p_entropy(op_walking)\n",
    "    per2_list.append(x_1)\n",
    "    com2_list.append(co1z)\n",
    "    op_walking = ordinal_patterns(walking['attr_y'][0:1024],k,i)\n",
    "    x_1=p_entropy(op_walking)\n",
    "    pery_list.append(x_1)\n",
    "    comy_list.append(co1z)\n",
    "    op_walking = ordinal_patterns(walking['attr_y'][0:2048],k,i)\n",
    "    x_1=p_entropy(op_walking)\n",
    "    pery1_list.append(x_1)\n",
    "    comy1_list.append(co1z)\n",
    "    op_walking = ordinal_patterns(walking['attr_y'][0:4096],k,i)\n",
    "    x_1=p_entropy(op_walking)\n",
    "    pery2_list.append(x_1)\n",
    "    comy2_list.append(co1z)\n",
    "    op_walking = ordinal_patterns(walking['attr_z'][0:1024],k,i)\n",
    "    x_1=p_entropy(op_walking)\n",
    "    perz_list.append(x_1)\n",
    "    comz_list.append(co1z)\n",
    "    op_walking = ordinal_patterns(walking['attr_z'][0:2048],k,i)\n",
    "    x_1=p_entropy(op_walking)\n",
    "    perz1_list.append(x_1)\n",
    "    comz1_list.append(co1z)\n",
    "    op_walking = ordinal_patterns(walking['attr_z'][0:4096],k,i)\n",
    "    x_1=p_entropy(op_walking)\n",
    "    perz2_list.append(x_1)\n",
    "    comz2_list.append(co1z)\n",
    "    op_running = ordinal_patterns(running['attr_x'][0:1024],k,i)\n",
    "    x_1=p_entropy(op_running)     \n",
    "    co1z = complexity(op_running)\n",
    "    per_list.append(x_1)\n",
    "    com_list.append(co1z)\n",
    "    op_running = ordinal_patterns(running['attr_x'][0:2048],k,i)\n",
    "    x_1=p_entropy(op_running)\n",
    "    per1_list.append(x_1)\n",
    "    com1_list.append(co1z)\n",
    "    op_running = ordinal_patterns(running['attr_x'][0:4096],k,i)\n",
    "    x_1=p_entropy(op_running)\n",
    "    per2_list.append(x_1)\n",
    "    com2_list.append(co1z)\n",
    "    op_running = ordinal_patterns(running['attr_y'][0:1024],k,i)\n",
    "    x_1=p_entropy(op_running)\n",
    "    pery_list.append(x_1)\n",
    "    comy_list.append(co1z)\n",
    "    op_running = ordinal_patterns(running['attr_y'][0:2048],k,i)\n",
    "    x_1=p_entropy(op_running)\n",
    "    pery1_list.append(x_1)\n",
    "    comy1_list.append(co1z)\n",
    "    op_running = ordinal_patterns(running['attr_y'][0:4096],k,i)\n",
    "    x_1=p_entropy(op_running)\n",
    "    pery2_list.append(x_1)\n",
    "    comy2_list.append(co1z)\n",
    "    op_running = ordinal_patterns(running['attr_z'][0:1024],k,i)\n",
    "    x_1=p_entropy(op_running)\n",
    "    perz_list.append(x_1)\n",
    "    comz_list.append(co1z)\n",
    "    op_running = ordinal_patterns(running['attr_z'][0:2048],k,i)\n",
    "    x_1=p_entropy(op_running)\n",
    "    perz1_list.append(x_1)\n",
    "    comz1_list.append(co1z)\n",
    "    op_running = ordinal_patterns(running['attr_z'][0:4096],k,i)\n",
    "    x_1=p_entropy(op_running)\n",
    "    perz2_list.append(x_1)\n",
    "    comz2_list.append(co1z)\n",
    "    op_climb_up = ordinal_patterns(climb_up['attr_x'][0:1024],k,i)\n",
    "    x_1=p_entropy(op_climb_up)     \n",
    "    co1z = complexity(op_climb_up)\n",
    "    per_list.append(x_1)\n",
    "    com_list.append(co1z)\n",
    "    op_climb_up = ordinal_patterns(climb_up['attr_x'][0:2048],k,i)\n",
    "    x_1=p_entropy(op_climb_up)\n",
    "    per1_list.append(x_1)\n",
    "    com1_list.append(co1z)\n",
    "    op_climb_up = ordinal_patterns(climb_up['attr_x'][0:4096],k,i)\n",
    "    x_1=p_entropy(op_climb_up)\n",
    "    per2_list.append(x_1)\n",
    "    com2_list.append(co1z)\n",
    "    op_climb_up = ordinal_patterns(climb_up['attr_y'][0:1024],k,i)\n",
    "    x_1=p_entropy(op_climb_up)\n",
    "    pery_list.append(x_1)\n",
    "    comy_list.append(co1z)\n",
    "    op_climb_up = ordinal_patterns(climb_up['attr_y'][0:2048],k,i)\n",
    "    x_1=p_entropy(op_climb_up)\n",
    "    pery1_list.append(x_1)\n",
    "    comy1_list.append(co1z)\n",
    "    op_climb_up = ordinal_patterns(climb_up['attr_y'][0:4096],k,i)\n",
    "    x_1=p_entropy(op_climb_up)\n",
    "    pery2_list.append(x_1)\n",
    "    comy2_list.append(co1z)\n",
    "    op_climb_up = ordinal_patterns(climb_up['attr_z'][0:1024],k,i)\n",
    "    x_1=p_entropy(op_climb_up)\n",
    "    perz_list.append(x_1)\n",
    "    comz_list.append(co1z)\n",
    "    op_climb_up = ordinal_patterns(climb_up['attr_z'][0:2048],k,i)\n",
    "    x_1=p_entropy(op_climb_up)\n",
    "    perz1_list.append(x_1)\n",
    "    comz1_list.append(co1z)\n",
    "    op_climb_up = ordinal_patterns(climb_up['attr_z'][0:4096],k,i)\n",
    "    x_1=p_entropy(op_climb_up)\n",
    "    perz2_list.append(x_1)\n",
    "    comz2_list.append(co1z)\n",
    "    op_climb_down = ordinal_patterns(climb_down['attr_x'][0:1024],k,i)\n",
    "    x_1=p_entropy(op_climb_down)     \n",
    "    co1z = complexity(op_climb_down)\n",
    "    per_list.append(x_1)\n",
    "    com_list.append(co1z)\n",
    "    op_climb_down = ordinal_patterns(climb_down['attr_x'][0:2048],k,i)\n",
    "    x_1=p_entropy(op_climb_down)\n",
    "    per1_list.append(x_1)\n",
    "    com1_list.append(co1z)\n",
    "    op_climb_down = ordinal_patterns(climb_down['attr_x'][0:4096],k,i)\n",
    "    x_1=p_entropy(op_climb_down)\n",
    "    per2_list.append(x_1)\n",
    "    com2_list.append(co1z)\n",
    "    op_climb_down = ordinal_patterns(climb_down['attr_y'][0:1024],k,i)\n",
    "    x_1=p_entropy(op_climb_down)\n",
    "    pery_list.append(x_1)\n",
    "    comy_list.append(co1z)\n",
    "    op_climb_down = ordinal_patterns(climb_down['attr_y'][0:2048],k,i)\n",
    "    x_1=p_entropy(op_climb_down)\n",
    "    pery1_list.append(x_1)\n",
    "    comy1_list.append(co1z)\n",
    "    op_climb_down = ordinal_patterns(climb_down['attr_y'][0:4096],k,i)\n",
    "    x_1=p_entropy(op_climb_down)\n",
    "    pery2_list.append(x_1)\n",
    "    comy2_list.append(co1z)\n",
    "    op_climb_down = ordinal_patterns(climb_down['attr_z'][0:1024],k,i)\n",
    "    x_1=p_entropy(op_climb_down)\n",
    "    perz_list.append(x_1)\n",
    "    comz_list.append(co1z)\n",
    "    op_climb_down = ordinal_patterns(climb_down['attr_z'][0:2048],k,i)\n",
    "    x_1=p_entropy(op_climb_down)\n",
    "    perz1_list.append(x_1)\n",
    "    comz1_list.append(co1z)\n",
    "    op_climb_down = ordinal_patterns(climb_down['attr_z'][0:4096],k,i)\n",
    "    x_1=p_entropy(op_climb_down)\n",
    "    perz2_list.append(x_1)\n",
    "    comz2_list.append(co1z)\n",
    "\n",
    "\n",
    "\n",
    "\n",
    "per_list.extend(per1_list)\n",
    "per_list.extend(per2_list)\n",
    "pery_list.extend(pery1_list)\n",
    "pery_list.extend(pery2_list)\n",
    "perz_list.extend(perz1_list)\n",
    "perz_list.extend(perz2_list)\n",
    "com_list.extend(com1_list)\n",
    "com_list.extend(com2_list)\n",
    "comy_list.extend(comy1_list)\n",
    "comy_list.extend(comy2_list)\n",
    "comz_list.extend(comz1_list)\n",
    "comz_list.extend(comz2_list)\n",
    "per_list.extend(pery_list)\n",
    "per_list.extend(perz_list)\n",
    "com_list.extend(comy_list)\n",
    "com_list.extend(comz_list)\n",
    "per_list = [x for x in per_list if np.isnan(x) == False]\n",
    "com_list = [x for x in com_list if np.isnan(x) == False]\n",
    "len(com_list)\n",
    "\n",
    "\n",
    "\n",
    "\n",
    "\n"
   ]
  },
  {
   "cell_type": "markdown",
   "id": "1daa1593",
   "metadata": {
    "id": "WN7GnyMDp5lo"
   },
   "source": [
    "# Subject 9\n"
   ]
  },
  {
   "cell_type": "code",
   "execution_count": null,
   "id": "4b5a8c9c",
   "metadata": {
    "colab": {
     "base_uri": "https://localhost:8080/"
    },
    "id": "RMSnTB9tqA9W",
    "outputId": "851518e6-6f01-4548-b9c8-b35c6cc1056c"
   },
   "outputs": [
    {
     "name": "stderr",
     "output_type": "stream",
     "text": [
      "/usr/local/lib/python3.7/dist-packages/ipykernel_launcher.py:47: RuntimeWarning: invalid value encountered in double_scalars\n",
      "/usr/local/lib/python3.7/dist-packages/ipykernel_launcher.py:59: RuntimeWarning: divide by zero encountered in double_scalars\n",
      "/usr/local/lib/python3.7/dist-packages/ipykernel_launcher.py:64: RuntimeWarning: invalid value encountered in double_scalars\n"
     ]
    },
    {
     "data": {
      "text/plain": [
       "3888"
      ]
     },
     "execution_count": 102,
     "metadata": {},
     "output_type": "execute_result"
    }
   ],
   "source": [
    "\n",
    "walking = pd.read_csv('acc_walking_chest9.csv')\n",
    "running = pd.read_csv('acc_running_chest9.csv')\n",
    "climb_down= pd.read_csv('acc_climbingdown_chest9.csv')\n",
    "climb_up = pd.read_csv('acc_climbingup_chest9.csv')\n",
    "from sys import float_repr_style\n",
    "\n",
    "per0_list=[]\n",
    "per1_list=[]\n",
    "per2_list=[]\n",
    "pery_list=[]\n",
    "pery0_list=[]\n",
    "pery1_list=[]\n",
    "pery2_list=[]\n",
    "perz_list=[]\n",
    "perz0_list=[]\n",
    "perz1_list=[]\n",
    "perz2_list=[]\n",
    "\n",
    "com0_list=[]\n",
    "com1_list=[]\n",
    "com2_list=[]\n",
    "comy_list=[]\n",
    "comy1_list=[]\n",
    "comy2_list=[]\n",
    "comz_list=[]\n",
    "comz1_list=[]\n",
    "comz2_list=[]\n",
    "\n",
    "for k in dim_list :\n",
    "  for i in range(4):\n",
    "  \n",
    "    op_walking = ordinal_patterns(walking['attr_x'][0:1024],k,i)\n",
    "    x_1=p_entropy(op_walking)\n",
    "    co1z = complexity(op_walking)\n",
    "    per_list.append(x_1)\n",
    "    com_list.append(co1z)\n",
    "    op_walking = ordinal_patterns(walking['attr_x'][0:2048],k,i)\n",
    "    x_1=p_entropy(op_walking)\n",
    "    per1_list.append(x_1)\n",
    "    com1_list.append(co1z)\n",
    "    op_walking = ordinal_patterns(walking['attr_x'][0:4096],k,i)\n",
    "    x_1=p_entropy(op_walking)\n",
    "    per2_list.append(x_1)\n",
    "    com2_list.append(co1z)\n",
    "    op_walking = ordinal_patterns(walking['attr_y'][0:1024],k,i)\n",
    "    x_1=p_entropy(op_walking)\n",
    "    pery_list.append(x_1)\n",
    "    comy_list.append(co1z)\n",
    "    op_walking = ordinal_patterns(walking['attr_y'][0:2048],k,i)\n",
    "    x_1=p_entropy(op_walking)\n",
    "    pery1_list.append(x_1)\n",
    "    comy1_list.append(co1z)\n",
    "    op_walking = ordinal_patterns(walking['attr_y'][0:4096],k,i)\n",
    "    x_1=p_entropy(op_walking)\n",
    "    pery2_list.append(x_1)\n",
    "    comy2_list.append(co1z)\n",
    "    op_walking = ordinal_patterns(walking['attr_z'][0:1024],k,i)\n",
    "    x_1=p_entropy(op_walking)\n",
    "    perz_list.append(x_1)\n",
    "    comz_list.append(co1z)\n",
    "    op_walking = ordinal_patterns(walking['attr_z'][0:2048],k,i)\n",
    "    x_1=p_entropy(op_walking)\n",
    "    perz1_list.append(x_1)\n",
    "    comz1_list.append(co1z)\n",
    "    op_walking = ordinal_patterns(walking['attr_z'][0:4096],k,i)\n",
    "    x_1=p_entropy(op_walking)\n",
    "    perz2_list.append(x_1)\n",
    "    comz2_list.append(co1z)\n",
    "    op_running = ordinal_patterns(running['attr_x'][0:1024],k,i)\n",
    "    x_1=p_entropy(op_running)     \n",
    "    co1z = complexity(op_running)\n",
    "    per_list.append(x_1)\n",
    "    com_list.append(co1z)\n",
    "    op_running = ordinal_patterns(running['attr_x'][0:2048],k,i)\n",
    "    x_1=p_entropy(op_running)\n",
    "    per1_list.append(x_1)\n",
    "    com1_list.append(co1z)\n",
    "    op_running = ordinal_patterns(running['attr_x'][0:4096],k,i)\n",
    "    x_1=p_entropy(op_running)\n",
    "    per2_list.append(x_1)\n",
    "    com2_list.append(co1z)\n",
    "    op_running = ordinal_patterns(running['attr_y'][0:1024],k,i)\n",
    "    x_1=p_entropy(op_running)\n",
    "    pery_list.append(x_1)\n",
    "    comy_list.append(co1z)\n",
    "    op_running = ordinal_patterns(running['attr_y'][0:2048],k,i)\n",
    "    x_1=p_entropy(op_running)\n",
    "    pery1_list.append(x_1)\n",
    "    comy1_list.append(co1z)\n",
    "    op_running = ordinal_patterns(running['attr_y'][0:4096],k,i)\n",
    "    x_1=p_entropy(op_running)\n",
    "    pery2_list.append(x_1)\n",
    "    comy2_list.append(co1z)\n",
    "    op_running = ordinal_patterns(running['attr_z'][0:1024],k,i)\n",
    "    x_1=p_entropy(op_running)\n",
    "    perz_list.append(x_1)\n",
    "    comz_list.append(co1z)\n",
    "    op_running = ordinal_patterns(running['attr_z'][0:2048],k,i)\n",
    "    x_1=p_entropy(op_running)\n",
    "    perz1_list.append(x_1)\n",
    "    comz1_list.append(co1z)\n",
    "    op_running = ordinal_patterns(running['attr_z'][0:4096],k,i)\n",
    "    x_1=p_entropy(op_running)\n",
    "    perz2_list.append(x_1)\n",
    "    comz2_list.append(co1z)\n",
    "    op_climb_up = ordinal_patterns(climb_up['attr_x'][0:1024],k,i)\n",
    "    x_1=p_entropy(op_climb_up)     \n",
    "    co1z = complexity(op_climb_up)\n",
    "    per_list.append(x_1)\n",
    "    com_list.append(co1z)\n",
    "    op_climb_up = ordinal_patterns(climb_up['attr_x'][0:2048],k,i)\n",
    "    x_1=p_entropy(op_climb_up)\n",
    "    per1_list.append(x_1)\n",
    "    com1_list.append(co1z)\n",
    "    op_climb_up = ordinal_patterns(climb_up['attr_x'][0:4096],k,i)\n",
    "    x_1=p_entropy(op_climb_up)\n",
    "    per2_list.append(x_1)\n",
    "    com2_list.append(co1z)\n",
    "    op_climb_up = ordinal_patterns(climb_up['attr_y'][0:1024],k,i)\n",
    "    x_1=p_entropy(op_climb_up)\n",
    "    pery_list.append(x_1)\n",
    "    comy_list.append(co1z)\n",
    "    op_climb_up = ordinal_patterns(climb_up['attr_y'][0:2048],k,i)\n",
    "    x_1=p_entropy(op_climb_up)\n",
    "    pery1_list.append(x_1)\n",
    "    comy1_list.append(co1z)\n",
    "    op_climb_up = ordinal_patterns(climb_up['attr_y'][0:4096],k,i)\n",
    "    x_1=p_entropy(op_climb_up)\n",
    "    pery2_list.append(x_1)\n",
    "    comy2_list.append(co1z)\n",
    "    op_climb_up = ordinal_patterns(climb_up['attr_z'][0:1024],k,i)\n",
    "    x_1=p_entropy(op_climb_up)\n",
    "    perz_list.append(x_1)\n",
    "    comz_list.append(co1z)\n",
    "    op_climb_up = ordinal_patterns(climb_up['attr_z'][0:2048],k,i)\n",
    "    x_1=p_entropy(op_climb_up)\n",
    "    perz1_list.append(x_1)\n",
    "    comz1_list.append(co1z)\n",
    "    op_climb_up = ordinal_patterns(climb_up['attr_z'][0:4096],k,i)\n",
    "    x_1=p_entropy(op_climb_up)\n",
    "    perz2_list.append(x_1)\n",
    "    comz2_list.append(co1z)\n",
    "    op_climb_down = ordinal_patterns(climb_down['attr_x'][0:1024],k,i)\n",
    "    x_1=p_entropy(op_climb_down)     \n",
    "    co1z = complexity(op_climb_down)\n",
    "    per_list.append(x_1)\n",
    "    com_list.append(co1z)\n",
    "    op_climb_down = ordinal_patterns(climb_down['attr_x'][0:2048],k,i)\n",
    "    x_1=p_entropy(op_climb_down)\n",
    "    per1_list.append(x_1)\n",
    "    com1_list.append(co1z)\n",
    "    op_climb_down = ordinal_patterns(climb_down['attr_x'][0:4096],k,i)\n",
    "    x_1=p_entropy(op_climb_down)\n",
    "    per2_list.append(x_1)\n",
    "    com2_list.append(co1z)\n",
    "    op_climb_down = ordinal_patterns(climb_down['attr_y'][0:1024],k,i)\n",
    "    x_1=p_entropy(op_climb_down)\n",
    "    pery_list.append(x_1)\n",
    "    comy_list.append(co1z)\n",
    "    op_climb_down = ordinal_patterns(climb_down['attr_y'][0:2048],k,i)\n",
    "    x_1=p_entropy(op_climb_down)\n",
    "    pery1_list.append(x_1)\n",
    "    comy1_list.append(co1z)\n",
    "    op_climb_down = ordinal_patterns(climb_down['attr_y'][0:4096],k,i)\n",
    "    x_1=p_entropy(op_climb_down)\n",
    "    pery2_list.append(x_1)\n",
    "    comy2_list.append(co1z)\n",
    "    op_climb_down = ordinal_patterns(climb_down['attr_z'][0:1024],k,i)\n",
    "    x_1=p_entropy(op_climb_down)\n",
    "    perz_list.append(x_1)\n",
    "    comz_list.append(co1z)\n",
    "    op_climb_down = ordinal_patterns(climb_down['attr_z'][0:2048],k,i)\n",
    "    x_1=p_entropy(op_climb_down)\n",
    "    perz1_list.append(x_1)\n",
    "    comz1_list.append(co1z)\n",
    "    op_climb_down = ordinal_patterns(climb_down['attr_z'][0:4096],k,i)\n",
    "    x_1=p_entropy(op_climb_down)\n",
    "    perz2_list.append(x_1)\n",
    "    comz2_list.append(co1z)\n",
    "\n",
    "\n",
    "\n",
    "per_list.extend(per1_list)\n",
    "per_list.extend(per2_list)\n",
    "pery_list.extend(pery1_list)\n",
    "pery_list.extend(pery2_list)\n",
    "perz_list.extend(perz1_list)\n",
    "perz_list.extend(perz2_list)\n",
    "com_list.extend(com1_list)\n",
    "com_list.extend(com2_list)\n",
    "comy_list.extend(comy1_list)\n",
    "comy_list.extend(comy2_list)\n",
    "comz_list.extend(comz1_list)\n",
    "comz_list.extend(comz2_list)\n",
    "per_list.extend(pery_list)\n",
    "per_list.extend(perz_list)\n",
    "com_list.extend(comy_list)\n",
    "com_list.extend(comz_list)\n",
    "per_list = [x for x in per_list if np.isnan(x) == False]\n",
    "com_list = [x for x in com_list if np.isnan(x) == False]\n",
    "len(com_list)\n",
    "\n",
    "\n",
    "\n",
    "\n",
    "\n"
   ]
  },
  {
   "cell_type": "markdown",
   "id": "1b05789b",
   "metadata": {
    "id": "s7kAhZ04qQVl"
   },
   "source": [
    "# Subject 10\n"
   ]
  },
  {
   "cell_type": "code",
   "execution_count": null,
   "id": "19af9b7e",
   "metadata": {
    "colab": {
     "base_uri": "https://localhost:8080/"
    },
    "id": "LW82PbdJqXlM",
    "outputId": "49873254-e34f-42c6-b67f-4e3812ec6a00"
   },
   "outputs": [
    {
     "name": "stderr",
     "output_type": "stream",
     "text": [
      "/usr/local/lib/python3.7/dist-packages/ipykernel_launcher.py:47: RuntimeWarning: invalid value encountered in double_scalars\n",
      "/usr/local/lib/python3.7/dist-packages/ipykernel_launcher.py:59: RuntimeWarning: divide by zero encountered in double_scalars\n",
      "/usr/local/lib/python3.7/dist-packages/ipykernel_launcher.py:64: RuntimeWarning: invalid value encountered in double_scalars\n"
     ]
    },
    {
     "data": {
      "text/plain": [
       "4320"
      ]
     },
     "execution_count": 103,
     "metadata": {},
     "output_type": "execute_result"
    }
   ],
   "source": [
    "\n",
    "walking = pd.read_csv('acc_walking_chest10.csv')\n",
    "running = pd.read_csv('acc_running_chest10.csv')\n",
    "climb_down= pd.read_csv('acc_climbingdown_chest10.csv')\n",
    "climb_up = pd.read_csv('acc_climbingup_chest10.csv')\n",
    "from sys import float_repr_style\n",
    "\n",
    "per0_list=[]\n",
    "per1_list=[]\n",
    "per2_list=[]\n",
    "pery_list=[]\n",
    "pery0_list=[]\n",
    "pery1_list=[]\n",
    "pery2_list=[]\n",
    "perz_list=[]\n",
    "perz0_list=[]\n",
    "perz1_list=[]\n",
    "perz2_list=[]\n",
    "\n",
    "com0_list=[]\n",
    "com1_list=[]\n",
    "com2_list=[]\n",
    "comy_list=[]\n",
    "comy1_list=[]\n",
    "comy2_list=[]\n",
    "comz_list=[]\n",
    "comz1_list=[]\n",
    "comz2_list=[]\n",
    "\n",
    "for k in dim_list :\n",
    "  for i in range(4):\n",
    "  \n",
    "    op_walking = ordinal_patterns(walking['attr_x'][0:1024],k,i)\n",
    "    x_1=p_entropy(op_walking)\n",
    "    co1z = complexity(op_walking)\n",
    "    per_list.append(x_1)\n",
    "    com_list.append(co1z)\n",
    "    op_walking = ordinal_patterns(walking['attr_x'][0:2048],k,i)\n",
    "    x_1=p_entropy(op_walking)\n",
    "    per1_list.append(x_1)\n",
    "    com1_list.append(co1z)\n",
    "    op_walking = ordinal_patterns(walking['attr_x'][0:4096],k,i)\n",
    "    x_1=p_entropy(op_walking)\n",
    "    per2_list.append(x_1)\n",
    "    com2_list.append(co1z)\n",
    "    op_walking = ordinal_patterns(walking['attr_y'][0:1024],k,i)\n",
    "    x_1=p_entropy(op_walking)\n",
    "    pery_list.append(x_1)\n",
    "    comy_list.append(co1z)\n",
    "    op_walking = ordinal_patterns(walking['attr_y'][0:2048],k,i)\n",
    "    x_1=p_entropy(op_walking)\n",
    "    pery1_list.append(x_1)\n",
    "    comy1_list.append(co1z)\n",
    "    op_walking = ordinal_patterns(walking['attr_y'][0:4096],k,i)\n",
    "    x_1=p_entropy(op_walking)\n",
    "    pery2_list.append(x_1)\n",
    "    comy2_list.append(co1z)\n",
    "    op_walking = ordinal_patterns(walking['attr_z'][0:1024],k,i)\n",
    "    x_1=p_entropy(op_walking)\n",
    "    perz_list.append(x_1)\n",
    "    comz_list.append(co1z)\n",
    "    op_walking = ordinal_patterns(walking['attr_z'][0:2048],k,i)\n",
    "    x_1=p_entropy(op_walking)\n",
    "    perz1_list.append(x_1)\n",
    "    comz1_list.append(co1z)\n",
    "    op_walking = ordinal_patterns(walking['attr_z'][0:4096],k,i)\n",
    "    x_1=p_entropy(op_walking)\n",
    "    perz2_list.append(x_1)\n",
    "    comz2_list.append(co1z)\n",
    "    op_running = ordinal_patterns(running['attr_x'][0:1024],k,i)\n",
    "    x_1=p_entropy(op_running)     \n",
    "    co1z = complexity(op_running)\n",
    "    per_list.append(x_1)\n",
    "    com_list.append(co1z)\n",
    "    op_running = ordinal_patterns(running['attr_x'][0:2048],k,i)\n",
    "    x_1=p_entropy(op_running)\n",
    "    per1_list.append(x_1)\n",
    "    com1_list.append(co1z)\n",
    "    op_running = ordinal_patterns(running['attr_x'][0:4096],k,i)\n",
    "    x_1=p_entropy(op_running)\n",
    "    per2_list.append(x_1)\n",
    "    com2_list.append(co1z)\n",
    "    op_running = ordinal_patterns(running['attr_y'][0:1024],k,i)\n",
    "    x_1=p_entropy(op_running)\n",
    "    pery_list.append(x_1)\n",
    "    comy_list.append(co1z)\n",
    "    op_running = ordinal_patterns(running['attr_y'][0:2048],k,i)\n",
    "    x_1=p_entropy(op_running)\n",
    "    pery1_list.append(x_1)\n",
    "    comy1_list.append(co1z)\n",
    "    op_running = ordinal_patterns(running['attr_y'][0:4096],k,i)\n",
    "    x_1=p_entropy(op_running)\n",
    "    pery2_list.append(x_1)\n",
    "    comy2_list.append(co1z)\n",
    "    op_running = ordinal_patterns(running['attr_z'][0:1024],k,i)\n",
    "    x_1=p_entropy(op_running)\n",
    "    perz_list.append(x_1)\n",
    "    comz_list.append(co1z)\n",
    "    op_running = ordinal_patterns(running['attr_z'][0:2048],k,i)\n",
    "    x_1=p_entropy(op_running)\n",
    "    perz1_list.append(x_1)\n",
    "    comz1_list.append(co1z)\n",
    "    op_running = ordinal_patterns(running['attr_z'][0:4096],k,i)\n",
    "    x_1=p_entropy(op_running)\n",
    "    perz2_list.append(x_1)\n",
    "    comz2_list.append(co1z)\n",
    "    op_climb_up = ordinal_patterns(climb_up['attr_x'][0:1024],k,i)\n",
    "    x_1=p_entropy(op_climb_up)     \n",
    "    co1z = complexity(op_climb_up)\n",
    "    per_list.append(x_1)\n",
    "    com_list.append(co1z)\n",
    "    op_climb_up = ordinal_patterns(climb_up['attr_x'][0:2048],k,i)\n",
    "    x_1=p_entropy(op_climb_up)\n",
    "    per1_list.append(x_1)\n",
    "    com1_list.append(co1z)\n",
    "    op_climb_up = ordinal_patterns(climb_up['attr_x'][0:4096],k,i)\n",
    "    x_1=p_entropy(op_climb_up)\n",
    "    per2_list.append(x_1)\n",
    "    com2_list.append(co1z)\n",
    "    op_climb_up = ordinal_patterns(climb_up['attr_y'][0:1024],k,i)\n",
    "    x_1=p_entropy(op_climb_up)\n",
    "    pery_list.append(x_1)\n",
    "    comy_list.append(co1z)\n",
    "    op_climb_up = ordinal_patterns(climb_up['attr_y'][0:2048],k,i)\n",
    "    x_1=p_entropy(op_climb_up)\n",
    "    pery1_list.append(x_1)\n",
    "    comy1_list.append(co1z)\n",
    "    op_climb_up = ordinal_patterns(climb_up['attr_y'][0:4096],k,i)\n",
    "    x_1=p_entropy(op_climb_up)\n",
    "    pery2_list.append(x_1)\n",
    "    comy2_list.append(co1z)\n",
    "    op_climb_up = ordinal_patterns(climb_up['attr_z'][0:1024],k,i)\n",
    "    x_1=p_entropy(op_climb_up)\n",
    "    perz_list.append(x_1)\n",
    "    comz_list.append(co1z)\n",
    "    op_climb_up = ordinal_patterns(climb_up['attr_z'][0:2048],k,i)\n",
    "    x_1=p_entropy(op_climb_up)\n",
    "    perz1_list.append(x_1)\n",
    "    comz1_list.append(co1z)\n",
    "    op_climb_up = ordinal_patterns(climb_up['attr_z'][0:4096],k,i)\n",
    "    x_1=p_entropy(op_climb_up)\n",
    "    perz2_list.append(x_1)\n",
    "    comz2_list.append(co1z)\n",
    "    op_climb_down = ordinal_patterns(climb_down['attr_x'][0:1024],k,i)\n",
    "    x_1=p_entropy(op_climb_down)     \n",
    "    co1z = complexity(op_climb_down)\n",
    "    per_list.append(x_1)\n",
    "    com_list.append(co1z)\n",
    "    op_climb_down = ordinal_patterns(climb_down['attr_x'][0:2048],k,i)\n",
    "    x_1=p_entropy(op_climb_down)\n",
    "    per1_list.append(x_1)\n",
    "    com1_list.append(co1z)\n",
    "    op_climb_down = ordinal_patterns(climb_down['attr_x'][0:4096],k,i)\n",
    "    x_1=p_entropy(op_climb_down)\n",
    "    per2_list.append(x_1)\n",
    "    com2_list.append(co1z)\n",
    "    op_climb_down = ordinal_patterns(climb_down['attr_y'][0:1024],k,i)\n",
    "    x_1=p_entropy(op_climb_down)\n",
    "    pery_list.append(x_1)\n",
    "    comy_list.append(co1z)\n",
    "    op_climb_down = ordinal_patterns(climb_down['attr_y'][0:2048],k,i)\n",
    "    x_1=p_entropy(op_climb_down)\n",
    "    pery1_list.append(x_1)\n",
    "    comy1_list.append(co1z)\n",
    "    op_climb_down = ordinal_patterns(climb_down['attr_y'][0:4096],k,i)\n",
    "    x_1=p_entropy(op_climb_down)\n",
    "    pery2_list.append(x_1)\n",
    "    comy2_list.append(co1z)\n",
    "    op_climb_down = ordinal_patterns(climb_down['attr_z'][0:1024],k,i)\n",
    "    x_1=p_entropy(op_climb_down)\n",
    "    perz_list.append(x_1)\n",
    "    comz_list.append(co1z)\n",
    "    op_climb_down = ordinal_patterns(climb_down['attr_z'][0:2048],k,i)\n",
    "    x_1=p_entropy(op_climb_down)\n",
    "    perz1_list.append(x_1)\n",
    "    comz1_list.append(co1z)\n",
    "    op_climb_down = ordinal_patterns(climb_down['attr_z'][0:4096],k,i)\n",
    "    x_1=p_entropy(op_climb_down)\n",
    "    perz2_list.append(x_1)\n",
    "    comz2_list.append(co1z)\n",
    "\n",
    "\n",
    "\n",
    "per_list.extend(per1_list)\n",
    "per_list.extend(per2_list)\n",
    "pery_list.extend(pery1_list)\n",
    "pery_list.extend(pery2_list)\n",
    "perz_list.extend(perz1_list)\n",
    "perz_list.extend(perz2_list)\n",
    "com_list.extend(com1_list)\n",
    "com_list.extend(com2_list)\n",
    "comy_list.extend(comy1_list)\n",
    "comy_list.extend(comy2_list)\n",
    "comz_list.extend(comz1_list)\n",
    "comz_list.extend(comz2_list)\n",
    "per_list.extend(pery_list)\n",
    "per_list.extend(perz_list)\n",
    "com_list.extend(comy_list)\n",
    "com_list.extend(comz_list)\n",
    "per_list = [x for x in per_list if np.isnan(x) == False]\n",
    "com_list = [x for x in com_list if np.isnan(x) == False]\n",
    "len(com_list)\n",
    "\n",
    "\n",
    "\n",
    "\n",
    "\n"
   ]
  },
  {
   "cell_type": "markdown",
   "id": "37f60753",
   "metadata": {
    "id": "o2DcL7LDqmYH"
   },
   "source": [
    "# Subject 11\n"
   ]
  },
  {
   "cell_type": "code",
   "execution_count": null,
   "id": "41eafabb",
   "metadata": {
    "colab": {
     "base_uri": "https://localhost:8080/"
    },
    "id": "O8hbCmgXqq2b",
    "outputId": "872bdb76-d75c-4085-f6fe-480c8604e394"
   },
   "outputs": [
    {
     "name": "stderr",
     "output_type": "stream",
     "text": [
      "/usr/local/lib/python3.7/dist-packages/ipykernel_launcher.py:47: RuntimeWarning: invalid value encountered in double_scalars\n",
      "/usr/local/lib/python3.7/dist-packages/ipykernel_launcher.py:59: RuntimeWarning: divide by zero encountered in double_scalars\n",
      "/usr/local/lib/python3.7/dist-packages/ipykernel_launcher.py:64: RuntimeWarning: invalid value encountered in double_scalars\n"
     ]
    },
    {
     "data": {
      "text/plain": [
       "4752"
      ]
     },
     "execution_count": 104,
     "metadata": {},
     "output_type": "execute_result"
    }
   ],
   "source": [
    "\n",
    "walking = pd.read_csv('acc_walking_chest11.csv')\n",
    "running = pd.read_csv('acc_running_chest11.csv')\n",
    "climb_down= pd.read_csv('acc_climbingdown_chest11.csv')\n",
    "climb_up = pd.read_csv('acc_climbingup_chest11.csv')\n",
    "from sys import float_repr_style\n",
    "\n",
    "per0_list=[]\n",
    "per1_list=[]\n",
    "per2_list=[]\n",
    "pery_list=[]\n",
    "pery0_list=[]\n",
    "pery1_list=[]\n",
    "pery2_list=[]\n",
    "perz_list=[]\n",
    "perz0_list=[]\n",
    "perz1_list=[]\n",
    "perz2_list=[]\n",
    "\n",
    "com0_list=[]\n",
    "com1_list=[]\n",
    "com2_list=[]\n",
    "comy_list=[]\n",
    "comy1_list=[]\n",
    "comy2_list=[]\n",
    "comz_list=[]\n",
    "comz1_list=[]\n",
    "comz2_list=[]\n",
    "\n",
    "for k in dim_list :\n",
    "  for i in range(4):\n",
    "  \n",
    "    op_walking = ordinal_patterns(walking['attr_x'][0:1024],k,i)\n",
    "    x_1=p_entropy(op_walking)\n",
    "    co1z = complexity(op_walking)\n",
    "    per_list.append(x_1)\n",
    "    com_list.append(co1z)\n",
    "    op_walking = ordinal_patterns(walking['attr_x'][0:2048],k,i)\n",
    "    x_1=p_entropy(op_walking)\n",
    "    per1_list.append(x_1)\n",
    "    com1_list.append(co1z)\n",
    "    op_walking = ordinal_patterns(walking['attr_x'][0:4096],k,i)\n",
    "    x_1=p_entropy(op_walking)\n",
    "    per2_list.append(x_1)\n",
    "    com2_list.append(co1z)\n",
    "    op_walking = ordinal_patterns(walking['attr_y'][0:1024],k,i)\n",
    "    x_1=p_entropy(op_walking)\n",
    "    pery_list.append(x_1)\n",
    "    comy_list.append(co1z)\n",
    "    op_walking = ordinal_patterns(walking['attr_y'][0:2048],k,i)\n",
    "    x_1=p_entropy(op_walking)\n",
    "    pery1_list.append(x_1)\n",
    "    comy1_list.append(co1z)\n",
    "    op_walking = ordinal_patterns(walking['attr_y'][0:4096],k,i)\n",
    "    x_1=p_entropy(op_walking)\n",
    "    pery2_list.append(x_1)\n",
    "    comy2_list.append(co1z)\n",
    "    op_walking = ordinal_patterns(walking['attr_z'][0:1024],k,i)\n",
    "    x_1=p_entropy(op_walking)\n",
    "    perz_list.append(x_1)\n",
    "    comz_list.append(co1z)\n",
    "    op_walking = ordinal_patterns(walking['attr_z'][0:2048],k,i)\n",
    "    x_1=p_entropy(op_walking)\n",
    "    perz1_list.append(x_1)\n",
    "    comz1_list.append(co1z)\n",
    "    op_walking = ordinal_patterns(walking['attr_z'][0:4096],k,i)\n",
    "    x_1=p_entropy(op_walking)\n",
    "    perz2_list.append(x_1)\n",
    "    comz2_list.append(co1z)\n",
    "    op_running = ordinal_patterns(running['attr_x'][0:1024],k,i)\n",
    "    x_1=p_entropy(op_running)     \n",
    "    co1z = complexity(op_running)\n",
    "    per_list.append(x_1)\n",
    "    com_list.append(co1z)\n",
    "    op_running = ordinal_patterns(running['attr_x'][0:2048],k,i)\n",
    "    x_1=p_entropy(op_running)\n",
    "    per1_list.append(x_1)\n",
    "    com1_list.append(co1z)\n",
    "    op_running = ordinal_patterns(running['attr_x'][0:4096],k,i)\n",
    "    x_1=p_entropy(op_running)\n",
    "    per2_list.append(x_1)\n",
    "    com2_list.append(co1z)\n",
    "    op_running = ordinal_patterns(running['attr_y'][0:1024],k,i)\n",
    "    x_1=p_entropy(op_running)\n",
    "    pery_list.append(x_1)\n",
    "    comy_list.append(co1z)\n",
    "    op_running = ordinal_patterns(running['attr_y'][0:2048],k,i)\n",
    "    x_1=p_entropy(op_running)\n",
    "    pery1_list.append(x_1)\n",
    "    comy1_list.append(co1z)\n",
    "    op_running = ordinal_patterns(running['attr_y'][0:4096],k,i)\n",
    "    x_1=p_entropy(op_running)\n",
    "    pery2_list.append(x_1)\n",
    "    comy2_list.append(co1z)\n",
    "    op_running = ordinal_patterns(running['attr_z'][0:1024],k,i)\n",
    "    x_1=p_entropy(op_running)\n",
    "    perz_list.append(x_1)\n",
    "    comz_list.append(co1z)\n",
    "    op_running = ordinal_patterns(running['attr_z'][0:2048],k,i)\n",
    "    x_1=p_entropy(op_running)\n",
    "    perz1_list.append(x_1)\n",
    "    comz1_list.append(co1z)\n",
    "    op_running = ordinal_patterns(running['attr_z'][0:4096],k,i)\n",
    "    x_1=p_entropy(op_running)\n",
    "    perz2_list.append(x_1)\n",
    "    comz2_list.append(co1z)\n",
    "    op_climb_up = ordinal_patterns(climb_up['attr_x'][0:1024],k,i)\n",
    "    x_1=p_entropy(op_climb_up)     \n",
    "    co1z = complexity(op_climb_up)\n",
    "    per_list.append(x_1)\n",
    "    com_list.append(co1z)\n",
    "    op_climb_up = ordinal_patterns(climb_up['attr_x'][0:2048],k,i)\n",
    "    x_1=p_entropy(op_climb_up)\n",
    "    per1_list.append(x_1)\n",
    "    com1_list.append(co1z)\n",
    "    op_climb_up = ordinal_patterns(climb_up['attr_x'][0:4096],k,i)\n",
    "    x_1=p_entropy(op_climb_up)\n",
    "    per2_list.append(x_1)\n",
    "    com2_list.append(co1z)\n",
    "    op_climb_up = ordinal_patterns(climb_up['attr_y'][0:1024],k,i)\n",
    "    x_1=p_entropy(op_climb_up)\n",
    "    pery_list.append(x_1)\n",
    "    comy_list.append(co1z)\n",
    "    op_climb_up = ordinal_patterns(climb_up['attr_y'][0:2048],k,i)\n",
    "    x_1=p_entropy(op_climb_up)\n",
    "    pery1_list.append(x_1)\n",
    "    comy1_list.append(co1z)\n",
    "    op_climb_up = ordinal_patterns(climb_up['attr_y'][0:4096],k,i)\n",
    "    x_1=p_entropy(op_climb_up)\n",
    "    pery2_list.append(x_1)\n",
    "    comy2_list.append(co1z)\n",
    "    op_climb_up = ordinal_patterns(climb_up['attr_z'][0:1024],k,i)\n",
    "    x_1=p_entropy(op_climb_up)\n",
    "    perz_list.append(x_1)\n",
    "    comz_list.append(co1z)\n",
    "    op_climb_up = ordinal_patterns(climb_up['attr_z'][0:2048],k,i)\n",
    "    x_1=p_entropy(op_climb_up)\n",
    "    perz1_list.append(x_1)\n",
    "    comz1_list.append(co1z)\n",
    "    op_climb_up = ordinal_patterns(climb_up['attr_z'][0:4096],k,i)\n",
    "    x_1=p_entropy(op_climb_up)\n",
    "    perz2_list.append(x_1)\n",
    "    comz2_list.append(co1z)\n",
    "    op_climb_down = ordinal_patterns(climb_down['attr_x'][0:1024],k,i)\n",
    "    x_1=p_entropy(op_climb_down)     \n",
    "    co1z = complexity(op_climb_down)\n",
    "    per_list.append(x_1)\n",
    "    com_list.append(co1z)\n",
    "    op_climb_down = ordinal_patterns(climb_down['attr_x'][0:2048],k,i)\n",
    "    x_1=p_entropy(op_climb_down)\n",
    "    per1_list.append(x_1)\n",
    "    com1_list.append(co1z)\n",
    "    op_climb_down = ordinal_patterns(climb_down['attr_x'][0:4096],k,i)\n",
    "    x_1=p_entropy(op_climb_down)\n",
    "    per2_list.append(x_1)\n",
    "    com2_list.append(co1z)\n",
    "    op_climb_down = ordinal_patterns(climb_down['attr_y'][0:1024],k,i)\n",
    "    x_1=p_entropy(op_climb_down)\n",
    "    pery_list.append(x_1)\n",
    "    comy_list.append(co1z)\n",
    "    op_climb_down = ordinal_patterns(climb_down['attr_y'][0:2048],k,i)\n",
    "    x_1=p_entropy(op_climb_down)\n",
    "    pery1_list.append(x_1)\n",
    "    comy1_list.append(co1z)\n",
    "    op_climb_down = ordinal_patterns(climb_down['attr_y'][0:4096],k,i)\n",
    "    x_1=p_entropy(op_climb_down)\n",
    "    pery2_list.append(x_1)\n",
    "    comy2_list.append(co1z)\n",
    "    op_climb_down = ordinal_patterns(climb_down['attr_z'][0:1024],k,i)\n",
    "    x_1=p_entropy(op_climb_down)\n",
    "    perz_list.append(x_1)\n",
    "    comz_list.append(co1z)\n",
    "    op_climb_down = ordinal_patterns(climb_down['attr_z'][0:2048],k,i)\n",
    "    x_1=p_entropy(op_climb_down)\n",
    "    perz1_list.append(x_1)\n",
    "    comz1_list.append(co1z)\n",
    "    op_climb_down = ordinal_patterns(climb_down['attr_z'][0:4096],k,i)\n",
    "    x_1=p_entropy(op_climb_down)\n",
    "    perz2_list.append(x_1)\n",
    "    comz2_list.append(co1z)\n",
    "\n",
    "\n",
    "\n",
    "per_list.extend(per1_list)\n",
    "per_list.extend(per2_list)\n",
    "pery_list.extend(pery1_list)\n",
    "pery_list.extend(pery2_list)\n",
    "perz_list.extend(perz1_list)\n",
    "perz_list.extend(perz2_list)\n",
    "com_list.extend(com1_list)\n",
    "com_list.extend(com2_list)\n",
    "comy_list.extend(comy1_list)\n",
    "comy_list.extend(comy2_list)\n",
    "comz_list.extend(comz1_list)\n",
    "comz_list.extend(comz2_list)\n",
    "per_list.extend(pery_list)\n",
    "per_list.extend(perz_list)\n",
    "com_list.extend(comy_list)\n",
    "com_list.extend(comz_list)\n",
    "per_list = [x for x in per_list if np.isnan(x) == False]\n",
    "com_list = [x for x in com_list if np.isnan(x) == False]\n",
    "len(com_list)\n",
    "\n",
    "\n",
    "\n",
    "\n",
    "\n"
   ]
  },
  {
   "cell_type": "markdown",
   "id": "a506ba42",
   "metadata": {
    "id": "fq6oxAfMq2HO"
   },
   "source": [
    "# Subject 12\n"
   ]
  },
  {
   "cell_type": "code",
   "execution_count": null,
   "id": "8df2eb33",
   "metadata": {
    "colab": {
     "base_uri": "https://localhost:8080/"
    },
    "id": "Rj8T9-CUq8va",
    "outputId": "11c11a81-d489-42d7-bd4b-55846f1462a2"
   },
   "outputs": [
    {
     "name": "stderr",
     "output_type": "stream",
     "text": [
      "/usr/local/lib/python3.7/dist-packages/ipykernel_launcher.py:47: RuntimeWarning: invalid value encountered in double_scalars\n",
      "/usr/local/lib/python3.7/dist-packages/ipykernel_launcher.py:59: RuntimeWarning: divide by zero encountered in double_scalars\n",
      "/usr/local/lib/python3.7/dist-packages/ipykernel_launcher.py:64: RuntimeWarning: invalid value encountered in double_scalars\n"
     ]
    },
    {
     "data": {
      "text/plain": [
       "5184"
      ]
     },
     "execution_count": 105,
     "metadata": {},
     "output_type": "execute_result"
    }
   ],
   "source": [
    "\n",
    "walking = pd.read_csv('acc_walking_chest12.csv')\n",
    "running = pd.read_csv('acc_running_chest12.csv')\n",
    "climb_down= pd.read_csv('acc_climbingdown_chest12.csv')\n",
    "climb_up = pd.read_csv('acc_climbingup_chest12.csv')\n",
    "from sys import float_repr_style\n",
    "\n",
    "per0_list=[]\n",
    "per1_list=[]\n",
    "per2_list=[]\n",
    "pery_list=[]\n",
    "pery0_list=[]\n",
    "pery1_list=[]\n",
    "pery2_list=[]\n",
    "perz_list=[]\n",
    "perz0_list=[]\n",
    "perz1_list=[]\n",
    "perz2_list=[]\n",
    "\n",
    "com0_list=[]\n",
    "com1_list=[]\n",
    "com2_list=[]\n",
    "comy_list=[]\n",
    "comy1_list=[]\n",
    "comy2_list=[]\n",
    "comz_list=[]\n",
    "comz1_list=[]\n",
    "comz2_list=[]\n",
    "\n",
    "for k in dim_list :\n",
    "  for i in range(4):\n",
    "  \n",
    "    op_walking = ordinal_patterns(walking['attr_x'][0:1024],k,i)\n",
    "    x_1=p_entropy(op_walking)\n",
    "    co1z = complexity(op_walking)\n",
    "    per_list.append(x_1)\n",
    "    com_list.append(co1z)\n",
    "    op_walking = ordinal_patterns(walking['attr_x'][0:2048],k,i)\n",
    "    x_1=p_entropy(op_walking)\n",
    "    per1_list.append(x_1)\n",
    "    com1_list.append(co1z)\n",
    "    op_walking = ordinal_patterns(walking['attr_x'][0:4096],k,i)\n",
    "    x_1=p_entropy(op_walking)\n",
    "    per2_list.append(x_1)\n",
    "    com2_list.append(co1z)\n",
    "    op_walking = ordinal_patterns(walking['attr_y'][0:1024],k,i)\n",
    "    x_1=p_entropy(op_walking)\n",
    "    pery_list.append(x_1)\n",
    "    comy_list.append(co1z)\n",
    "    op_walking = ordinal_patterns(walking['attr_y'][0:2048],k,i)\n",
    "    x_1=p_entropy(op_walking)\n",
    "    pery1_list.append(x_1)\n",
    "    comy1_list.append(co1z)\n",
    "    op_walking = ordinal_patterns(walking['attr_y'][0:4096],k,i)\n",
    "    x_1=p_entropy(op_walking)\n",
    "    pery2_list.append(x_1)\n",
    "    comy2_list.append(co1z)\n",
    "    op_walking = ordinal_patterns(walking['attr_z'][0:1024],k,i)\n",
    "    x_1=p_entropy(op_walking)\n",
    "    perz_list.append(x_1)\n",
    "    comz_list.append(co1z)\n",
    "    op_walking = ordinal_patterns(walking['attr_z'][0:2048],k,i)\n",
    "    x_1=p_entropy(op_walking)\n",
    "    perz1_list.append(x_1)\n",
    "    comz1_list.append(co1z)\n",
    "    op_walking = ordinal_patterns(walking['attr_z'][0:4096],k,i)\n",
    "    x_1=p_entropy(op_walking)\n",
    "    perz2_list.append(x_1)\n",
    "    comz2_list.append(co1z)\n",
    "    op_running = ordinal_patterns(running['attr_x'][0:1024],k,i)\n",
    "    x_1=p_entropy(op_running)     \n",
    "    co1z = complexity(op_running)\n",
    "    per_list.append(x_1)\n",
    "    com_list.append(co1z)\n",
    "    op_running = ordinal_patterns(running['attr_x'][0:2048],k,i)\n",
    "    x_1=p_entropy(op_running)\n",
    "    per1_list.append(x_1)\n",
    "    com1_list.append(co1z)\n",
    "    op_running = ordinal_patterns(running['attr_x'][0:4096],k,i)\n",
    "    x_1=p_entropy(op_running)\n",
    "    per2_list.append(x_1)\n",
    "    com2_list.append(co1z)\n",
    "    op_running = ordinal_patterns(running['attr_y'][0:1024],k,i)\n",
    "    x_1=p_entropy(op_running)\n",
    "    pery_list.append(x_1)\n",
    "    comy_list.append(co1z)\n",
    "    op_running = ordinal_patterns(running['attr_y'][0:2048],k,i)\n",
    "    x_1=p_entropy(op_running)\n",
    "    pery1_list.append(x_1)\n",
    "    comy1_list.append(co1z)\n",
    "    op_running = ordinal_patterns(running['attr_y'][0:4096],k,i)\n",
    "    x_1=p_entropy(op_running)\n",
    "    pery2_list.append(x_1)\n",
    "    comy2_list.append(co1z)\n",
    "    op_running = ordinal_patterns(running['attr_z'][0:1024],k,i)\n",
    "    x_1=p_entropy(op_running)\n",
    "    perz_list.append(x_1)\n",
    "    comz_list.append(co1z)\n",
    "    op_running = ordinal_patterns(running['attr_z'][0:2048],k,i)\n",
    "    x_1=p_entropy(op_running)\n",
    "    perz1_list.append(x_1)\n",
    "    comz1_list.append(co1z)\n",
    "    op_running = ordinal_patterns(running['attr_z'][0:4096],k,i)\n",
    "    x_1=p_entropy(op_running)\n",
    "    perz2_list.append(x_1)\n",
    "    comz2_list.append(co1z)\n",
    "    op_climb_up = ordinal_patterns(climb_up['attr_x'][0:1024],k,i)\n",
    "    x_1=p_entropy(op_climb_up)     \n",
    "    co1z = complexity(op_climb_up)\n",
    "    per_list.append(x_1)\n",
    "    com_list.append(co1z)\n",
    "    op_climb_up = ordinal_patterns(climb_up['attr_x'][0:2048],k,i)\n",
    "    x_1=p_entropy(op_climb_up)\n",
    "    per1_list.append(x_1)\n",
    "    com1_list.append(co1z)\n",
    "    op_climb_up = ordinal_patterns(climb_up['attr_x'][0:4096],k,i)\n",
    "    x_1=p_entropy(op_climb_up)\n",
    "    per2_list.append(x_1)\n",
    "    com2_list.append(co1z)\n",
    "    op_climb_up = ordinal_patterns(climb_up['attr_y'][0:1024],k,i)\n",
    "    x_1=p_entropy(op_climb_up)\n",
    "    pery_list.append(x_1)\n",
    "    comy_list.append(co1z)\n",
    "    op_climb_up = ordinal_patterns(climb_up['attr_y'][0:2048],k,i)\n",
    "    x_1=p_entropy(op_climb_up)\n",
    "    pery1_list.append(x_1)\n",
    "    comy1_list.append(co1z)\n",
    "    op_climb_up = ordinal_patterns(climb_up['attr_y'][0:4096],k,i)\n",
    "    x_1=p_entropy(op_climb_up)\n",
    "    pery2_list.append(x_1)\n",
    "    comy2_list.append(co1z)\n",
    "    op_climb_up = ordinal_patterns(climb_up['attr_z'][0:1024],k,i)\n",
    "    x_1=p_entropy(op_climb_up)\n",
    "    perz_list.append(x_1)\n",
    "    comz_list.append(co1z)\n",
    "    op_climb_up = ordinal_patterns(climb_up['attr_z'][0:2048],k,i)\n",
    "    x_1=p_entropy(op_climb_up)\n",
    "    perz1_list.append(x_1)\n",
    "    comz1_list.append(co1z)\n",
    "    op_climb_up = ordinal_patterns(climb_up['attr_z'][0:4096],k,i)\n",
    "    x_1=p_entropy(op_climb_up)\n",
    "    perz2_list.append(x_1)\n",
    "    comz2_list.append(co1z)\n",
    "    op_climb_down = ordinal_patterns(climb_down['attr_x'][0:1024],k,i)\n",
    "    x_1=p_entropy(op_climb_down)     \n",
    "    co1z = complexity(op_climb_down)\n",
    "    per_list.append(x_1)\n",
    "    com_list.append(co1z)\n",
    "    op_climb_down = ordinal_patterns(climb_down['attr_x'][0:2048],k,i)\n",
    "    x_1=p_entropy(op_climb_down)\n",
    "    per1_list.append(x_1)\n",
    "    com1_list.append(co1z)\n",
    "    op_climb_down = ordinal_patterns(climb_down['attr_x'][0:4096],k,i)\n",
    "    x_1=p_entropy(op_climb_down)\n",
    "    per2_list.append(x_1)\n",
    "    com2_list.append(co1z)\n",
    "    op_climb_down = ordinal_patterns(climb_down['attr_y'][0:1024],k,i)\n",
    "    x_1=p_entropy(op_climb_down)\n",
    "    pery_list.append(x_1)\n",
    "    comy_list.append(co1z)\n",
    "    op_climb_down = ordinal_patterns(climb_down['attr_y'][0:2048],k,i)\n",
    "    x_1=p_entropy(op_climb_down)\n",
    "    pery1_list.append(x_1)\n",
    "    comy1_list.append(co1z)\n",
    "    op_climb_down = ordinal_patterns(climb_down['attr_y'][0:4096],k,i)\n",
    "    x_1=p_entropy(op_climb_down)\n",
    "    pery2_list.append(x_1)\n",
    "    comy2_list.append(co1z)\n",
    "    op_climb_down = ordinal_patterns(climb_down['attr_z'][0:1024],k,i)\n",
    "    x_1=p_entropy(op_climb_down)\n",
    "    perz_list.append(x_1)\n",
    "    comz_list.append(co1z)\n",
    "    op_climb_down = ordinal_patterns(climb_down['attr_z'][0:2048],k,i)\n",
    "    x_1=p_entropy(op_climb_down)\n",
    "    perz1_list.append(x_1)\n",
    "    comz1_list.append(co1z)\n",
    "    op_climb_down = ordinal_patterns(climb_down['attr_z'][0:4096],k,i)\n",
    "    x_1=p_entropy(op_climb_down)\n",
    "    perz2_list.append(x_1)\n",
    "    comz2_list.append(co1z)\n",
    "\n",
    "\n",
    "\n",
    "\n",
    "per_list.extend(per1_list)\n",
    "per_list.extend(per2_list)\n",
    "pery_list.extend(pery1_list)\n",
    "pery_list.extend(pery2_list)\n",
    "perz_list.extend(perz1_list)\n",
    "perz_list.extend(perz2_list)\n",
    "com_list.extend(com1_list)\n",
    "com_list.extend(com2_list)\n",
    "comy_list.extend(comy1_list)\n",
    "comy_list.extend(comy2_list)\n",
    "comz_list.extend(comz1_list)\n",
    "comz_list.extend(comz2_list)\n",
    "per_list.extend(pery_list)\n",
    "per_list.extend(perz_list)\n",
    "com_list.extend(comy_list)\n",
    "com_list.extend(comz_list)\n",
    "per_list = [x for x in per_list if np.isnan(x) == False]\n",
    "com_list = [x for x in com_list if np.isnan(x) == False]\n",
    "len(com_list)\n",
    "\n",
    "\n",
    "\n",
    "\n",
    "\n"
   ]
  },
  {
   "cell_type": "markdown",
   "id": "22bdf7bb",
   "metadata": {
    "id": "0I0xZUjorLC5"
   },
   "source": [
    "# Subject 13"
   ]
  },
  {
   "cell_type": "code",
   "execution_count": null,
   "id": "dd176524",
   "metadata": {
    "colab": {
     "base_uri": "https://localhost:8080/"
    },
    "id": "IxHsc4uvrPsi",
    "outputId": "6b5a20d4-aa2b-4ab4-f7c0-3a818a91ce60"
   },
   "outputs": [
    {
     "name": "stderr",
     "output_type": "stream",
     "text": [
      "/usr/local/lib/python3.7/dist-packages/ipykernel_launcher.py:47: RuntimeWarning: invalid value encountered in double_scalars\n",
      "/usr/local/lib/python3.7/dist-packages/ipykernel_launcher.py:59: RuntimeWarning: divide by zero encountered in double_scalars\n",
      "/usr/local/lib/python3.7/dist-packages/ipykernel_launcher.py:64: RuntimeWarning: invalid value encountered in double_scalars\n"
     ]
    },
    {
     "data": {
      "text/plain": [
       "5616"
      ]
     },
     "execution_count": 106,
     "metadata": {},
     "output_type": "execute_result"
    }
   ],
   "source": [
    "\n",
    "walking = pd.read_csv('acc_walking_chest13.csv')\n",
    "running = pd.read_csv('acc_running_chest13.csv')\n",
    "climb_down= pd.read_csv('acc_climbingdown_chest13.csv')\n",
    "climb_up = pd.read_csv('acc_climbingup_chest13.csv')\n",
    "from sys import float_repr_style\n",
    "\n",
    "per0_list=[]\n",
    "per1_list=[]\n",
    "per2_list=[]\n",
    "pery_list=[]\n",
    "pery0_list=[]\n",
    "pery1_list=[]\n",
    "pery2_list=[]\n",
    "perz_list=[]\n",
    "perz0_list=[]\n",
    "perz1_list=[]\n",
    "perz2_list=[]\n",
    "\n",
    "com0_list=[]\n",
    "com1_list=[]\n",
    "com2_list=[]\n",
    "comy_list=[]\n",
    "comy1_list=[]\n",
    "comy2_list=[]\n",
    "comz_list=[]\n",
    "comz1_list=[]\n",
    "comz2_list=[]\n",
    "\n",
    "for k in dim_list :\n",
    "  for i in range(4):\n",
    "  \n",
    "    op_walking = ordinal_patterns(walking['attr_x'][0:1024],k,i)\n",
    "    x_1=p_entropy(op_walking)\n",
    "    co1z = complexity(op_walking)\n",
    "    per_list.append(x_1)\n",
    "    com_list.append(co1z)\n",
    "    op_walking = ordinal_patterns(walking['attr_x'][0:2048],k,i)\n",
    "    x_1=p_entropy(op_walking)\n",
    "    per1_list.append(x_1)\n",
    "    com1_list.append(co1z)\n",
    "    op_walking = ordinal_patterns(walking['attr_x'][0:4096],k,i)\n",
    "    x_1=p_entropy(op_walking)\n",
    "    per2_list.append(x_1)\n",
    "    com2_list.append(co1z)\n",
    "    op_walking = ordinal_patterns(walking['attr_y'][0:1024],k,i)\n",
    "    x_1=p_entropy(op_walking)\n",
    "    pery_list.append(x_1)\n",
    "    comy_list.append(co1z)\n",
    "    op_walking = ordinal_patterns(walking['attr_y'][0:2048],k,i)\n",
    "    x_1=p_entropy(op_walking)\n",
    "    pery1_list.append(x_1)\n",
    "    comy1_list.append(co1z)\n",
    "    op_walking = ordinal_patterns(walking['attr_y'][0:4096],k,i)\n",
    "    x_1=p_entropy(op_walking)\n",
    "    pery2_list.append(x_1)\n",
    "    comy2_list.append(co1z)\n",
    "    op_walking = ordinal_patterns(walking['attr_z'][0:1024],k,i)\n",
    "    x_1=p_entropy(op_walking)\n",
    "    perz_list.append(x_1)\n",
    "    comz_list.append(co1z)\n",
    "    op_walking = ordinal_patterns(walking['attr_z'][0:2048],k,i)\n",
    "    x_1=p_entropy(op_walking)\n",
    "    perz1_list.append(x_1)\n",
    "    comz1_list.append(co1z)\n",
    "    op_walking = ordinal_patterns(walking['attr_z'][0:4096],k,i)\n",
    "    x_1=p_entropy(op_walking)\n",
    "    perz2_list.append(x_1)\n",
    "    comz2_list.append(co1z)\n",
    "    op_running = ordinal_patterns(running['attr_x'][0:1024],k,i)\n",
    "    x_1=p_entropy(op_running)     \n",
    "    co1z = complexity(op_running)\n",
    "    per_list.append(x_1)\n",
    "    com_list.append(co1z)\n",
    "    op_running = ordinal_patterns(running['attr_x'][0:2048],k,i)\n",
    "    x_1=p_entropy(op_running)\n",
    "    per1_list.append(x_1)\n",
    "    com1_list.append(co1z)\n",
    "    op_running = ordinal_patterns(running['attr_x'][0:4096],k,i)\n",
    "    x_1=p_entropy(op_running)\n",
    "    per2_list.append(x_1)\n",
    "    com2_list.append(co1z)\n",
    "    op_running = ordinal_patterns(running['attr_y'][0:1024],k,i)\n",
    "    x_1=p_entropy(op_running)\n",
    "    pery_list.append(x_1)\n",
    "    comy_list.append(co1z)\n",
    "    op_running = ordinal_patterns(running['attr_y'][0:2048],k,i)\n",
    "    x_1=p_entropy(op_running)\n",
    "    pery1_list.append(x_1)\n",
    "    comy1_list.append(co1z)\n",
    "    op_running = ordinal_patterns(running['attr_y'][0:4096],k,i)\n",
    "    x_1=p_entropy(op_running)\n",
    "    pery2_list.append(x_1)\n",
    "    comy2_list.append(co1z)\n",
    "    op_running = ordinal_patterns(running['attr_z'][0:1024],k,i)\n",
    "    x_1=p_entropy(op_running)\n",
    "    perz_list.append(x_1)\n",
    "    comz_list.append(co1z)\n",
    "    op_running = ordinal_patterns(running['attr_z'][0:2048],k,i)\n",
    "    x_1=p_entropy(op_running)\n",
    "    perz1_list.append(x_1)\n",
    "    comz1_list.append(co1z)\n",
    "    op_running = ordinal_patterns(running['attr_z'][0:4096],k,i)\n",
    "    x_1=p_entropy(op_running)\n",
    "    perz2_list.append(x_1)\n",
    "    comz2_list.append(co1z)\n",
    "    op_climb_up = ordinal_patterns(climb_up['attr_x'][0:1024],k,i)\n",
    "    x_1=p_entropy(op_climb_up)     \n",
    "    co1z = complexity(op_climb_up)\n",
    "    per_list.append(x_1)\n",
    "    com_list.append(co1z)\n",
    "    op_climb_up = ordinal_patterns(climb_up['attr_x'][0:2048],k,i)\n",
    "    x_1=p_entropy(op_climb_up)\n",
    "    per1_list.append(x_1)\n",
    "    com1_list.append(co1z)\n",
    "    op_climb_up = ordinal_patterns(climb_up['attr_x'][0:4096],k,i)\n",
    "    x_1=p_entropy(op_climb_up)\n",
    "    per2_list.append(x_1)\n",
    "    com2_list.append(co1z)\n",
    "    op_climb_up = ordinal_patterns(climb_up['attr_y'][0:1024],k,i)\n",
    "    x_1=p_entropy(op_climb_up)\n",
    "    pery_list.append(x_1)\n",
    "    comy_list.append(co1z)\n",
    "    op_climb_up = ordinal_patterns(climb_up['attr_y'][0:2048],k,i)\n",
    "    x_1=p_entropy(op_climb_up)\n",
    "    pery1_list.append(x_1)\n",
    "    comy1_list.append(co1z)\n",
    "    op_climb_up = ordinal_patterns(climb_up['attr_y'][0:4096],k,i)\n",
    "    x_1=p_entropy(op_climb_up)\n",
    "    pery2_list.append(x_1)\n",
    "    comy2_list.append(co1z)\n",
    "    op_climb_up = ordinal_patterns(climb_up['attr_z'][0:1024],k,i)\n",
    "    x_1=p_entropy(op_climb_up)\n",
    "    perz_list.append(x_1)\n",
    "    comz_list.append(co1z)\n",
    "    op_climb_up = ordinal_patterns(climb_up['attr_z'][0:2048],k,i)\n",
    "    x_1=p_entropy(op_climb_up)\n",
    "    perz1_list.append(x_1)\n",
    "    comz1_list.append(co1z)\n",
    "    op_climb_up = ordinal_patterns(climb_up['attr_z'][0:4096],k,i)\n",
    "    x_1=p_entropy(op_climb_up)\n",
    "    perz2_list.append(x_1)\n",
    "    comz2_list.append(co1z)\n",
    "    op_climb_down = ordinal_patterns(climb_down['attr_x'][0:1024],k,i)\n",
    "    x_1=p_entropy(op_climb_down)     \n",
    "    co1z = complexity(op_climb_down)\n",
    "    per_list.append(x_1)\n",
    "    com_list.append(co1z)\n",
    "    op_climb_down = ordinal_patterns(climb_down['attr_x'][0:2048],k,i)\n",
    "    x_1=p_entropy(op_climb_down)\n",
    "    per1_list.append(x_1)\n",
    "    com1_list.append(co1z)\n",
    "    op_climb_down = ordinal_patterns(climb_down['attr_x'][0:4096],k,i)\n",
    "    x_1=p_entropy(op_climb_down)\n",
    "    per2_list.append(x_1)\n",
    "    com2_list.append(co1z)\n",
    "    op_climb_down = ordinal_patterns(climb_down['attr_y'][0:1024],k,i)\n",
    "    x_1=p_entropy(op_climb_down)\n",
    "    pery_list.append(x_1)\n",
    "    comy_list.append(co1z)\n",
    "    op_climb_down = ordinal_patterns(climb_down['attr_y'][0:2048],k,i)\n",
    "    x_1=p_entropy(op_climb_down)\n",
    "    pery1_list.append(x_1)\n",
    "    comy1_list.append(co1z)\n",
    "    op_climb_down = ordinal_patterns(climb_down['attr_y'][0:4096],k,i)\n",
    "    x_1=p_entropy(op_climb_down)\n",
    "    pery2_list.append(x_1)\n",
    "    comy2_list.append(co1z)\n",
    "    op_climb_down = ordinal_patterns(climb_down['attr_z'][0:1024],k,i)\n",
    "    x_1=p_entropy(op_climb_down)\n",
    "    perz_list.append(x_1)\n",
    "    comz_list.append(co1z)\n",
    "    op_climb_down = ordinal_patterns(climb_down['attr_z'][0:2048],k,i)\n",
    "    x_1=p_entropy(op_climb_down)\n",
    "    perz1_list.append(x_1)\n",
    "    comz1_list.append(co1z)\n",
    "    op_climb_down = ordinal_patterns(climb_down['attr_z'][0:4096],k,i)\n",
    "    x_1=p_entropy(op_climb_down)\n",
    "    perz2_list.append(x_1)\n",
    "    comz2_list.append(co1z)\n",
    "\n",
    "\n",
    "\n",
    "\n",
    "per_list.extend(per1_list)\n",
    "per_list.extend(per2_list)\n",
    "pery_list.extend(pery1_list)\n",
    "pery_list.extend(pery2_list)\n",
    "perz_list.extend(perz1_list)\n",
    "perz_list.extend(perz2_list)\n",
    "com_list.extend(com1_list)\n",
    "com_list.extend(com2_list)\n",
    "comy_list.extend(comy1_list)\n",
    "comy_list.extend(comy2_list)\n",
    "comz_list.extend(comz1_list)\n",
    "comz_list.extend(comz2_list)\n",
    "per_list.extend(pery_list)\n",
    "per_list.extend(perz_list)\n",
    "com_list.extend(comy_list)\n",
    "com_list.extend(comz_list)\n",
    "per_list = [x for x in per_list if np.isnan(x) == False]\n",
    "com_list = [x for x in com_list if np.isnan(x) == False]\n",
    "len(com_list)\n",
    "\n",
    "\n",
    "\n",
    "\n",
    "\n"
   ]
  },
  {
   "cell_type": "markdown",
   "id": "0cb99488",
   "metadata": {
    "id": "e5qcg04prd8K"
   },
   "source": [
    "# Subject 14"
   ]
  },
  {
   "cell_type": "code",
   "execution_count": null,
   "id": "0f69232b",
   "metadata": {
    "colab": {
     "base_uri": "https://localhost:8080/"
    },
    "id": "vSBkDjm5rmLb",
    "outputId": "5fafefa7-ab71-46ee-8744-db3a670abe31"
   },
   "outputs": [
    {
     "name": "stderr",
     "output_type": "stream",
     "text": [
      "/usr/local/lib/python3.7/dist-packages/ipykernel_launcher.py:47: RuntimeWarning: invalid value encountered in double_scalars\n",
      "/usr/local/lib/python3.7/dist-packages/ipykernel_launcher.py:59: RuntimeWarning: divide by zero encountered in double_scalars\n",
      "/usr/local/lib/python3.7/dist-packages/ipykernel_launcher.py:64: RuntimeWarning: invalid value encountered in double_scalars\n"
     ]
    },
    {
     "data": {
      "text/plain": [
       "6048"
      ]
     },
     "execution_count": 107,
     "metadata": {},
     "output_type": "execute_result"
    }
   ],
   "source": [
    "\n",
    "walking = pd.read_csv('acc_walking_chest14.csv')\n",
    "running = pd.read_csv('acc_running_chest14.csv')\n",
    "climb_down= pd.read_csv('acc_climbingdown_chest14.csv')\n",
    "climb_up = pd.read_csv('acc_climbingup_chest14.csv')\n",
    "from sys import float_repr_style\n",
    "\n",
    "per0_list=[]\n",
    "per1_list=[]\n",
    "per2_list=[]\n",
    "pery_list=[]\n",
    "pery0_list=[]\n",
    "pery1_list=[]\n",
    "pery2_list=[]\n",
    "perz_list=[]\n",
    "perz0_list=[]\n",
    "perz1_list=[]\n",
    "perz2_list=[]\n",
    "\n",
    "com0_list=[]\n",
    "com1_list=[]\n",
    "com2_list=[]\n",
    "comy_list=[]\n",
    "comy1_list=[]\n",
    "comy2_list=[]\n",
    "comz_list=[]\n",
    "comz1_list=[]\n",
    "comz2_list=[]\n",
    "\n",
    "for k in dim_list :\n",
    "  for i in range(4):\n",
    "  \n",
    "    op_walking = ordinal_patterns(walking['attr_x'][0:1024],k,i)\n",
    "    x_1=p_entropy(op_walking)\n",
    "    co1z = complexity(op_walking)\n",
    "    per_list.append(x_1)\n",
    "    com_list.append(co1z)\n",
    "    op_walking = ordinal_patterns(walking['attr_x'][0:2048],k,i)\n",
    "    x_1=p_entropy(op_walking)\n",
    "    per1_list.append(x_1)\n",
    "    com1_list.append(co1z)\n",
    "    op_walking = ordinal_patterns(walking['attr_x'][0:4096],k,i)\n",
    "    x_1=p_entropy(op_walking)\n",
    "    per2_list.append(x_1)\n",
    "    com2_list.append(co1z)\n",
    "    op_walking = ordinal_patterns(walking['attr_y'][0:1024],k,i)\n",
    "    x_1=p_entropy(op_walking)\n",
    "    pery_list.append(x_1)\n",
    "    comy_list.append(co1z)\n",
    "    op_walking = ordinal_patterns(walking['attr_y'][0:2048],k,i)\n",
    "    x_1=p_entropy(op_walking)\n",
    "    pery1_list.append(x_1)\n",
    "    comy1_list.append(co1z)\n",
    "    op_walking = ordinal_patterns(walking['attr_y'][0:4096],k,i)\n",
    "    x_1=p_entropy(op_walking)\n",
    "    pery2_list.append(x_1)\n",
    "    comy2_list.append(co1z)\n",
    "    op_walking = ordinal_patterns(walking['attr_z'][0:1024],k,i)\n",
    "    x_1=p_entropy(op_walking)\n",
    "    perz_list.append(x_1)\n",
    "    comz_list.append(co1z)\n",
    "    op_walking = ordinal_patterns(walking['attr_z'][0:2048],k,i)\n",
    "    x_1=p_entropy(op_walking)\n",
    "    perz1_list.append(x_1)\n",
    "    comz1_list.append(co1z)\n",
    "    op_walking = ordinal_patterns(walking['attr_z'][0:4096],k,i)\n",
    "    x_1=p_entropy(op_walking)\n",
    "    perz2_list.append(x_1)\n",
    "    comz2_list.append(co1z)\n",
    "    op_running = ordinal_patterns(running['attr_x'][0:1024],k,i)\n",
    "    x_1=p_entropy(op_running)     \n",
    "    co1z = complexity(op_running)\n",
    "    per_list.append(x_1)\n",
    "    com_list.append(co1z)\n",
    "    op_running = ordinal_patterns(running['attr_x'][0:2048],k,i)\n",
    "    x_1=p_entropy(op_running)\n",
    "    per1_list.append(x_1)\n",
    "    com1_list.append(co1z)\n",
    "    op_running = ordinal_patterns(running['attr_x'][0:4096],k,i)\n",
    "    x_1=p_entropy(op_running)\n",
    "    per2_list.append(x_1)\n",
    "    com2_list.append(co1z)\n",
    "    op_running = ordinal_patterns(running['attr_y'][0:1024],k,i)\n",
    "    x_1=p_entropy(op_running)\n",
    "    pery_list.append(x_1)\n",
    "    comy_list.append(co1z)\n",
    "    op_running = ordinal_patterns(running['attr_y'][0:2048],k,i)\n",
    "    x_1=p_entropy(op_running)\n",
    "    pery1_list.append(x_1)\n",
    "    comy1_list.append(co1z)\n",
    "    op_running = ordinal_patterns(running['attr_y'][0:4096],k,i)\n",
    "    x_1=p_entropy(op_running)\n",
    "    pery2_list.append(x_1)\n",
    "    comy2_list.append(co1z)\n",
    "    op_running = ordinal_patterns(running['attr_z'][0:1024],k,i)\n",
    "    x_1=p_entropy(op_running)\n",
    "    perz_list.append(x_1)\n",
    "    comz_list.append(co1z)\n",
    "    op_running = ordinal_patterns(running['attr_z'][0:2048],k,i)\n",
    "    x_1=p_entropy(op_running)\n",
    "    perz1_list.append(x_1)\n",
    "    comz1_list.append(co1z)\n",
    "    op_running = ordinal_patterns(running['attr_z'][0:4096],k,i)\n",
    "    x_1=p_entropy(op_running)\n",
    "    perz2_list.append(x_1)\n",
    "    comz2_list.append(co1z)\n",
    "    op_climb_up = ordinal_patterns(climb_up['attr_x'][0:1024],k,i)\n",
    "    x_1=p_entropy(op_climb_up)     \n",
    "    co1z = complexity(op_climb_up)\n",
    "    per_list.append(x_1)\n",
    "    com_list.append(co1z)\n",
    "    op_climb_up = ordinal_patterns(climb_up['attr_x'][0:2048],k,i)\n",
    "    x_1=p_entropy(op_climb_up)\n",
    "    per1_list.append(x_1)\n",
    "    com1_list.append(co1z)\n",
    "    op_climb_up = ordinal_patterns(climb_up['attr_x'][0:4096],k,i)\n",
    "    x_1=p_entropy(op_climb_up)\n",
    "    per2_list.append(x_1)\n",
    "    com2_list.append(co1z)\n",
    "    op_climb_up = ordinal_patterns(climb_up['attr_y'][0:1024],k,i)\n",
    "    x_1=p_entropy(op_climb_up)\n",
    "    pery_list.append(x_1)\n",
    "    comy_list.append(co1z)\n",
    "    op_climb_up = ordinal_patterns(climb_up['attr_y'][0:2048],k,i)\n",
    "    x_1=p_entropy(op_climb_up)\n",
    "    pery1_list.append(x_1)\n",
    "    comy1_list.append(co1z)\n",
    "    op_climb_up = ordinal_patterns(climb_up['attr_y'][0:4096],k,i)\n",
    "    x_1=p_entropy(op_climb_up)\n",
    "    pery2_list.append(x_1)\n",
    "    comy2_list.append(co1z)\n",
    "    op_climb_up = ordinal_patterns(climb_up['attr_z'][0:1024],k,i)\n",
    "    x_1=p_entropy(op_climb_up)\n",
    "    perz_list.append(x_1)\n",
    "    comz_list.append(co1z)\n",
    "    op_climb_up = ordinal_patterns(climb_up['attr_z'][0:2048],k,i)\n",
    "    x_1=p_entropy(op_climb_up)\n",
    "    perz1_list.append(x_1)\n",
    "    comz1_list.append(co1z)\n",
    "    op_climb_up = ordinal_patterns(climb_up['attr_z'][0:4096],k,i)\n",
    "    x_1=p_entropy(op_climb_up)\n",
    "    perz2_list.append(x_1)\n",
    "    comz2_list.append(co1z)\n",
    "    op_climb_down = ordinal_patterns(climb_down['attr_x'][0:1024],k,i)\n",
    "    x_1=p_entropy(op_climb_down)     \n",
    "    co1z = complexity(op_climb_down)\n",
    "    per_list.append(x_1)\n",
    "    com_list.append(co1z)\n",
    "    op_climb_down = ordinal_patterns(climb_down['attr_x'][0:2048],k,i)\n",
    "    x_1=p_entropy(op_climb_down)\n",
    "    per1_list.append(x_1)\n",
    "    com1_list.append(co1z)\n",
    "    op_climb_down = ordinal_patterns(climb_down['attr_x'][0:4096],k,i)\n",
    "    x_1=p_entropy(op_climb_down)\n",
    "    per2_list.append(x_1)\n",
    "    com2_list.append(co1z)\n",
    "    op_climb_down = ordinal_patterns(climb_down['attr_y'][0:1024],k,i)\n",
    "    x_1=p_entropy(op_climb_down)\n",
    "    pery_list.append(x_1)\n",
    "    comy_list.append(co1z)\n",
    "    op_climb_down = ordinal_patterns(climb_down['attr_y'][0:2048],k,i)\n",
    "    x_1=p_entropy(op_climb_down)\n",
    "    pery1_list.append(x_1)\n",
    "    comy1_list.append(co1z)\n",
    "    op_climb_down = ordinal_patterns(climb_down['attr_y'][0:4096],k,i)\n",
    "    x_1=p_entropy(op_climb_down)\n",
    "    pery2_list.append(x_1)\n",
    "    comy2_list.append(co1z)\n",
    "    op_climb_down = ordinal_patterns(climb_down['attr_z'][0:1024],k,i)\n",
    "    x_1=p_entropy(op_climb_down)\n",
    "    perz_list.append(x_1)\n",
    "    comz_list.append(co1z)\n",
    "    op_climb_down = ordinal_patterns(climb_down['attr_z'][0:2048],k,i)\n",
    "    x_1=p_entropy(op_climb_down)\n",
    "    perz1_list.append(x_1)\n",
    "    comz1_list.append(co1z)\n",
    "    op_climb_down = ordinal_patterns(climb_down['attr_z'][0:4096],k,i)\n",
    "    x_1=p_entropy(op_climb_down)\n",
    "    perz2_list.append(x_1)\n",
    "    comz2_list.append(co1z)\n",
    "\n",
    "\n",
    "\n",
    "per_list.extend(per1_list)\n",
    "per_list.extend(per2_list)\n",
    "pery_list.extend(pery1_list)\n",
    "pery_list.extend(pery2_list)\n",
    "perz_list.extend(perz1_list)\n",
    "perz_list.extend(perz2_list)\n",
    "com_list.extend(com1_list)\n",
    "com_list.extend(com2_list)\n",
    "comy_list.extend(comy1_list)\n",
    "comy_list.extend(comy2_list)\n",
    "comz_list.extend(comz1_list)\n",
    "comz_list.extend(comz2_list)\n",
    "per_list.extend(pery_list)\n",
    "per_list.extend(perz_list)\n",
    "com_list.extend(comy_list)\n",
    "com_list.extend(comz_list)\n",
    "per_list = [x for x in per_list if np.isnan(x) == False]\n",
    "com_list = [x for x in com_list if np.isnan(x) == False]\n",
    "len(per_list)\n",
    "\n",
    "\n",
    "\n",
    "\n",
    "\n"
   ]
  },
  {
   "cell_type": "markdown",
   "id": "30638c44",
   "metadata": {
    "id": "U94Kr7Wor_NW"
   },
   "source": [
    "# Subject 15"
   ]
  },
  {
   "cell_type": "code",
   "execution_count": null,
   "id": "ddfc801c",
   "metadata": {
    "colab": {
     "base_uri": "https://localhost:8080/"
    },
    "id": "o7g1b_fpqWT2",
    "outputId": "3b933efc-a712-4867-dc23-ee41f088df33"
   },
   "outputs": [
    {
     "name": "stderr",
     "output_type": "stream",
     "text": [
      "/usr/local/lib/python3.7/dist-packages/ipykernel_launcher.py:47: RuntimeWarning: invalid value encountered in double_scalars\n",
      "/usr/local/lib/python3.7/dist-packages/ipykernel_launcher.py:59: RuntimeWarning: divide by zero encountered in double_scalars\n",
      "/usr/local/lib/python3.7/dist-packages/ipykernel_launcher.py:64: RuntimeWarning: invalid value encountered in double_scalars\n"
     ]
    },
    {
     "data": {
      "text/plain": [
       "6480"
      ]
     },
     "execution_count": 108,
     "metadata": {},
     "output_type": "execute_result"
    }
   ],
   "source": [
    "\n",
    "walking = pd.read_csv('acc_walking_chest15.csv')\n",
    "running = pd.read_csv('acc_running_chest15.csv')\n",
    "climb_down= pd.read_csv('acc_climbingdown_chest15.csv')\n",
    "climb_up = pd.read_csv('acc_climbingup_chest15.csv')\n",
    "from sys import float_repr_style\n",
    "\n",
    "per0_list=[]\n",
    "per1_list=[]\n",
    "per2_list=[]\n",
    "pery_list=[]\n",
    "pery0_list=[]\n",
    "pery1_list=[]\n",
    "pery2_list=[]\n",
    "perz_list=[]\n",
    "perz0_list=[]\n",
    "perz1_list=[]\n",
    "perz2_list=[]\n",
    "\n",
    "com0_list=[]\n",
    "com1_list=[]\n",
    "com2_list=[]\n",
    "comy_list=[]\n",
    "comy1_list=[]\n",
    "comy2_list=[]\n",
    "comz_list=[]\n",
    "comz1_list=[]\n",
    "comz2_list=[]\n",
    "\n",
    "for k in dim_list :\n",
    "  for i in range(4):\n",
    "  \n",
    "    op_walking = ordinal_patterns(walking['attr_x'][0:1024],k,i)\n",
    "    x_1=p_entropy(op_walking)\n",
    "    co1z = complexity(op_walking)\n",
    "    per_list.append(x_1)\n",
    "    com_list.append(co1z)\n",
    "    op_walking = ordinal_patterns(walking['attr_x'][0:2048],k,i)\n",
    "    x_1=p_entropy(op_walking)\n",
    "    per1_list.append(x_1)\n",
    "    com1_list.append(co1z)\n",
    "    op_walking = ordinal_patterns(walking['attr_x'][0:4096],k,i)\n",
    "    x_1=p_entropy(op_walking)\n",
    "    per2_list.append(x_1)\n",
    "    com2_list.append(co1z)\n",
    "    op_walking = ordinal_patterns(walking['attr_y'][0:1024],k,i)\n",
    "    x_1=p_entropy(op_walking)\n",
    "    pery_list.append(x_1)\n",
    "    comy_list.append(co1z)\n",
    "    op_walking = ordinal_patterns(walking['attr_y'][0:2048],k,i)\n",
    "    x_1=p_entropy(op_walking)\n",
    "    pery1_list.append(x_1)\n",
    "    comy1_list.append(co1z)\n",
    "    op_walking = ordinal_patterns(walking['attr_y'][0:4096],k,i)\n",
    "    x_1=p_entropy(op_walking)\n",
    "    pery2_list.append(x_1)\n",
    "    comy2_list.append(co1z)\n",
    "    op_walking = ordinal_patterns(walking['attr_z'][0:1024],k,i)\n",
    "    x_1=p_entropy(op_walking)\n",
    "    perz_list.append(x_1)\n",
    "    comz_list.append(co1z)\n",
    "    op_walking = ordinal_patterns(walking['attr_z'][0:2048],k,i)\n",
    "    x_1=p_entropy(op_walking)\n",
    "    perz1_list.append(x_1)\n",
    "    comz1_list.append(co1z)\n",
    "    op_walking = ordinal_patterns(walking['attr_z'][0:4096],k,i)\n",
    "    x_1=p_entropy(op_walking)\n",
    "    perz2_list.append(x_1)\n",
    "    comz2_list.append(co1z)\n",
    "    op_running = ordinal_patterns(running['attr_x'][0:1024],k,i)\n",
    "    x_1=p_entropy(op_running)     \n",
    "    co1z = complexity(op_running)\n",
    "    per_list.append(x_1)\n",
    "    com_list.append(co1z)\n",
    "    op_running = ordinal_patterns(running['attr_x'][0:2048],k,i)\n",
    "    x_1=p_entropy(op_running)\n",
    "    per1_list.append(x_1)\n",
    "    com1_list.append(co1z)\n",
    "    op_running = ordinal_patterns(running['attr_x'][0:4096],k,i)\n",
    "    x_1=p_entropy(op_running)\n",
    "    per2_list.append(x_1)\n",
    "    com2_list.append(co1z)\n",
    "    op_running = ordinal_patterns(running['attr_y'][0:1024],k,i)\n",
    "    x_1=p_entropy(op_running)\n",
    "    pery_list.append(x_1)\n",
    "    comy_list.append(co1z)\n",
    "    op_running = ordinal_patterns(running['attr_y'][0:2048],k,i)\n",
    "    x_1=p_entropy(op_running)\n",
    "    pery1_list.append(x_1)\n",
    "    comy1_list.append(co1z)\n",
    "    op_running = ordinal_patterns(running['attr_y'][0:4096],k,i)\n",
    "    x_1=p_entropy(op_running)\n",
    "    pery2_list.append(x_1)\n",
    "    comy2_list.append(co1z)\n",
    "    op_running = ordinal_patterns(running['attr_z'][0:1024],k,i)\n",
    "    x_1=p_entropy(op_running)\n",
    "    perz_list.append(x_1)\n",
    "    comz_list.append(co1z)\n",
    "    op_running = ordinal_patterns(running['attr_z'][0:2048],k,i)\n",
    "    x_1=p_entropy(op_running)\n",
    "    perz1_list.append(x_1)\n",
    "    comz1_list.append(co1z)\n",
    "    op_running = ordinal_patterns(running['attr_z'][0:4096],k,i)\n",
    "    x_1=p_entropy(op_running)\n",
    "    perz2_list.append(x_1)\n",
    "    comz2_list.append(co1z)\n",
    "    op_climb_up = ordinal_patterns(climb_up['attr_x'][0:1024],k,i)\n",
    "    x_1=p_entropy(op_climb_up)     \n",
    "    co1z = complexity(op_climb_up)\n",
    "    per_list.append(x_1)\n",
    "    com_list.append(co1z)\n",
    "    op_climb_up = ordinal_patterns(climb_up['attr_x'][0:2048],k,i)\n",
    "    x_1=p_entropy(op_climb_up)\n",
    "    per1_list.append(x_1)\n",
    "    com1_list.append(co1z)\n",
    "    op_climb_up = ordinal_patterns(climb_up['attr_x'][0:4096],k,i)\n",
    "    x_1=p_entropy(op_climb_up)\n",
    "    per2_list.append(x_1)\n",
    "    com2_list.append(co1z)\n",
    "    op_climb_up = ordinal_patterns(climb_up['attr_y'][0:1024],k,i)\n",
    "    x_1=p_entropy(op_climb_up)\n",
    "    pery_list.append(x_1)\n",
    "    comy_list.append(co1z)\n",
    "    op_climb_up = ordinal_patterns(climb_up['attr_y'][0:2048],k,i)\n",
    "    x_1=p_entropy(op_climb_up)\n",
    "    pery1_list.append(x_1)\n",
    "    comy1_list.append(co1z)\n",
    "    op_climb_up = ordinal_patterns(climb_up['attr_y'][0:4096],k,i)\n",
    "    x_1=p_entropy(op_climb_up)\n",
    "    pery2_list.append(x_1)\n",
    "    comy2_list.append(co1z)\n",
    "    op_climb_up = ordinal_patterns(climb_up['attr_z'][0:1024],k,i)\n",
    "    x_1=p_entropy(op_climb_up)\n",
    "    perz_list.append(x_1)\n",
    "    comz_list.append(co1z)\n",
    "    op_climb_up = ordinal_patterns(climb_up['attr_z'][0:2048],k,i)\n",
    "    x_1=p_entropy(op_climb_up)\n",
    "    perz1_list.append(x_1)\n",
    "    comz1_list.append(co1z)\n",
    "    op_climb_up = ordinal_patterns(climb_up['attr_z'][0:4096],k,i)\n",
    "    x_1=p_entropy(op_climb_up)\n",
    "    perz2_list.append(x_1)\n",
    "    comz2_list.append(co1z)\n",
    "    op_climb_down = ordinal_patterns(climb_down['attr_x'][0:1024],k,i)\n",
    "    x_1=p_entropy(op_climb_down)     \n",
    "    co1z = complexity(op_climb_down)\n",
    "    per_list.append(x_1)\n",
    "    com_list.append(co1z)\n",
    "    op_climb_down = ordinal_patterns(climb_down['attr_x'][0:2048],k,i)\n",
    "    x_1=p_entropy(op_climb_down)\n",
    "    per1_list.append(x_1)\n",
    "    com1_list.append(co1z)\n",
    "    op_climb_down = ordinal_patterns(climb_down['attr_x'][0:4096],k,i)\n",
    "    x_1=p_entropy(op_climb_down)\n",
    "    per2_list.append(x_1)\n",
    "    com2_list.append(co1z)\n",
    "    op_climb_down = ordinal_patterns(climb_down['attr_y'][0:1024],k,i)\n",
    "    x_1=p_entropy(op_climb_down)\n",
    "    pery_list.append(x_1)\n",
    "    comy_list.append(co1z)\n",
    "    op_climb_down = ordinal_patterns(climb_down['attr_y'][0:2048],k,i)\n",
    "    x_1=p_entropy(op_climb_down)\n",
    "    pery1_list.append(x_1)\n",
    "    comy1_list.append(co1z)\n",
    "    op_climb_down = ordinal_patterns(climb_down['attr_y'][0:4096],k,i)\n",
    "    x_1=p_entropy(op_climb_down)\n",
    "    pery2_list.append(x_1)\n",
    "    comy2_list.append(co1z)\n",
    "    op_climb_down = ordinal_patterns(climb_down['attr_z'][0:1024],k,i)\n",
    "    x_1=p_entropy(op_climb_down)\n",
    "    perz_list.append(x_1)\n",
    "    comz_list.append(co1z)\n",
    "    op_climb_down = ordinal_patterns(climb_down['attr_z'][0:2048],k,i)\n",
    "    x_1=p_entropy(op_climb_down)\n",
    "    perz1_list.append(x_1)\n",
    "    comz1_list.append(co1z)\n",
    "    op_climb_down = ordinal_patterns(climb_down['attr_z'][0:4096],k,i)\n",
    "    x_1=p_entropy(op_climb_down)\n",
    "    perz2_list.append(x_1)\n",
    "    comz2_list.append(co1z)\n",
    "\n",
    "\n",
    "\n",
    "\n",
    "per_list.extend(per1_list)\n",
    "per_list.extend(per2_list)\n",
    "pery_list.extend(pery1_list)\n",
    "pery_list.extend(pery2_list)\n",
    "perz_list.extend(perz1_list)\n",
    "perz_list.extend(perz2_list)\n",
    "com_list.extend(com1_list)\n",
    "com_list.extend(com2_list)\n",
    "comy_list.extend(comy1_list)\n",
    "comy_list.extend(comy2_list)\n",
    "comz_list.extend(comz1_list)\n",
    "comz_list.extend(comz2_list)\n",
    "per_list.extend(pery_list)\n",
    "per_list.extend(perz_list)\n",
    "com_list.extend(comy_list)\n",
    "com_list.extend(comz_list)\n",
    "per_list = [x for x in per_list if np.isnan(x) == False]\n",
    "com_list = [x for x in com_list if np.isnan(x) == False]\n",
    "len(com_list)\n",
    "\n",
    "\n",
    "\n",
    "\n",
    "\n"
   ]
  },
  {
   "cell_type": "code",
   "execution_count": null,
   "id": "f63348e8",
   "metadata": {
    "id": "rMsLsvDZ1D5Q"
   },
   "outputs": [],
   "source": [
    "from tabulate import tabulate\n",
    "import pandas as pd\n"
   ]
  },
  {
   "cell_type": "code",
   "execution_count": null,
   "id": "21da4501",
   "metadata": {
    "colab": {
     "base_uri": "https://localhost:8080/"
    },
    "id": "PzB1dEtlniz8",
    "outputId": "00eb4d28-db19-4788-f7f7-30b96dbf534a"
   },
   "outputs": [
    {
     "data": {
      "text/plain": [
       "6480"
      ]
     },
     "execution_count": 110,
     "metadata": {},
     "output_type": "execute_result"
    }
   ],
   "source": [
    "act_list=['walking','running','climbing up','climbing down']\n",
    "z=36\n",
    "act=[j for j in act_list for i in range(z)]\n",
    "act=act*45\n",
    "len(act)\n"
   ]
  },
  {
   "cell_type": "code",
   "execution_count": null,
   "id": "46122215",
   "metadata": {
    "colab": {
     "base_uri": "https://localhost:8080/"
    },
    "id": "WTxyx1ejtvvI",
    "outputId": "7fb5298f-6f33-455c-fdf9-ab4d219b23a9"
   },
   "outputs": [
    {
     "data": {
      "text/plain": [
       "6480"
      ]
     },
     "execution_count": 111,
     "metadata": {},
     "output_type": "execute_result"
    }
   ],
   "source": [
    "sub_list=list(range(1,15+1))\n",
    "y=432\n",
    "sub=[e for e in sub_list for i in range(y)]\n",
    "len(sub)"
   ]
  },
  {
   "cell_type": "code",
   "execution_count": null,
   "id": "bab4ddf5",
   "metadata": {
    "colab": {
     "base_uri": "https://localhost:8080/"
    },
    "id": "rxCKIi_oqKjS",
    "outputId": "94aa58f1-791e-48d6-a0aa-1046f1b83f31"
   },
   "outputs": [
    {
     "data": {
      "text/plain": [
       "6480"
      ]
     },
     "execution_count": 112,
     "metadata": {},
     "output_type": "execute_result"
    }
   ],
   "source": [
    "Dimen_list=['3','4','5','6'] \n",
    "z=3\n",
    "Dimen_list=[j for j in Dimen_list for i in range(z)]\n",
    "Dimen_list=Dimen_list*540\n",
    "len(Dimen_list)"
   ]
  },
  {
   "cell_type": "code",
   "execution_count": null,
   "id": "4b4a1909",
   "metadata": {
    "colab": {
     "base_uri": "https://localhost:8080/"
    },
    "id": "GaDBk8lgq9w9",
    "outputId": "2d9d1d2f-b98e-49b9-dcb1-301c8b0cb2e4"
   },
   "outputs": [
    {
     "data": {
      "text/plain": [
       "6480"
      ]
     },
     "execution_count": 113,
     "metadata": {},
     "output_type": "execute_result"
    }
   ],
   "source": [
    "Range_list=['0:1024','0:2048','0:4096']\n",
    "z=12\n",
    "Range_list=[j for j in Range_list for i in range(z)]\n",
    "Range_list=Range_list*180\n",
    "len(Range_list)"
   ]
  },
  {
   "cell_type": "code",
   "execution_count": null,
   "id": "abe1479f",
   "metadata": {
    "colab": {
     "base_uri": "https://localhost:8080/"
    },
    "id": "Z4pHNgtdBQfK",
    "outputId": "9cdafe69-4e56-4ce5-f2d6-47b658c7a5c8"
   },
   "outputs": [
    {
     "data": {
      "text/plain": [
       "6480"
      ]
     },
     "execution_count": 114,
     "metadata": {},
     "output_type": "execute_result"
    }
   ],
   "source": [
    "Acc_meter=['X','Y','Z']\n",
    "z=144\n",
    "Acc_meter=[j for j in Acc_meter for i in range(z)]\n",
    "Acc_meter=Acc_meter*15\n",
    "len(Acc_meter)"
   ]
  },
  {
   "cell_type": "code",
   "execution_count": null,
   "id": "bd018584",
   "metadata": {
    "colab": {
     "base_uri": "https://localhost:8080/",
     "height": 467
    },
    "id": "h8dF1_2ZvJYQ",
    "outputId": "8f2dbd34-4aeb-42ca-9d17-54f6ff795761"
   },
   "outputs": [
    {
     "data": {
      "text/html": [
       "\n",
       "  <div id=\"df-0663d688-119b-474c-9f28-e9f4d0b60f7b\">\n",
       "    <div class=\"colab-df-container\">\n",
       "      <div>\n",
       "<style scoped>\n",
       "    .dataframe tbody tr th:only-of-type {\n",
       "        vertical-align: middle;\n",
       "    }\n",
       "\n",
       "    .dataframe tbody tr th {\n",
       "        vertical-align: top;\n",
       "    }\n",
       "\n",
       "    .dataframe thead th {\n",
       "        text-align: right;\n",
       "    }\n",
       "</style>\n",
       "<table border=\"1\" class=\"dataframe\">\n",
       "  <thead>\n",
       "    <tr style=\"text-align: right;\">\n",
       "      <th></th>\n",
       "      <th>Subject</th>\n",
       "      <th>Accelerometer axis</th>\n",
       "      <th>Signal length</th>\n",
       "      <th>Dimen</th>\n",
       "      <th>Delay</th>\n",
       "      <th>Permutation entropy</th>\n",
       "      <th>Complexity</th>\n",
       "      <th>Activity</th>\n",
       "    </tr>\n",
       "  </thead>\n",
       "  <tbody>\n",
       "    <tr>\n",
       "      <th>0</th>\n",
       "      <td>1</td>\n",
       "      <td>X</td>\n",
       "      <td>0:1024</td>\n",
       "      <td>3</td>\n",
       "      <td>1</td>\n",
       "      <td>0.855987</td>\n",
       "      <td>0.119191</td>\n",
       "      <td>walking</td>\n",
       "    </tr>\n",
       "    <tr>\n",
       "      <th>1</th>\n",
       "      <td>1</td>\n",
       "      <td>X</td>\n",
       "      <td>0:1024</td>\n",
       "      <td>3</td>\n",
       "      <td>2</td>\n",
       "      <td>0.905463</td>\n",
       "      <td>0.082471</td>\n",
       "      <td>walking</td>\n",
       "    </tr>\n",
       "    <tr>\n",
       "      <th>2</th>\n",
       "      <td>1</td>\n",
       "      <td>X</td>\n",
       "      <td>0:1024</td>\n",
       "      <td>3</td>\n",
       "      <td>3</td>\n",
       "      <td>0.895982</td>\n",
       "      <td>0.089954</td>\n",
       "      <td>walking</td>\n",
       "    </tr>\n",
       "    <tr>\n",
       "      <th>3</th>\n",
       "      <td>1</td>\n",
       "      <td>X</td>\n",
       "      <td>0:1024</td>\n",
       "      <td>4</td>\n",
       "      <td>1</td>\n",
       "      <td>0.863880</td>\n",
       "      <td>0.113789</td>\n",
       "      <td>walking</td>\n",
       "    </tr>\n",
       "    <tr>\n",
       "      <th>4</th>\n",
       "      <td>1</td>\n",
       "      <td>X</td>\n",
       "      <td>0:1024</td>\n",
       "      <td>4</td>\n",
       "      <td>2</td>\n",
       "      <td>0.960568</td>\n",
       "      <td>0.036283</td>\n",
       "      <td>walking</td>\n",
       "    </tr>\n",
       "    <tr>\n",
       "      <th>...</th>\n",
       "      <td>...</td>\n",
       "      <td>...</td>\n",
       "      <td>...</td>\n",
       "      <td>...</td>\n",
       "      <td>...</td>\n",
       "      <td>...</td>\n",
       "      <td>...</td>\n",
       "      <td>...</td>\n",
       "    </tr>\n",
       "    <tr>\n",
       "      <th>6475</th>\n",
       "      <td>15</td>\n",
       "      <td>Z</td>\n",
       "      <td>0:4096</td>\n",
       "      <td>5</td>\n",
       "      <td>2</td>\n",
       "      <td>0.935939</td>\n",
       "      <td>0.103312</td>\n",
       "      <td>climbing down</td>\n",
       "    </tr>\n",
       "    <tr>\n",
       "      <th>6476</th>\n",
       "      <td>15</td>\n",
       "      <td>Z</td>\n",
       "      <td>0:4096</td>\n",
       "      <td>5</td>\n",
       "      <td>3</td>\n",
       "      <td>0.909466</td>\n",
       "      <td>0.084720</td>\n",
       "      <td>climbing down</td>\n",
       "    </tr>\n",
       "    <tr>\n",
       "      <th>6477</th>\n",
       "      <td>15</td>\n",
       "      <td>Z</td>\n",
       "      <td>0:4096</td>\n",
       "      <td>6</td>\n",
       "      <td>1</td>\n",
       "      <td>0.906520</td>\n",
       "      <td>0.132965</td>\n",
       "      <td>climbing down</td>\n",
       "    </tr>\n",
       "    <tr>\n",
       "      <th>6478</th>\n",
       "      <td>15</td>\n",
       "      <td>Z</td>\n",
       "      <td>0:4096</td>\n",
       "      <td>6</td>\n",
       "      <td>2</td>\n",
       "      <td>0.898386</td>\n",
       "      <td>0.114843</td>\n",
       "      <td>climbing down</td>\n",
       "    </tr>\n",
       "    <tr>\n",
       "      <th>6479</th>\n",
       "      <td>15</td>\n",
       "      <td>Z</td>\n",
       "      <td>0:4096</td>\n",
       "      <td>6</td>\n",
       "      <td>3</td>\n",
       "      <td>0.962741</td>\n",
       "      <td>0.068607</td>\n",
       "      <td>climbing down</td>\n",
       "    </tr>\n",
       "  </tbody>\n",
       "</table>\n",
       "<p>6480 rows × 8 columns</p>\n",
       "</div>\n",
       "      <button class=\"colab-df-convert\" onclick=\"convertToInteractive('df-0663d688-119b-474c-9f28-e9f4d0b60f7b')\"\n",
       "              title=\"Convert this dataframe to an interactive table.\"\n",
       "              style=\"display:none;\">\n",
       "        \n",
       "  <svg xmlns=\"http://www.w3.org/2000/svg\" height=\"24px\"viewBox=\"0 0 24 24\"\n",
       "       width=\"24px\">\n",
       "    <path d=\"M0 0h24v24H0V0z\" fill=\"none\"/>\n",
       "    <path d=\"M18.56 5.44l.94 2.06.94-2.06 2.06-.94-2.06-.94-.94-2.06-.94 2.06-2.06.94zm-11 1L8.5 8.5l.94-2.06 2.06-.94-2.06-.94L8.5 2.5l-.94 2.06-2.06.94zm10 10l.94 2.06.94-2.06 2.06-.94-2.06-.94-.94-2.06-.94 2.06-2.06.94z\"/><path d=\"M17.41 7.96l-1.37-1.37c-.4-.4-.92-.59-1.43-.59-.52 0-1.04.2-1.43.59L10.3 9.45l-7.72 7.72c-.78.78-.78 2.05 0 2.83L4 21.41c.39.39.9.59 1.41.59.51 0 1.02-.2 1.41-.59l7.78-7.78 2.81-2.81c.8-.78.8-2.07 0-2.86zM5.41 20L4 18.59l7.72-7.72 1.47 1.35L5.41 20z\"/>\n",
       "  </svg>\n",
       "      </button>\n",
       "      \n",
       "  <style>\n",
       "    .colab-df-container {\n",
       "      display:flex;\n",
       "      flex-wrap:wrap;\n",
       "      gap: 12px;\n",
       "    }\n",
       "\n",
       "    .colab-df-convert {\n",
       "      background-color: #E8F0FE;\n",
       "      border: none;\n",
       "      border-radius: 50%;\n",
       "      cursor: pointer;\n",
       "      display: none;\n",
       "      fill: #1967D2;\n",
       "      height: 32px;\n",
       "      padding: 0 0 0 0;\n",
       "      width: 32px;\n",
       "    }\n",
       "\n",
       "    .colab-df-convert:hover {\n",
       "      background-color: #E2EBFA;\n",
       "      box-shadow: 0px 1px 2px rgba(60, 64, 67, 0.3), 0px 1px 3px 1px rgba(60, 64, 67, 0.15);\n",
       "      fill: #174EA6;\n",
       "    }\n",
       "\n",
       "    [theme=dark] .colab-df-convert {\n",
       "      background-color: #3B4455;\n",
       "      fill: #D2E3FC;\n",
       "    }\n",
       "\n",
       "    [theme=dark] .colab-df-convert:hover {\n",
       "      background-color: #434B5C;\n",
       "      box-shadow: 0px 1px 3px 1px rgba(0, 0, 0, 0.15);\n",
       "      filter: drop-shadow(0px 1px 2px rgba(0, 0, 0, 0.3));\n",
       "      fill: #FFFFFF;\n",
       "    }\n",
       "  </style>\n",
       "\n",
       "      <script>\n",
       "        const buttonEl =\n",
       "          document.querySelector('#df-0663d688-119b-474c-9f28-e9f4d0b60f7b button.colab-df-convert');\n",
       "        buttonEl.style.display =\n",
       "          google.colab.kernel.accessAllowed ? 'block' : 'none';\n",
       "\n",
       "        async function convertToInteractive(key) {\n",
       "          const element = document.querySelector('#df-0663d688-119b-474c-9f28-e9f4d0b60f7b');\n",
       "          const dataTable =\n",
       "            await google.colab.kernel.invokeFunction('convertToInteractive',\n",
       "                                                     [key], {});\n",
       "          if (!dataTable) return;\n",
       "\n",
       "          const docLinkHtml = 'Like what you see? Visit the ' +\n",
       "            '<a target=\"_blank\" href=https://colab.research.google.com/notebooks/data_table.ipynb>data table notebook</a>'\n",
       "            + ' to learn more about interactive tables.';\n",
       "          element.innerHTML = '';\n",
       "          dataTable['output_type'] = 'display_data';\n",
       "          await google.colab.output.renderOutput(dataTable, element);\n",
       "          const docLink = document.createElement('div');\n",
       "          docLink.innerHTML = docLinkHtml;\n",
       "          element.appendChild(docLink);\n",
       "        }\n",
       "      </script>\n",
       "    </div>\n",
       "  </div>\n",
       "  "
      ],
      "text/plain": [
       "      Subject Accelerometer axis  ... Complexity       Activity\n",
       "0           1                  X  ...   0.119191        walking\n",
       "1           1                  X  ...   0.082471        walking\n",
       "2           1                  X  ...   0.089954        walking\n",
       "3           1                  X  ...   0.113789        walking\n",
       "4           1                  X  ...   0.036283        walking\n",
       "...       ...                ...  ...        ...            ...\n",
       "6475       15                  Z  ...   0.103312  climbing down\n",
       "6476       15                  Z  ...   0.084720  climbing down\n",
       "6477       15                  Z  ...   0.132965  climbing down\n",
       "6478       15                  Z  ...   0.114843  climbing down\n",
       "6479       15                  Z  ...   0.068607  climbing down\n",
       "\n",
       "[6480 rows x 8 columns]"
      ]
     },
     "execution_count": 115,
     "metadata": {},
     "output_type": "execute_result"
    }
   ],
   "source": [
    "Delay_list=['1','2','3']*2160\n",
    "df=[]\n",
    "df = pd.DataFrame(list(zip( sub,Acc_meter,Range_list,Dimen_list,Delay_list,per_list,com_list,act)),\n",
    "                  columns =[ 'Subject','Accelerometer axis','Signal length','Dimen','Delay','Permutation entropy','Complexity','Activity'])\n",
    "df"
   ]
  },
  {
   "cell_type": "code",
   "execution_count": null,
   "id": "502f3a94",
   "metadata": {
    "id": "QMph58T11B1Y"
   },
   "outputs": [],
   "source": [
    "import seaborn as sns "
   ]
  },
  {
   "cell_type": "code",
   "execution_count": null,
   "id": "7658f9b8",
   "metadata": {
    "colab": {
     "base_uri": "https://localhost:8080/",
     "height": 423
    },
    "id": "OH1nURP62CSn",
    "outputId": "98976e94-71e0-4149-b6dd-1bb5531f2119"
   },
   "outputs": [
    {
     "data": {
      "text/html": [
       "\n",
       "  <div id=\"df-64c2bbe8-9eef-4b51-a70d-9a750de1d764\">\n",
       "    <div class=\"colab-df-container\">\n",
       "      <div>\n",
       "<style scoped>\n",
       "    .dataframe tbody tr th:only-of-type {\n",
       "        vertical-align: middle;\n",
       "    }\n",
       "\n",
       "    .dataframe tbody tr th {\n",
       "        vertical-align: top;\n",
       "    }\n",
       "\n",
       "    .dataframe thead th {\n",
       "        text-align: right;\n",
       "    }\n",
       "</style>\n",
       "<table border=\"1\" class=\"dataframe\">\n",
       "  <thead>\n",
       "    <tr style=\"text-align: right;\">\n",
       "      <th></th>\n",
       "      <th>Accelerometer axis</th>\n",
       "      <th>Signal length</th>\n",
       "      <th>Dimen</th>\n",
       "      <th>Delay</th>\n",
       "      <th>Permutation entropy</th>\n",
       "      <th>Complexity</th>\n",
       "      <th>Activity</th>\n",
       "    </tr>\n",
       "  </thead>\n",
       "  <tbody>\n",
       "    <tr>\n",
       "      <th>24</th>\n",
       "      <td>X</td>\n",
       "      <td>0:4096</td>\n",
       "      <td>3</td>\n",
       "      <td>1</td>\n",
       "      <td>0.795811</td>\n",
       "      <td>0.233969</td>\n",
       "      <td>walking</td>\n",
       "    </tr>\n",
       "    <tr>\n",
       "      <th>27</th>\n",
       "      <td>X</td>\n",
       "      <td>0:4096</td>\n",
       "      <td>4</td>\n",
       "      <td>1</td>\n",
       "      <td>0.799000</td>\n",
       "      <td>0.231288</td>\n",
       "      <td>walking</td>\n",
       "    </tr>\n",
       "    <tr>\n",
       "      <th>30</th>\n",
       "      <td>X</td>\n",
       "      <td>0:4096</td>\n",
       "      <td>5</td>\n",
       "      <td>1</td>\n",
       "      <td>0.911999</td>\n",
       "      <td>0.128939</td>\n",
       "      <td>walking</td>\n",
       "    </tr>\n",
       "    <tr>\n",
       "      <th>33</th>\n",
       "      <td>X</td>\n",
       "      <td>0:4096</td>\n",
       "      <td>6</td>\n",
       "      <td>1</td>\n",
       "      <td>0.941102</td>\n",
       "      <td>0.097331</td>\n",
       "      <td>walking</td>\n",
       "    </tr>\n",
       "    <tr>\n",
       "      <th>168</th>\n",
       "      <td>Y</td>\n",
       "      <td>0:4096</td>\n",
       "      <td>3</td>\n",
       "      <td>1</td>\n",
       "      <td>0.742556</td>\n",
       "      <td>0.233969</td>\n",
       "      <td>walking</td>\n",
       "    </tr>\n",
       "    <tr>\n",
       "      <th>...</th>\n",
       "      <td>...</td>\n",
       "      <td>...</td>\n",
       "      <td>...</td>\n",
       "      <td>...</td>\n",
       "      <td>...</td>\n",
       "      <td>...</td>\n",
       "      <td>...</td>\n",
       "    </tr>\n",
       "    <tr>\n",
       "      <th>6261</th>\n",
       "      <td>Y</td>\n",
       "      <td>0:4096</td>\n",
       "      <td>6</td>\n",
       "      <td>1</td>\n",
       "      <td>0.785722</td>\n",
       "      <td>0.087614</td>\n",
       "      <td>running</td>\n",
       "    </tr>\n",
       "    <tr>\n",
       "      <th>6396</th>\n",
       "      <td>Z</td>\n",
       "      <td>0:4096</td>\n",
       "      <td>3</td>\n",
       "      <td>1</td>\n",
       "      <td>0.809901</td>\n",
       "      <td>0.202531</td>\n",
       "      <td>running</td>\n",
       "    </tr>\n",
       "    <tr>\n",
       "      <th>6399</th>\n",
       "      <td>Z</td>\n",
       "      <td>0:4096</td>\n",
       "      <td>4</td>\n",
       "      <td>1</td>\n",
       "      <td>0.886399</td>\n",
       "      <td>0.153067</td>\n",
       "      <td>running</td>\n",
       "    </tr>\n",
       "    <tr>\n",
       "      <th>6402</th>\n",
       "      <td>Z</td>\n",
       "      <td>0:4096</td>\n",
       "      <td>5</td>\n",
       "      <td>1</td>\n",
       "      <td>0.894356</td>\n",
       "      <td>0.141863</td>\n",
       "      <td>running</td>\n",
       "    </tr>\n",
       "    <tr>\n",
       "      <th>6405</th>\n",
       "      <td>Z</td>\n",
       "      <td>0:4096</td>\n",
       "      <td>6</td>\n",
       "      <td>1</td>\n",
       "      <td>0.981433</td>\n",
       "      <td>0.087614</td>\n",
       "      <td>running</td>\n",
       "    </tr>\n",
       "  </tbody>\n",
       "</table>\n",
       "<p>360 rows × 7 columns</p>\n",
       "</div>\n",
       "      <button class=\"colab-df-convert\" onclick=\"convertToInteractive('df-64c2bbe8-9eef-4b51-a70d-9a750de1d764')\"\n",
       "              title=\"Convert this dataframe to an interactive table.\"\n",
       "              style=\"display:none;\">\n",
       "        \n",
       "  <svg xmlns=\"http://www.w3.org/2000/svg\" height=\"24px\"viewBox=\"0 0 24 24\"\n",
       "       width=\"24px\">\n",
       "    <path d=\"M0 0h24v24H0V0z\" fill=\"none\"/>\n",
       "    <path d=\"M18.56 5.44l.94 2.06.94-2.06 2.06-.94-2.06-.94-.94-2.06-.94 2.06-2.06.94zm-11 1L8.5 8.5l.94-2.06 2.06-.94-2.06-.94L8.5 2.5l-.94 2.06-2.06.94zm10 10l.94 2.06.94-2.06 2.06-.94-2.06-.94-.94-2.06-.94 2.06-2.06.94z\"/><path d=\"M17.41 7.96l-1.37-1.37c-.4-.4-.92-.59-1.43-.59-.52 0-1.04.2-1.43.59L10.3 9.45l-7.72 7.72c-.78.78-.78 2.05 0 2.83L4 21.41c.39.39.9.59 1.41.59.51 0 1.02-.2 1.41-.59l7.78-7.78 2.81-2.81c.8-.78.8-2.07 0-2.86zM5.41 20L4 18.59l7.72-7.72 1.47 1.35L5.41 20z\"/>\n",
       "  </svg>\n",
       "      </button>\n",
       "      \n",
       "  <style>\n",
       "    .colab-df-container {\n",
       "      display:flex;\n",
       "      flex-wrap:wrap;\n",
       "      gap: 12px;\n",
       "    }\n",
       "\n",
       "    .colab-df-convert {\n",
       "      background-color: #E8F0FE;\n",
       "      border: none;\n",
       "      border-radius: 50%;\n",
       "      cursor: pointer;\n",
       "      display: none;\n",
       "      fill: #1967D2;\n",
       "      height: 32px;\n",
       "      padding: 0 0 0 0;\n",
       "      width: 32px;\n",
       "    }\n",
       "\n",
       "    .colab-df-convert:hover {\n",
       "      background-color: #E2EBFA;\n",
       "      box-shadow: 0px 1px 2px rgba(60, 64, 67, 0.3), 0px 1px 3px 1px rgba(60, 64, 67, 0.15);\n",
       "      fill: #174EA6;\n",
       "    }\n",
       "\n",
       "    [theme=dark] .colab-df-convert {\n",
       "      background-color: #3B4455;\n",
       "      fill: #D2E3FC;\n",
       "    }\n",
       "\n",
       "    [theme=dark] .colab-df-convert:hover {\n",
       "      background-color: #434B5C;\n",
       "      box-shadow: 0px 1px 3px 1px rgba(0, 0, 0, 0.15);\n",
       "      filter: drop-shadow(0px 1px 2px rgba(0, 0, 0, 0.3));\n",
       "      fill: #FFFFFF;\n",
       "    }\n",
       "  </style>\n",
       "\n",
       "      <script>\n",
       "        const buttonEl =\n",
       "          document.querySelector('#df-64c2bbe8-9eef-4b51-a70d-9a750de1d764 button.colab-df-convert');\n",
       "        buttonEl.style.display =\n",
       "          google.colab.kernel.accessAllowed ? 'block' : 'none';\n",
       "\n",
       "        async function convertToInteractive(key) {\n",
       "          const element = document.querySelector('#df-64c2bbe8-9eef-4b51-a70d-9a750de1d764');\n",
       "          const dataTable =\n",
       "            await google.colab.kernel.invokeFunction('convertToInteractive',\n",
       "                                                     [key], {});\n",
       "          if (!dataTable) return;\n",
       "\n",
       "          const docLinkHtml = 'Like what you see? Visit the ' +\n",
       "            '<a target=\"_blank\" href=https://colab.research.google.com/notebooks/data_table.ipynb>data table notebook</a>'\n",
       "            + ' to learn more about interactive tables.';\n",
       "          element.innerHTML = '';\n",
       "          dataTable['output_type'] = 'display_data';\n",
       "          await google.colab.output.renderOutput(dataTable, element);\n",
       "          const docLink = document.createElement('div');\n",
       "          docLink.innerHTML = docLinkHtml;\n",
       "          element.appendChild(docLink);\n",
       "        }\n",
       "      </script>\n",
       "    </div>\n",
       "  </div>\n",
       "  "
      ],
      "text/plain": [
       "     Accelerometer axis Signal length  ... Complexity Activity\n",
       "24                    X        0:4096  ...   0.233969  walking\n",
       "27                    X        0:4096  ...   0.231288  walking\n",
       "30                    X        0:4096  ...   0.128939  walking\n",
       "33                    X        0:4096  ...   0.097331  walking\n",
       "168                   Y        0:4096  ...   0.233969  walking\n",
       "...                 ...           ...  ...        ...      ...\n",
       "6261                  Y        0:4096  ...   0.087614  running\n",
       "6396                  Z        0:4096  ...   0.202531  running\n",
       "6399                  Z        0:4096  ...   0.153067  running\n",
       "6402                  Z        0:4096  ...   0.141863  running\n",
       "6405                  Z        0:4096  ...   0.087614  running\n",
       "\n",
       "[360 rows x 7 columns]"
      ]
     },
     "execution_count": 118,
     "metadata": {},
     "output_type": "execute_result"
    }
   ],
   "source": [
    "mini_df = df[['Accelerometer axis','Signal length','Dimen','Delay','Permutation entropy','Complexity','Activity']]\n",
    "mini_df_w = mini_df[mini_df['Activity'] == 'walking']\n",
    "mini_df_r = mini_df[mini_df['Activity'] == 'running']\n",
    "real_data = mini_df_w.append(mini_df_r)\n",
    "real_data =real_data[real_data['Signal length'] == '0:4096']\n",
    "real_data = real_data[real_data['Delay'] == '1']\n",
    "real_data"
   ]
  },
  {
   "cell_type": "code",
   "execution_count": null,
   "id": "db680332",
   "metadata": {
    "colab": {
     "base_uri": "https://localhost:8080/",
     "height": 297
    },
    "id": "PxQQvFBf3AEl",
    "outputId": "a2a41f91-fc0c-48b9-cec1-2b8980f65199"
   },
   "outputs": [
    {
     "data": {
      "text/plain": [
       "<matplotlib.axes._subplots.AxesSubplot at 0x7f21fb4731d0>"
      ]
     },
     "execution_count": 119,
     "metadata": {},
     "output_type": "execute_result"
    },
    {
     "data": {
      "image/png": "[encoded data removed]",
      "text/plain": [
       "<Figure size 432x288 with 1 Axes>"
      ]
     },
     "metadata": {
      "needs_background": "light"
     },
     "output_type": "display_data"
    }
   ],
   "source": [
    "plot1 = real_data[real_data['Dimen']=='3']\n",
    "plot1 = plot1[plot1['Accelerometer axis']=='X']\n",
    "\n",
    "sns.scatterplot(data=plot1, x=\"Permutation entropy\", y=\"Complexity\", hue=\"Activity\")"
   ]
  },
  {
   "cell_type": "code",
   "execution_count": null,
   "id": "96f39ec7",
   "metadata": {
    "colab": {
     "base_uri": "https://localhost:8080/",
     "height": 297
    },
    "id": "ZlOauxQp3iio",
    "outputId": "a90faef0-2a32-46f6-b19d-57b10c4a2366"
   },
   "outputs": [
    {
     "data": {
      "text/plain": [
       "<matplotlib.axes._subplots.AxesSubplot at 0x7f21fbd6e090>"
      ]
     },
     "execution_count": 120,
     "metadata": {},
     "output_type": "execute_result"
    },
    {
     "data": {
      "image/png": "[encoded data removed]",
      "text/plain": [
       "<Figure size 432x288 with 1 Axes>"
      ]
     },
     "metadata": {
      "needs_background": "light"
     },
     "output_type": "display_data"
    }
   ],
   "source": [
    "plot2 = real_data[real_data['Dimen']=='4']\n",
    "plot2 = plot2[plot2['Accelerometer axis']=='X']\n",
    "\n",
    "sns.scatterplot(data=plot2, x=\"Permutation entropy\", y=\"Complexity\", hue=\"Activity\")"
   ]
  },
  {
   "cell_type": "code",
   "execution_count": null,
   "id": "260f0e4f",
   "metadata": {
    "colab": {
     "base_uri": "https://localhost:8080/",
     "height": 297
    },
    "id": "cdRfA_k23pP5",
    "outputId": "dbcbbf1a-8082-4364-94df-3c1c7fac709a"
   },
   "outputs": [
    {
     "data": {
      "text/plain": [
       "<matplotlib.axes._subplots.AxesSubplot at 0x7f21fb313b90>"
      ]
     },
     "execution_count": 121,
     "metadata": {},
     "output_type": "execute_result"
    },
    {
     "data": {
      "image/png": "[encoded data removed]",
      "text/plain": [
       "<Figure size 432x288 with 1 Axes>"
      ]
     },
     "metadata": {
      "needs_background": "light"
     },
     "output_type": "display_data"
    }
   ],
   "source": [
    "plot3 = real_data[real_data['Dimen']=='5']\n",
    "plot3 = plot3[plot3['Accelerometer axis']=='X']\n",
    "\n",
    "sns.scatterplot(data=plot3, x=\"Permutation entropy\", y=\"Complexity\", hue=\"Activity\")"
   ]
  },
  {
   "cell_type": "code",
   "execution_count": null,
   "id": "a1d0f701",
   "metadata": {
    "colab": {
     "base_uri": "https://localhost:8080/",
     "height": 297
    },
    "id": "6ewTHYZu3wy4",
    "outputId": "7406339b-71ba-4336-d3a5-dd20162d90a9"
   },
   "outputs": [
    {
     "data": {
      "text/plain": [
       "<matplotlib.axes._subplots.AxesSubplot at 0x7f21fb33e3d0>"
      ]
     },
     "execution_count": 122,
     "metadata": {},
     "output_type": "execute_result"
    },
    {
     "data": {
      "image/png": "[encoded data removed]",
      "text/plain": [
       "<Figure size 432x288 with 1 Axes>"
      ]
     },
     "metadata": {
      "needs_background": "light"
     },
     "output_type": "display_data"
    }
   ],
   "source": [
    "plot4 = real_data[real_data['Dimen']=='6']\n",
    "plot4 = plot4[plot4['Accelerometer axis']=='X']\n",
    "\n",
    "sns.scatterplot(data=plot4, x=\"Permutation entropy\", y=\"Complexity\", hue=\"Activity\")"
   ]
  },
  {
   "cell_type": "code",
   "execution_count": null,
   "id": "d316ee41",
   "metadata": {
    "colab": {
     "base_uri": "https://localhost:8080/",
     "height": 297
    },
    "id": "QB1zytRX35dz",
    "outputId": "1fcf837a-921d-40f8-9f53-cfa242ee0e5f"
   },
   "outputs": [
    {
     "data": {
      "text/plain": [
       "<matplotlib.axes._subplots.AxesSubplot at 0x7f21fb2cc410>"
      ]
     },
     "execution_count": 123,
     "metadata": {},
     "output_type": "execute_result"
    },
    {
     "data": {
      "image/png": "[encoded data removed]",
      "text/plain": [
       "<Figure size 432x288 with 1 Axes>"
      ]
     },
     "metadata": {
      "needs_background": "light"
     },
     "output_type": "display_data"
    }
   ],
   "source": [
    "plot5 = real_data[real_data['Dimen']=='3']\n",
    "plot5 = plot5[plot5['Accelerometer axis']=='Y']\n",
    "\n",
    "sns.scatterplot(data=plot5, x=\"Permutation entropy\", y=\"Complexity\", hue=\"Activity\")"
   ]
  },
  {
   "cell_type": "code",
   "execution_count": null,
   "id": "19b60d93",
   "metadata": {
    "colab": {
     "base_uri": "https://localhost:8080/",
     "height": 297
    },
    "id": "3JfIntJG4A1D",
    "outputId": "89a2d196-b409-4224-ae1a-22defb291eea"
   },
   "outputs": [
    {
     "data": {
      "text/plain": [
       "<matplotlib.axes._subplots.AxesSubplot at 0x7f21fb28c2d0>"
      ]
     },
     "execution_count": 124,
     "metadata": {},
     "output_type": "execute_result"
    },
    {
     "data": {
      "image/png": "[encoded data removed]",
      "text/plain": [
       "<Figure size 432x288 with 1 Axes>"
      ]
     },
     "metadata": {
      "needs_background": "light"
     },
     "output_type": "display_data"
    }
   ],
   "source": [
    "plot6 = real_data[real_data['Dimen']=='4']\n",
    "plot6 = plot6[plot6['Accelerometer axis']=='Y']\n",
    "\n",
    "sns.scatterplot(data=plot6, x=\"Permutation entropy\", y=\"Complexity\", hue=\"Activity\")"
   ]
  },
  {
   "cell_type": "code",
   "execution_count": null,
   "id": "696d49ae",
   "metadata": {
    "colab": {
     "base_uri": "https://localhost:8080/",
     "height": 297
    },
    "id": "93WVG2-v4IPl",
    "outputId": "f50a9c93-c23f-44de-c4a3-6fe3754f68d8"
   },
   "outputs": [
    {
     "data": {
      "text/plain": [
       "<matplotlib.axes._subplots.AxesSubplot at 0x7f21fb1b1f10>"
      ]
     },
     "execution_count": 125,
     "metadata": {},
     "output_type": "execute_result"
    },
    {
     "data": {
      "image/png": "[encoded data removed]",
      "text/plain": [
       "<Figure size 432x288 with 1 Axes>"
      ]
     },
     "metadata": {
      "needs_background": "light"
     },
     "output_type": "display_data"
    }
   ],
   "source": [
    "plot7 = real_data[real_data['Dimen']=='5']\n",
    "plot7 = plot7[plot7['Accelerometer axis']=='Y']\n",
    "\n",
    "sns.scatterplot(data=plot7, x=\"Permutation entropy\", y=\"Complexity\", hue=\"Activity\")"
   ]
  },
  {
   "cell_type": "code",
   "execution_count": null,
   "id": "3a8a3162",
   "metadata": {
    "colab": {
     "base_uri": "https://localhost:8080/",
     "height": 297
    },
    "id": "yEDvxebF4So-",
    "outputId": "8e67988e-1b05-4b0f-ce27-2fa36cda2012"
   },
   "outputs": [
    {
     "data": {
      "text/plain": [
       "<matplotlib.axes._subplots.AxesSubplot at 0x7f21fb178690>"
      ]
     },
     "execution_count": 126,
     "metadata": {},
     "output_type": "execute_result"
    },
    {
     "data": {
      "image/png": "[encoded data removed]",
      "text/plain": [
       "<Figure size 432x288 with 1 Axes>"
      ]
     },
     "metadata": {
      "needs_background": "light"
     },
     "output_type": "display_data"
    }
   ],
   "source": [
    "plot8 = real_data[real_data['Dimen']=='6']\n",
    "plot8 = plot8[plot8['Accelerometer axis']=='Y']\n",
    "\n",
    "sns.scatterplot(data=plot8, x=\"Permutation entropy\", y=\"Complexity\", hue=\"Activity\")"
   ]
  },
  {
   "cell_type": "code",
   "execution_count": null,
   "id": "51705907",
   "metadata": {
    "colab": {
     "base_uri": "https://localhost:8080/",
     "height": 297
    },
    "id": "sodZO1jV4b64",
    "outputId": "4581326c-35bc-4bae-c4ce-18f5e89346e7"
   },
   "outputs": [
    {
     "data": {
      "text/plain": [
       "<matplotlib.axes._subplots.AxesSubplot at 0x7f21fb087050>"
      ]
     },
     "execution_count": 127,
     "metadata": {},
     "output_type": "execute_result"
    },
    {
     "data": {
      "image/png": "[encoded data removed]",
      "text/plain": [
       "<Figure size 432x288 with 1 Axes>"
      ]
     },
     "metadata": {
      "needs_background": "light"
     },
     "output_type": "display_data"
    }
   ],
   "source": [
    "plot9 = real_data[real_data['Dimen']=='3']\n",
    "plot9 = plot9[plot9['Accelerometer axis']=='Z']\n",
    "\n",
    "sns.scatterplot(data=plot9, x=\"Permutation entropy\", y=\"Complexity\", hue=\"Activity\")"
   ]
  },
  {
   "cell_type": "code",
   "execution_count": null,
   "id": "921bf8e5",
   "metadata": {
    "colab": {
     "base_uri": "https://localhost:8080/",
     "height": 297
    },
    "id": "7GNBwVzJ4lLc",
    "outputId": "9a12d38c-ffa6-46d5-d9dc-5692d2287415"
   },
   "outputs": [
    {
     "data": {
      "text/plain": [
       "<matplotlib.axes._subplots.AxesSubplot at 0x7f21fb0d3090>"
      ]
     },
     "execution_count": 128,
     "metadata": {},
     "output_type": "execute_result"
    },
    {
     "data": {
      "image/png": "[encoded data removed]",
      "text/plain": [
       "<Figure size 432x288 with 1 Axes>"
      ]
     },
     "metadata": {
      "needs_background": "light"
     },
     "output_type": "display_data"
    }
   ],
   "source": [
    "plot10 = real_data[real_data['Dimen']=='4']\n",
    "plot10 = plot10[plot10['Accelerometer axis']=='Z']\n",
    "\n",
    "sns.scatterplot(data=plot10, x=\"Permutation entropy\", y=\"Complexity\", hue=\"Activity\")"
   ]
  },
  {
   "cell_type": "code",
   "execution_count": null,
   "id": "7861a185",
   "metadata": {
    "colab": {
     "base_uri": "https://localhost:8080/",
     "height": 297
    },
    "id": "tK_XT9QK4vNc",
    "outputId": "15c769fd-26c1-414e-c92f-64dcc290737c"
   },
   "outputs": [
    {
     "data": {
      "text/plain": [
       "<matplotlib.axes._subplots.AxesSubplot at 0x7f21fbce6dd0>"
      ]
     },
     "execution_count": 129,
     "metadata": {},
     "output_type": "execute_result"
    },
    {
     "data": {
      "image/png": "[encoded data removed]",
      "text/plain": [
       "<Figure size 432x288 with 1 Axes>"
      ]
     },
     "metadata": {
      "needs_background": "light"
     },
     "output_type": "display_data"
    }
   ],
   "source": [
    "plot11 = real_data[real_data['Dimen']=='5']\n",
    "plot11 = plot11[plot11['Accelerometer axis']=='Z']\n",
    "\n",
    "sns.scatterplot(data=plot11, x=\"Permutation entropy\", y=\"Complexity\", hue=\"Activity\")"
   ]
  },
  {
   "cell_type": "code",
   "execution_count": null,
   "id": "d9ea87d9",
   "metadata": {
    "colab": {
     "base_uri": "https://localhost:8080/",
     "height": 297
    },
    "id": "ro3k3XKu41rL",
    "outputId": "3643175e-4736-4c90-9329-0a98ff4d2f11"
   },
   "outputs": [
    {
     "data": {
      "text/plain": [
       "<matplotlib.axes._subplots.AxesSubplot at 0x7f21fb09ce10>"
      ]
     },
     "execution_count": 130,
     "metadata": {},
     "output_type": "execute_result"
    },
    {
     "data": {
      "image/png": "[encoded data removed]",
      "text/plain": [
       "<Figure size 432x288 with 1 Axes>"
      ]
     },
     "metadata": {
      "needs_background": "light"
     },
     "output_type": "display_data"
    }
   ],
   "source": [
    "plot12 = real_data[real_data['Dimen']=='6']\n",
    "plot12 = plot12[plot12['Accelerometer axis']=='Z']\n",
    "\n",
    "sns.scatterplot(data=plot12, x=\"Permutation entropy\", y=\"Complexity\", hue=\"Activity\")"
   ]
  },
  {
   "cell_type": "code",
   "execution_count": null,
   "id": "307bb03a",
   "metadata": {
    "id": "K7UNtMFF5PQR"
   },
   "outputs": [],
   "source": [
    "mini_df = df[['Accelerometer axis','Signal length','Dimen','Delay','Permutation entropy','Complexity','Activity']]\n",
    "mini_df_w = mini_df[mini_df['Activity'] == 'climbing up']\n",
    "mini_df_r = mini_df[mini_df['Activity'] == 'climbing down']\n",
    "real_data = mini_df_w.append(mini_df_r)\n",
    "real_data =real_data[real_data['Signal length'] == '0:4096']\n",
    "real_data = real_data[real_data['Delay'] == '1']\n",
    "\n"
   ]
  },
  {
   "cell_type": "code",
   "execution_count": null,
   "id": "218d91cf",
   "metadata": {
    "colab": {
     "base_uri": "https://localhost:8080/",
     "height": 297
    },
    "id": "ZfJGUwGS57VT",
    "outputId": "770b32ca-e758-4a20-86fd-5b2f857d32b6"
   },
   "outputs": [
    {
     "data": {
      "text/plain": [
       "<matplotlib.axes._subplots.AxesSubplot at 0x7f21fb3dcb50>"
      ]
     },
     "execution_count": 132,
     "metadata": {},
     "output_type": "execute_result"
    },
    {
     "data": {
      "image/png": "[encoded data removed]",
      "text/plain": [
       "<Figure size 432x288 with 1 Axes>"
      ]
     },
     "metadata": {
      "needs_background": "light"
     },
     "output_type": "display_data"
    }
   ],
   "source": [
    "plot1 = real_data[real_data['Dimen']=='3']\n",
    "plot1 = plot1[plot1['Accelerometer axis']=='X']\n",
    "\n",
    "sns.scatterplot(data=plot1, x=\"Permutation entropy\", y=\"Complexity\", hue=\"Activity\")"
   ]
  },
  {
   "cell_type": "code",
   "execution_count": null,
   "id": "895154d8",
   "metadata": {
    "colab": {
     "base_uri": "https://localhost:8080/",
     "height": 297
    },
    "id": "KNQb9Pgb5-DP",
    "outputId": "609c27f9-521d-459b-8c10-cfa54242bc11"
   },
   "outputs": [
    {
     "data": {
      "text/plain": [
       "<matplotlib.axes._subplots.AxesSubplot at 0x7f21fae03910>"
      ]
     },
     "execution_count": 133,
     "metadata": {},
     "output_type": "execute_result"
    },
    {
     "data": {
      "image/png": "[encoded data removed]",
      "text/plain": [
       "<Figure size 432x288 with 1 Axes>"
      ]
     },
     "metadata": {
      "needs_background": "light"
     },
     "output_type": "display_data"
    }
   ],
   "source": [
    "plot1 = real_data[real_data['Dimen']=='4']\n",
    "plot1 = plot1[plot1['Accelerometer axis']=='X']\n",
    "\n",
    "sns.scatterplot(data=plot1, x=\"Permutation entropy\", y=\"Complexity\", hue=\"Activity\")"
   ]
  },
  {
   "cell_type": "code",
   "execution_count": null,
   "id": "cde8d1ec",
   "metadata": {
    "colab": {
     "base_uri": "https://localhost:8080/",
     "height": 297
    },
    "id": "q-1-M-016Aqm",
    "outputId": "36774acf-c99c-40c7-d85d-f517d3b45bb4"
   },
   "outputs": [
    {
     "data": {
      "text/plain": [
       "<matplotlib.axes._subplots.AxesSubplot at 0x7f21fad752d0>"
      ]
     },
     "execution_count": 134,
     "metadata": {},
     "output_type": "execute_result"
    },
    {
     "data": {
      "image/png": "[encoded data removed]",
      "text/plain": [
       "<Figure size 432x288 with 1 Axes>"
      ]
     },
     "metadata": {
      "needs_background": "light"
     },
     "output_type": "display_data"
    }
   ],
   "source": [
    "plot1 = real_data[real_data['Dimen']=='5']\n",
    "plot1 = plot1[plot1['Accelerometer axis']=='X']\n",
    "\n",
    "sns.scatterplot(data=plot1, x=\"Permutation entropy\", y=\"Complexity\", hue=\"Activity\")"
   ]
  },
  {
   "cell_type": "code",
   "execution_count": null,
   "id": "08f071b4",
   "metadata": {
    "colab": {
     "base_uri": "https://localhost:8080/",
     "height": 297
    },
    "id": "UHLKZWR96DIx",
    "outputId": "d86c030f-a2df-4d2f-b76d-28c5f8f0a308"
   },
   "outputs": [
    {
     "data": {
      "text/plain": [
       "<matplotlib.axes._subplots.AxesSubplot at 0x7f21faf7c190>"
      ]
     },
     "execution_count": 135,
     "metadata": {},
     "output_type": "execute_result"
    },
    {
     "data": {
      "image/png": "[encoded data removed]",
      "text/plain": [
       "<Figure size 432x288 with 1 Axes>"
      ]
     },
     "metadata": {
      "needs_background": "light"
     },
     "output_type": "display_data"
    }
   ],
   "source": [
    "plot1 = real_data[real_data['Dimen']=='6']\n",
    "plot1 = plot1[plot1['Accelerometer axis']=='X']\n",
    "\n",
    "sns.scatterplot(data=plot1, x=\"Permutation entropy\", y=\"Complexity\", hue=\"Activity\")"
   ]
  },
  {
   "cell_type": "code",
   "execution_count": null,
   "id": "2f852d83",
   "metadata": {
    "colab": {
     "base_uri": "https://localhost:8080/",
     "height": 297
    },
    "id": "1uWEPnJR6FXf",
    "outputId": "98e2f26a-b586-481b-8dda-2cd26384b614"
   },
   "outputs": [
    {
     "data": {
      "text/plain": [
       "<matplotlib.axes._subplots.AxesSubplot at 0x7f21facb1890>"
      ]
     },
     "execution_count": 136,
     "metadata": {},
     "output_type": "execute_result"
    },
    {
     "data": {
      "image/png": "[encoded data removed]",
      "text/plain": [
       "<Figure size 432x288 with 1 Axes>"
      ]
     },
     "metadata": {
      "needs_background": "light"
     },
     "output_type": "display_data"
    }
   ],
   "source": [
    "plot1 = real_data[real_data['Dimen']=='3']\n",
    "plot1 = plot1[plot1['Accelerometer axis']=='Y']\n",
    "\n",
    "sns.scatterplot(data=plot1, x=\"Permutation entropy\", y=\"Complexity\", hue=\"Activity\")"
   ]
  },
  {
   "cell_type": "code",
   "execution_count": null,
   "id": "d8bcd682",
   "metadata": {
    "colab": {
     "base_uri": "https://localhost:8080/",
     "height": 297
    },
    "id": "4_5bsUdW6JGb",
    "outputId": "fa2fed8a-e774-4053-e713-e80b309607d2"
   },
   "outputs": [
    {
     "data": {
      "text/plain": [
       "<matplotlib.axes._subplots.AxesSubplot at 0x7f21fabeaf90>"
      ]
     },
     "execution_count": 137,
     "metadata": {},
     "output_type": "execute_result"
    },
    {
     "data": {
      "image/png": "[encoded data removed]",
      "text/plain": [
       "<Figure size 432x288 with 1 Axes>"
      ]
     },
     "metadata": {
      "needs_background": "light"
     },
     "output_type": "display_data"
    }
   ],
   "source": [
    "plot1 = real_data[real_data['Dimen']=='4']\n",
    "plot1 = plot1[plot1['Accelerometer axis']=='Y']\n",
    "\n",
    "sns.scatterplot(data=plot1, x=\"Permutation entropy\", y=\"Complexity\", hue=\"Activity\")"
   ]
  },
  {
   "cell_type": "code",
   "execution_count": null,
   "id": "370e9d72",
   "metadata": {
    "colab": {
     "base_uri": "https://localhost:8080/",
     "height": 297
    },
    "id": "wGrO3Rzt6LYi",
    "outputId": "ef857267-bbba-4c3d-8da6-e89c370be270"
   },
   "outputs": [
    {
     "data": {
      "text/plain": [
       "<matplotlib.axes._subplots.AxesSubplot at 0x7f21fab9bdd0>"
      ]
     },
     "execution_count": 138,
     "metadata": {},
     "output_type": "execute_result"
    },
    {
     "data": {
      "image/png": "[encoded data removed]",
      "text/plain": [
       "<Figure size 432x288 with 1 Axes>"
      ]
     },
     "metadata": {
      "needs_background": "light"
     },
     "output_type": "display_data"
    }
   ],
   "source": [
    "plot1 = real_data[real_data['Dimen']=='5']\n",
    "plot1 = plot1[plot1['Accelerometer axis']=='Y']\n",
    "\n",
    "sns.scatterplot(data=plot1, x=\"Permutation entropy\", y=\"Complexity\", hue=\"Activity\")"
   ]
  },
  {
   "cell_type": "code",
   "execution_count": null,
   "id": "38ce9d70",
   "metadata": {
    "colab": {
     "base_uri": "https://localhost:8080/",
     "height": 297
    },
    "id": "hq1VGLE96NLG",
    "outputId": "ff8820ea-c0d0-4915-9523-6f3d23e1f403"
   },
   "outputs": [
    {
     "data": {
      "text/plain": [
       "<matplotlib.axes._subplots.AxesSubplot at 0x7f21fab79d90>"
      ]
     },
     "execution_count": 139,
     "metadata": {},
     "output_type": "execute_result"
    },
    {
     "data": {
      "image/png": "[encoded data removed]",
      "text/plain": [
       "<Figure size 432x288 with 1 Axes>"
      ]
     },
     "metadata": {
      "needs_background": "light"
     },
     "output_type": "display_data"
    }
   ],
   "source": [
    "plot1 = real_data[real_data['Dimen']=='6']\n",
    "plot1 = plot1[plot1['Accelerometer axis']=='Y']\n",
    "\n",
    "sns.scatterplot(data=plot1, x=\"Permutation entropy\", y=\"Complexity\", hue=\"Activity\")"
   ]
  },
  {
   "cell_type": "code",
   "execution_count": null,
   "id": "13389e35",
   "metadata": {
    "colab": {
     "base_uri": "https://localhost:8080/",
     "height": 297
    },
    "id": "GnhUJ_9G6QDc",
    "outputId": "ca7420b7-9017-4017-c7e4-2441105d2562"
   },
   "outputs": [
    {
     "data": {
      "text/plain": [
       "<matplotlib.axes._subplots.AxesSubplot at 0x7f21faaf4f10>"
      ]
     },
     "execution_count": 140,
     "metadata": {},
     "output_type": "execute_result"
    },
    {
     "data": {
      "image/png": "[encoded data removed]",
      "text/plain": [
       "<Figure size 432x288 with 1 Axes>"
      ]
     },
     "metadata": {
      "needs_background": "light"
     },
     "output_type": "display_data"
    }
   ],
   "source": [
    "plot1 = real_data[real_data['Dimen']=='3']\n",
    "plot1 = plot1[plot1['Accelerometer axis']=='Z']\n",
    "\n",
    "sns.scatterplot(data=plot1, x=\"Permutation entropy\", y=\"Complexity\", hue=\"Activity\")"
   ]
  },
  {
   "cell_type": "code",
   "execution_count": null,
   "id": "0c1347f7",
   "metadata": {
    "colab": {
     "base_uri": "https://localhost:8080/",
     "height": 297
    },
    "id": "wO-GeLco6VVx",
    "outputId": "4af6bad4-1719-4c7c-cce6-277fd7a7c560"
   },
   "outputs": [
    {
     "data": {
      "text/plain": [
       "<matplotlib.axes._subplots.AxesSubplot at 0x7f21fb28c310>"
      ]
     },
     "execution_count": 141,
     "metadata": {},
     "output_type": "execute_result"
    },
    {
     "data": {
      "image/png": "[encoded data removed]",
      "text/plain": [
       "<Figure size 432x288 with 1 Axes>"
      ]
     },
     "metadata": {
      "needs_background": "light"
     },
     "output_type": "display_data"
    }
   ],
   "source": [
    "plot1 = real_data[real_data['Dimen']=='4']\n",
    "plot1 = plot1[plot1['Accelerometer axis']=='Z']\n",
    "\n",
    "sns.scatterplot(data=plot1, x=\"Permutation entropy\", y=\"Complexity\", hue=\"Activity\")"
   ]
  },
  {
   "cell_type": "code",
   "execution_count": null,
   "id": "4810fc1b",
   "metadata": {
    "colab": {
     "base_uri": "https://localhost:8080/",
     "height": 297
    },
    "id": "_nME6pCq6ZlB",
    "outputId": "bd421cf5-86d3-4a1e-d6c5-58b0a265bc7a"
   },
   "outputs": [
    {
     "data": {
      "text/plain": [
       "<matplotlib.axes._subplots.AxesSubplot at 0x7f21fb3281d0>"
      ]
     },
     "execution_count": 142,
     "metadata": {},
     "output_type": "execute_result"
    },
    {
     "data": {
      "image/png": "[encoded data removed]",
      "text/plain": [
       "<Figure size 432x288 with 1 Axes>"
      ]
     },
     "metadata": {
      "needs_background": "light"
     },
     "output_type": "display_data"
    }
   ],
   "source": [
    "plot1 = real_data[real_data['Dimen']=='5']\n",
    "plot1 = plot1[plot1['Accelerometer axis']=='Z']\n",
    "\n",
    "sns.scatterplot(data=plot1, x=\"Permutation entropy\", y=\"Complexity\", hue=\"Activity\")"
   ]
  },
  {
   "cell_type": "code",
   "execution_count": null,
   "id": "e43c5340",
   "metadata": {
    "colab": {
     "base_uri": "https://localhost:8080/",
     "height": 297
    },
    "id": "U0v3Jqp66bUZ",
    "outputId": "263705da-4f10-405f-fbd4-42dd6145a1d0"
   },
   "outputs": [
    {
     "data": {
      "text/plain": [
       "<matplotlib.axes._subplots.AxesSubplot at 0x7f21faa66290>"
      ]
     },
     "execution_count": 143,
     "metadata": {},
     "output_type": "execute_result"
    },
    {
     "data": {
      "image/png": "[encoded data removed]",
      "text/plain": [
       "<Figure size 432x288 with 1 Axes>"
      ]
     },
     "metadata": {
      "needs_background": "light"
     },
     "output_type": "display_data"
    }
   ],
   "source": [
    "plot1 = real_data[real_data['Dimen']=='6']\n",
    "plot1 = plot1[plot1['Accelerometer axis']=='Z']\n",
    "\n",
    "sns.scatterplot(data=plot1, x=\"Permutation entropy\", y=\"Complexity\", hue=\"Activity\")"
   ]
  }
 ],
 "metadata": {
  "colab": {
   "collapsed_sections": [],
   "name": "p3_t1.ipynb",
   "provenance": []
  },
  "kernelspec": {
   "display_name": "Python 3 (ipykernel)",
   "language": "python",
   "name": "python3"
  },
  "language_info": {
   "codemirror_mode": {
    "name": "ipython",
    "version": 3
   },
   "file_extension": ".py",
   "mimetype": "text/x-python",
   "name": "python",
   "nbconvert_exporter": "python",
   "pygments_lexer": "ipython3",
   "version": "3.10.0"
  }
 },
 "nbformat": 4,
 "nbformat_minor": 5
}
